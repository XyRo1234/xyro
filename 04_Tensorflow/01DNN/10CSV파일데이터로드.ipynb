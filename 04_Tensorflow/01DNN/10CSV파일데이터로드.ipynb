{
 "cells": [
  {
   "cell_type": "markdown",
   "id": "72ff3c67",
   "metadata": {},
   "source": [
    "# CSV 파일 데이터 로드하기\n",
    "\n",
    "TensorFlow에서 CSV 데이터를 사용하는 방법을 살펴보자.  \n",
    "\n",
    "가장 간단한 방법은 csv 파일을 pandas dataframe으로 읽어들여 numpy배열로 처리하는 방법이다. "
   ]
  },
  {
   "cell_type": "code",
   "execution_count": 1,
   "id": "8bb1df57",
   "metadata": {},
   "outputs": [],
   "source": [
    "import pandas as pd\n",
    "import numpy as np\n",
    "\n",
    "# Make numpy values easier to read.\n",
    "np.set_printoptions(precision=3, suppress=True)\n",
    "\n",
    "import tensorflow as tf\n",
    "from tensorflow.keras import layers"
   ]
  },
  {
   "cell_type": "markdown",
   "id": "bb4c50de",
   "metadata": {},
   "source": [
    "다음 예제는 전복(abalone)과 관련된 데이터세트이다. \n",
    "pd.read_csv() 함수를 사용하여 데이터를 읽어 들인다. "
   ]
  },
  {
   "cell_type": "code",
   "execution_count": 2,
   "id": "bb3a08eb",
   "metadata": {},
   "outputs": [],
   "source": [
    "abalone_file = tf.keras.utils.get_file(\"abalone_train.csv\", \"https://storage.googleapis.com/download.tensorflow.org/data/abalone_train.csv\")"
   ]
  },
  {
   "cell_type": "code",
   "execution_count": 3,
   "id": "165135ef",
   "metadata": {},
   "outputs": [
    {
     "data": {
      "text/html": [
       "<div>\n",
       "<style scoped>\n",
       "    .dataframe tbody tr th:only-of-type {\n",
       "        vertical-align: middle;\n",
       "    }\n",
       "\n",
       "    .dataframe tbody tr th {\n",
       "        vertical-align: top;\n",
       "    }\n",
       "\n",
       "    .dataframe thead th {\n",
       "        text-align: right;\n",
       "    }\n",
       "</style>\n",
       "<table border=\"1\" class=\"dataframe\">\n",
       "  <thead>\n",
       "    <tr style=\"text-align: right;\">\n",
       "      <th></th>\n",
       "      <th>Length</th>\n",
       "      <th>Diameter</th>\n",
       "      <th>Height</th>\n",
       "      <th>Whole weight</th>\n",
       "      <th>Shucked weight</th>\n",
       "      <th>Viscera weight</th>\n",
       "      <th>Shell weight</th>\n",
       "      <th>Age</th>\n",
       "    </tr>\n",
       "  </thead>\n",
       "  <tbody>\n",
       "    <tr>\n",
       "      <th>0</th>\n",
       "      <td>0.435</td>\n",
       "      <td>0.335</td>\n",
       "      <td>0.110</td>\n",
       "      <td>0.334</td>\n",
       "      <td>0.1355</td>\n",
       "      <td>0.0775</td>\n",
       "      <td>0.0965</td>\n",
       "      <td>7</td>\n",
       "    </tr>\n",
       "    <tr>\n",
       "      <th>1</th>\n",
       "      <td>0.585</td>\n",
       "      <td>0.450</td>\n",
       "      <td>0.125</td>\n",
       "      <td>0.874</td>\n",
       "      <td>0.3545</td>\n",
       "      <td>0.2075</td>\n",
       "      <td>0.2250</td>\n",
       "      <td>6</td>\n",
       "    </tr>\n",
       "    <tr>\n",
       "      <th>2</th>\n",
       "      <td>0.655</td>\n",
       "      <td>0.510</td>\n",
       "      <td>0.160</td>\n",
       "      <td>1.092</td>\n",
       "      <td>0.3960</td>\n",
       "      <td>0.2825</td>\n",
       "      <td>0.3700</td>\n",
       "      <td>14</td>\n",
       "    </tr>\n",
       "    <tr>\n",
       "      <th>3</th>\n",
       "      <td>0.545</td>\n",
       "      <td>0.425</td>\n",
       "      <td>0.125</td>\n",
       "      <td>0.768</td>\n",
       "      <td>0.2940</td>\n",
       "      <td>0.1495</td>\n",
       "      <td>0.2600</td>\n",
       "      <td>16</td>\n",
       "    </tr>\n",
       "    <tr>\n",
       "      <th>4</th>\n",
       "      <td>0.545</td>\n",
       "      <td>0.420</td>\n",
       "      <td>0.130</td>\n",
       "      <td>0.879</td>\n",
       "      <td>0.3740</td>\n",
       "      <td>0.1695</td>\n",
       "      <td>0.2300</td>\n",
       "      <td>13</td>\n",
       "    </tr>\n",
       "  </tbody>\n",
       "</table>\n",
       "</div>"
      ],
      "text/plain": [
       "   Length  Diameter  Height  Whole weight  Shucked weight  Viscera weight  \\\n",
       "0   0.435     0.335   0.110         0.334          0.1355          0.0775   \n",
       "1   0.585     0.450   0.125         0.874          0.3545          0.2075   \n",
       "2   0.655     0.510   0.160         1.092          0.3960          0.2825   \n",
       "3   0.545     0.425   0.125         0.768          0.2940          0.1495   \n",
       "4   0.545     0.420   0.130         0.879          0.3740          0.1695   \n",
       "\n",
       "   Shell weight  Age  \n",
       "0        0.0965    7  \n",
       "1        0.2250    6  \n",
       "2        0.3700   14  \n",
       "3        0.2600   16  \n",
       "4        0.2300   13  "
      ]
     },
     "execution_count": 3,
     "metadata": {},
     "output_type": "execute_result"
    }
   ],
   "source": [
    "abalone = pd.read_csv(\n",
    "    abalone_file,\n",
    "    names=[\"Length\", \"Diameter\", \"Height\", \"Whole weight\", \"Shucked weight\",\n",
    "           \"Viscera weight\", \"Shell weight\", \"Age\"])\n",
    "\n",
    "abalone.head()"
   ]
  },
  {
   "cell_type": "markdown",
   "id": "e35e4808",
   "metadata": {},
   "source": [
    "데이터 세트의 feature를 사용하여 전복의 나이(Age) 를 예측하는 것이므로 다음과 같이 훈련을 위해 feature와 label을 분리한다."
   ]
  },
  {
   "cell_type": "code",
   "execution_count": 4,
   "id": "6327dbf7",
   "metadata": {},
   "outputs": [],
   "source": [
    "abalone_features = abalone.values[:, :-1]\n",
    "abalone_labels = abalone.Age.values"
   ]
  },
  {
   "cell_type": "markdown",
   "id": "5a9d51ff",
   "metadata": {},
   "source": [
    "회귀 모델로 나이를 예측한다. 여기에서는 keras.Sequential 모델이면 충분하다."
   ]
  },
  {
   "cell_type": "code",
   "execution_count": 5,
   "id": "68cc4613",
   "metadata": {},
   "outputs": [],
   "source": [
    "abalone_model = tf.keras.Sequential([\n",
    "  layers.Dense(64),\n",
    "  layers.Dense(1)\n",
    "])\n",
    "\n",
    "abalone_model.compile(loss = tf.keras.losses.MeanSquaredError(),\n",
    "                      optimizer = tf.keras.optimizers.Adam())"
   ]
  },
  {
   "cell_type": "code",
   "execution_count": 6,
   "id": "37a6133c",
   "metadata": {},
   "outputs": [
    {
     "name": "stdout",
     "output_type": "stream",
     "text": [
      "Epoch 1/5\n",
      "104/104 [==============================] - 1s 1ms/step - loss: 64.7601\n",
      "Epoch 2/5\n",
      "104/104 [==============================] - 0s 1ms/step - loss: 12.5440\n",
      "Epoch 3/5\n",
      "104/104 [==============================] - 0s 1ms/step - loss: 8.8614\n",
      "Epoch 4/5\n",
      "104/104 [==============================] - 0s 1ms/step - loss: 8.2908\n",
      "Epoch 5/5\n",
      "104/104 [==============================] - 0s 1ms/step - loss: 7.7841\n"
     ]
    },
    {
     "data": {
      "text/plain": [
       "<keras.callbacks.History at 0x208ba490fd0>"
      ]
     },
     "execution_count": 6,
     "metadata": {},
     "output_type": "execute_result"
    }
   ],
   "source": [
    "abalone_model.fit(abalone_features, abalone_labels, epochs=5)"
   ]
  },
  {
   "cell_type": "markdown",
   "id": "82285792",
   "metadata": {},
   "source": [
    "# tf.data 사용하기\n",
    "\n",
    "tf.data API를 사용하면 간단하게 입력 데이터를 처리할 수 있다.  tf.data API를 사용하면 많은 양의 데이터를 처리하고 여러 데이터 형식에서 데이터를 읽으며 복잡한 변환을 수행할 수 있다.\n",
    "\n",
    "- [tf.data.Dataset.from_tensor_slices()](https://www.tensorflow.org/api_docs/python/tf/data/Dataset#from_tensor_slices) : 주어진 데이터 소스의 slice로 데이터세트를 생성한다. 첫 dimension 으로 나뉘어 진다. \n",
    "- tf.data.Dataset은 기본적으로 파이썬의 반복 가능 객체이다. 즉 iterator로 꺼내쓸 수 있다."
   ]
  },
  {
   "cell_type": "code",
   "execution_count": 7,
   "id": "469243e2",
   "metadata": {},
   "outputs": [
    {
     "name": "stdout",
     "output_type": "stream",
     "text": [
      "tf.Tensor(1, shape=(), dtype=int32)\n",
      "tf.Tensor(2, shape=(), dtype=int32)\n",
      "tf.Tensor(3, shape=(), dtype=int32)\n"
     ]
    }
   ],
   "source": [
    "# Slicing a 1D tensor produces scalar tensor elements.\n",
    "dataset = tf.data.Dataset.from_tensor_slices([1, 2, 3])\n",
    "for x in dataset:\n",
    "    print(x)"
   ]
  },
  {
   "cell_type": "code",
   "execution_count": 8,
   "id": "785f35bb",
   "metadata": {},
   "outputs": [
    {
     "name": "stdout",
     "output_type": "stream",
     "text": [
      "tf.Tensor([1 2], shape=(2,), dtype=int32)\n",
      "tf.Tensor([3 4], shape=(2,), dtype=int32)\n"
     ]
    }
   ],
   "source": [
    "# Slicing a 2D tensor produces 1D tensor elements.\n",
    "dataset = tf.data.Dataset.from_tensor_slices([[1, 2], [3, 4]]) #2행 2열\n",
    "for x in dataset:\n",
    "    print(x)"
   ]
  },
  {
   "cell_type": "code",
   "execution_count": 9,
   "id": "24f0da26",
   "metadata": {},
   "outputs": [
    {
     "name": "stdout",
     "output_type": "stream",
     "text": [
      "(<tf.Tensor: shape=(2,), dtype=int32, numpy=array([1, 3])>, <tf.Tensor: shape=(), dtype=string, numpy=b'A'>)\n",
      "(<tf.Tensor: shape=(2,), dtype=int32, numpy=array([2, 1])>, <tf.Tensor: shape=(), dtype=string, numpy=b'B'>)\n",
      "(<tf.Tensor: shape=(2,), dtype=int32, numpy=array([3, 3])>, <tf.Tensor: shape=(), dtype=string, numpy=b'A'>)\n"
     ]
    }
   ],
   "source": [
    "# Two tensors can be combined into one Dataset object.\n",
    "features = tf.constant([[1, 3], [2, 1], [3, 3]]) # ==> 3x2 tensor\n",
    "labels = tf.constant(['A', 'B', 'A']) # ==> 3x1 tensor\n",
    "dataset = tf.data.Dataset.from_tensor_slices((features, labels))\n",
    "for x in dataset:\n",
    "    print(x)"
   ]
  },
  {
   "cell_type": "markdown",
   "id": "5d410cd0",
   "metadata": {},
   "source": [
    "### 데이터프레임과 tf.data와 함께 사용하기\n",
    "전복데이터를 데이터세트로 만든다.  \n",
    "\n",
    "Dataset.from_tensor_slices 메서드는 DataFrame의 row을 반복하는 데이터세트를 생성한다.  \n",
    "모델을 훈련시키려면 (inputs, labels) 쌍이 필요하므로 (features, labels)을 전달하면 Dataset.from_tensor_slices가 필요한 슬라이스 쌍을 반환한다."
   ]
  },
  {
   "cell_type": "code",
   "execution_count": 10,
   "id": "41ba9284",
   "metadata": {},
   "outputs": [
    {
     "data": {
      "text/html": [
       "<div>\n",
       "<style scoped>\n",
       "    .dataframe tbody tr th:only-of-type {\n",
       "        vertical-align: middle;\n",
       "    }\n",
       "\n",
       "    .dataframe tbody tr th {\n",
       "        vertical-align: top;\n",
       "    }\n",
       "\n",
       "    .dataframe thead th {\n",
       "        text-align: right;\n",
       "    }\n",
       "</style>\n",
       "<table border=\"1\" class=\"dataframe\">\n",
       "  <thead>\n",
       "    <tr style=\"text-align: right;\">\n",
       "      <th></th>\n",
       "      <th>Length</th>\n",
       "      <th>Diameter</th>\n",
       "      <th>Height</th>\n",
       "      <th>Whole weight</th>\n",
       "      <th>Shucked weight</th>\n",
       "      <th>Viscera weight</th>\n",
       "      <th>Shell weight</th>\n",
       "      <th>Age</th>\n",
       "    </tr>\n",
       "  </thead>\n",
       "  <tbody>\n",
       "    <tr>\n",
       "      <th>0</th>\n",
       "      <td>0.435</td>\n",
       "      <td>0.335</td>\n",
       "      <td>0.110</td>\n",
       "      <td>0.334</td>\n",
       "      <td>0.1355</td>\n",
       "      <td>0.0775</td>\n",
       "      <td>0.0965</td>\n",
       "      <td>7</td>\n",
       "    </tr>\n",
       "    <tr>\n",
       "      <th>1</th>\n",
       "      <td>0.585</td>\n",
       "      <td>0.450</td>\n",
       "      <td>0.125</td>\n",
       "      <td>0.874</td>\n",
       "      <td>0.3545</td>\n",
       "      <td>0.2075</td>\n",
       "      <td>0.2250</td>\n",
       "      <td>6</td>\n",
       "    </tr>\n",
       "    <tr>\n",
       "      <th>2</th>\n",
       "      <td>0.655</td>\n",
       "      <td>0.510</td>\n",
       "      <td>0.160</td>\n",
       "      <td>1.092</td>\n",
       "      <td>0.3960</td>\n",
       "      <td>0.2825</td>\n",
       "      <td>0.3700</td>\n",
       "      <td>14</td>\n",
       "    </tr>\n",
       "    <tr>\n",
       "      <th>3</th>\n",
       "      <td>0.545</td>\n",
       "      <td>0.425</td>\n",
       "      <td>0.125</td>\n",
       "      <td>0.768</td>\n",
       "      <td>0.2940</td>\n",
       "      <td>0.1495</td>\n",
       "      <td>0.2600</td>\n",
       "      <td>16</td>\n",
       "    </tr>\n",
       "    <tr>\n",
       "      <th>4</th>\n",
       "      <td>0.545</td>\n",
       "      <td>0.420</td>\n",
       "      <td>0.130</td>\n",
       "      <td>0.879</td>\n",
       "      <td>0.3740</td>\n",
       "      <td>0.1695</td>\n",
       "      <td>0.2300</td>\n",
       "      <td>13</td>\n",
       "    </tr>\n",
       "  </tbody>\n",
       "</table>\n",
       "</div>"
      ],
      "text/plain": [
       "   Length  Diameter  Height  Whole weight  Shucked weight  Viscera weight  \\\n",
       "0   0.435     0.335   0.110         0.334          0.1355          0.0775   \n",
       "1   0.585     0.450   0.125         0.874          0.3545          0.2075   \n",
       "2   0.655     0.510   0.160         1.092          0.3960          0.2825   \n",
       "3   0.545     0.425   0.125         0.768          0.2940          0.1495   \n",
       "4   0.545     0.420   0.130         0.879          0.3740          0.1695   \n",
       "\n",
       "   Shell weight  Age  \n",
       "0        0.0965    7  \n",
       "1        0.2250    6  \n",
       "2        0.3700   14  \n",
       "3        0.2600   16  \n",
       "4        0.2300   13  "
      ]
     },
     "execution_count": 10,
     "metadata": {},
     "output_type": "execute_result"
    }
   ],
   "source": [
    "abalone.head()"
   ]
  },
  {
   "cell_type": "code",
   "execution_count": 11,
   "id": "95c8b9a2",
   "metadata": {},
   "outputs": [
    {
     "data": {
      "text/html": [
       "<div>\n",
       "<style scoped>\n",
       "    .dataframe tbody tr th:only-of-type {\n",
       "        vertical-align: middle;\n",
       "    }\n",
       "\n",
       "    .dataframe tbody tr th {\n",
       "        vertical-align: top;\n",
       "    }\n",
       "\n",
       "    .dataframe thead th {\n",
       "        text-align: right;\n",
       "    }\n",
       "</style>\n",
       "<table border=\"1\" class=\"dataframe\">\n",
       "  <thead>\n",
       "    <tr style=\"text-align: right;\">\n",
       "      <th></th>\n",
       "      <th>Length</th>\n",
       "      <th>Diameter</th>\n",
       "      <th>Height</th>\n",
       "      <th>Whole weight</th>\n",
       "      <th>Shucked weight</th>\n",
       "      <th>Viscera weight</th>\n",
       "      <th>Shell weight</th>\n",
       "    </tr>\n",
       "  </thead>\n",
       "  <tbody>\n",
       "    <tr>\n",
       "      <th>0</th>\n",
       "      <td>0.435</td>\n",
       "      <td>0.335</td>\n",
       "      <td>0.110</td>\n",
       "      <td>0.334</td>\n",
       "      <td>0.1355</td>\n",
       "      <td>0.0775</td>\n",
       "      <td>0.0965</td>\n",
       "    </tr>\n",
       "    <tr>\n",
       "      <th>1</th>\n",
       "      <td>0.585</td>\n",
       "      <td>0.450</td>\n",
       "      <td>0.125</td>\n",
       "      <td>0.874</td>\n",
       "      <td>0.3545</td>\n",
       "      <td>0.2075</td>\n",
       "      <td>0.2250</td>\n",
       "    </tr>\n",
       "    <tr>\n",
       "      <th>2</th>\n",
       "      <td>0.655</td>\n",
       "      <td>0.510</td>\n",
       "      <td>0.160</td>\n",
       "      <td>1.092</td>\n",
       "      <td>0.3960</td>\n",
       "      <td>0.2825</td>\n",
       "      <td>0.3700</td>\n",
       "    </tr>\n",
       "    <tr>\n",
       "      <th>3</th>\n",
       "      <td>0.545</td>\n",
       "      <td>0.425</td>\n",
       "      <td>0.125</td>\n",
       "      <td>0.768</td>\n",
       "      <td>0.2940</td>\n",
       "      <td>0.1495</td>\n",
       "      <td>0.2600</td>\n",
       "    </tr>\n",
       "    <tr>\n",
       "      <th>4</th>\n",
       "      <td>0.545</td>\n",
       "      <td>0.420</td>\n",
       "      <td>0.130</td>\n",
       "      <td>0.879</td>\n",
       "      <td>0.3740</td>\n",
       "      <td>0.1695</td>\n",
       "      <td>0.2300</td>\n",
       "    </tr>\n",
       "  </tbody>\n",
       "</table>\n",
       "</div>"
      ],
      "text/plain": [
       "   Length  Diameter  Height  Whole weight  Shucked weight  Viscera weight  \\\n",
       "0   0.435     0.335   0.110         0.334          0.1355          0.0775   \n",
       "1   0.585     0.450   0.125         0.874          0.3545          0.2075   \n",
       "2   0.655     0.510   0.160         1.092          0.3960          0.2825   \n",
       "3   0.545     0.425   0.125         0.768          0.2940          0.1495   \n",
       "4   0.545     0.420   0.130         0.879          0.3740          0.1695   \n",
       "\n",
       "   Shell weight  \n",
       "0        0.0965  \n",
       "1        0.2250  \n",
       "2        0.3700  \n",
       "3        0.2600  \n",
       "4        0.2300  "
      ]
     },
     "execution_count": 11,
     "metadata": {},
     "output_type": "execute_result"
    }
   ],
   "source": [
    "features = abalone.iloc[:,:7]\n",
    "features.head()"
   ]
  },
  {
   "cell_type": "code",
   "execution_count": 12,
   "id": "6c5eb20b",
   "metadata": {},
   "outputs": [
    {
     "data": {
      "text/plain": [
       "0     7\n",
       "1     6\n",
       "2    14\n",
       "3    16\n",
       "4    13\n",
       "Name: Age, dtype: int64"
      ]
     },
     "execution_count": 12,
     "metadata": {},
     "output_type": "execute_result"
    }
   ],
   "source": [
    "target = abalone.iloc[:,7]\n",
    "target.head()"
   ]
  },
  {
   "cell_type": "code",
   "execution_count": 13,
   "id": "140d7555",
   "metadata": {},
   "outputs": [
    {
     "name": "stdout",
     "output_type": "stream",
     "text": [
      "(<tf.Tensor: shape=(7,), dtype=float64, numpy=array([0.435, 0.335, 0.11 , 0.334, 0.136, 0.077, 0.097])>, <tf.Tensor: shape=(), dtype=int64, numpy=7>)\n",
      "(<tf.Tensor: shape=(7,), dtype=float64, numpy=array([0.585, 0.45 , 0.125, 0.874, 0.354, 0.207, 0.225])>, <tf.Tensor: shape=(), dtype=int64, numpy=6>)\n",
      "(<tf.Tensor: shape=(7,), dtype=float64, numpy=array([0.655, 0.51 , 0.16 , 1.092, 0.396, 0.282, 0.37 ])>, <tf.Tensor: shape=(), dtype=int64, numpy=14>)\n"
     ]
    }
   ],
   "source": [
    "dataset = tf.data.Dataset.from_tensor_slices((features, target))\n",
    "\n",
    "# 데이터세트의 처음 3개를 출력한다.\n",
    "for row in dataset.take(3):\n",
    "    print(row)"
   ]
  },
  {
   "cell_type": "markdown",
   "id": "1e04a2d2",
   "metadata": {},
   "source": [
    "- **shuffle(buffer_size)** : dataset을 섞는다. buffer_size만큼 가져와서 섞기 때문에 잘 섞을려면 전체 dataset의 크기보다 큰 buffer_size가 필요하다. 즉 전체 데이터셋보다 큰 buffer_size가 이상적이긴하니 dataset와 컴퓨터 사양에 맞게 적절히 타협해서 설정하면 된다.\n",
    "- **batch(batch_size)** : 주어진 크기로 데이터 세트를 자동으로 처리하는 batch(BATCH_SIZE)메서드를 사용할 수 있다. 기본 batch size는 1이다."
   ]
  },
  {
   "cell_type": "code",
   "execution_count": 14,
   "id": "ff44164c",
   "metadata": {},
   "outputs": [],
   "source": [
    "BUFFER_SIZE = len(dataset)\n",
    "BATCH_SIZE = 10"
   ]
  },
  {
   "cell_type": "code",
   "execution_count": 15,
   "id": "38137ad7",
   "metadata": {},
   "outputs": [
    {
     "name": "stdout",
     "output_type": "stream",
     "text": [
      "tf.Tensor(\n",
      "[[0.775 0.57  0.22  2.032 0.735 0.475 0.658]\n",
      " [0.515 0.43  0.14  0.834 0.367 0.2   0.23 ]\n",
      " [0.345 0.275 0.095 0.2   0.075 0.053 0.07 ]\n",
      " [0.37  0.29  0.09  0.244 0.089 0.066 0.075]\n",
      " [0.52  0.38  0.135 0.583 0.251 0.157 0.175]\n",
      " [0.645 0.5   0.16  1.246 0.547 0.327 0.3  ]\n",
      " [0.46  0.365 0.115 0.511 0.236 0.118 0.123]\n",
      " [0.415 0.315 0.115 0.39  0.202 0.065 0.103]\n",
      " [0.595 0.47  0.165 1.108 0.491 0.233 0.335]\n",
      " [0.57  0.45  0.135 0.78  0.335 0.185 0.21 ]], shape=(10, 7), dtype=float64)\n",
      "\n",
      "tf.Tensor([17  8  6  7  8 10  7  9  9  8], shape=(10,), dtype=int64)\n"
     ]
    }
   ],
   "source": [
    "datasets = dataset.shuffle(BUFFER_SIZE).batch(BATCH_SIZE)\n",
    "for x, y in datasets.take(1):\n",
    "    print(x)\n",
    "    print()\n",
    "    print(y)"
   ]
  },
  {
   "cell_type": "code",
   "execution_count": 16,
   "id": "33958d56",
   "metadata": {},
   "outputs": [
    {
     "name": "stdout",
     "output_type": "stream",
     "text": [
      "Epoch 1/5\n",
      "332/332 [==============================] - 1s 1ms/step - loss: 7.1078\n",
      "Epoch 2/5\n",
      "332/332 [==============================] - 0s 1ms/step - loss: 6.5682\n",
      "Epoch 3/5\n",
      "332/332 [==============================] - 0s 1ms/step - loss: 6.3377\n",
      "Epoch 4/5\n",
      "332/332 [==============================] - 0s 1ms/step - loss: 6.1183\n",
      "Epoch 5/5\n",
      "332/332 [==============================] - 0s 1ms/step - loss: 5.9130\n"
     ]
    },
    {
     "data": {
      "text/plain": [
       "<keras.callbacks.History at 0x208bb6d9760>"
      ]
     },
     "execution_count": 16,
     "metadata": {},
     "output_type": "execute_result"
    }
   ],
   "source": [
    "abalone_model.fit(datasets, epochs=5)"
   ]
  },
  {
   "cell_type": "markdown",
   "id": "c166a9dd",
   "metadata": {},
   "source": [
    "### tf.data.experimental.make_csv_dataset 함수\n",
    "\n",
    "https://www.tensorflow.org/api_docs/python/tf/data/experimental/make_csv_dataset \n",
    "\n",
    "\n",
    "tf.data 모듈 하나 이상의 CSV 파일에서 레코드를 추출하는 메서드를 제공한다.\n",
    "\n",
    "tf.data.experimental.make_csv_dataset 함수는 csv 파일 세트를 읽기 위한 고급 인터페이스이다. CSV파일을 튜플 형식으로 생긴 batch 데이터셋으로 만들어 준다. 열 형식 유추와 일괄 처리 및 셔플링과 같은 많은 기능을 지원하며 사용이 간편하다."
   ]
  },
  {
   "cell_type": "code",
   "execution_count": 17,
   "id": "7e3a7b2c",
   "metadata": {},
   "outputs": [],
   "source": [
    "abalone_batches = tf.data.experimental.make_csv_dataset(\n",
    "    abalone_file, \n",
    "    header=False,\n",
    "    column_names = [\"Length\", \"Diameter\", \"Height\", \"Whole weight\", \"Shucked weight\",\n",
    "           \"Viscera weight\", \"Shell weight\", \"Age\"],\n",
    "    batch_size=4,\n",
    "    num_epochs=1,\n",
    "    label_name=\"Age\"\n",
    ")"
   ]
  },
  {
   "cell_type": "code",
   "execution_count": 18,
   "id": "a4592188",
   "metadata": {},
   "outputs": [
    {
     "name": "stdout",
     "output_type": "stream",
     "text": [
      "Length              : [0.475 0.66  0.28  0.465]\n",
      "Diameter            : [0.37  0.5   0.21  0.345]\n",
      "Height              : [0.125 0.155 0.08  0.105]\n",
      "Whole weight        : [0.655 1.377 0.108 0.401]\n",
      "Shucked weight      : [0.266 0.649 0.041 0.242]\n",
      "Viscera weight      : [0.172 0.288 0.026 0.034]\n",
      "Shell weight        : [0.185 0.335 0.034 0.109]\n",
      "\n",
      "label:  tf.Tensor([10 12  7  6], shape=(4,), dtype=int32)\n"
     ]
    }
   ],
   "source": [
    "for feature_batch, label_batch in abalone_batches.take(1):\n",
    "    for key, value in feature_batch.items():\n",
    "        print(\"{:20s}: {}\".format(key, value))\n",
    "    print()\n",
    "    print(\"label: \",label_batch)"
   ]
  },
  {
   "cell_type": "markdown",
   "id": "9dd29191",
   "metadata": {},
   "source": [
    "tf.stack 함수를 통해 (features, label) 형태의 텐서로 packing한다."
   ]
  },
  {
   "cell_type": "code",
   "execution_count": 19,
   "id": "397ee595",
   "metadata": {},
   "outputs": [],
   "source": [
    "def pack(feature, label):\n",
    "    return tf.stack(list(feature.values()), axis=1), label\n",
    "\n",
    "packed_dataset = abalone_batches.map(pack)"
   ]
  },
  {
   "cell_type": "code",
   "execution_count": 20,
   "id": "d1e8b112",
   "metadata": {},
   "outputs": [
    {
     "name": "stdout",
     "output_type": "stream",
     "text": [
      "tf.Tensor(\n",
      "[[0.655 0.505 0.165 1.27  0.604 0.262 0.335]\n",
      " [0.74  0.575 0.22  2.012 0.891 0.526 0.471]\n",
      " [0.475 0.365 0.105 0.417 0.164 0.099 0.127]\n",
      " [0.47  0.355 0.115 0.415 0.167 0.084 0.139]], shape=(4, 7), dtype=float32)\n",
      "\n",
      "tf.Tensor([10 12  7  7], shape=(4,), dtype=int32)\n"
     ]
    }
   ],
   "source": [
    "for feature, label in packed_dataset.take(1):\n",
    "    print(feature)\n",
    "    print()\n",
    "    print(label)"
   ]
  },
  {
   "cell_type": "code",
   "execution_count": 22,
   "id": "efc4acd8",
   "metadata": {},
   "outputs": [
    {
     "name": "stdout",
     "output_type": "stream",
     "text": [
      "Epoch 1/5\n",
      "830/830 [==============================] - 2s 2ms/step - loss: 5.6466\n",
      "Epoch 2/5\n",
      "830/830 [==============================] - 1s 1ms/step - loss: 5.3157\n",
      "Epoch 3/5\n",
      "830/830 [==============================] - 1s 1ms/step - loss: 5.1516\n",
      "Epoch 4/5\n",
      "830/830 [==============================] - 1s 1ms/step - loss: 5.0402\n",
      "Epoch 5/5\n",
      "830/830 [==============================] - 1s 1ms/step - loss: 5.0053\n"
     ]
    },
    {
     "data": {
      "text/plain": [
       "<keras.callbacks.History at 0x208bc739520>"
      ]
     },
     "execution_count": 22,
     "metadata": {},
     "output_type": "execute_result"
    }
   ],
   "source": [
    "abalone_model.fit(packed_dataset, epochs=5)"
   ]
  },
  {
   "cell_type": "code",
   "execution_count": null,
   "id": "bb34faa8",
   "metadata": {},
   "outputs": [],
   "source": []
  }
 ],
 "metadata": {
  "kernelspec": {
   "display_name": "Python 3 (ipykernel)",
   "language": "python",
   "name": "python3"
  },
  "language_info": {
   "codemirror_mode": {
    "name": "ipython",
    "version": 3
   },
   "file_extension": ".py",
   "mimetype": "text/x-python",
   "name": "python",
   "nbconvert_exporter": "python",
   "pygments_lexer": "ipython3",
   "version": "3.9.13"
  }
 },
 "nbformat": 4,
 "nbformat_minor": 5
}
