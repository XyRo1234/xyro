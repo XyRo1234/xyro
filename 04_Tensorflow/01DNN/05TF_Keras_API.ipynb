{
 "cells": [
  {
   "cell_type": "markdown",
   "metadata": {},
   "source": [
    "# Keras 기반의 표준화: TensorFlow 2.0의 고수준 API\n",
    "\n",
    "\n",
    "Keras는 머신러닝 모델을 정의하고 훈련하기 위한 API 표준이다.\n",
    "\n",
    "\n",
    "\n",
    "Keras는 딥 러닝 모델의 빌드와 훈련을 위한 고수준 API로, 매우 큰 인기를 끌고 있다. Keras는 빠른 프로토타입 개발, 최첨단 분야 연구, 생산 분야에 사용된다. TensorFlow는 현재 Keras를 지원하지만, 2.0 버전에서는 Keras를 TensorFlow 플랫폼의 나머지 부분과 더욱 밀접하게 통합하게 되었다.\n",
    "Keras를 TensorFlow용 고수준 API로 확립함으로써, 머신러닝을 처음 시도하는 개발자가 TensorFlow로 더 쉽게 시작할 수 있도록 해준다. 고수준 API가 하나로 통합되면 혼란이 줄고 연구자를 위한 고급 기능을 제공하는 데 집중할 수 있다.\n",
    "\n",
    "\n",
    "### Keras의 장점\n",
    "* 사용자 친화적: 일반적인 사용 사례에 맞춰 최적화된 Keras의 인터페이스는 간단하고 일관성이 있다. \n",
    "* 모듈식, 구성 가능: 기본 구성 요소를 함께 연결하는 방식으로 모형을 생성할 수 있다. \n",
    "* 손쉬운 확장: 새로운 계층, 손실 함수 등을 비롯하여, 연구를 위한 새로운 아이디어를 표현하는 맞춤 기본 구성 요소를 작성할 수 있다.\n",
    "* 초보자와 전문가에게 모두 유용: Keras는 초보 개발자든 오랜 경험을 보유한 전문가든 상관없이 모두에게 유용한 API를 제공한다.\n",
    "\n",
    "### Keras API 개요\n",
    "\n",
    "* Sequential API\n",
    "* Functional API\n",
    "* Model Subclassing API"
   ]
  },
  {
   "cell_type": "markdown",
   "metadata": {},
   "source": [
    "필요한 라이브러리를 임포트하고 실습에 필요한 샘플 데이터셋을 생성한다."
   ]
  },
  {
   "cell_type": "code",
   "execution_count": 1,
   "metadata": {
    "colab": {},
    "colab_type": "code",
    "id": "kH4-vVI5MBBV",
    "outputId": "fff3f54f-fb88-4682-85b1-b3574f89afce"
   },
   "outputs": [
    {
     "name": "stdout",
     "output_type": "stream",
     "text": [
      " TensorFlow version: 2.11.0\n",
      " tf.keras version: 2.11.0\n"
     ]
    }
   ],
   "source": [
    "import numpy as np\n",
    "import matplotlib.pyplot as plt\n",
    "import tensorflow as tf\n",
    "%matplotlib inline\n",
    "\n",
    "print(' TensorFlow version:', tf.__version__)\n",
    "print(' tf.keras version:', tf.keras.__version__)"
   ]
  },
  {
   "cell_type": "code",
   "execution_count": 2,
   "metadata": {
    "colab": {},
    "colab_type": "code",
    "id": "zphzJlP7MBBc",
    "outputId": "74cbb8fd-858a-4f84-80b0-32673d168602"
   },
   "outputs": [
    {
     "data": {
      "image/png": "[encoded data removed]",
      "text/plain": [
       "<Figure size 640x480 with 1 Axes>"
      ]
     },
     "metadata": {},
     "output_type": "display_data"
    }
   ],
   "source": [
    "## 랜덤한 회귀용 예제 데이터셋을 만듭니다\n",
    "\n",
    "np.random.seed(0)\n",
    "\n",
    "def make_random_data():\n",
    "    x = np.random.uniform(low=-2, high=2, size=200)\n",
    "    y = []\n",
    "    for t in x:\n",
    "        r = np.random.normal(loc=0.0, \n",
    "                             scale=(0.5 + t*t/3), \n",
    "                             size=None)\n",
    "        y.append(r)\n",
    "    return  x, 1.726*x -0.84 + np.array(y)\n",
    "\n",
    "\n",
    "x, y = make_random_data() \n",
    "\n",
    "plt.plot(x, y, 'o')\n",
    "plt.show()"
   ]
  },
  {
   "cell_type": "code",
   "execution_count": 3,
   "metadata": {
    "colab": {},
    "colab_type": "code",
    "id": "nYm-U2xLMBBo"
   },
   "outputs": [],
   "source": [
    "# 훈련데이터 / 테스트 데이터 나누기\n",
    "x_train, y_train = x[:150], y[:150]\n",
    "x_test, y_test = x[150:], y[150:]\n",
    "\n",
    "x_train = x_train.reshape(x_train.size,1)\n",
    "x_test = x_test.reshape(x_test.size, 1)"
   ]
  },
  {
   "cell_type": "markdown",
   "metadata": {
    "colab_type": "text",
    "id": "RSD_KrYUMBBb"
   },
   "source": [
    "## Sequential API\n",
    "\n",
    "초보의 경우 tf.keras Sequential API로 시작할 것을 권장한다. 사실상 ML 문제의 95% 정도에 적합한 API이기 때문이다. 매우 간단하고 짧은 코드로 모형을 생성할 수 있다.\n",
    "\n",
    "### tf.keras Sequential 모델\n",
    "\n",
    "Sequential 모델은 순서대로 층을 쌓아 모형을 생성한다. \n",
    "\n",
    "* Dense 층은 완전 연결층이다. \n",
    "\n",
    "* 이 예제에서는 간단한 y = wx + b 형태의 회귀 모형을 구현한다. 1차원 데이터 셋으로 출력 유닛 하나를 가진 간단한 완전 연결층 하나를 추가한다.\n",
    "\n",
    "* 회귀모형이므로 마지막 출력층의 활성화 함수를 설정하지 않는다. \n",
    "\n",
    "* activation 파라미터의 기본은 None이다. sigmoid, tanh, relu를 지정 가능하다.\n",
    "\n",
    "\n",
    "참고) https://www.tensorflow.org/guide/keras#build_a_simple_model \n"
   ]
  },
  {
   "cell_type": "code",
   "execution_count": null,
   "metadata": {
    "colab": {},
    "colab_type": "code",
    "id": "RuuAuqqQMBBs"
   },
   "outputs": [],
   "source": [
    "model = tf.keras.Sequential()\n",
    "\n",
    "model.add(tf.keras.layers.Dense(units=1, input_dim=1))"
   ]
  },
  {
   "cell_type": "code",
   "execution_count": null,
   "metadata": {
    "colab": {},
    "colab_type": "code",
    "id": "RZoDGJ0eMBBv",
    "outputId": "e392ea9b-e770-4a77-f4ce-db84bb796562"
   },
   "outputs": [],
   "source": [
    "model.summary()"
   ]
  },
  {
   "cell_type": "markdown",
   "metadata": {
    "colab_type": "text",
    "id": "c9KI-fYIMBB7"
   },
   "source": [
    "## Functional API\n",
    "\n",
    "다중 입력 및 다중 출력 모델, 공유 계층이 있는 모델 등을 비롯한 사용자가 직접  정의할 수 있게 해주는 Functional API를 사용하여 더욱 복잡한 모델을 빌드할 수 있다.\n",
    "\n",
    "\n",
    "Functional API로 모델을 빌드할 때 계층은 (텐서에서) 호출 가능하고 텐서를 출력으로 반환한다. 그러면 이러한 입력 텐서와 출력 텐서를 사용하여 모델을 정의할 수 있다.\n",
    "\n",
    "\n",
    "### 함수형 API\n",
    "sequential 모델은 층을 순서대로 쌓은 것이다. 보다 복잡한 모형을 만들어야 할 때 tf.keras의 함수형 API를 사용하면 더 다양한 모델을 만들 수 있다. 함수형API를 사용하면 원하는 층을 자유롭게 조합 할 수 있다. \n",
    "\n",
    "\n",
    "참고) https://www.tensorflow.org/guide/keras#functional_api \n"
   ]
  },
  {
   "cell_type": "code",
   "execution_count": null,
   "metadata": {
    "colab": {},
    "colab_type": "code",
    "id": "WlR4Sps8MBB8",
    "outputId": "3cbea83c-e69d-43fb-c93b-a48b55c4889f"
   },
   "outputs": [],
   "source": [
    "from tensorflow.keras import Model, Input\n",
    "\n",
    "input = tf.keras.Input(shape=(1,))\n",
    "output = tf.keras.layers.Dense(1)(input)\n",
    "\n",
    "model = tf.keras.Model(input, output)\n",
    "\n",
    "model.summary()"
   ]
  },
  {
   "cell_type": "markdown",
   "metadata": {
    "colab_type": "text",
    "id": "Tqot4mrlMBB-"
   },
   "source": [
    "Input layer는 입력데이터를 위한 층으로 훈련할 가중치를 가지고 있지 않다. \n",
    "\n",
    "컴파일하고 훈련하는 단계는 sequential 모델과 동일하다."
   ]
  },
  {
   "cell_type": "markdown",
   "metadata": {},
   "source": [
    "## Model Subclassing API\n",
    "\n",
    "Model Subclassing API를 사용하여 완전 맞춤형 모형을 생성할 수 있다. 클래스 메서드 본문에 자체적인 포워드 패스를 직접 명령형으로 정의한다.\n",
    "\n",
    "\n",
    "이러한 모델은 더 유연하게 모형을 생성 할 수 있지만 디버그하기는 더 어려울 수 있다. \n",
    "\n",
    "참고) https://www.tensorflow.org/guide/keras#model_subclassing"
   ]
  },
  {
   "cell_type": "code",
   "execution_count": null,
   "metadata": {},
   "outputs": [],
   "source": [
    "class MyModel(tf.keras.Model):\n",
    "    def __init__(self, units=1):\n",
    "        super(MyModel, self).__init__()\n",
    "        # 모형의 layer를 선언\n",
    "        self.dense_1 = tf.keras.layers.Dense(units=units)\n",
    "    def call(self, inputs):\n",
    "        output = self.dense_1(inputs)\n",
    "        return output\n"
   ]
  },
  {
   "cell_type": "code",
   "execution_count": null,
   "metadata": {},
   "outputs": [],
   "source": [
    "# Model Subclassing은 앞선 다른 모형(Sequential, functional) 방법과는 다르다.\n",
    "# subclassed model은 call 메소드를 통해 모형이 정의된다.\n",
    "# 입출력의 shape이 첫 테스트 될 때까지 정해지지 않는다. \n",
    "model = MyModel()\n",
    " \n",
    "model.build((None, x_train.size, 1))\n",
    "\n",
    "model.summary()"
   ]
  },
  {
   "cell_type": "markdown",
   "metadata": {},
   "source": [
    "# 실습\n",
    "\n",
    "위 회귀문제를 해결하는 모형을 생성하시오. \n",
    "- hidden layer를 추가한 모형을 생성하시오.\n",
    "- Sequential, Functional API, SubClass API 중 선택하여 모형을 생성할 수 있다. "
   ]
  },
  {
   "cell_type": "code",
   "execution_count": 18,
   "metadata": {},
   "outputs": [
    {
     "name": "stdout",
     "output_type": "stream",
     "text": [
      "Model: \"sequential_14\"\n",
      "_________________________________________________________________\n",
      " Layer (type)                Output Shape              Param #   \n",
      "=================================================================\n",
      " dense_45 (Dense)            (None, 1)                 2         \n",
      "                                                                 \n",
      " dense_46 (Dense)            (None, 10)                20        \n",
      "                                                                 \n",
      "=================================================================\n",
      "Total params: 22\n",
      "Trainable params: 22\n",
      "Non-trainable params: 0\n",
      "_________________________________________________________________\n",
      "=====================================================\n",
      "=====================================================\n",
      "=====================================================\n",
      "Model: \"model_8\"\n",
      "_________________________________________________________________\n",
      " Layer (type)                Output Shape              Param #   \n",
      "=================================================================\n",
      " input_13 (InputLayer)       [(None, 100)]             0         \n",
      "                                                                 \n",
      " dense_47 (Dense)            (None, 50)                5050      \n",
      "                                                                 \n",
      " dense_48 (Dense)            (None, 50)                2550      \n",
      "                                                                 \n",
      " dense_49 (Dense)            (None, 1)                 51        \n",
      "                                                                 \n",
      "=================================================================\n",
      "Total params: 7,651\n",
      "Trainable params: 7,651\n",
      "Non-trainable params: 0\n",
      "_________________________________________________________________\n"
     ]
    }
   ],
   "source": [
    "model = tf.keras.Sequential()\n",
    "model.add(tf.keras.layers.Dense(units=1, input_dim=1))\n",
    "model.add(tf.keras.layers.Dense(10, activation=\"relu\"))\n",
    "model.summary()\n",
    "\n",
    "\n",
    "print('=====================================================')\n",
    "print('=====================================================')\n",
    "print('=====================================================')\n",
    "\n",
    "\n",
    "from tensorflow.keras import Model, Input\n",
    "input = tf.keras.Input(shape=(100,))\n",
    "x = tf.keras.layers.Dense(50, activation=\"relu\")(input)\n",
    "x = tf.keras.layers.Dense(50, activation=\"relu\")(x)\n",
    "output = tf.keras.layers.Dense(1)(x)\n",
    "model = tf.keras.Model(input, output)\n",
    "model.summary()\n",
    "\n"
   ]
  }
 ],
 "metadata": {
  "colab": {
   "name": "04tf.Keras.ipynb",
   "provenance": []
  },
  "kernelspec": {
   "display_name": "Python 3 (ipykernel)",
   "language": "python",
   "name": "python3"
  },
  "language_info": {
   "codemirror_mode": {
    "name": "ipython",
    "version": 3
   },
   "file_extension": ".py",
   "mimetype": "text/x-python",
   "name": "python",
   "nbconvert_exporter": "python",
   "pygments_lexer": "ipython3",
   "version": "3.10.10"
  }
 },
 "nbformat": 4,
 "nbformat_minor": 1
}
