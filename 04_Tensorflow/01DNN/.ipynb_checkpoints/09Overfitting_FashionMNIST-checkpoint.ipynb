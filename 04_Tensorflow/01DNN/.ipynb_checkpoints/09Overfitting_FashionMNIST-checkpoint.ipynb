{
 "cells": [
  {
   "cell_type": "markdown",
   "metadata": {
    "colab_type": "text",
    "id": "zqcFCOmzHdDu"
   },
   "source": [
    "# Inference and Validation\n",
    "\n",
    "훈련된 모형을 사용하여 prediction을 수행할 수 있다. 이것을 **inference**라고 부른다. 이 과정에서 훈련 데이터에 대해 과대적합이 일어날 수 있는데 이것을 **overfitting**이라고 한다. overfitting를 확인하기 위해서 훈련데이터를 **validation** set으로 나눈다.  overfitting 문제를 해결하기 위해서 regularization(규제화) 또는 dropout을 수행한다.  훈련을 진행하는 과정에서 validation performance 를 모니터링하여 overfitting이 발생하는지 확인할 수 있다."
   ]
  },
  {
   "cell_type": "markdown",
   "metadata": {
    "colab_type": "text",
    "id": "bmWozIIC46NB"
   },
   "source": [
    "## Import Resources"
   ]
  },
  {
   "cell_type": "code",
   "execution_count": 1,
   "metadata": {
    "colab": {},
    "colab_type": "code",
    "id": "jNh5pmnKKHGG"
   },
   "outputs": [],
   "source": [
    "import warnings\n",
    "warnings.filterwarnings('ignore')"
   ]
  },
  {
   "cell_type": "code",
   "execution_count": 2,
   "metadata": {
    "colab": {},
    "colab_type": "code",
    "id": "FVP2jRaGJ9qu"
   },
   "outputs": [],
   "source": [
    "%matplotlib inline\n",
    "%config InlineBackend.figure_format = 'retina'\n",
    "\n",
    "import numpy as np\n",
    "import matplotlib.pyplot as plt\n",
    "\n",
    "import tensorflow as tf\n"
   ]
  },
  {
   "cell_type": "code",
   "execution_count": 3,
   "metadata": {
    "colab": {},
    "colab_type": "code",
    "id": "LZt-E91qKHGN"
   },
   "outputs": [],
   "source": [
    "import logging\n",
    "logger = tf.get_logger()\n",
    "logger.setLevel(logging.ERROR)"
   ]
  },
  {
   "cell_type": "code",
   "execution_count": 4,
   "metadata": {
    "colab": {},
    "colab_type": "code",
    "id": "hYwKhqk_h6-y"
   },
   "outputs": [
    {
     "name": "stdout",
     "output_type": "stream",
     "text": [
      "Using:\n",
      "TensorFlow version: 2.11.0\n",
      "tf.keras version: 2.11.0\n",
      "GPU device not found. Running on CPU\n"
     ]
    }
   ],
   "source": [
    "print('Using:')\n",
    "print('TensorFlow version:', tf.__version__)\n",
    "print('tf.keras version:', tf.keras.__version__)\n",
    "print('Running on GPU' if tf.test.is_gpu_available() else 'GPU device not found. Running on CPU')"
   ]
  },
  {
   "cell_type": "markdown",
   "metadata": {
    "colab_type": "text",
    "id": "yR0EdgrLCaWR"
   },
   "source": [
    "## 패션 MNIST 데이터셋 임포트하기"
   ]
  },
  {
   "cell_type": "markdown",
   "metadata": {
    "colab_type": "text",
    "id": "DLdCchMdCaWQ"
   },
   "source": [
    "10개의 범주(category)와 70,000개의 흑백 이미지로 구성된 [패션 MNIST](https://github.com/zalandoresearch/fashion-mnist) 데이터셋을 사용하겠습니다. 이미지는 해상도(28x28 픽셀)가 낮고 다음처럼 개별 옷 품목을 나타냅니다:\n",
    "<img src=\"../assets/fashion-mnist-sprite.png\" alt=\"Fashion MNIST sprite\"  width=\"600\">\n",
    "\n",
    "패션 MNIST는 컴퓨터 비전 분야의 \"Hello, World\" 프로그램격인 고전 [MNIST](http://yann.lecun.com/exdb/mnist/) 데이터셋을 대신해서 자주 사용됩니다. MNIST 데이터셋은 손글씨 숫자(0, 1, 2 등)의 이미지로 이루어져 있습니다. 여기서 사용하려는 옷 이미지와 동일한 포맷입니다.\n",
    "\n",
    "패션 MNIST는 일반적인 MNIST 보다 조금 더 어려운 문제이고 다양한 예제를 만들기 위해 선택했습니다. 두 데이터셋은 비교적 작기 때문에 알고리즘의 작동 여부를 확인하기 위해 사용되곤 합니다. 코드를 테스트하고 디버깅하는 용도로 좋습니다.\n",
    "\n",
    "네트워크를 훈련하는데 60,000개의 이미지를 사용합니다. 그다음 네트워크가 얼마나 정확하게 이미지를 분류하는지 10,000개의 이미지로 평가하겠습니다. 패션 MNIST 데이터셋은 텐서플로에서 바로 임포트하여 적재할 수 있습니다:"
   ]
  },
  {
   "cell_type": "markdown",
   "metadata": {
    "colab_type": "text",
    "id": "tPFaSI1S5CM3"
   },
   "source": [
    "## Load the Dataset\n",
    "\n",
    "Fashion-MNIST dataset을 load 한다. 이번 예제에서는 전체 데이터를 train dataset, validation dataset, test dataset으로 나눈다.\n",
    "\n",
    "`train`은 60,000 examples을 포함하고 `test` 는 10,000 examples을 포함하고 있다.\n",
    "\n",
    "train dataset에서 일부 10,000 건의 example을 별도의 validation dataset으로 지정한다. \n"
   ]
  },
  {
   "cell_type": "code",
   "execution_count": 5,
   "metadata": {},
   "outputs": [],
   "source": [
    "(x_train, y_train), (x_test, y_test) = tf.keras.datasets.fashion_mnist.load_data()"
   ]
  },
  {
   "cell_type": "markdown",
   "metadata": {
    "colab_type": "text",
    "id": "t9FDsUlxCaWW"
   },
   "source": [
    "load_data() 함수를 호출하면 네 개의 넘파이(NumPy) 배열이 반환됩니다:\n",
    "\n",
    "* `train_images`와 `train_labels` 배열은 모델 학습에 사용되는 *훈련 세트*입니다.\n",
    "* `test_images`와 `test_labels` 배열은 모델 테스트에 사용되는 *테스트 세트*입니다.\n",
    "\n",
    "이미지는 28x28 크기의 넘파이 배열이고 픽셀 값은 0과 255 사이입니다. *레이블*(label)은 0에서 9까지의 정수 배열입니다. 이 값은 이미지에 있는 옷의 *클래스*(class)를 나타냅니다:\n",
    "\n",
    "<table>\n",
    "  <tr>\n",
    "    <th>레이블</th>\n",
    "    <th>클래스</th>\n",
    "  </tr>\n",
    "  <tr>\n",
    "    <td>0</td>\n",
    "    <td>T-shirt/top</td>\n",
    "  </tr>\n",
    "  <tr>\n",
    "    <td>1</td>\n",
    "    <td>Trouser</td>\n",
    "  </tr>\n",
    "    <tr>\n",
    "    <td>2</td>\n",
    "    <td>Pullover</td>\n",
    "  </tr>\n",
    "    <tr>\n",
    "    <td>3</td>\n",
    "    <td>Dress</td>\n",
    "  </tr>\n",
    "    <tr>\n",
    "    <td>4</td>\n",
    "    <td>Coat</td>\n",
    "  </tr>\n",
    "    <tr>\n",
    "    <td>5</td>\n",
    "    <td>Sandal</td>\n",
    "  </tr>\n",
    "    <tr>\n",
    "    <td>6</td>\n",
    "    <td>Shirt</td>\n",
    "  </tr>\n",
    "    <tr>\n",
    "    <td>7</td>\n",
    "    <td>Sneaker</td>\n",
    "  </tr>\n",
    "    <tr>\n",
    "    <td>8</td>\n",
    "    <td>Bag</td>\n",
    "  </tr>\n",
    "    <tr>\n",
    "    <td>9</td>\n",
    "    <td>Ankle boot</td>\n",
    "  </tr>\n",
    "</table>\n",
    "\n",
    "각 이미지는 하나의 레이블에 매핑되어 있습니다. 데이터셋에 *클래스 이름*이 들어있지 않기 때문에 나중에 이미지를 출력할 때 사용하기 위해 별도의 변수를 만들어 저장합니다:"
   ]
  },
  {
   "cell_type": "markdown",
   "metadata": {},
   "source": [
    "## 데이터 탐색\n",
    "\n",
    "모델을 훈련하기 전에 데이터셋 구조를 살펴보자. 다음 코드는 훈련 세트에 60,000개의 이미지가 있다는 것을 보여준다. 각 이미지는 28x28 픽셀로 표현된다:"
   ]
  },
  {
   "cell_type": "code",
   "execution_count": 6,
   "metadata": {
    "scrolled": true
   },
   "outputs": [
    {
     "data": {
      "text/plain": [
       "(60000, 28, 28)"
      ]
     },
     "execution_count": 6,
     "metadata": {},
     "output_type": "execute_result"
    }
   ],
   "source": [
    "x_train.shape"
   ]
  },
  {
   "cell_type": "markdown",
   "metadata": {},
   "source": [
    "비슷하게 훈련 세트에는 60,000개의 레이블이 있다:"
   ]
  },
  {
   "cell_type": "code",
   "execution_count": 7,
   "metadata": {},
   "outputs": [
    {
     "data": {
      "text/plain": [
       "60000"
      ]
     },
     "execution_count": 7,
     "metadata": {},
     "output_type": "execute_result"
    }
   ],
   "source": [
    "len(y_train)"
   ]
  },
  {
   "cell_type": "markdown",
   "metadata": {},
   "source": [
    "각 레이블은 0과 9사이의 정수이다:"
   ]
  },
  {
   "cell_type": "code",
   "execution_count": 8,
   "metadata": {},
   "outputs": [
    {
     "data": {
      "text/plain": [
       "array([9, 0, 0, ..., 3, 0, 5], dtype=uint8)"
      ]
     },
     "execution_count": 8,
     "metadata": {},
     "output_type": "execute_result"
    }
   ],
   "source": [
    "y_train"
   ]
  },
  {
   "cell_type": "markdown",
   "metadata": {},
   "source": [
    "테스트 세트에는 10,000개의 이미지가 있다. 이 이미지도 28x28 픽셀로 표현된다:"
   ]
  },
  {
   "cell_type": "code",
   "execution_count": 9,
   "metadata": {},
   "outputs": [
    {
     "data": {
      "text/plain": [
       "(10000, 28, 28)"
      ]
     },
     "execution_count": 9,
     "metadata": {},
     "output_type": "execute_result"
    }
   ],
   "source": [
    "x_test.shape"
   ]
  },
  {
   "cell_type": "markdown",
   "metadata": {},
   "source": [
    "테스트 세트는 10,000개의 이미지에 대한 레이블을 가지고 있다:"
   ]
  },
  {
   "cell_type": "code",
   "execution_count": 10,
   "metadata": {},
   "outputs": [
    {
     "data": {
      "text/plain": [
       "60000"
      ]
     },
     "execution_count": 10,
     "metadata": {},
     "output_type": "execute_result"
    }
   ],
   "source": [
    "len(y_train)"
   ]
  },
  {
   "cell_type": "markdown",
   "metadata": {
    "colab_type": "text",
    "id": "ES6uQoLKCaWr"
   },
   "source": [
    "## 데이터 전처리\n",
    "\n",
    "네트워크를 훈련하기 전에 데이터를 전처리해야 합니다. 훈련 세트에 있는 첫 번째 이미지를 보면 픽셀 값의 범위가 0~255 사이라는 것을 알 수 있습니다:"
   ]
  },
  {
   "cell_type": "code",
   "execution_count": 11,
   "metadata": {
    "colab": {
     "base_uri": "https://localhost:8080/",
     "height": 265
    },
    "colab_type": "code",
    "id": "m4VEw8Ud9Quh",
    "outputId": "db28ad35-0dcc-440d-c80f-9f7ac2265769"
   },
   "outputs": [
    {
     "data": {
      "image/png": "[encoded data removed]",
      "text/plain": [
       "<Figure size 640x480 with 2 Axes>"
      ]
     },
     "metadata": {
      "image/png": {
       "height": 413,
       "width": 496
      }
     },
     "output_type": "display_data"
    }
   ],
   "source": [
    "plt.figure()\n",
    "plt.imshow(x_train[1])\n",
    "plt.colorbar()\n",
    "plt.grid(False)\n",
    "plt.show()"
   ]
  },
  {
   "cell_type": "code",
   "execution_count": 12,
   "metadata": {},
   "outputs": [],
   "source": [
    "X_train = x_train / 255.0\n",
    "X_test = x_test / 255.0"
   ]
  },
  {
   "cell_type": "code",
   "execution_count": 13,
   "metadata": {
    "colab": {},
    "colab_type": "code",
    "id": "4WMKWKxPcgOU"
   },
   "outputs": [],
   "source": [
    "# fashion MNIST dataset class name\n",
    "class_names = ['T-shirt/top', 'Trouser', 'Pullover', 'Dress', 'Coat', \n",
    "               'Sandal',      'Shirt',   'Sneaker',  'Bag',   'Ankle boot']"
   ]
  },
  {
   "cell_type": "markdown",
   "metadata": {
    "colab_type": "text",
    "id": "39MO_CpdneIY"
   },
   "source": [
    "## Build the Model\n",
    "\n"
   ]
  },
  {
   "cell_type": "code",
   "execution_count": 14,
   "metadata": {
    "colab": {},
    "colab_type": "code",
    "id": "agzupDJxnekW"
   },
   "outputs": [],
   "source": [
    "model = tf.keras.Sequential([\n",
    "        tf.keras.layers.Flatten(input_shape=(28,28,1)),\n",
    "        tf.keras.layers.Dense(512, activation = 'relu'),\n",
    "        tf.keras.layers.Dense(256, activation = 'relu'),\n",
    "        tf.keras.layers.Dense(128, activation = 'relu'),\n",
    "        tf.keras.layers.Dense(64, activation = 'relu'),\n",
    "        tf.keras.layers.Dense(10, activation = 'softmax')\n",
    "])"
   ]
  },
  {
   "cell_type": "code",
   "execution_count": 15,
   "metadata": {
    "colab": {},
    "colab_type": "code",
    "id": "uI0kZt-cpbXO"
   },
   "outputs": [],
   "source": [
    "model.compile(optimizer='adam',\n",
    "              loss='sparse_categorical_crossentropy',\n",
    "              metrics=['accuracy'])"
   ]
  },
  {
   "cell_type": "markdown",
   "metadata": {
    "colab_type": "text",
    "id": "ziyVd9R76H25"
   },
   "source": [
    "## Train the Model with the Validation Set\n",
    "\n",
    "앞서 예제와 같은 방법으로 모형을 훈련할 수 있다. \n",
    "\n",
    "매 training epoch 마다 training set과 validation set에 대한 loss를 계산한다. 이를 통해 모형의 학습 과정을 모니터링 할 수 있다. validation set은 모형의 훈련에 사용되지 않는다. 대신 모형이 overfitting 되지 않는지를 확인할 수 있다.\n",
    "\n",
    "`.fit` method 에서 `validation_data=validation_batches` argument에서 validation set을 지정하여 수행한다."
   ]
  },
  {
   "cell_type": "code",
   "execution_count": null,
   "metadata": {
    "colab": {},
    "colab_type": "code",
    "id": "GFmdnOz1pNoa",
    "scrolled": false
   },
   "outputs": [
    {
     "name": "stdout",
     "output_type": "stream",
     "text": [
      "Epoch 1/40\n",
      "1313/1313 [==============================] - 13s 9ms/step - loss: 0.5136 - accuracy: 0.8143 - val_loss: 0.5007 - val_accuracy: 0.8243\n",
      "Epoch 2/40\n",
      "1313/1313 [==============================] - 12s 10ms/step - loss: 0.3866 - accuracy: 0.8583 - val_loss: 0.3631 - val_accuracy: 0.8712\n",
      "Epoch 3/40\n",
      "1313/1313 [==============================] - 9s 7ms/step - loss: 0.3500 - accuracy: 0.8691 - val_loss: 0.3531 - val_accuracy: 0.8692\n",
      "Epoch 4/40\n",
      "1313/1313 [==============================] - 11s 9ms/step - loss: 0.3248 - accuracy: 0.8815 - val_loss: 0.3428 - val_accuracy: 0.8778\n",
      "Epoch 5/40\n",
      "1313/1313 [==============================] - 11s 9ms/step - loss: 0.3012 - accuracy: 0.8871 - val_loss: 0.3221 - val_accuracy: 0.8874\n",
      "Epoch 6/40\n",
      "1313/1313 [==============================] - 11s 9ms/step - loss: 0.2846 - accuracy: 0.8940 - val_loss: 0.3304 - val_accuracy: 0.8806\n",
      "Epoch 7/40\n",
      " 111/1313 [=>............................] - ETA: 9s - loss: 0.2887 - accuracy: 0.8910"
     ]
    }
   ],
   "source": [
    "EPOCHS = 40\n",
    "\n",
    "history = model.fit(X_train, y_train,\n",
    "                    epochs = EPOCHS,\n",
    "                    validation_split = 0.3)"
   ]
  },
  {
   "cell_type": "markdown",
   "metadata": {
    "colab_type": "text",
    "id": "CMQnPRTwPZbU"
   },
   "source": [
    "## Loss and Validation Plots\n",
    "\n",
    "위에서 40 epoch 으로 모형을 훈련하였다. 훈련 결과를 시각화하여 표현해 보자. \n",
    "\n",
    "해당 결과를 확인해 보면 validation set에 대한 loss보다 training dataset에 대한 loss는 매우 작은 것을 볼 수 있는데 이를 통해 해당 모형이 overfitting 되었다고 판단할 수 있다. \n",
    "\n",
    "모형이 훈련될 때 training set 과 the validation set 모두에 대해 loss 와 accuracy 를 확인한다. `.fit` method는 `history` object를 리턴한다. `history.history` 속성은 **dictionary**로  training accuracy 와 loss 를 각 epochs 마다 기록한다.  "
   ]
  },
  {
   "cell_type": "code",
   "execution_count": null,
   "metadata": {
    "colab": {},
    "colab_type": "code",
    "id": "EYjSIPoO6hXC"
   },
   "outputs": [],
   "source": [
    "# Check that history.history is a dictionary\n",
    "print('history.history has type:', type(history.history))\n",
    "\n",
    "# Print the keys of the history.history dictionary\n",
    "print('\\nThe keys of history.history are:', list(history.history.keys()))"
   ]
  },
  {
   "cell_type": "markdown",
   "metadata": {
    "colab_type": "text",
    "id": "QyUfyPzD9hLA"
   },
   "source": [
    "`history.history` dictionary 를 plot으로 시각화 하면 해당 모형이 훈련되는 과정에서 loss와 accuracy를 확인할 수 있다."
   ]
  },
  {
   "cell_type": "code",
   "execution_count": null,
   "metadata": {
    "colab": {},
    "colab_type": "code",
    "id": "wDFZCZnArx1T"
   },
   "outputs": [],
   "source": [
    "def plot_history(training_accuracy, validation_accuracy, training_loss, validation_loss) :\n",
    "    plt.figure(figsize=(8, 8))\n",
    "    plt.subplot(1, 2, 1)\n",
    "    plt.plot(training_accuracy, label='Training Accuracy')\n",
    "    plt.plot(validation_accuracy, label='Validation Accuracy')\n",
    "    plt.legend(loc='lower right')\n",
    "    plt.title('Training and Validation Accuracy')\n",
    "    \n",
    "    plt.subplot(1, 2, 2)\n",
    "    plt.plot(training_loss, label='Training Loss')\n",
    "    plt.plot(validation_loss, label='Validation Loss')\n",
    "    plt.legend(loc='upper right')\n",
    "    plt.title('Training and Validation Loss')\n",
    "    plt.show()"
   ]
  },
  {
   "cell_type": "code",
   "execution_count": null,
   "metadata": {},
   "outputs": [],
   "source": [
    "training_accuracy = history.history['accuracy']\n",
    "validation_accuracy = history.history['val_accuracy']\n",
    "\n",
    "training_loss = history.history['loss']\n",
    "validation_loss = history.history['val_loss']\n",
    "\n",
    "plot_history(training_accuracy, validation_accuracy, training_loss, validation_loss)"
   ]
  },
  {
   "cell_type": "markdown",
   "metadata": {
    "colab_type": "text",
    "id": "MzkpAw5SP4cI"
   },
   "source": [
    "## Early Stopping\n",
    "\n",
    "overfitting 문제를 해결하는 방법 중 하나가 Early Stopping이다. \n",
    "overfitting이 되면 모형이 일반화(generalize)에 실패하여 train set에 대해서는 과대 적합되고 validation set에는 오히려 정확도가 떨어지게 된다.\n",
    "\n",
    "시각화 결과를 살펴보면 훈련 시작시 validation loss가 감소하기 시작하고 몇 epoch 이후에는 평준화되고 이후 증가하기 시작한다는 것을 알 수 있다. \n",
    "\n",
    "이때 overfitting이 발생하기 전에 훈련을 조기 종료하는 방법이 Early Stopping이다. \n",
    "\n",
    "**early-stopping**을 하기 위해서 `tf.keras`에서는 **callback**을 사용한다. `.fit()` method 에서 `callbacks` keyword argument를 사용한다. \n",
    "\n",
    "```python\n",
    "tf.keras.callbacks.EarlyStopping(monitor='val_loss', patience=5)\n",
    "```\n",
    "\n",
    "* `monitor` argument : training을 종료하기 위해서 모니터링할 성능 지표를 지정한다. \n",
    "* `patience` argument : 정해진 epoch 수 모니터링 지표가 상당한 개선이 이루어지지 않으면 훈련을 중단한다. \n",
    "* `min_delta` argument :  개선된 것으로 판단할 수 있는 최소값을 지정한다. \n",
    "\n",
    "참고) [EarlyStopping \n",
    "documentation](https://www.tensorflow.org/versions/r2.0/api_docs/python/tf/keras/callbacks/EarlyStopping#class_earlystopping)."
   ]
  },
  {
   "cell_type": "code",
   "execution_count": null,
   "metadata": {
    "colab": {},
    "colab_type": "code",
    "id": "1Ch_iMqOQ6K3"
   },
   "outputs": [],
   "source": [
    "model = tf.keras.Sequential([\n",
    "        tf.keras.layers.Flatten(input_shape=(28,28,1)),\n",
    "        tf.keras.layers.Dense(512, activation = 'relu'),\n",
    "        tf.keras.layers.Dense(256, activation = 'relu'),\n",
    "        tf.keras.layers.Dense(128, activation = 'relu'),\n",
    "        tf.keras.layers.Dense(64, activation = 'relu'),\n",
    "        tf.keras.layers.Dense(10, activation = 'softmax')\n",
    "])\n",
    "\n",
    "\n",
    "model.compile(optimizer='adam',\n",
    "              loss='sparse_categorical_crossentropy',\n",
    "              metrics=['accuracy'])\n",
    "\n",
    "# Stop training when there is no improvement in the validation loss for 5 consecutive epochs\n",
    "early_stopping = tf.keras.callbacks.EarlyStopping(monitor='val_loss', patience=5)\n",
    "\n",
    "EPOCHS = 100\n",
    "\n",
    "history = model.fit(X_train, y_train,\n",
    "                    epochs = EPOCHS,\n",
    "                    validation_split=0.3,\n",
    "                    callbacks=[early_stopping])"
   ]
  },
  {
   "cell_type": "code",
   "execution_count": null,
   "metadata": {
    "colab": {},
    "colab_type": "code",
    "id": "mcyx8WQHVxEW"
   },
   "outputs": [],
   "source": [
    "training_accuracy = history.history['accuracy']\n",
    "validation_accuracy = history.history['val_accuracy']\n",
    "\n",
    "training_loss = history.history['loss']\n",
    "validation_loss = history.history['val_loss']\n",
    "\n",
    "plot_history(training_accuracy, validation_accuracy, training_loss, validation_loss)"
   ]
  },
  {
   "cell_type": "markdown",
   "metadata": {
    "colab_type": "text",
    "id": "dSNjBbarspdj"
   },
   "source": [
    "## Dropout\n",
    "\n",
    "overfitting 을 해결할 수 있는 또다른 방법으로는  **dropout**이 있다. dropout 은 모형의 훈련과정에서 random하게 network의 일부 neurons을 삭제하는 것이다.  `tf.keras`에서는 `tf.keras.layers.Dropout()` layers 를 활용한다. \n",
    "\n",
    "```python\n",
    "tf.keras.layers.Dropout(rate)\n",
    "```\n",
    "\n",
    "* rate : 훈련 중 임의로 삭제할 neuron의 비율을 지정한다. (0~1사이의 값)\n",
    "\n",
    "input layer에 대해서는 dropout을 지정하지 않는다. 또한 훈련과정에서만 dropout 이 적용되고 훈련이 끝난 모형을 prediction에 사용할때는 dropout이 적용되지 않는다. "
   ]
  },
  {
   "cell_type": "markdown",
   "metadata": {
    "colab_type": "text",
    "id": "ABj6x-zss0I1"
   },
   "source": [
    "> **Exercise:** 이전에 생성한 모형에 3개의 dropout layers를 추가한다. 이때 `rate=0.2`로 지정하시오. 그리고 해당 모형을 다시 훈련시키고 overfitting 이 해결되는지 확인해 보시오."
   ]
  },
  {
   "cell_type": "code",
   "execution_count": null,
   "metadata": {
    "colab": {},
    "colab_type": "code",
    "id": "IvSOnFdBsfbL"
   },
   "outputs": [],
   "source": [
    "\n",
    "## Solution\n",
    "my_model = tf.keras.Sequential([\n",
    "           tf.keras.layers.Flatten(input_shape=(28,28,1)),\n",
    "           tf.keras.layers.Dense(256, activation = 'relu'),\n",
    "           tf.keras.layers.Dropout(0.2),\n",
    "           tf.keras.layers.Dense(128, activation = 'relu'),\n",
    "           tf.keras.layers.Dropout(0.2),\n",
    "           tf.keras.layers.Dense(64, activation = 'relu'),\n",
    "           tf.keras.layers.Dropout(0.2),\n",
    "           tf.keras.layers.Dense(10, activation = 'softmax')\n",
    "])\n",
    "\n",
    "my_model.compile(optimizer='adam',\n",
    "                 loss='sparse_categorical_crossentropy',\n",
    "                 metrics=['accuracy'])\n",
    "\n",
    "EPOCHS = 30\n",
    "\n",
    "history = my_model.fit(X_train, y_train,\n",
    "                       epochs=EPOCHS,\n",
    "                       validation_split =0.3)"
   ]
  },
  {
   "cell_type": "code",
   "execution_count": null,
   "metadata": {},
   "outputs": [],
   "source": [
    "training_accuracy = history.history['accuracy']\n",
    "validation_accuracy = history.history['val_accuracy']\n",
    "\n",
    "training_loss = history.history['loss']\n",
    "validation_loss = history.history['val_loss']\n",
    "\n",
    "plot_history(training_accuracy, validation_accuracy, training_loss, validation_loss)"
   ]
  },
  {
   "cell_type": "markdown",
   "metadata": {
    "colab_type": "text",
    "id": "Eqc6YFpFvwIq"
   },
   "source": [
    "## Inference\n",
    "\n",
    "훈련된 모형을 사용하여 prediction을 수행하고 해당 결과를 시각화 하며 표현해 본다."
   ]
  },
  {
   "cell_type": "code",
   "execution_count": null,
   "metadata": {
    "colab": {},
    "colab_type": "code",
    "id": "_bA9AnH9vq2m"
   },
   "outputs": [],
   "source": [
    "ps = model.predict(X_test)\n",
    "images = X_test.squeeze()\n",
    "labels = y_test\n",
    "\n",
    "plt.figure(figsize=(10,15))\n",
    "\n",
    "for n in range(30):\n",
    "    plt.subplot(6,5,n+1)\n",
    "    plt.imshow(images[n], cmap = plt.cm.binary)\n",
    "    color = 'green' if np.argmax(ps[n]) == labels[n] else 'red'\n",
    "    plt.title(class_names[np.argmax(ps[n])], color=color)\n",
    "    plt.axis('off')"
   ]
  },
  {
   "cell_type": "code",
   "execution_count": null,
   "metadata": {},
   "outputs": [],
   "source": []
  }
 ],
 "metadata": {
  "accelerator": "GPU",
  "colab": {
   "collapsed_sections": [],
   "name": "Part 5 - Inference and Validation (Solution).ipynb",
   "provenance": []
  },
  "kernelspec": {
   "display_name": "Python 3 (ipykernel)",
   "language": "python",
   "name": "python3"
  },
  "language_info": {
   "codemirror_mode": {
    "name": "ipython",
    "version": 3
   },
   "file_extension": ".py",
   "mimetype": "text/x-python",
   "name": "python",
   "nbconvert_exporter": "python",
   "pygments_lexer": "ipython3",
   "version": "3.10.10"
  }
 },
 "nbformat": 4,
 "nbformat_minor": 1
}
