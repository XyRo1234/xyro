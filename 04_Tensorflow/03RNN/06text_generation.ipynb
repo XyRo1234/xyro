{
 "cells": [
  {
   "cell_type": "markdown",
   "metadata": {
    "colab_type": "text",
    "id": "bKXk5herKVY6"
   },
   "source": [
    "# Character-level Language Model\n",
    "\n",
    "Language Model의 목표는 입력 문서와 비슷한 새로운 텍스트를 생성하는 모델을 개발하는 것이다. \n",
    "\n",
    "문자 단위의 모델링에서 입력은 글자의 시퀀스를 나누어 한 번에 글자 하나씩 입력된다. 모형은 이 전 입력된 글자와 함께 새로 입력된 글자를 처리하여 다음 문자를 예측한다. \n",
    "\n",
    "![IMG](../assets/text_generator.png)"
   ]
  },
  {
   "cell_type": "markdown",
   "metadata": {
    "colab_type": "text",
    "id": "yBak_a7mMLyI"
   },
   "source": [
    "# 필요 라이브러리 import\n",
    "\n",
    "GPU를 활성화하면 훈련 속도를 높일 수 있다."
   ]
  },
  {
   "cell_type": "code",
   "execution_count": 1,
   "metadata": {
    "colab": {
     "base_uri": "https://localhost:8080/",
     "height": 70
    },
    "colab_type": "code",
    "executionInfo": {
     "elapsed": 2892,
     "status": "ok",
     "timestamp": 1573962968244,
     "user": {
      "displayName": "이선화",
      "photoUrl": "https://lh3.googleusercontent.com/a-/AAuE7mAaVHDHE1MIY1LHmJ_yWOBQMBjk_0EAJ4f0eWo-=s64",
      "userId": "17814374716323603424"
     },
     "user_tz": -540
    },
    "id": "yG_n40gFzf9s",
    "outputId": "baba8ae9-69d1-4589-c9b2-97e9a8dd4c5f"
   },
   "outputs": [
    {
     "name": "stdout",
     "output_type": "stream",
     "text": [
      "2.11.0\n",
      "\n"
     ]
    }
   ],
   "source": [
    "import tensorflow as tf\n",
    "print(tf.__version__)\n",
    "print(tf.test.gpu_device_name())\n",
    "\n",
    "import numpy as np\n",
    "import os\n",
    "import time"
   ]
  },
  {
   "cell_type": "markdown",
   "metadata": {
    "colab_type": "text",
    "id": "EHDoRoc5PKWz"
   },
   "source": [
    "# 데이터 전처리\n",
    "\n",
    "다음의 링크에서 세익스피어의 비극 텍스트 파일을 다운로드 하여 텍스트를 적절히 전처리 한다."
   ]
  },
  {
   "cell_type": "code",
   "execution_count": 2,
   "metadata": {
    "colab": {},
    "colab_type": "code",
    "id": "pD_55cOxLkAb"
   },
   "outputs": [
    {
     "name": "stdout",
     "output_type": "stream",
     "text": [
      "Downloading data from https://storage.googleapis.com/download.tensorflow.org/data/shakespeare.txt\n",
      "1115394/1115394 [==============================] - 0s 0us/step\n"
     ]
    }
   ],
   "source": [
    "path_to_file = tf.keras.utils.get_file('shakespeare.txt', 'https://storage.googleapis.com/download.tensorflow.org/data/shakespeare.txt')"
   ]
  },
  {
   "cell_type": "code",
   "execution_count": 3,
   "metadata": {
    "colab": {
     "base_uri": "https://localhost:8080/",
     "height": 34
    },
    "colab_type": "code",
    "executionInfo": {
     "elapsed": 2864,
     "status": "ok",
     "timestamp": 1573962968248,
     "user": {
      "displayName": "이선화",
      "photoUrl": "https://lh3.googleusercontent.com/a-/AAuE7mAaVHDHE1MIY1LHmJ_yWOBQMBjk_0EAJ4f0eWo-=s64",
      "userId": "17814374716323603424"
     },
     "user_tz": -540
    },
    "id": "aavnuByVymwK",
    "outputId": "861ce8d0-4254-4ddd-8603-980c403571fe"
   },
   "outputs": [
    {
     "name": "stdout",
     "output_type": "stream",
     "text": [
      "텍스트의 길이: 1115394자\n"
     ]
    }
   ],
   "source": [
    "# 읽은 다음 파이썬 2와 호환되도록 디코딩합니다.\n",
    "text = open(path_to_file, 'rb').read().decode(encoding='utf-8')\n",
    "# 텍스트의 길이는 그 안에 있는 문자의 수입니다.\n",
    "print ('텍스트의 길이: {}자'.format(len(text)))"
   ]
  },
  {
   "cell_type": "code",
   "execution_count": 4,
   "metadata": {
    "colab": {
     "base_uri": "https://localhost:8080/",
     "height": 280
    },
    "colab_type": "code",
    "executionInfo": {
     "elapsed": 2846,
     "status": "ok",
     "timestamp": 1573962968250,
     "user": {
      "displayName": "이선화",
      "photoUrl": "https://lh3.googleusercontent.com/a-/AAuE7mAaVHDHE1MIY1LHmJ_yWOBQMBjk_0EAJ4f0eWo-=s64",
      "userId": "17814374716323603424"
     },
     "user_tz": -540
    },
    "id": "Duhg9NrUymwO",
    "outputId": "7503730d-3d57-4f64-dd30-bdb5eb6f78d1"
   },
   "outputs": [
    {
     "name": "stdout",
     "output_type": "stream",
     "text": [
      "First Citizen:\n",
      "Before we proceed any further, hear me speak.\n",
      "\n",
      "All:\n",
      "Speak, speak.\n",
      "\n",
      "First Citizen:\n",
      "You are all resolved rather to die than to famish?\n",
      "\n",
      "All:\n",
      "Resolved. resolved.\n",
      "\n",
      "First Citizen:\n",
      "First, you know Caius Marcius is chief enemy to the people.\n",
      "\n"
     ]
    }
   ],
   "source": [
    "# 텍스트의 처음 250자를 살펴봅니다\n",
    "print(text[:250])"
   ]
  },
  {
   "cell_type": "code",
   "execution_count": 5,
   "metadata": {
    "colab": {
     "base_uri": "https://localhost:8080/",
     "height": 34
    },
    "colab_type": "code",
    "executionInfo": {
     "elapsed": 2826,
     "status": "ok",
     "timestamp": 1573962968251,
     "user": {
      "displayName": "이선화",
      "photoUrl": "https://lh3.googleusercontent.com/a-/AAuE7mAaVHDHE1MIY1LHmJ_yWOBQMBjk_0EAJ4f0eWo-=s64",
      "userId": "17814374716323603424"
     },
     "user_tz": -540
    },
    "id": "IlCgQBRVymwR",
    "outputId": "e0cc8a61-9824-48a4-e714-4c40639334b3"
   },
   "outputs": [
    {
     "name": "stdout",
     "output_type": "stream",
     "text": [
      "고유 문자수 65개\n"
     ]
    }
   ],
   "source": [
    "# 파일의 고유 문자수를 출력합니다.\n",
    "vocab = sorted(set(text))\n",
    "print ('고유 문자수 {}개'.format(len(vocab)))"
   ]
  },
  {
   "cell_type": "markdown",
   "metadata": {
    "colab_type": "text",
    "id": "LFjSVAlWzf-N"
   },
   "source": [
    "### 텍스트 벡터화\n",
    "\n",
    "읽어들인 텍스트의 개별 문자들을 숫자로 변환한다.\n",
    "\n",
    "* char2idx : 문자를 숫자로 매핑\n",
    "* idx2char : 숫자를 문자로 매핑"
   ]
  },
  {
   "cell_type": "code",
   "execution_count": 37,
   "metadata": {
    "colab": {},
    "colab_type": "code",
    "id": "IalZLbvOzf-F"
   },
   "outputs": [
    {
     "name": "stdout",
     "output_type": "stream",
     "text": [
      "{'\\n': 0, ' ': 1, '!': 2, '$': 3, '&': 4, \"'\": 5, ',': 6, '-': 7, '.': 8, '3': 9, ':': 10, ';': 11, '?': 12, 'A': 13, 'B': 14, 'C': 15, 'D': 16, 'E': 17, 'F': 18, 'G': 19, 'H': 20, 'I': 21, 'J': 22, 'K': 23, 'L': 24, 'M': 25, 'N': 26, 'O': 27, 'P': 28, 'Q': 29, 'R': 30, 'S': 31, 'T': 32, 'U': 33, 'V': 34, 'W': 35, 'X': 36, 'Y': 37, 'Z': 38, 'a': 39, 'b': 40, 'c': 41, 'd': 42, 'e': 43, 'f': 44, 'g': 45, 'h': 46, 'i': 47, 'j': 48, 'k': 49, 'l': 50, 'm': 51, 'n': 52, 'o': 53, 'p': 54, 'q': 55, 'r': 56, 's': 57, 't': 58, 'u': 59, 'v': 60, 'w': 61, 'x': 62, 'y': 63, 'z': 64}\n",
      "['\\n' ' ' '!' '$' '&' \"'\" ',' '-' '.' '3' ':' ';' '?' 'A' 'B' 'C' 'D' 'E'\n",
      " 'F' 'G' 'H' 'I' 'J' 'K' 'L' 'M' 'N' 'O' 'P' 'Q' 'R' 'S' 'T' 'U' 'V' 'W'\n",
      " 'X' 'Y' 'Z' 'a' 'b' 'c' 'd' 'e' 'f' 'g' 'h' 'i' 'j' 'k' 'l' 'm' 'n' 'o'\n",
      " 'p' 'q' 'r' 's' 't' 'u' 'v' 'w' 'x' 'y' 'z']\n",
      "First Citizen:\n",
      "Before we proceed any further, hear me speak.\n",
      "\n",
      "All:\n",
      "Speak, speak.\n",
      "\n",
      "First Citizen:\n",
      "You\n",
      "[18 47 56 ... 45  8  0]\n"
     ]
    }
   ],
   "source": [
    "# 고유 문자에서 인덱스로 매핑 생성\n",
    "char2idx = {u:i for i, u in enumerate(vocab)}\n",
    "idx2char = np.array(vocab)\n",
    "\n",
    "text_as_int = np.array([char2idx[c] for c in text])\n",
    "print(char2idx)\n",
    "print(idx2char)\n",
    "print(text[:100])\n",
    "print(text_as_int)"
   ]
  },
  {
   "cell_type": "code",
   "execution_count": 7,
   "metadata": {
    "colab": {
     "base_uri": "https://localhost:8080/",
     "height": 421
    },
    "colab_type": "code",
    "executionInfo": {
     "elapsed": 2805,
     "status": "ok",
     "timestamp": 1573962968255,
     "user": {
      "displayName": "이선화",
      "photoUrl": "https://lh3.googleusercontent.com/a-/AAuE7mAaVHDHE1MIY1LHmJ_yWOBQMBjk_0EAJ4f0eWo-=s64",
      "userId": "17814374716323603424"
     },
     "user_tz": -540
    },
    "id": "FYyNlCNXymwY",
    "outputId": "9073c161-45ef-4cba-b90b-49ec7e5219ec"
   },
   "outputs": [
    {
     "name": "stdout",
     "output_type": "stream",
     "text": [
      "{\n",
      "  '\\n':   0,\n",
      "  ' ' :   1,\n",
      "  '!' :   2,\n",
      "  '$' :   3,\n",
      "  '&' :   4,\n",
      "  \"'\" :   5,\n",
      "  ',' :   6,\n",
      "  '-' :   7,\n",
      "  '.' :   8,\n",
      "  '3' :   9,\n",
      "  ':' :  10,\n",
      "  ';' :  11,\n",
      "  '?' :  12,\n",
      "  'A' :  13,\n",
      "  'B' :  14,\n",
      "  'C' :  15,\n",
      "  'D' :  16,\n",
      "  'E' :  17,\n",
      "  'F' :  18,\n",
      "  'G' :  19,\n",
      "  ...\n",
      "}\n"
     ]
    }
   ],
   "source": [
    "print('{')\n",
    "for char,_ in zip(char2idx, range(20)):\n",
    "    print('  {:4s}: {:3d},'.format(repr(char), char2idx[char]))\n",
    "print('  ...\\n}')"
   ]
  },
  {
   "cell_type": "code",
   "execution_count": 41,
   "metadata": {
    "colab": {
     "base_uri": "https://localhost:8080/",
     "height": 34
    },
    "colab_type": "code",
    "executionInfo": {
     "elapsed": 2791,
     "status": "ok",
     "timestamp": 1573962968256,
     "user": {
      "displayName": "이선화",
      "photoUrl": "https://lh3.googleusercontent.com/a-/AAuE7mAaVHDHE1MIY1LHmJ_yWOBQMBjk_0EAJ4f0eWo-=s64",
      "userId": "17814374716323603424"
     },
     "user_tz": -540
    },
    "id": "l1VKcQHcymwb",
    "outputId": "81e3ca81-eb33-44cb-93ce-448f2c712a1c"
   },
   "outputs": [
    {
     "name": "stdout",
     "output_type": "stream",
     "text": [
      "'First Citizen' -------- > [18 47 56 57 58  1 15 47 58 47 64 43 52]\n"
     ]
    }
   ],
   "source": [
    "# 텍스트에서 처음 13개의 문자가 숫자로 어떻게 매핑되었는지를 보여줍니다\n",
    "print ('{} -------- > {}'.format(repr(text[:13]), text_as_int[:13]))"
   ]
  },
  {
   "cell_type": "markdown",
   "metadata": {
    "colab_type": "text",
    "id": "hgsVvVxnymwf"
   },
   "source": [
    "### 훈련 데이터 생성\n",
    "\n",
    "입력 데이터 : 텍스트를 `seq_length`로 나눈다.\n",
    "\n",
    "타깃 데이터 : 각 입력 시퀀스에서, 해당 타깃은 한 문자를 오른쪽으로 이동하여 동일한 길이의 텍스트로 생성한다.\n",
    "\n",
    " 예를 들어, `seq_length`는 4이고 텍스트를 \"Hello\"이라고 가정해 봅시다. 입력 시퀀스는 \"Hell\"이고 타깃 시퀀스는 \"ello\"가 된다.\n",
    "\n",
    "이렇게 하기 위해 먼저 `tf.data.Dataset.from_tensor_slices` 함수를 사용해 텍스트 벡터를 문자 인덱스의 스트림으로 변환한다."
   ]
  },
  {
   "cell_type": "code",
   "execution_count": 64,
   "metadata": {
    "colab": {
     "base_uri": "https://localhost:8080/",
     "height": 105
    },
    "colab_type": "code",
    "executionInfo": {
     "elapsed": 2777,
     "status": "ok",
     "timestamp": 1573962968257,
     "user": {
      "displayName": "이선화",
      "photoUrl": "https://lh3.googleusercontent.com/a-/AAuE7mAaVHDHE1MIY1LHmJ_yWOBQMBjk_0EAJ4f0eWo-=s64",
      "userId": "17814374716323603424"
     },
     "user_tz": -540
    },
    "id": "0UHJDA39zf-O",
    "outputId": "74a76b4d-f9cb-44c5-da58-3cb25026b158"
   },
   "outputs": [
    {
     "name": "stdout",
     "output_type": "stream",
     "text": [
      "[18 47 56 57 58  1 15 47 58 47]\n",
      "<TensorSliceDataset element_spec=TensorSpec(shape=(), dtype=tf.int32, name=None)>\n",
      "18  47  56  57  58  1  15  47  58  47  \n",
      "F     tf.Tensor(18, shape=(), dtype=int32)     18\n",
      "i     tf.Tensor(47, shape=(), dtype=int32)     47\n",
      "r     tf.Tensor(56, shape=(), dtype=int32)     56\n",
      "s     tf.Tensor(57, shape=(), dtype=int32)     57\n",
      "t     tf.Tensor(58, shape=(), dtype=int32)     58\n"
     ]
    }
   ],
   "source": [
    "# 단일 입력에 대해 원하는 문장의 최대 길이\n",
    "seq_length = 100\n",
    "examples_per_epoch = len(text)//seq_length\n",
    "\n",
    "# 훈련 샘플/타깃 만들기\n",
    "print(text_as_int[:10])\n",
    "char_dataset = tf.data.Dataset.from_tensor_slices(text_as_int)\n",
    "print(char_dataset)\n",
    "for elem in char_dataset.take(10):\n",
    "    print(elem.numpy(),' ', end='')\n",
    "print('')\n",
    "\n",
    "for i in char_dataset.take(5):\n",
    "    print(idx2char[i.numpy()],'   ', i ,'   ', i.numpy())"
   ]
  },
  {
   "cell_type": "markdown",
   "metadata": {
    "colab_type": "text",
    "id": "-ZSYAcQV8OGP"
   },
   "source": [
    "`batch` 메서드는 이 개별 문자들을 원하는 크기의 시퀀스로 쉽게 변환"
   ]
  },
  {
   "cell_type": "code",
   "execution_count": 68,
   "metadata": {
    "colab": {
     "base_uri": "https://localhost:8080/",
     "height": 105
    },
    "colab_type": "code",
    "executionInfo": {
     "elapsed": 2761,
     "status": "ok",
     "timestamp": 1573962968258,
     "user": {
      "displayName": "이선화",
      "photoUrl": "https://lh3.googleusercontent.com/a-/AAuE7mAaVHDHE1MIY1LHmJ_yWOBQMBjk_0EAJ4f0eWo-=s64",
      "userId": "17814374716323603424"
     },
     "user_tz": -540
    },
    "id": "l4hkDU3i7ozi",
    "outputId": "a0eb8304-a3b0-49bc-a1ec-65ad1e489779"
   },
   "outputs": [
    {
     "name": "stdout",
     "output_type": "stream",
     "text": [
      "<BatchDataset element_spec=TensorSpec(shape=(101,), dtype=tf.int32, name=None)>\n",
      "[18 47 56 57 58  1 15 47 58 47 64 43 52 10  0 14 43 44 53 56 43  1 61 43\n",
      "  1 54 56 53 41 43 43 42  1 39 52 63  1 44 59 56 58 46 43 56  6  1 46 43\n",
      " 39 56  1 51 43  1 57 54 43 39 49  8  0  0 13 50 50 10  0 31 54 43 39 49\n",
      "  6  1 57 54 43 39 49  8  0  0 18 47 56 57 58  1 15 47 58 47 64 43 52 10\n",
      "  0 37 53 59  1] 101\n",
      "[39 56 43  1 39 50 50  1 56 43 57 53 50 60 43 42  1 56 39 58 46 43 56  1\n",
      " 58 53  1 42 47 43  1 58 46 39 52  1 58 53  1 44 39 51 47 57 46 12  0  0\n",
      " 13 50 50 10  0 30 43 57 53 50 60 43 42  8  1 56 43 57 53 50 60 43 42  8\n",
      "  0  0 18 47 56 57 58  1 15 47 58 47 64 43 52 10  0 18 47 56 57 58  6  1\n",
      " 63 53 59  1 49] 101\n",
      "[52 53 61  1 15 39 47 59 57  1 25 39 56 41 47 59 57  1 47 57  1 41 46 47\n",
      " 43 44  1 43 52 43 51 63  1 58 53  1 58 46 43  1 54 43 53 54 50 43  8  0\n",
      "  0 13 50 50 10  0 35 43  1 49 52 53 61  5 58  6  1 61 43  1 49 52 53 61\n",
      "  5 58  8  0  0 18 47 56 57 58  1 15 47 58 47 64 43 52 10  0 24 43 58  1\n",
      " 59 57  1 49 47] 101\n",
      "[50 50  1 46 47 51  6  1 39 52 42  1 61 43  5 50 50  1 46 39 60 43  1 41\n",
      " 53 56 52  1 39 58  1 53 59 56  1 53 61 52  1 54 56 47 41 43  8  0 21 57\n",
      "  5 58  1 39  1 60 43 56 42 47 41 58 12  0  0 13 50 50 10  0 26 53  1 51\n",
      " 53 56 43  1 58 39 50 49 47 52 45  1 53 52  5 58 11  1 50 43 58  1 47 58\n",
      "  1 40 43  1 42] 101\n",
      "[53 52 43 10  1 39 61 39 63  6  1 39 61 39 63  2  0  0 31 43 41 53 52 42\n",
      "  1 15 47 58 47 64 43 52 10  0 27 52 43  1 61 53 56 42  6  1 45 53 53 42\n",
      "  1 41 47 58 47 64 43 52 57  8  0  0 18 47 56 57 58  1 15 47 58 47 64 43\n",
      " 52 10  0 35 43  1 39 56 43  1 39 41 41 53 59 52 58 43 42  1 54 53 53 56\n",
      "  1 41 47 58 47] 101\n",
      "'First Citizen:\\nBefore we proceed any further, hear me speak.\\n\\nAll:\\nSpeak, speak.\\n\\nFirst Citizen:\\nYou '\n",
      "'are all resolved rather to die than to famish?\\n\\nAll:\\nResolved. resolved.\\n\\nFirst Citizen:\\nFirst, you k'\n",
      "\"now Caius Marcius is chief enemy to the people.\\n\\nAll:\\nWe know't, we know't.\\n\\nFirst Citizen:\\nLet us ki\"\n",
      "\"ll him, and we'll have corn at our own price.\\nIs't a verdict?\\n\\nAll:\\nNo more talking on't; let it be d\"\n",
      "'one: away, away!\\n\\nSecond Citizen:\\nOne word, good citizens.\\n\\nFirst Citizen:\\nWe are accounted poor citi'\n"
     ]
    }
   ],
   "source": [
    "sequences = char_dataset.batch(seq_length+1, drop_remainder=True)\n",
    "print(sequences)\n",
    "\n",
    "for item in sequences.take(5):\n",
    "    print(item.numpy(),len(item.numpy()))\n",
    "\n",
    "for item in sequences.take(5):\n",
    "    print(repr(''.join(idx2char[item.numpy()])))"
   ]
  },
  {
   "cell_type": "markdown",
   "metadata": {
    "colab_type": "text",
    "id": "UbLcIPBj_mWZ"
   },
   "source": [
    "각 시퀀스에서, `map` 메서드를 사용해 각 배치에 간단한 함수를 적용하고 입력 텍스트와 타깃 텍스트를 복사 및 이동:"
   ]
  },
  {
   "cell_type": "code",
   "execution_count": 69,
   "metadata": {
    "colab": {},
    "colab_type": "code",
    "id": "9NGu-FkO_kYU"
   },
   "outputs": [
    {
     "name": "stdout",
     "output_type": "stream",
     "text": [
      "Tensor(\"args_0:0\", shape=(101,), dtype=int32)\n",
      "<MapDataset element_spec=(TensorSpec(shape=(100,), dtype=tf.int32, name=None), TensorSpec(shape=(100,), dtype=tf.int32, name=None))>\n"
     ]
    }
   ],
   "source": [
    "def split_input_target(chunk):\n",
    "    print(chunk)\n",
    "    input_text = chunk[:-1]\n",
    "    target_text = chunk[1:]\n",
    "    return input_text, target_text\n",
    "\n",
    "dataset = sequences.map(split_input_target)\n",
    "print(dataset)"
   ]
  },
  {
   "cell_type": "code",
   "execution_count": 12,
   "metadata": {
    "colab": {
     "base_uri": "https://localhost:8080/",
     "height": 52
    },
    "colab_type": "code",
    "executionInfo": {
     "elapsed": 3026,
     "status": "ok",
     "timestamp": 1573962968552,
     "user": {
      "displayName": "이선화",
      "photoUrl": "https://lh3.googleusercontent.com/a-/AAuE7mAaVHDHE1MIY1LHmJ_yWOBQMBjk_0EAJ4f0eWo-=s64",
      "userId": "17814374716323603424"
     },
     "user_tz": -540
    },
    "id": "GNbw-iR0ymwj",
    "outputId": "bfcce6b3-a494-4208-90e5-1fd0be01a785"
   },
   "outputs": [
    {
     "name": "stdout",
     "output_type": "stream",
     "text": [
      "입력 데이터:  'First Citizen:\\nBefore we proceed any further, hear me speak.\\n\\nAll:\\nSpeak, speak.\\n\\nFirst Citizen:\\nYou'\n",
      "타깃 데이터:  'irst Citizen:\\nBefore we proceed any further, hear me speak.\\n\\nAll:\\nSpeak, speak.\\n\\nFirst Citizen:\\nYou '\n"
     ]
    }
   ],
   "source": [
    "for input_example, target_example in  dataset.take(1):\n",
    "    print ('입력 데이터: ', repr(''.join(idx2char[input_example.numpy()])))\n",
    "    print ('타깃 데이터: ', repr(''.join(idx2char[target_example.numpy()])))"
   ]
  },
  {
   "cell_type": "markdown",
   "metadata": {
    "colab_type": "text",
    "id": "_33OHL3b84i0"
   },
   "source": [
    "이 벡터의 각 인덱스는 하나의 타임 스텝(time step)으로 처리된다. 타임 스텝 0의 입력으로 모델은 \"F\"의 인덱스를 받고 다음 문자로 \"i\"의 인덱스를 예측한다. 다음 타임 스텝에서도 같은 일을 하지만 RNN은 현재 입력 문자 외에 이전 타임 스텝을 고려한다."
   ]
  },
  {
   "cell_type": "code",
   "execution_count": 13,
   "metadata": {
    "colab": {
     "base_uri": "https://localhost:8080/",
     "height": 280
    },
    "colab_type": "code",
    "executionInfo": {
     "elapsed": 3670,
     "status": "ok",
     "timestamp": 1573962969222,
     "user": {
      "displayName": "이선화",
      "photoUrl": "https://lh3.googleusercontent.com/a-/AAuE7mAaVHDHE1MIY1LHmJ_yWOBQMBjk_0EAJ4f0eWo-=s64",
      "userId": "17814374716323603424"
     },
     "user_tz": -540
    },
    "id": "0eBu9WZG84i0",
    "outputId": "0025188a-9357-49d7-935a-752c83e5e98c"
   },
   "outputs": [
    {
     "name": "stdout",
     "output_type": "stream",
     "text": [
      "   0단계\n",
      "  입력: 18 ('F')\n",
      "  예상 출력: 47 ('i')\n",
      "   1단계\n",
      "  입력: 47 ('i')\n",
      "  예상 출력: 56 ('r')\n",
      "   2단계\n",
      "  입력: 56 ('r')\n",
      "  예상 출력: 57 ('s')\n",
      "   3단계\n",
      "  입력: 57 ('s')\n",
      "  예상 출력: 58 ('t')\n",
      "   4단계\n",
      "  입력: 58 ('t')\n",
      "  예상 출력: 1 (' ')\n"
     ]
    }
   ],
   "source": [
    "for i, (input_idx, target_idx) in enumerate(zip(input_example[:5], target_example[:5])):\n",
    "    print(\"{:4d}단계\".format(i))\n",
    "    print(\"  입력: {} ({:s})\".format(input_idx, repr(idx2char[input_idx])))\n",
    "    print(\"  예상 출력: {} ({:s})\".format(target_idx, repr(idx2char[target_idx])))"
   ]
  },
  {
   "cell_type": "markdown",
   "metadata": {
    "colab_type": "text",
    "id": "MJdfPmdqzf-R"
   },
   "source": [
    "### 훈련 배치 생성\n",
    "\n",
    "텍스트를 다루기 쉬운 시퀀스로 분리하기 위해 `tf.data`를 사용한다."
   ]
  },
  {
   "cell_type": "code",
   "execution_count": 71,
   "metadata": {
    "colab": {},
    "colab_type": "code",
    "id": "p2pGotuNzf-S"
   },
   "outputs": [
    {
     "name": "stdout",
     "output_type": "stream",
     "text": [
      "<BatchDataset element_spec=(TensorSpec(shape=(64, 100), dtype=tf.int32, name=None), TensorSpec(shape=(64, 100), dtype=tf.int32, name=None))>\n",
      "<BatchDataset element_spec=(TensorSpec(shape=(64, 64, 100), dtype=tf.int32, name=None), TensorSpec(shape=(64, 64, 100), dtype=tf.int32, name=None))>\n"
     ]
    }
   ],
   "source": [
    "# 배치 크기\n",
    "BATCH_SIZE = 64\n",
    "\n",
    "BUFFER_SIZE = 10000\n",
    "\n",
    "print(dataset)\n",
    "dataset = dataset.batch(BATCH_SIZE, drop_remainder=True)\n",
    "print(dataset)"
   ]
  },
  {
   "cell_type": "code",
   "execution_count": 75,
   "metadata": {
    "colab": {
     "base_uri": "https://localhost:8080/",
     "height": 298
    },
    "colab_type": "code",
    "executionInfo": {
     "elapsed": 3644,
     "status": "ok",
     "timestamp": 1573962969223,
     "user": {
      "displayName": "이선화",
      "photoUrl": "https://lh3.googleusercontent.com/a-/AAuE7mAaVHDHE1MIY1LHmJ_yWOBQMBjk_0EAJ4f0eWo-=s64",
      "userId": "17814374716323603424"
     },
     "user_tz": -540
    },
    "id": "WR1341HA4125",
    "outputId": "10939d4e-fc7f-4233-ba8d-b5a3e6eee9e6"
   },
   "outputs": [
    {
     "data": {
      "text/plain": [
       "[(<tf.Tensor: shape=(64, 64, 100), dtype=int32, numpy=\n",
       "  array([[[18, 47, 56, ..., 37, 53, 59],\n",
       "          [39, 56, 43, ..., 53, 59,  1],\n",
       "          [52, 53, 61, ..., 57,  1, 49],\n",
       "          ...,\n",
       "          [ 0, 35, 46, ..., 49,  1, 51],\n",
       "          [ 6,  7,  7, ..., 60, 43, 56],\n",
       "          [53, 59, 58, ..., 43, 39, 60]],\n",
       "  \n",
       "         [[ 1, 51, 43, ..., 26, 21, 33],\n",
       "          [10,  0, 32, ..., 43, 50, 57],\n",
       "          [39, 52, 42, ..., 40, 43, 52],\n",
       "          ...,\n",
       "          [32, 53,  1, ..., 56,  0, 20],\n",
       "          [61,  1, 58, ...,  1, 39, 41],\n",
       "          [47, 53, 52, ..., 58, 43, 56]],\n",
       "  \n",
       "         [[42,  1, 47, ..., 58,  1, 53],\n",
       "          [ 1, 47, 52, ..., 57,  1, 45],\n",
       "          [52, 43,  0, ..., 46, 43, 63],\n",
       "          ...,\n",
       "          [ 1, 58, 46, ..., 40, 43, 44],\n",
       "          [56, 43,  1, ..., 51, 47, 52],\n",
       "          [ 1, 46, 53, ..., 43, 56, 63]],\n",
       "  \n",
       "         ...,\n",
       "  \n",
       "         [[ 1, 58, 53, ..., 15, 20, 13],\n",
       "          [16,  1, 21, ..., 52, 45,  1],\n",
       "          [46, 39, 50, ..., 53, 56,  1],\n",
       "          ...,\n",
       "          [46, 43,  1, ..., 50, 43, 58],\n",
       "          [43, 56, 57, ...,  0, 27,  6],\n",
       "          [21,  1, 39, ..., 43, 52,  6]],\n",
       "  \n",
       "         [[20, 53, 61, ..., 42,  1, 58],\n",
       "          [43, 43,  0, ..., 46, 53, 59],\n",
       "          [50, 47, 58, ..., 47, 57,  1],\n",
       "          ...,\n",
       "          [56, 43,  1, ..., 46, 63,  6],\n",
       "          [40, 47, 57, ..., 61, 43, 43],\n",
       "          [ 1, 54, 43, ..., 57,  1, 57]],\n",
       "  \n",
       "         [[39, 50, 50, ..., 52, 41, 39],\n",
       "          [58, 43, 56, ..., 47, 45, 46],\n",
       "          [57, 41, 43, ..., 52, 42,  1],\n",
       "          ...,\n",
       "          [ 8,  0,  0, ..., 59, 50, 50],\n",
       "          [53, 44,  1, ..., 47, 58, 53],\n",
       "          [57,  1, 46, ..., 47, 60, 43]]])>,\n",
       "  <tf.Tensor: shape=(64, 64, 100), dtype=int32, numpy=\n",
       "  array([[[47, 56, 57, ..., 53, 59,  1],\n",
       "          [56, 43,  1, ..., 59,  1, 49],\n",
       "          [53, 61,  1, ...,  1, 49, 47],\n",
       "          ...,\n",
       "          [35, 46, 43, ...,  1, 51, 43],\n",
       "          [ 7,  7,  0, ..., 43, 56,  1],\n",
       "          [59, 58,  1, ..., 39, 60, 43]],\n",
       "  \n",
       "         [[51, 43,  1, ..., 21, 33, 31],\n",
       "          [ 0, 32, 46, ..., 50, 57,  1],\n",
       "          [52, 42,  1, ..., 43, 52, 43],\n",
       "          ...,\n",
       "          [53,  1, 25, ...,  0, 20, 53],\n",
       "          [ 1, 58, 46, ..., 39, 41, 58],\n",
       "          [53, 52,  8, ..., 43, 56, 43]],\n",
       "  \n",
       "         [[ 1, 47, 52, ...,  1, 53, 52],\n",
       "          [47, 52,  1, ...,  1, 45, 53],\n",
       "          [43,  0, 31, ..., 43, 63,  1],\n",
       "          ...,\n",
       "          [58, 46, 43, ..., 43, 44, 53],\n",
       "          [43,  1, 58, ..., 47, 52, 43],\n",
       "          [46, 53, 52, ..., 56, 63,  0]],\n",
       "  \n",
       "         ...,\n",
       "  \n",
       "         [[58, 53,  1, ..., 20, 13, 30],\n",
       "          [ 1, 21, 21, ..., 45,  1, 57],\n",
       "          [39, 50, 50, ..., 56,  1, 39],\n",
       "          ...,\n",
       "          [43,  1, 49, ..., 43, 58, 58],\n",
       "          [56, 57,  1, ..., 27,  6,  1],\n",
       "          [ 1, 39, 51, ..., 52,  6,  0]],\n",
       "  \n",
       "         [[53, 61,  1, ...,  1, 58, 46],\n",
       "          [43,  0, 32, ..., 53, 59,  1],\n",
       "          [47, 58, 58, ..., 57,  1, 47],\n",
       "          ...,\n",
       "          [43,  1, 57, ..., 63,  6,  1],\n",
       "          [47, 57, 46, ..., 43, 43, 58],\n",
       "          [54, 43, 39, ...,  1, 57, 46]],\n",
       "  \n",
       "         [[50, 50,  1, ..., 41, 39, 57],\n",
       "          [43, 56,  6, ..., 45, 46,  1],\n",
       "          [41, 43, 54, ..., 42,  1, 50],\n",
       "          ...,\n",
       "          [ 0,  0, 26, ..., 50, 50,  1],\n",
       "          [44,  1, 58, ..., 58, 53, 56],\n",
       "          [ 1, 46, 43, ..., 60, 43, 52]]])>)]"
      ]
     },
     "execution_count": 75,
     "metadata": {},
     "output_type": "execute_result"
    }
   ],
   "source": [
    "list(dataset.take(1))"
   ]
  },
  {
   "cell_type": "markdown",
   "metadata": {
    "colab_type": "text",
    "id": "r6oUuElIMgVx"
   },
   "source": [
    "## 모델 설계"
   ]
  },
  {
   "cell_type": "markdown",
   "metadata": {
    "colab_type": "text",
    "id": "m8gPwEjRzf-Z"
   },
   "source": [
    "모델을 정의하려면 `tf.keras.Sequential`을 사용한다. 이 간단한 예제에서는 3개의 층을 사용하여 모델을 정의:\n",
    "\n",
    "* `tf.keras.layers.Embedding` : 입력층. `embedding_dim` 차원 벡터에 각 문자의 정수 코드를 매핑하는 훈련 가능한 검색 테이블.\n",
    "* `tf.keras.layers.GRU` : 크기가 `units = rnn_units`인 RNN의 유형(여기서 LSTM층을 사용할 수도 있다.)\n",
    "* `tf.keras.layers.Dense` : 크기가 `vocab_size`인 출력을 생성하는 출력층."
   ]
  },
  {
   "cell_type": "code",
   "execution_count": 16,
   "metadata": {
    "colab": {},
    "colab_type": "code",
    "id": "zHT8cLh7EAsg"
   },
   "outputs": [],
   "source": [
    "# 문자로 된 어휘 사전의 크기\n",
    "vocab_size = len(vocab)\n",
    "\n",
    "# 임베딩 차원\n",
    "embedding_dim = 256\n",
    "\n",
    "# RNN 유닛(unit) 개수\n",
    "rnn_units = 1024"
   ]
  },
  {
   "cell_type": "code",
   "execution_count": 17,
   "metadata": {
    "colab": {},
    "colab_type": "code",
    "id": "MtCrdfzEI2N0"
   },
   "outputs": [],
   "source": [
    "def build_model(vocab_size, embedding_dim, rnn_units, batch_size):\n",
    "    model = tf.keras.Sequential([\n",
    "    tf.keras.layers.Embedding(vocab_size, embedding_dim,\n",
    "                              batch_input_shape=[batch_size, None]),\n",
    "    tf.keras.layers.LSTM(rnn_units,\n",
    "                        return_sequences=True,\n",
    "                        stateful=True,\n",
    "                        recurrent_initializer='glorot_uniform'),\n",
    "    tf.keras.layers.Dense(vocab_size)\n",
    "  ])\n",
    "    return model"
   ]
  },
  {
   "cell_type": "code",
   "execution_count": 18,
   "metadata": {
    "colab": {},
    "colab_type": "code",
    "id": "wwsrpOik5zhv"
   },
   "outputs": [],
   "source": [
    "model = build_model(\n",
    "  vocab_size = len(vocab),\n",
    "  embedding_dim=embedding_dim,\n",
    "  rnn_units=rnn_units,\n",
    "  batch_size=BATCH_SIZE)"
   ]
  },
  {
   "cell_type": "markdown",
   "metadata": {
    "colab_type": "text",
    "id": "-ubPo0_9Prjb"
   },
   "source": [
    "## 모델 사용\n",
    "\n",
    "이제 모델을 실행하여 원하는대로 동작하는지 확인한다.\n",
    "\n",
    "먼저 출력의 형태를 확인한다:"
   ]
  },
  {
   "cell_type": "code",
   "execution_count": 19,
   "metadata": {
    "colab": {
     "base_uri": "https://localhost:8080/",
     "height": 34
    },
    "colab_type": "code",
    "executionInfo": {
     "elapsed": 5314,
     "status": "ok",
     "timestamp": 1573962970944,
     "user": {
      "displayName": "이선화",
      "photoUrl": "https://lh3.googleusercontent.com/a-/AAuE7mAaVHDHE1MIY1LHmJ_yWOBQMBjk_0EAJ4f0eWo-=s64",
      "userId": "17814374716323603424"
     },
     "user_tz": -540
    },
    "id": "C-_70kKAPrPU",
    "outputId": "4716b80f-67d0-47df-ee51-529d7c462b41"
   },
   "outputs": [
    {
     "name": "stdout",
     "output_type": "stream",
     "text": [
      "(64, 100, 65) # (배치 크기, 시퀀스 길이, 어휘 사전 크기)\n"
     ]
    }
   ],
   "source": [
    "for input_example_batch, target_example_batch in dataset.take(1):\n",
    "    example_batch_predictions = model(input_example_batch)\n",
    "    print(example_batch_predictions.shape, \"# (배치 크기, 시퀀스 길이, 어휘 사전 크기)\")"
   ]
  },
  {
   "cell_type": "markdown",
   "metadata": {
    "colab_type": "text",
    "id": "Q6NzLBi4VM4o"
   },
   "source": [
    "위 예제에서 입력의 시퀀스 길이는 100이지만 모델은 임의 길이의 입력에서 실행될 수 있다."
   ]
  },
  {
   "cell_type": "code",
   "execution_count": 20,
   "metadata": {
    "colab": {
     "base_uri": "https://localhost:8080/",
     "height": 263
    },
    "colab_type": "code",
    "executionInfo": {
     "elapsed": 5302,
     "status": "ok",
     "timestamp": 1573962970945,
     "user": {
      "displayName": "이선화",
      "photoUrl": "https://lh3.googleusercontent.com/a-/AAuE7mAaVHDHE1MIY1LHmJ_yWOBQMBjk_0EAJ4f0eWo-=s64",
      "userId": "17814374716323603424"
     },
     "user_tz": -540
    },
    "id": "vPGmAAXmVLGC",
    "outputId": "19c5db90-5be7-4694-a45c-6f2d718df5e7"
   },
   "outputs": [
    {
     "name": "stdout",
     "output_type": "stream",
     "text": [
      "Model: \"sequential\"\n",
      "_________________________________________________________________\n",
      " Layer (type)                Output Shape              Param #   \n",
      "=================================================================\n",
      " embedding (Embedding)       (64, None, 256)           16640     \n",
      "                                                                 \n",
      " lstm (LSTM)                 (64, None, 1024)          5246976   \n",
      "                                                                 \n",
      " dense (Dense)               (64, None, 65)            66625     \n",
      "                                                                 \n",
      "=================================================================\n",
      "Total params: 5,330,241\n",
      "Trainable params: 5,330,241\n",
      "Non-trainable params: 0\n",
      "_________________________________________________________________\n"
     ]
    }
   ],
   "source": [
    "model.summary()"
   ]
  },
  {
   "cell_type": "markdown",
   "metadata": {
    "colab_type": "text",
    "id": "uwv0gEkURfx1"
   },
   "source": [
    "모델로부터 예측 문자열을 얻으려면 출력 배열에서 샘플링하여 실제 문자 인덱스를 얻어야 한다.\n",
    "\n",
    "Note: 출력 배열에 argmax를 취하면 안되고 임의의 샘플링하는 것이 중요하다.\n",
    "\n",
    "일단 배치의 첫 번째를 샘플링 하는 형태로 출력해 본다:"
   ]
  },
  {
   "cell_type": "code",
   "execution_count": 78,
   "metadata": {
    "colab": {},
    "colab_type": "code",
    "id": "4V4MfFg0RQJg"
   },
   "outputs": [
    {
     "name": "stdout",
     "output_type": "stream",
     "text": [
      "[53  8  9 54  9 38 50 60 17 53 56 41 15 29 46 25 42  6 57 44 55 47 61 62\n",
      " 52 61 16 37 14 17 25 26  2 61 24 14  9 10 61 40 35 35 51  3 29 64  5 23\n",
      " 54 33 46 45 46 54  2 58 14 23 20 34 43 12 14  6 62 11 35  4 48 63 30  1\n",
      " 57 11 42  2  3 43 45 60 55 16 20  9 35 63 29 51 30 38  5  9 15 38 42 18\n",
      " 27 36 25 52]\n"
     ]
    }
   ],
   "source": [
    "sampled_indices = tf.random.categorical(example_batch_predictions[0], num_samples=1)\n",
    "# print(sampled_indices)\n",
    "sampled_indices = tf.squeeze(sampled_indices,axis=-1).numpy()\n",
    "print(sampled_indices)"
   ]
  },
  {
   "cell_type": "code",
   "execution_count": 22,
   "metadata": {
    "colab": {
     "base_uri": "https://localhost:8080/",
     "height": 122
    },
    "colab_type": "code",
    "executionInfo": {
     "elapsed": 5280,
     "status": "ok",
     "timestamp": 1573962970948,
     "user": {
      "displayName": "이선화",
      "photoUrl": "https://lh3.googleusercontent.com/a-/AAuE7mAaVHDHE1MIY1LHmJ_yWOBQMBjk_0EAJ4f0eWo-=s64",
      "userId": "17814374716323603424"
     },
     "user_tz": -540
    },
    "id": "YqFMUQc_UFgM",
    "outputId": "9baca8e5-0a72-49a2-b6d0-ccfb9583adc2"
   },
   "outputs": [
    {
     "data": {
      "text/plain": [
       "array([34, 63, 25, 21,  8, 48, 42, 15, 33, 49, 33, 39, 19, 41, 42, 55, 26,\n",
       "       54, 33, 35,  7, 37,  2, 42, 37,  2, 64, 19, 33, 33, 10, 30, 55, 30,\n",
       "       39, 38, 16, 23, 35, 57,  2, 62, 28, 22, 10,  4, 52, 24, 21, 64, 21,\n",
       "        9, 63,  9, 42, 26, 10, 41, 43,  7, 29, 54, 61, 58, 43, 21, 37, 57,\n",
       "       59, 28, 12, 53, 17, 34, 60, 46, 52,  6, 12, 52,  0, 25, 11, 54, 23,\n",
       "       27,  1, 17, 18, 44, 16, 17, 41, 54, 51,  1, 17, 29, 49,  1],\n",
       "      dtype=int64)"
      ]
     },
     "execution_count": 22,
     "metadata": {},
     "output_type": "execute_result"
    }
   ],
   "source": [
    "sampled_indices"
   ]
  },
  {
   "cell_type": "markdown",
   "metadata": {
    "colab_type": "text",
    "id": "LfLtsP3mUhCG"
   },
   "source": [
    "훈련되지 않은 모델에 의해 예측된 텍스트를 보기 위해 idx2char을 사용한다.\n"
   ]
  },
  {
   "cell_type": "code",
   "execution_count": 23,
   "metadata": {
    "colab": {
     "base_uri": "https://localhost:8080/",
     "height": 105
    },
    "colab_type": "code",
    "executionInfo": {
     "elapsed": 5267,
     "status": "ok",
     "timestamp": 1573962970949,
     "user": {
      "displayName": "이선화",
      "photoUrl": "https://lh3.googleusercontent.com/a-/AAuE7mAaVHDHE1MIY1LHmJ_yWOBQMBjk_0EAJ4f0eWo-=s64",
      "userId": "17814374716323603424"
     },
     "user_tz": -540
    },
    "id": "xWcFwPwLSo05",
    "outputId": "064cc9d1-75a5-4a7c-8e7f-07fc19c7bee2"
   },
   "outputs": [
    {
     "name": "stdout",
     "output_type": "stream",
     "text": [
      "입력: \n",
      " 'First Citizen:\\nBefore we proceed any further, hear me speak.\\n\\nAll:\\nSpeak, speak.\\n\\nFirst Citizen:\\nYou'\n",
      "\n",
      "예측된 다음 문자: \n",
      " 'VyMI.jdCUkUaGcdqNpUW-Y!dY!zGUU:RqRaZDKWs!xPJ:&nLIzI3y3dN:ce-QpwteIYsuP?oEVvhn,?n\\nM;pKO EFfDEcpm EQk '\n"
     ]
    }
   ],
   "source": [
    "print(\"입력: \\n\", repr(\"\".join(idx2char[input_example_batch[0]])))\n",
    "print()\n",
    "print(\"예측된 다음 문자: \\n\", repr(\"\".join(idx2char[sampled_indices ])))"
   ]
  },
  {
   "cell_type": "markdown",
   "metadata": {
    "colab_type": "text",
    "id": "LJL0Q0YPY6Ee"
   },
   "source": [
    "## 모델 훈련"
   ]
  },
  {
   "cell_type": "markdown",
   "metadata": {
    "colab_type": "text",
    "id": "trpqTWyvk0nr"
   },
   "source": [
    "### 모형의 compile과 loss 함수 정의"
   ]
  },
  {
   "cell_type": "markdown",
   "metadata": {
    "colab_type": "text",
    "id": "UAjbjY03eiQ4"
   },
   "source": [
    "표준 `tf.keras.losses.sparse_softmax_crossentropy` 손실 함수를 사용한다.\n",
    "\n",
    "이 모델은 로짓을 반환하기 때문에 `from_logits` 을 사용한다."
   ]
  },
  {
   "cell_type": "code",
   "execution_count": 24,
   "metadata": {
    "colab": {
     "base_uri": "https://localhost:8080/",
     "height": 52
    },
    "colab_type": "code",
    "executionInfo": {
     "elapsed": 5252,
     "status": "ok",
     "timestamp": 1573962970950,
     "user": {
      "displayName": "이선화",
      "photoUrl": "https://lh3.googleusercontent.com/a-/AAuE7mAaVHDHE1MIY1LHmJ_yWOBQMBjk_0EAJ4f0eWo-=s64",
      "userId": "17814374716323603424"
     },
     "user_tz": -540
    },
    "id": "4HrXTACTdzY-",
    "outputId": "aac97ddf-921f-4739-ca2f-b76645dd1f55"
   },
   "outputs": [
    {
     "name": "stdout",
     "output_type": "stream",
     "text": [
      "예측 배열 크기(shape):  (64, 100, 65)  # (배치 크기, 시퀀스 길이, 어휘 사전 크기\n",
      "Loss :  4.174923\n"
     ]
    }
   ],
   "source": [
    "def loss(labels, logits):\n",
    "    return tf.keras.losses.sparse_categorical_crossentropy(labels, logits, from_logits=True)\n",
    "\n",
    "example_batch_loss  = loss(target_example_batch, example_batch_predictions)\n",
    "print(\"예측 배열 크기(shape): \", example_batch_predictions.shape, \" # (배치 크기, 시퀀스 길이, 어휘 사전 크기\")\n",
    "print(\"Loss : \", example_batch_loss.numpy().mean())"
   ]
  },
  {
   "cell_type": "code",
   "execution_count": 25,
   "metadata": {
    "colab": {},
    "colab_type": "code",
    "id": "DDl1_Een6rL0"
   },
   "outputs": [],
   "source": [
    "model.compile(optimizer='adam', loss=loss)"
   ]
  },
  {
   "cell_type": "markdown",
   "metadata": {
    "colab_type": "text",
    "id": "3Ky3F_BhgkTW"
   },
   "source": [
    "### 훈련 실행"
   ]
  },
  {
   "cell_type": "markdown",
   "metadata": {
    "colab_type": "text",
    "id": "IxdOA-rgyGvs"
   },
   "source": [
    "훈련 시간이 너무 길지 않도록 모델을 훈련하는 데 에포크(Epoch)를 적절히 사용한다. "
   ]
  },
  {
   "cell_type": "code",
   "execution_count": 26,
   "metadata": {
    "colab": {},
    "colab_type": "code",
    "id": "7yGBE2zxMMHs"
   },
   "outputs": [],
   "source": [
    "EPOCHS=1"
   ]
  },
  {
   "cell_type": "code",
   "execution_count": 27,
   "metadata": {
    "colab": {
     "base_uri": "https://localhost:8080/",
     "height": 368
    },
    "colab_type": "code",
    "executionInfo": {
     "elapsed": 93389,
     "status": "ok",
     "timestamp": 1573963059130,
     "user": {
      "displayName": "이선화",
      "photoUrl": "https://lh3.googleusercontent.com/a-/AAuE7mAaVHDHE1MIY1LHmJ_yWOBQMBjk_0EAJ4f0eWo-=s64",
      "userId": "17814374716323603424"
     },
     "user_tz": -540
    },
    "id": "UK-hmKjYVoll",
    "outputId": "d85ad8c7-05dd-4aa6-e0db-73d1f8deb858"
   },
   "outputs": [
    {
     "name": "stdout",
     "output_type": "stream",
     "text": [
      "172/172 [==============================] - 479s 3s/step - loss: 2.6362\n"
     ]
    }
   ],
   "source": [
    "history = model.fit(dataset, epochs=EPOCHS)\n",
    "#history = model.fit(dataset, epochs=EPOCHS, callbacks=[checkpoint_callback])"
   ]
  },
  {
   "cell_type": "code",
   "execution_count": 28,
   "metadata": {},
   "outputs": [],
   "source": [
    "# 모형을 저장한다.\n",
    "model.save_weights('epoch_1.h5')"
   ]
  },
  {
   "cell_type": "markdown",
   "metadata": {
    "colab_type": "text",
    "id": "kKkD5M6eoSiN"
   },
   "source": [
    "## 텍스트 생성\n",
    "\n",
    "이 예측 단계를 간단하게 하기 위해 배치 크기로 1을 사용한다."
   ]
  },
  {
   "cell_type": "code",
   "execution_count": 29,
   "metadata": {
    "colab": {},
    "colab_type": "code",
    "id": "LycQ-ot_jjyu"
   },
   "outputs": [],
   "source": [
    "model = build_model(vocab_size, embedding_dim, rnn_units, batch_size=1)\n",
    "\n",
    "# 저장된 모형을 불러들인다.\n",
    "model.load_weights('epoch_20.h5')\n",
    "model.build(tf.TensorShape([1, None]))"
   ]
  },
  {
   "cell_type": "code",
   "execution_count": 30,
   "metadata": {
    "colab": {
     "base_uri": "https://localhost:8080/",
     "height": 263
    },
    "colab_type": "code",
    "executionInfo": {
     "elapsed": 94279,
     "status": "ok",
     "timestamp": 1573963060057,
     "user": {
      "displayName": "이선화",
      "photoUrl": "https://lh3.googleusercontent.com/a-/AAuE7mAaVHDHE1MIY1LHmJ_yWOBQMBjk_0EAJ4f0eWo-=s64",
      "userId": "17814374716323603424"
     },
     "user_tz": -540
    },
    "id": "71xa6jnYVrAN",
    "outputId": "a655f462-8c13-4f15-9ec8-f28d6cc47385"
   },
   "outputs": [
    {
     "name": "stdout",
     "output_type": "stream",
     "text": [
      "Model: \"sequential_1\"\n",
      "_________________________________________________________________\n",
      " Layer (type)                Output Shape              Param #   \n",
      "=================================================================\n",
      " embedding_1 (Embedding)     (1, None, 256)            16640     \n",
      "                                                                 \n",
      " lstm_1 (LSTM)               (1, None, 1024)           5246976   \n",
      "                                                                 \n",
      " dense_1 (Dense)             (1, None, 65)             66625     \n",
      "                                                                 \n",
      "=================================================================\n",
      "Total params: 5,330,241\n",
      "Trainable params: 5,330,241\n",
      "Non-trainable params: 0\n",
      "_________________________________________________________________\n"
     ]
    }
   ],
   "source": [
    "model.summary()"
   ]
  },
  {
   "cell_type": "markdown",
   "metadata": {
    "colab_type": "text",
    "id": "DjGz1tDkzf-u"
   },
   "source": [
    "### 텍스트 생성하기\n",
    "\n",
    "다음 코드 블록은 텍스트를 생성합니다:\n",
    "\n",
    "* 시작 문자열 선택과 순환 신경망 상태를 초기화하고 생성할 문자 수를 설정한다.\n",
    "\n",
    "* 시작 문자열과 순환 신경망 상태를 사용하여 다음 문자의 예측 배열을 가져온다.\n",
    "\n",
    "* 다음, 범주형 배열을 사용하여 예측된 문자의 인덱스를 계산합니다. 이 예측된 문자를 모델의 다음 입력으로 활용한다.\n",
    "\n",
    "![IMG](https://tensorflow.org/tutorials/text/images/text_generation_sampling.png)\n",
    "\n"
   ]
  },
  {
   "cell_type": "code",
   "execution_count": 106,
   "metadata": {
    "colab": {},
    "colab_type": "code",
    "id": "WvuwZBX5Ogfd"
   },
   "outputs": [],
   "source": [
    "def generate_text(model, start_string):\n",
    "  # 평가 단계 (학습된 모델을 사용하여 텍스트 생성)\n",
    "\n",
    "  # 생성할 문자의 수\n",
    "    num_generate = 1000\n",
    "\n",
    "  # 시작 문자열을 숫자로 변환(벡터화)\n",
    "    input_eval = [char2idx[s] for s in start_string]\n",
    "    print(input_eval)\n",
    "    input_eval = tf.expand_dims(input_eval, 0)\n",
    "    print(input_eval)\n",
    "    \n",
    "  # 결과를 저장할 빈 문자열\n",
    "    text_generated = []\n",
    "\n",
    "  # temperature 가 낮으면 더 예측 가능한 텍스트가 됩니다.\n",
    "  # temperature 가 높으면 더 의외의 텍스트가 됩니다.\n",
    "    temperature = 1.0\n",
    "\n",
    "  # 여기에서 배치 크기 == 1\n",
    "    print(model)\n",
    "    model.reset_states()\n",
    "    print(model)\n",
    "    for i in range(num_generate):\n",
    "        predictions = model(input_eval)\n",
    "        print(predictions.shape,' ',end='')\n",
    "      # 배치 차원 제거\n",
    "        predictions = tf.squeeze(predictions, 0)\n",
    "        print(predictions.shape,' ',end='')\n",
    "      # 범주형 분포를 사용하여 모델에서 리턴한 단어 예측\n",
    "        predictions = predictions / temperature\n",
    "        predicted_id = tf.random.categorical(predictions, num_samples=1)[-1,0].numpy()\n",
    "#         print(tf.random.categorical(predictions, num_samples=1),' ',end='')\n",
    "        print(predictions.shape, predicted_id,' ',end='')\n",
    "        \n",
    "      # 예측된 단어를 다음 입력으로 모델에 전달    \n",
    "        input_eval = tf.expand_dims([predicted_id], 0)\n",
    "        print(' input_eval:',input_eval,' ',end='')\n",
    "        print(idx2char[predicted_id])\n",
    "        text_generated.append(idx2char[predicted_id])\n",
    "    print('')\n",
    "    return (start_string + ''.join(text_generated))"
   ]
  },
  {
   "cell_type": "code",
   "execution_count": 107,
   "metadata": {
    "colab": {
     "base_uri": "https://localhost:8080/",
     "height": 1000
    },
    "colab_type": "code",
    "executionInfo": {
     "elapsed": 4851,
     "status": "ok",
     "timestamp": 1573963226212,
     "user": {
      "displayName": "이선화",
      "photoUrl": "https://lh3.googleusercontent.com/a-/AAuE7mAaVHDHE1MIY1LHmJ_yWOBQMBjk_0EAJ4f0eWo-=s64",
      "userId": "17814374716323603424"
     },
     "user_tz": -540
    },
    "id": "2Lx74QQi9DLa",
    "outputId": "22ae7be1-6d56-47f8-8481-9b098381443c"
   },
   "outputs": [
    {
     "name": "stdout",
     "output_type": "stream",
     "text": [
      "[30, 27, 25, 17, 27, 10, 1]\n",
      "tf.Tensor([[30 27 25 17 27 10  1]], shape=(1, 7), dtype=int32)\n",
      "<keras.engine.sequential.Sequential object at 0x000002469FA08E50>\n",
      "<keras.engine.sequential.Sequential object at 0x000002469FA08E50>\n",
      "(1, 7, 65)  (7, 65)  (7, 65) 44   input_eval: tf.Tensor([[44]], shape=(1, 1), dtype=int32)  f\n",
      "(1, 1, 65)  (1, 65)  (1, 65) 47   input_eval: tf.Tensor([[47]], shape=(1, 1), dtype=int32)  i\n",
      "(1, 1, 65)  (1, 65)  (1, 65) 56   input_eval: tf.Tensor([[56]], shape=(1, 1), dtype=int32)  r\n",
      "(1, 1, 65)  (1, 65)  (1, 65) 57   input_eval: tf.Tensor([[57]], shape=(1, 1), dtype=int32)  s\n",
      "(1, 1, 65)  (1, 65)  (1, 65) 58   input_eval: tf.Tensor([[58]], shape=(1, 1), dtype=int32)  t\n",
      "(1, 1, 65)  (1, 65)  (1, 65) 1   input_eval: tf.Tensor([[1]], shape=(1, 1), dtype=int32)   \n",
      "(1, 1, 65)  (1, 65)  (1, 65) 53   input_eval: tf.Tensor([[53]], shape=(1, 1), dtype=int32)  o\n",
      "(1, 1, 65)  (1, 65)  (1, 65) 44   input_eval: tf.Tensor([[44]], shape=(1, 1), dtype=int32)  f\n",
      "(1, 1, 65)  (1, 65)  (1, 65) 1   input_eval: tf.Tensor([[1]], shape=(1, 1), dtype=int32)   \n",
      "(1, 1, 65)  (1, 65)  (1, 65) 22   input_eval: tf.Tensor([[22]], shape=(1, 1), dtype=int32)  J\n",
      "(1, 1, 65)  (1, 65)  (1, 65) 39   input_eval: tf.Tensor([[39]], shape=(1, 1), dtype=int32)  a\n",
      "(1, 1, 65)  (1, 65)  (1, 65) 52   input_eval: tf.Tensor([[52]], shape=(1, 1), dtype=int32)  n\n",
      "(1, 1, 65)  (1, 65)  (1, 65) 58   input_eval: tf.Tensor([[58]], shape=(1, 1), dtype=int32)  t\n",
      "(1, 1, 65)  (1, 65)  (1, 65) 39   input_eval: tf.Tensor([[39]], shape=(1, 1), dtype=int32)  a\n",
      "(1, 1, 65)  (1, 65)  (1, 65) 47   input_eval: tf.Tensor([[47]], shape=(1, 1), dtype=int32)  i\n",
      "(1, 1, 65)  (1, 65)  (1, 65) 52   input_eval: tf.Tensor([[52]], shape=(1, 1), dtype=int32)  n\n",
      "(1, 1, 65)  (1, 65)  (1, 65) 5   input_eval: tf.Tensor([[5]], shape=(1, 1), dtype=int32)  '\n",
      "(1, 1, 65)  (1, 65)  (1, 65) 57   input_eval: tf.Tensor([[57]], shape=(1, 1), dtype=int32)  s\n",
      "(1, 1, 65)  (1, 65)  (1, 65) 10   input_eval: tf.Tensor([[10]], shape=(1, 1), dtype=int32)  :\n",
      "(1, 1, 65)  (1, 65)  (1, 65) 1   input_eval: tf.Tensor([[1]], shape=(1, 1), dtype=int32)   \n",
      "(1, 1, 65)  (1, 65)  (1, 65) 28   input_eval: tf.Tensor([[28]], shape=(1, 1), dtype=int32)  P\n",
      "(1, 1, 65)  (1, 65)  (1, 65) 47   input_eval: tf.Tensor([[47]], shape=(1, 1), dtype=int32)  i\n",
      "(1, 1, 65)  (1, 65)  (1, 65) 58   input_eval: tf.Tensor([[58]], shape=(1, 1), dtype=int32)  t\n",
      "(1, 1, 65)  (1, 65)  (1, 65) 64   input_eval: tf.Tensor([[64]], shape=(1, 1), dtype=int32)  z\n",
      "(1, 1, 65)  (1, 65)  (1, 65) 59   input_eval: tf.Tensor([[59]], shape=(1, 1), dtype=int32)  u\n",
      "(1, 1, 65)  (1, 65)  (1, 65) 58   input_eval: tf.Tensor([[58]], shape=(1, 1), dtype=int32)  t\n",
      "(1, 1, 65)  (1, 65)  (1, 65) 1   input_eval: tf.Tensor([[1]], shape=(1, 1), dtype=int32)   \n",
      "(1, 1, 65)  (1, 65)  (1, 65) 59   input_eval: tf.Tensor([[59]], shape=(1, 1), dtype=int32)  u\n",
      "(1, 1, 65)  (1, 65)  (1, 65) 54   input_eval: tf.Tensor([[54]], shape=(1, 1), dtype=int32)  p\n",
      "(1, 1, 65)  (1, 65)  (1, 65) 2   input_eval: tf.Tensor([[2]], shape=(1, 1), dtype=int32)  !\n",
      "(1, 1, 65)  (1, 65)  (1, 65) 0   input_eval: tf.Tensor([[0]], shape=(1, 1), dtype=int32)  \n",
      "\n",
      "(1, 1, 65)  (1, 65)  (1, 65) 37   input_eval: tf.Tensor([[37]], shape=(1, 1), dtype=int32)  Y\n",
      "(1, 1, 65)  (1, 65)  (1, 65) 53   input_eval: tf.Tensor([[53]], shape=(1, 1), dtype=int32)  o\n",
      "(1, 1, 65)  (1, 65)  (1, 65) 59   input_eval: tf.Tensor([[59]], shape=(1, 1), dtype=int32)  u\n",
      "(1, 1, 65)  (1, 65)  (1, 65) 56   input_eval: tf.Tensor([[56]], shape=(1, 1), dtype=int32)  r\n",
      "(1, 1, 65)  (1, 65)  (1, 65) 1   input_eval: tf.Tensor([[1]], shape=(1, 1), dtype=int32)   \n",
      "(1, 1, 65)  (1, 65)  (1, 65) 50   input_eval: tf.Tensor([[50]], shape=(1, 1), dtype=int32)  l\n",
      "(1, 1, 65)  (1, 65)  (1, 65) 53   input_eval: tf.Tensor([[53]], shape=(1, 1), dtype=int32)  o\n",
      "(1, 1, 65)  (1, 65)  (1, 65) 60   input_eval: tf.Tensor([[60]], shape=(1, 1), dtype=int32)  v\n",
      "(1, 1, 65)  (1, 65)  (1, 65) 43   input_eval: tf.Tensor([[43]], shape=(1, 1), dtype=int32)  e\n",
      "(1, 1, 65)  (1, 65)  (1, 65) 1   input_eval: tf.Tensor([[1]], shape=(1, 1), dtype=int32)   \n",
      "(1, 1, 65)  (1, 65)  (1, 65) 47   input_eval: tf.Tensor([[47]], shape=(1, 1), dtype=int32)  i\n",
      "(1, 1, 65)  (1, 65)  (1, 65) 57   input_eval: tf.Tensor([[57]], shape=(1, 1), dtype=int32)  s\n",
      "(1, 1, 65)  (1, 65)  (1, 65) 1   input_eval: tf.Tensor([[1]], shape=(1, 1), dtype=int32)   \n",
      "(1, 1, 65)  (1, 65)  (1, 65) 42   input_eval: tf.Tensor([[42]], shape=(1, 1), dtype=int32)  d\n",
      "(1, 1, 65)  (1, 65)  (1, 65) 43   input_eval: tf.Tensor([[43]], shape=(1, 1), dtype=int32)  e\n",
      "(1, 1, 65)  (1, 65)  (1, 65) 39   input_eval: tf.Tensor([[39]], shape=(1, 1), dtype=int32)  a\n",
      "(1, 1, 65)  (1, 65)  (1, 65) 42   input_eval: tf.Tensor([[42]], shape=(1, 1), dtype=int32)  d\n",
      "(1, 1, 65)  (1, 65)  (1, 65) 6   input_eval: tf.Tensor([[6]], shape=(1, 1), dtype=int32)  ,\n",
      "(1, 1, 65)  (1, 65)  (1, 65) 1   input_eval: tf.Tensor([[1]], shape=(1, 1), dtype=int32)   \n",
      "(1, 1, 65)  (1, 65)  (1, 65) 39   input_eval: tf.Tensor([[39]], shape=(1, 1), dtype=int32)  a\n",
      "(1, 1, 65)  (1, 65)  (1, 65) 52   input_eval: tf.Tensor([[52]], shape=(1, 1), dtype=int32)  n\n",
      "(1, 1, 65)  (1, 65)  (1, 65) 42   input_eval: tf.Tensor([[42]], shape=(1, 1), dtype=int32)  d\n",
      "(1, 1, 65)  (1, 65)  (1, 65) 1   input_eval: tf.Tensor([[1]], shape=(1, 1), dtype=int32)   \n",
      "(1, 1, 65)  (1, 65)  (1, 65) 61   input_eval: tf.Tensor([[61]], shape=(1, 1), dtype=int32)  w\n",
      "(1, 1, 65)  (1, 65)  (1, 65) 53   input_eval: tf.Tensor([[53]], shape=(1, 1), dtype=int32)  o\n",
      "(1, 1, 65)  (1, 65)  (1, 65) 59   input_eval: tf.Tensor([[59]], shape=(1, 1), dtype=int32)  u\n",
      "(1, 1, 65)  (1, 65)  (1, 65) 50   input_eval: tf.Tensor([[50]], shape=(1, 1), dtype=int32)  l\n",
      "(1, 1, 65)  (1, 65)  (1, 65) 42   input_eval: tf.Tensor([[42]], shape=(1, 1), dtype=int32)  d\n",
      "(1, 1, 65)  (1, 65)  (1, 65) 1   input_eval: tf.Tensor([[1]], shape=(1, 1), dtype=int32)   \n",
      "(1, 1, 65)  (1, 65)  (1, 65) 51   input_eval: tf.Tensor([[51]], shape=(1, 1), dtype=int32)  m\n",
      "(1, 1, 65)  (1, 65)  (1, 65) 53   input_eval: tf.Tensor([[53]], shape=(1, 1), dtype=int32)  o\n",
      "(1, 1, 65)  (1, 65)  (1, 65) 56   input_eval: tf.Tensor([[56]], shape=(1, 1), dtype=int32)  r\n",
      "(1, 1, 65)  (1, 65)  (1, 65) 43   input_eval: tf.Tensor([[43]], shape=(1, 1), dtype=int32)  e\n",
      "(1, 1, 65)  (1, 65)  (1, 65) 1   input_eval: tf.Tensor([[1]], shape=(1, 1), dtype=int32)   \n",
      "(1, 1, 65)  (1, 65)  (1, 65) 50   input_eval: tf.Tensor([[50]], shape=(1, 1), dtype=int32)  l\n",
      "(1, 1, 65)  (1, 65)  (1, 65) 47   input_eval: tf.Tensor([[47]], shape=(1, 1), dtype=int32)  i\n",
      "(1, 1, 65)  (1, 65)  (1, 65) 40   input_eval: tf.Tensor([[40]], shape=(1, 1), dtype=int32)  b\n",
      "(1, 1, 65)  (1, 65)  (1, 65) 43   input_eval: tf.Tensor([[43]], shape=(1, 1), dtype=int32)  e\n",
      "(1, 1, 65)  (1, 65)  (1, 65) 56   input_eval: tf.Tensor([[56]], shape=(1, 1), dtype=int32)  r\n",
      "(1, 1, 65)  (1, 65)  (1, 65) 58   input_eval: tf.Tensor([[58]], shape=(1, 1), dtype=int32)  t\n",
      "(1, 1, 65)  (1, 65)  (1, 65) 63   input_eval: tf.Tensor([[63]], shape=(1, 1), dtype=int32)  y\n",
      "(1, 1, 65)  (1, 65)  (1, 65) 6   input_eval: tf.Tensor([[6]], shape=(1, 1), dtype=int32)  ,\n",
      "(1, 1, 65)  (1, 65)  (1, 65) 1   input_eval: tf.Tensor([[1]], shape=(1, 1), dtype=int32)   \n",
      "(1, 1, 65)  (1, 65)  (1, 65) 58   input_eval: tf.Tensor([[58]], shape=(1, 1), dtype=int32)  t\n",
      "(1, 1, 65)  (1, 65)  (1, 65) 46   input_eval: tf.Tensor([[46]], shape=(1, 1), dtype=int32)  h\n",
      "(1, 1, 65)  (1, 65)  (1, 65) 53   input_eval: tf.Tensor([[53]], shape=(1, 1), dtype=int32)  o\n",
      "(1, 1, 65)  (1, 65)  (1, 65) 59   input_eval: tf.Tensor([[59]], shape=(1, 1), dtype=int32)  u\n",
      "(1, 1, 65)  (1, 65)  (1, 65) 45   input_eval: tf.Tensor([[45]], shape=(1, 1), dtype=int32)  g\n",
      "(1, 1, 65)  (1, 65)  (1, 65) 46   input_eval: tf.Tensor([[46]], shape=(1, 1), dtype=int32)  h\n",
      "(1, 1, 65)  (1, 65)  (1, 65) 1   input_eval: tf.Tensor([[1]], shape=(1, 1), dtype=int32)   \n",
      "(1, 1, 65)  (1, 65)  (1, 65) 63   input_eval: tf.Tensor([[63]], shape=(1, 1), dtype=int32)  y\n",
      "(1, 1, 65)  (1, 65)  (1, 65) 53   input_eval: tf.Tensor([[53]], shape=(1, 1), dtype=int32)  o\n",
      "(1, 1, 65)  (1, 65)  (1, 65) 59   input_eval: tf.Tensor([[59]], shape=(1, 1), dtype=int32)  u\n",
      "(1, 1, 65)  (1, 65)  (1, 65) 1   input_eval: tf.Tensor([[1]], shape=(1, 1), dtype=int32)   \n",
      "(1, 1, 65)  (1, 65)  (1, 65) 52   input_eval: tf.Tensor([[52]], shape=(1, 1), dtype=int32)  n\n",
      "(1, 1, 65)  (1, 65)  (1, 65) 53   input_eval: tf.Tensor([[53]], shape=(1, 1), dtype=int32)  o\n",
      "(1, 1, 65)  (1, 65)  (1, 65) 58   input_eval: tf.Tensor([[58]], shape=(1, 1), dtype=int32)  t\n",
      "(1, 1, 65)  (1, 65)  (1, 65) 1   input_eval: tf.Tensor([[1]], shape=(1, 1), dtype=int32)   \n",
      "(1, 1, 65)  (1, 65)  (1, 65) 53   input_eval: tf.Tensor([[53]], shape=(1, 1), dtype=int32)  o\n",
      "(1, 1, 65)  (1, 65)  (1, 65) 44   input_eval: tf.Tensor([[44]], shape=(1, 1), dtype=int32)  f\n",
      "(1, 1, 65)  (1, 65)  (1, 65) 44   input_eval: tf.Tensor([[44]], shape=(1, 1), dtype=int32)  f\n",
      "(1, 1, 65)  (1, 65)  (1, 65) 1   input_eval: tf.Tensor([[1]], shape=(1, 1), dtype=int32)   \n",
      "(1, 1, 65)  (1, 65)  (1, 65) 39   input_eval: tf.Tensor([[39]], shape=(1, 1), dtype=int32)  a\n",
      "(1, 1, 65)  (1, 65)  (1, 65) 45   input_eval: tf.Tensor([[45]], shape=(1, 1), dtype=int32)  g\n",
      "(1, 1, 65)  (1, 65)  (1, 65) 39   input_eval: tf.Tensor([[39]], shape=(1, 1), dtype=int32)  a\n",
      "(1, 1, 65)  (1, 65)  (1, 65) 47   input_eval: tf.Tensor([[47]], shape=(1, 1), dtype=int32)  i\n",
      "(1, 1, 65)  (1, 65)  (1, 65) 52   input_eval: tf.Tensor([[52]], shape=(1, 1), dtype=int32)  n\n"
     ]
    },
    {
     "name": "stdout",
     "output_type": "stream",
     "text": [
      "(1, 1, 65)  (1, 65)  (1, 65) 8   input_eval: tf.Tensor([[8]], shape=(1, 1), dtype=int32)  .\n",
      "(1, 1, 65)  (1, 65)  (1, 65) 0   input_eval: tf.Tensor([[0]], shape=(1, 1), dtype=int32)  \n",
      "\n",
      "(1, 1, 65)  (1, 65)  (1, 65) 0   input_eval: tf.Tensor([[0]], shape=(1, 1), dtype=int32)  \n",
      "\n",
      "(1, 1, 65)  (1, 65)  (1, 65) 19   input_eval: tf.Tensor([[19]], shape=(1, 1), dtype=int32)  G\n",
      "(1, 1, 65)  (1, 65)  (1, 65) 30   input_eval: tf.Tensor([[30]], shape=(1, 1), dtype=int32)  R\n",
      "(1, 1, 65)  (1, 65)  (1, 65) 33   input_eval: tf.Tensor([[33]], shape=(1, 1), dtype=int32)  U\n",
      "(1, 1, 65)  (1, 65)  (1, 65) 25   input_eval: tf.Tensor([[25]], shape=(1, 1), dtype=int32)  M\n",
      "(1, 1, 65)  (1, 65)  (1, 65) 21   input_eval: tf.Tensor([[21]], shape=(1, 1), dtype=int32)  I\n",
      "(1, 1, 65)  (1, 65)  (1, 65) 27   input_eval: tf.Tensor([[27]], shape=(1, 1), dtype=int32)  O\n",
      "(1, 1, 65)  (1, 65)  (1, 65) 10   input_eval: tf.Tensor([[10]], shape=(1, 1), dtype=int32)  :\n",
      "(1, 1, 65)  (1, 65)  (1, 65) 0   input_eval: tf.Tensor([[0]], shape=(1, 1), dtype=int32)  \n",
      "\n",
      "(1, 1, 65)  (1, 65)  (1, 65) 35   input_eval: tf.Tensor([[35]], shape=(1, 1), dtype=int32)  W\n",
      "(1, 1, 65)  (1, 65)  (1, 65) 46   input_eval: tf.Tensor([[46]], shape=(1, 1), dtype=int32)  h\n",
      "(1, 1, 65)  (1, 65)  (1, 65) 43   input_eval: tf.Tensor([[43]], shape=(1, 1), dtype=int32)  e\n",
      "(1, 1, 65)  (1, 65)  (1, 65) 56   input_eval: tf.Tensor([[56]], shape=(1, 1), dtype=int32)  r\n",
      "(1, 1, 65)  (1, 65)  (1, 65) 43   input_eval: tf.Tensor([[43]], shape=(1, 1), dtype=int32)  e\n",
      "(1, 1, 65)  (1, 65)  (1, 65) 1   input_eval: tf.Tensor([[1]], shape=(1, 1), dtype=int32)   \n",
      "(1, 1, 65)  (1, 65)  (1, 65) 47   input_eval: tf.Tensor([[47]], shape=(1, 1), dtype=int32)  i\n",
      "(1, 1, 65)  (1, 65)  (1, 65) 57   input_eval: tf.Tensor([[57]], shape=(1, 1), dtype=int32)  s\n",
      "(1, 1, 65)  (1, 65)  (1, 65) 43   input_eval: tf.Tensor([[43]], shape=(1, 1), dtype=int32)  e\n",
      "(1, 1, 65)  (1, 65)  (1, 65) 1   input_eval: tf.Tensor([[1]], shape=(1, 1), dtype=int32)   \n",
      "(1, 1, 65)  (1, 65)  (1, 65) 63   input_eval: tf.Tensor([[63]], shape=(1, 1), dtype=int32)  y\n",
      "(1, 1, 65)  (1, 65)  (1, 65) 53   input_eval: tf.Tensor([[53]], shape=(1, 1), dtype=int32)  o\n",
      "(1, 1, 65)  (1, 65)  (1, 65) 59   input_eval: tf.Tensor([[59]], shape=(1, 1), dtype=int32)  u\n",
      "(1, 1, 65)  (1, 65)  (1, 65) 56   input_eval: tf.Tensor([[56]], shape=(1, 1), dtype=int32)  r\n",
      "(1, 1, 65)  (1, 65)  (1, 65) 1   input_eval: tf.Tensor([[1]], shape=(1, 1), dtype=int32)   \n",
      "(1, 1, 65)  (1, 65)  (1, 65) 30   input_eval: tf.Tensor([[30]], shape=(1, 1), dtype=int32)  R\n",
      "(1, 1, 65)  (1, 65)  (1, 65) 53   input_eval: tf.Tensor([[53]], shape=(1, 1), dtype=int32)  o\n",
      "(1, 1, 65)  (1, 65)  (1, 65) 51   input_eval: tf.Tensor([[51]], shape=(1, 1), dtype=int32)  m\n",
      "(1, 1, 65)  (1, 65)  (1, 65) 43   input_eval: tf.Tensor([[43]], shape=(1, 1), dtype=int32)  e\n",
      "(1, 1, 65)  (1, 65)  (1, 65) 57   input_eval: tf.Tensor([[57]], shape=(1, 1), dtype=int32)  s\n",
      "(1, 1, 65)  (1, 65)  (1, 65) 1   input_eval: tf.Tensor([[1]], shape=(1, 1), dtype=int32)   \n",
      "(1, 1, 65)  (1, 65)  (1, 65) 39   input_eval: tf.Tensor([[39]], shape=(1, 1), dtype=int32)  a\n",
      "(1, 1, 65)  (1, 65)  (1, 65) 56   input_eval: tf.Tensor([[56]], shape=(1, 1), dtype=int32)  r\n",
      "(1, 1, 65)  (1, 65)  (1, 65) 43   input_eval: tf.Tensor([[43]], shape=(1, 1), dtype=int32)  e\n",
      "(1, 1, 65)  (1, 65)  (1, 65) 1   input_eval: tf.Tensor([[1]], shape=(1, 1), dtype=int32)   \n",
      "(1, 1, 65)  (1, 65)  (1, 65) 52   input_eval: tf.Tensor([[52]], shape=(1, 1), dtype=int32)  n\n",
      "(1, 1, 65)  (1, 65)  (1, 65) 53   input_eval: tf.Tensor([[53]], shape=(1, 1), dtype=int32)  o\n",
      "(1, 1, 65)  (1, 65)  (1, 65) 61   input_eval: tf.Tensor([[61]], shape=(1, 1), dtype=int32)  w\n",
      "(1, 1, 65)  (1, 65)  (1, 65) 1   input_eval: tf.Tensor([[1]], shape=(1, 1), dtype=int32)   \n",
      "(1, 1, 65)  (1, 65)  (1, 65) 39   input_eval: tf.Tensor([[39]], shape=(1, 1), dtype=int32)  a\n",
      "(1, 1, 65)  (1, 65)  (1, 65) 61   input_eval: tf.Tensor([[61]], shape=(1, 1), dtype=int32)  w\n",
      "(1, 1, 65)  (1, 65)  (1, 65) 39   input_eval: tf.Tensor([[39]], shape=(1, 1), dtype=int32)  a\n",
      "(1, 1, 65)  (1, 65)  (1, 65) 63   input_eval: tf.Tensor([[63]], shape=(1, 1), dtype=int32)  y\n",
      "(1, 1, 65)  (1, 65)  (1, 65) 8   input_eval: tf.Tensor([[8]], shape=(1, 1), dtype=int32)  .\n",
      "(1, 1, 65)  (1, 65)  (1, 65) 0   input_eval: tf.Tensor([[0]], shape=(1, 1), dtype=int32)  \n",
      "\n",
      "(1, 1, 65)  (1, 65)  (1, 65) 0   input_eval: tf.Tensor([[0]], shape=(1, 1), dtype=int32)  \n",
      "\n",
      "(1, 1, 65)  (1, 65)  (1, 65) 28   input_eval: tf.Tensor([[28]], shape=(1, 1), dtype=int32)  P\n",
      "(1, 1, 65)  (1, 65)  (1, 65) 17   input_eval: tf.Tensor([[17]], shape=(1, 1), dtype=int32)  E\n",
      "(1, 1, 65)  (1, 65)  (1, 65) 32   input_eval: tf.Tensor([[32]], shape=(1, 1), dtype=int32)  T\n",
      "(1, 1, 65)  (1, 65)  (1, 65) 30   input_eval: tf.Tensor([[30]], shape=(1, 1), dtype=int32)  R\n",
      "(1, 1, 65)  (1, 65)  (1, 65) 33   input_eval: tf.Tensor([[33]], shape=(1, 1), dtype=int32)  U\n",
      "(1, 1, 65)  (1, 65)  (1, 65) 15   input_eval: tf.Tensor([[15]], shape=(1, 1), dtype=int32)  C\n",
      "(1, 1, 65)  (1, 65)  (1, 65) 20   input_eval: tf.Tensor([[20]], shape=(1, 1), dtype=int32)  H\n",
      "(1, 1, 65)  (1, 65)  (1, 65) 21   input_eval: tf.Tensor([[21]], shape=(1, 1), dtype=int32)  I\n",
      "(1, 1, 65)  (1, 65)  (1, 65) 27   input_eval: tf.Tensor([[27]], shape=(1, 1), dtype=int32)  O\n",
      "(1, 1, 65)  (1, 65)  (1, 65) 10   input_eval: tf.Tensor([[10]], shape=(1, 1), dtype=int32)  :\n",
      "(1, 1, 65)  (1, 65)  (1, 65) 0   input_eval: tf.Tensor([[0]], shape=(1, 1), dtype=int32)  \n",
      "\n",
      "(1, 1, 65)  (1, 65)  (1, 65) 20   input_eval: tf.Tensor([[20]], shape=(1, 1), dtype=int32)  H\n",
      "(1, 1, 65)  (1, 65)  (1, 65) 53   input_eval: tf.Tensor([[53]], shape=(1, 1), dtype=int32)  o\n",
      "(1, 1, 65)  (1, 65)  (1, 65) 61   input_eval: tf.Tensor([[61]], shape=(1, 1), dtype=int32)  w\n",
      "(1, 1, 65)  (1, 65)  (1, 65) 1   input_eval: tf.Tensor([[1]], shape=(1, 1), dtype=int32)   \n",
      "(1, 1, 65)  (1, 65)  (1, 65) 44   input_eval: tf.Tensor([[44]], shape=(1, 1), dtype=int32)  f\n",
      "(1, 1, 65)  (1, 65)  (1, 65) 39   input_eval: tf.Tensor([[39]], shape=(1, 1), dtype=int32)  a\n",
      "(1, 1, 65)  (1, 65)  (1, 65) 56   input_eval: tf.Tensor([[56]], shape=(1, 1), dtype=int32)  r\n",
      "(1, 1, 65)  (1, 65)  (1, 65) 43   input_eval: tf.Tensor([[43]], shape=(1, 1), dtype=int32)  e\n",
      "(1, 1, 65)  (1, 65)  (1, 65) 57   input_eval: tf.Tensor([[57]], shape=(1, 1), dtype=int32)  s\n",
      "(1, 1, 65)  (1, 65)  (1, 65) 1   input_eval: tf.Tensor([[1]], shape=(1, 1), dtype=int32)   \n",
      "(1, 1, 65)  (1, 65)  (1, 65) 51   input_eval: tf.Tensor([[51]], shape=(1, 1), dtype=int32)  m\n",
      "(1, 1, 65)  (1, 65)  (1, 65) 63   input_eval: tf.Tensor([[63]], shape=(1, 1), dtype=int32)  y\n",
      "(1, 1, 65)  (1, 65)  (1, 65) 1   input_eval: tf.Tensor([[1]], shape=(1, 1), dtype=int32)   \n",
      "(1, 1, 65)  (1, 65)  (1, 65) 42   input_eval: tf.Tensor([[42]], shape=(1, 1), dtype=int32)  d\n",
      "(1, 1, 65)  (1, 65)  (1, 65) 39   input_eval: tf.Tensor([[39]], shape=(1, 1), dtype=int32)  a\n",
      "(1, 1, 65)  (1, 65)  (1, 65) 59   input_eval: tf.Tensor([[59]], shape=(1, 1), dtype=int32)  u\n",
      "(1, 1, 65)  (1, 65)  (1, 65) 45   input_eval: tf.Tensor([[45]], shape=(1, 1), dtype=int32)  g\n",
      "(1, 1, 65)  (1, 65)  (1, 65) 46   input_eval: tf.Tensor([[46]], shape=(1, 1), dtype=int32)  h\n",
      "(1, 1, 65)  (1, 65)  (1, 65) 58   input_eval: tf.Tensor([[58]], shape=(1, 1), dtype=int32)  t\n",
      "(1, 1, 65)  (1, 65)  (1, 65) 43   input_eval: tf.Tensor([[43]], shape=(1, 1), dtype=int32)  e\n",
      "(1, 1, 65)  (1, 65)  (1, 65) 56   input_eval: tf.Tensor([[56]], shape=(1, 1), dtype=int32)  r\n",
      "(1, 1, 65)  (1, 65)  (1, 65) 1   input_eval: tf.Tensor([[1]], shape=(1, 1), dtype=int32)   \n",
      "(1, 1, 65)  (1, 65)  (1, 65) 61   input_eval: tf.Tensor([[61]], shape=(1, 1), dtype=int32)  w\n",
      "(1, 1, 65)  (1, 65)  (1, 65) 47   input_eval: tf.Tensor([[47]], shape=(1, 1), dtype=int32)  i\n",
      "(1, 1, 65)  (1, 65)  (1, 65) 58   input_eval: tf.Tensor([[58]], shape=(1, 1), dtype=int32)  t\n",
      "(1, 1, 65)  (1, 65)  (1, 65) 46   input_eval: tf.Tensor([[46]], shape=(1, 1), dtype=int32)  h\n",
      "(1, 1, 65)  (1, 65)  (1, 65) 1   input_eval: tf.Tensor([[1]], shape=(1, 1), dtype=int32)   \n",
      "(1, 1, 65)  (1, 65)  (1, 65) 51   input_eval: tf.Tensor([[51]], shape=(1, 1), dtype=int32)  m\n",
      "(1, 1, 65)  (1, 65)  (1, 65) 43   input_eval: tf.Tensor([[43]], shape=(1, 1), dtype=int32)  e\n",
      "(1, 1, 65)  (1, 65)  (1, 65) 6   input_eval: tf.Tensor([[6]], shape=(1, 1), dtype=int32)  ,\n",
      "(1, 1, 65)  (1, 65)  (1, 65) 1   input_eval: tf.Tensor([[1]], shape=(1, 1), dtype=int32)   \n",
      "(1, 1, 65)  (1, 65)  (1, 65) 52   input_eval: tf.Tensor([[52]], shape=(1, 1), dtype=int32)  n\n",
      "(1, 1, 65)  (1, 65)  (1, 65) 53   input_eval: tf.Tensor([[53]], shape=(1, 1), dtype=int32)  o\n",
      "(1, 1, 65)  (1, 65)  (1, 65) 40   input_eval: tf.Tensor([[40]], shape=(1, 1), dtype=int32)  b\n",
      "(1, 1, 65)  (1, 65)  (1, 65) 50   input_eval: tf.Tensor([[50]], shape=(1, 1), dtype=int32)  l\n",
      "(1, 1, 65)  (1, 65)  (1, 65) 43   input_eval: tf.Tensor([[43]], shape=(1, 1), dtype=int32)  e\n",
      "(1, 1, 65)  (1, 65)  (1, 65) 1   input_eval: tf.Tensor([[1]], shape=(1, 1), dtype=int32)   \n",
      "(1, 1, 65)  (1, 65)  (1, 65) 50   input_eval: tf.Tensor([[50]], shape=(1, 1), dtype=int32)  l\n",
      "(1, 1, 65)  (1, 65)  (1, 65) 53   input_eval: tf.Tensor([[53]], shape=(1, 1), dtype=int32)  o\n"
     ]
    },
    {
     "name": "stdout",
     "output_type": "stream",
     "text": [
      "(1, 1, 65)  (1, 65)  (1, 65) 56   input_eval: tf.Tensor([[56]], shape=(1, 1), dtype=int32)  r\n",
      "(1, 1, 65)  (1, 65)  (1, 65) 42   input_eval: tf.Tensor([[42]], shape=(1, 1), dtype=int32)  d\n",
      "(1, 1, 65)  (1, 65)  (1, 65) 12   input_eval: tf.Tensor([[12]], shape=(1, 1), dtype=int32)  ?\n",
      "(1, 1, 65)  (1, 65)  (1, 65) 0   input_eval: tf.Tensor([[0]], shape=(1, 1), dtype=int32)  \n",
      "\n",
      "(1, 1, 65)  (1, 65)  (1, 65) 0   input_eval: tf.Tensor([[0]], shape=(1, 1), dtype=int32)  \n",
      "\n",
      "(1, 1, 65)  (1, 65)  (1, 65) 28   input_eval: tf.Tensor([[28]], shape=(1, 1), dtype=int32)  P\n",
      "(1, 1, 65)  (1, 65)  (1, 65) 30   input_eval: tf.Tensor([[30]], shape=(1, 1), dtype=int32)  R\n",
      "(1, 1, 65)  (1, 65)  (1, 65) 21   input_eval: tf.Tensor([[21]], shape=(1, 1), dtype=int32)  I\n",
      "(1, 1, 65)  (1, 65)  (1, 65) 37   input_eval: tf.Tensor([[37]], shape=(1, 1), dtype=int32)  Y\n",
      "(1, 1, 65)  (1, 65)  (1, 65) 10   input_eval: tf.Tensor([[10]], shape=(1, 1), dtype=int32)  :\n",
      "(1, 1, 65)  (1, 65)  (1, 65) 0   input_eval: tf.Tensor([[0]], shape=(1, 1), dtype=int32)  \n",
      "\n",
      "(1, 1, 65)  (1, 65)  (1, 65) 35   input_eval: tf.Tensor([[35]], shape=(1, 1), dtype=int32)  W\n",
      "(1, 1, 65)  (1, 65)  (1, 65) 46   input_eval: tf.Tensor([[46]], shape=(1, 1), dtype=int32)  h\n",
      "(1, 1, 65)  (1, 65)  (1, 65) 63   input_eval: tf.Tensor([[63]], shape=(1, 1), dtype=int32)  y\n",
      "(1, 1, 65)  (1, 65)  (1, 65) 6   input_eval: tf.Tensor([[6]], shape=(1, 1), dtype=int32)  ,\n",
      "(1, 1, 65)  (1, 65)  (1, 65) 1   input_eval: tf.Tensor([[1]], shape=(1, 1), dtype=int32)   \n",
      "(1, 1, 65)  (1, 65)  (1, 65) 57   input_eval: tf.Tensor([[57]], shape=(1, 1), dtype=int32)  s\n",
      "(1, 1, 65)  (1, 65)  (1, 65) 47   input_eval: tf.Tensor([[47]], shape=(1, 1), dtype=int32)  i\n",
      "(1, 1, 65)  (1, 65)  (1, 65) 56   input_eval: tf.Tensor([[56]], shape=(1, 1), dtype=int32)  r\n",
      "(1, 1, 65)  (1, 65)  (1, 65) 10   input_eval: tf.Tensor([[10]], shape=(1, 1), dtype=int32)  :\n",
      "(1, 1, 65)  (1, 65)  (1, 65) 1   input_eval: tf.Tensor([[1]], shape=(1, 1), dtype=int32)   \n",
      "(1, 1, 65)  (1, 65)  (1, 65) 61   input_eval: tf.Tensor([[61]], shape=(1, 1), dtype=int32)  w\n",
      "(1, 1, 65)  (1, 65)  (1, 65) 53   input_eval: tf.Tensor([[53]], shape=(1, 1), dtype=int32)  o\n",
      "(1, 1, 65)  (1, 65)  (1, 65) 2   input_eval: tf.Tensor([[2]], shape=(1, 1), dtype=int32)  !\n",
      "(1, 1, 65)  (1, 65)  (1, 65) 1   input_eval: tf.Tensor([[1]], shape=(1, 1), dtype=int32)   \n",
      "(1, 1, 65)  (1, 65)  (1, 65) 52   input_eval: tf.Tensor([[52]], shape=(1, 1), dtype=int32)  n\n",
      "(1, 1, 65)  (1, 65)  (1, 65) 53   input_eval: tf.Tensor([[53]], shape=(1, 1), dtype=int32)  o\n",
      "(1, 1, 65)  (1, 65)  (1, 65) 61   input_eval: tf.Tensor([[61]], shape=(1, 1), dtype=int32)  w\n",
      "(1, 1, 65)  (1, 65)  (1, 65) 1   input_eval: tf.Tensor([[1]], shape=(1, 1), dtype=int32)   \n",
      "(1, 1, 65)  (1, 65)  (1, 65) 44   input_eval: tf.Tensor([[44]], shape=(1, 1), dtype=int32)  f\n",
      "(1, 1, 65)  (1, 65)  (1, 65) 53   input_eval: tf.Tensor([[53]], shape=(1, 1), dtype=int32)  o\n",
      "(1, 1, 65)  (1, 65)  (1, 65) 56   input_eval: tf.Tensor([[56]], shape=(1, 1), dtype=int32)  r\n",
      "(1, 1, 65)  (1, 65)  (1, 65) 1   input_eval: tf.Tensor([[1]], shape=(1, 1), dtype=int32)   \n",
      "(1, 1, 65)  (1, 65)  (1, 65) 53   input_eval: tf.Tensor([[53]], shape=(1, 1), dtype=int32)  o\n",
      "(1, 1, 65)  (1, 65)  (1, 65) 59   input_eval: tf.Tensor([[59]], shape=(1, 1), dtype=int32)  u\n",
      "(1, 1, 65)  (1, 65)  (1, 65) 56   input_eval: tf.Tensor([[56]], shape=(1, 1), dtype=int32)  r\n",
      "(1, 1, 65)  (1, 65)  (1, 65) 1   input_eval: tf.Tensor([[1]], shape=(1, 1), dtype=int32)   \n",
      "(1, 1, 65)  (1, 65)  (1, 65) 41   input_eval: tf.Tensor([[41]], shape=(1, 1), dtype=int32)  c\n",
      "(1, 1, 65)  (1, 65)  (1, 65) 53   input_eval: tf.Tensor([[53]], shape=(1, 1), dtype=int32)  o\n",
      "(1, 1, 65)  (1, 65)  (1, 65) 51   input_eval: tf.Tensor([[51]], shape=(1, 1), dtype=int32)  m\n",
      "(1, 1, 65)  (1, 65)  (1, 65) 51   input_eval: tf.Tensor([[51]], shape=(1, 1), dtype=int32)  m\n",
      "(1, 1, 65)  (1, 65)  (1, 65) 47   input_eval: tf.Tensor([[47]], shape=(1, 1), dtype=int32)  i\n",
      "(1, 1, 65)  (1, 65)  (1, 65) 52   input_eval: tf.Tensor([[52]], shape=(1, 1), dtype=int32)  n\n",
      "(1, 1, 65)  (1, 65)  (1, 65) 57   input_eval: tf.Tensor([[57]], shape=(1, 1), dtype=int32)  s\n",
      "(1, 1, 65)  (1, 65)  (1, 65) 58   input_eval: tf.Tensor([[58]], shape=(1, 1), dtype=int32)  t\n",
      "(1, 1, 65)  (1, 65)  (1, 65) 39   input_eval: tf.Tensor([[39]], shape=(1, 1), dtype=int32)  a\n",
      "(1, 1, 65)  (1, 65)  (1, 65) 52   input_eval: tf.Tensor([[52]], shape=(1, 1), dtype=int32)  n\n",
      "(1, 1, 65)  (1, 65)  (1, 65) 58   input_eval: tf.Tensor([[58]], shape=(1, 1), dtype=int32)  t\n",
      "(1, 1, 65)  (1, 65)  (1, 65) 43   input_eval: tf.Tensor([[43]], shape=(1, 1), dtype=int32)  e\n",
      "(1, 1, 65)  (1, 65)  (1, 65) 52   input_eval: tf.Tensor([[52]], shape=(1, 1), dtype=int32)  n\n",
      "(1, 1, 65)  (1, 65)  (1, 65) 58   input_eval: tf.Tensor([[58]], shape=(1, 1), dtype=int32)  t\n",
      "(1, 1, 65)  (1, 65)  (1, 65) 47   input_eval: tf.Tensor([[47]], shape=(1, 1), dtype=int32)  i\n",
      "(1, 1, 65)  (1, 65)  (1, 65) 41   input_eval: tf.Tensor([[41]], shape=(1, 1), dtype=int32)  c\n",
      "(1, 1, 65)  (1, 65)  (1, 65) 43   input_eval: tf.Tensor([[43]], shape=(1, 1), dtype=int32)  e\n",
      "(1, 1, 65)  (1, 65)  (1, 65) 10   input_eval: tf.Tensor([[10]], shape=(1, 1), dtype=int32)  :\n",
      "(1, 1, 65)  (1, 65)  (1, 65) 0   input_eval: tf.Tensor([[0]], shape=(1, 1), dtype=int32)  \n",
      "\n",
      "(1, 1, 65)  (1, 65)  (1, 65) 21   input_eval: tf.Tensor([[21]], shape=(1, 1), dtype=int32)  I\n",
      "(1, 1, 65)  (1, 65)  (1, 65) 1   input_eval: tf.Tensor([[1]], shape=(1, 1), dtype=int32)   \n",
      "(1, 1, 65)  (1, 65)  (1, 65) 58   input_eval: tf.Tensor([[58]], shape=(1, 1), dtype=int32)  t\n",
      "(1, 1, 65)  (1, 65)  (1, 65) 46   input_eval: tf.Tensor([[46]], shape=(1, 1), dtype=int32)  h\n",
      "(1, 1, 65)  (1, 65)  (1, 65) 47   input_eval: tf.Tensor([[47]], shape=(1, 1), dtype=int32)  i\n",
      "(1, 1, 65)  (1, 65)  (1, 65) 52   input_eval: tf.Tensor([[52]], shape=(1, 1), dtype=int32)  n\n",
      "(1, 1, 65)  (1, 65)  (1, 65) 49   input_eval: tf.Tensor([[49]], shape=(1, 1), dtype=int32)  k\n",
      "(1, 1, 65)  (1, 65)  (1, 65) 6   input_eval: tf.Tensor([[6]], shape=(1, 1), dtype=int32)  ,\n",
      "(1, 1, 65)  (1, 65)  (1, 65) 1   input_eval: tf.Tensor([[1]], shape=(1, 1), dtype=int32)   \n",
      "(1, 1, 65)  (1, 65)  (1, 65) 39   input_eval: tf.Tensor([[39]], shape=(1, 1), dtype=int32)  a\n",
      "(1, 1, 65)  (1, 65)  (1, 65) 57   input_eval: tf.Tensor([[57]], shape=(1, 1), dtype=int32)  s\n",
      "(1, 1, 65)  (1, 65)  (1, 65) 46   input_eval: tf.Tensor([[46]], shape=(1, 1), dtype=int32)  h\n",
      "(1, 1, 65)  (1, 65)  (1, 65) 39   input_eval: tf.Tensor([[39]], shape=(1, 1), dtype=int32)  a\n",
      "(1, 1, 65)  (1, 65)  (1, 65) 51   input_eval: tf.Tensor([[51]], shape=(1, 1), dtype=int32)  m\n",
      "(1, 1, 65)  (1, 65)  (1, 65) 39   input_eval: tf.Tensor([[39]], shape=(1, 1), dtype=int32)  a\n",
      "(1, 1, 65)  (1, 65)  (1, 65) 52   input_eval: tf.Tensor([[52]], shape=(1, 1), dtype=int32)  n\n",
      "(1, 1, 65)  (1, 65)  (1, 65) 2   input_eval: tf.Tensor([[2]], shape=(1, 1), dtype=int32)  !\n",
      "(1, 1, 65)  (1, 65)  (1, 65) 0   input_eval: tf.Tensor([[0]], shape=(1, 1), dtype=int32)  \n",
      "\n",
      "(1, 1, 65)  (1, 65)  (1, 65) 0   input_eval: tf.Tensor([[0]], shape=(1, 1), dtype=int32)  \n",
      "\n",
      "(1, 1, 65)  (1, 65)  (1, 65) 28   input_eval: tf.Tensor([[28]], shape=(1, 1), dtype=int32)  P\n",
      "(1, 1, 65)  (1, 65)  (1, 65) 39   input_eval: tf.Tensor([[39]], shape=(1, 1), dtype=int32)  a\n",
      "(1, 1, 65)  (1, 65)  (1, 65) 45   input_eval: tf.Tensor([[45]], shape=(1, 1), dtype=int32)  g\n",
      "(1, 1, 65)  (1, 65)  (1, 65) 43   input_eval: tf.Tensor([[43]], shape=(1, 1), dtype=int32)  e\n",
      "(1, 1, 65)  (1, 65)  (1, 65) 10   input_eval: tf.Tensor([[10]], shape=(1, 1), dtype=int32)  :\n",
      "(1, 1, 65)  (1, 65)  (1, 65) 0   input_eval: tf.Tensor([[0]], shape=(1, 1), dtype=int32)  \n",
      "\n",
      "(1, 1, 65)  (1, 65)  (1, 65) 20   input_eval: tf.Tensor([[20]], shape=(1, 1), dtype=int32)  H\n",
      "(1, 1, 65)  (1, 65)  (1, 65) 47   input_eval: tf.Tensor([[47]], shape=(1, 1), dtype=int32)  i\n",
      "(1, 1, 65)  (1, 65)  (1, 65) 57   input_eval: tf.Tensor([[57]], shape=(1, 1), dtype=int32)  s\n",
      "(1, 1, 65)  (1, 65)  (1, 65) 1   input_eval: tf.Tensor([[1]], shape=(1, 1), dtype=int32)   \n",
      "(1, 1, 65)  (1, 65)  (1, 65) 52   input_eval: tf.Tensor([[52]], shape=(1, 1), dtype=int32)  n\n",
      "(1, 1, 65)  (1, 65)  (1, 65) 39   input_eval: tf.Tensor([[39]], shape=(1, 1), dtype=int32)  a\n",
      "(1, 1, 65)  (1, 65)  (1, 65) 51   input_eval: tf.Tensor([[51]], shape=(1, 1), dtype=int32)  m\n",
      "(1, 1, 65)  (1, 65)  (1, 65) 43   input_eval: tf.Tensor([[43]], shape=(1, 1), dtype=int32)  e\n",
      "(1, 1, 65)  (1, 65)  (1, 65) 11   input_eval: tf.Tensor([[11]], shape=(1, 1), dtype=int32)  ;\n",
      "(1, 1, 65)  (1, 65)  (1, 65) 1   input_eval: tf.Tensor([[1]], shape=(1, 1), dtype=int32)   \n",
      "(1, 1, 65)  (1, 65)  (1, 65) 50   input_eval: tf.Tensor([[50]], shape=(1, 1), dtype=int32)  l\n",
      "(1, 1, 65)  (1, 65)  (1, 65) 43   input_eval: tf.Tensor([[43]], shape=(1, 1), dtype=int32)  e\n",
      "(1, 1, 65)  (1, 65)  (1, 65) 39   input_eval: tf.Tensor([[39]], shape=(1, 1), dtype=int32)  a\n",
      "(1, 1, 65)  (1, 65)  (1, 65) 60   input_eval: tf.Tensor([[60]], shape=(1, 1), dtype=int32)  v\n",
      "(1, 1, 65)  (1, 65)  (1, 65) 43   input_eval: tf.Tensor([[43]], shape=(1, 1), dtype=int32)  e\n",
      "(1, 1, 65)  (1, 65)  (1, 65) 1   input_eval: tf.Tensor([[1]], shape=(1, 1), dtype=int32)   \n",
      "(1, 1, 65)  (1, 65)  (1, 65) 53   input_eval: tf.Tensor([[53]], shape=(1, 1), dtype=int32)  o\n",
      "(1, 1, 65)  (1, 65)  (1, 65) 59   input_eval: tf.Tensor([[59]], shape=(1, 1), dtype=int32)  u\n",
      "(1, 1, 65)  (1, 65)  (1, 65) 58   input_eval: tf.Tensor([[58]], shape=(1, 1), dtype=int32)  t\n",
      "(1, 1, 65)  (1, 65)  (1, 65) 61   input_eval: tf.Tensor([[61]], shape=(1, 1), dtype=int32)  w\n",
      "(1, 1, 65)  (1, 65)  (1, 65) 39   input_eval: tf.Tensor([[39]], shape=(1, 1), dtype=int32)  a\n",
      "(1, 1, 65)  (1, 65)  (1, 65) 62   input_eval: tf.Tensor([[62]], shape=(1, 1), dtype=int32)  x\n",
      "(1, 1, 65)  (1, 65)  (1, 65) 42   input_eval: tf.Tensor([[42]], shape=(1, 1), dtype=int32)  d\n",
      "(1, 1, 65)  (1, 65)  (1, 65) 6   input_eval: tf.Tensor([[6]], shape=(1, 1), dtype=int32)  ,\n",
      "(1, 1, 65)  (1, 65)  (1, 65) 1   input_eval: tf.Tensor([[1]], shape=(1, 1), dtype=int32)   \n"
     ]
    },
    {
     "name": "stdout",
     "output_type": "stream",
     "text": [
      "(1, 1, 65)  (1, 65)  (1, 65) 21   input_eval: tf.Tensor([[21]], shape=(1, 1), dtype=int32)  I\n",
      "(1, 1, 65)  (1, 65)  (1, 65) 5   input_eval: tf.Tensor([[5]], shape=(1, 1), dtype=int32)  '\n",
      "(1, 1, 65)  (1, 65)  (1, 65) 50   input_eval: tf.Tensor([[50]], shape=(1, 1), dtype=int32)  l\n",
      "(1, 1, 65)  (1, 65)  (1, 65) 50   input_eval: tf.Tensor([[50]], shape=(1, 1), dtype=int32)  l\n",
      "(1, 1, 65)  (1, 65)  (1, 65) 1   input_eval: tf.Tensor([[1]], shape=(1, 1), dtype=int32)   \n",
      "(1, 1, 65)  (1, 65)  (1, 65) 44   input_eval: tf.Tensor([[44]], shape=(1, 1), dtype=int32)  f\n",
      "(1, 1, 65)  (1, 65)  (1, 65) 53   input_eval: tf.Tensor([[53]], shape=(1, 1), dtype=int32)  o\n",
      "(1, 1, 65)  (1, 65)  (1, 65) 50   input_eval: tf.Tensor([[50]], shape=(1, 1), dtype=int32)  l\n",
      "(1, 1, 65)  (1, 65)  (1, 65) 50   input_eval: tf.Tensor([[50]], shape=(1, 1), dtype=int32)  l\n",
      "(1, 1, 65)  (1, 65)  (1, 65) 53   input_eval: tf.Tensor([[53]], shape=(1, 1), dtype=int32)  o\n",
      "(1, 1, 65)  (1, 65)  (1, 65) 61   input_eval: tf.Tensor([[61]], shape=(1, 1), dtype=int32)  w\n",
      "(1, 1, 65)  (1, 65)  (1, 65) 8   input_eval: tf.Tensor([[8]], shape=(1, 1), dtype=int32)  .\n",
      "(1, 1, 65)  (1, 65)  (1, 65) 0   input_eval: tf.Tensor([[0]], shape=(1, 1), dtype=int32)  \n",
      "\n",
      "(1, 1, 65)  (1, 65)  (1, 65) 0   input_eval: tf.Tensor([[0]], shape=(1, 1), dtype=int32)  \n",
      "\n",
      "(1, 1, 65)  (1, 65)  (1, 65) 28   input_eval: tf.Tensor([[28]], shape=(1, 1), dtype=int32)  P\n",
      "(1, 1, 65)  (1, 65)  (1, 65) 30   input_eval: tf.Tensor([[30]], shape=(1, 1), dtype=int32)  R\n",
      "(1, 1, 65)  (1, 65)  (1, 65) 27   input_eval: tf.Tensor([[27]], shape=(1, 1), dtype=int32)  O\n",
      "(1, 1, 65)  (1, 65)  (1, 65) 31   input_eval: tf.Tensor([[31]], shape=(1, 1), dtype=int32)  S\n",
      "(1, 1, 65)  (1, 65)  (1, 65) 28   input_eval: tf.Tensor([[28]], shape=(1, 1), dtype=int32)  P\n",
      "(1, 1, 65)  (1, 65)  (1, 65) 17   input_eval: tf.Tensor([[17]], shape=(1, 1), dtype=int32)  E\n",
      "(1, 1, 65)  (1, 65)  (1, 65) 30   input_eval: tf.Tensor([[30]], shape=(1, 1), dtype=int32)  R\n",
      "(1, 1, 65)  (1, 65)  (1, 65) 27   input_eval: tf.Tensor([[27]], shape=(1, 1), dtype=int32)  O\n",
      "(1, 1, 65)  (1, 65)  (1, 65) 10   input_eval: tf.Tensor([[10]], shape=(1, 1), dtype=int32)  :\n",
      "(1, 1, 65)  (1, 65)  (1, 65) 0   input_eval: tf.Tensor([[0]], shape=(1, 1), dtype=int32)  \n",
      "\n",
      "(1, 1, 65)  (1, 65)  (1, 65) 13   input_eval: tf.Tensor([[13]], shape=(1, 1), dtype=int32)  A\n",
      "(1, 1, 65)  (1, 65)  (1, 65) 42   input_eval: tf.Tensor([[42]], shape=(1, 1), dtype=int32)  d\n",
      "(1, 1, 65)  (1, 65)  (1, 65) 53   input_eval: tf.Tensor([[53]], shape=(1, 1), dtype=int32)  o\n",
      "(1, 1, 65)  (1, 65)  (1, 65) 54   input_eval: tf.Tensor([[54]], shape=(1, 1), dtype=int32)  p\n",
      "(1, 1, 65)  (1, 65)  (1, 65) 58   input_eval: tf.Tensor([[58]], shape=(1, 1), dtype=int32)  t\n",
      "(1, 1, 65)  (1, 65)  (1, 65) 43   input_eval: tf.Tensor([[43]], shape=(1, 1), dtype=int32)  e\n",
      "(1, 1, 65)  (1, 65)  (1, 65) 57   input_eval: tf.Tensor([[57]], shape=(1, 1), dtype=int32)  s\n",
      "(1, 1, 65)  (1, 65)  (1, 65) 47   input_eval: tf.Tensor([[47]], shape=(1, 1), dtype=int32)  i\n",
      "(1, 1, 65)  (1, 65)  (1, 65) 53   input_eval: tf.Tensor([[53]], shape=(1, 1), dtype=int32)  o\n",
      "(1, 1, 65)  (1, 65)  (1, 65) 52   input_eval: tf.Tensor([[52]], shape=(1, 1), dtype=int32)  n\n",
      "(1, 1, 65)  (1, 65)  (1, 65) 6   input_eval: tf.Tensor([[6]], shape=(1, 1), dtype=int32)  ,\n",
      "(1, 1, 65)  (1, 65)  (1, 65) 1   input_eval: tf.Tensor([[1]], shape=(1, 1), dtype=int32)   \n",
      "(1, 1, 65)  (1, 65)  (1, 65) 51   input_eval: tf.Tensor([[51]], shape=(1, 1), dtype=int32)  m\n",
      "(1, 1, 65)  (1, 65)  (1, 65) 39   input_eval: tf.Tensor([[39]], shape=(1, 1), dtype=int32)  a\n",
      "(1, 1, 65)  (1, 65)  (1, 65) 56   input_eval: tf.Tensor([[56]], shape=(1, 1), dtype=int32)  r\n",
      "(1, 1, 65)  (1, 65)  (1, 65) 49   input_eval: tf.Tensor([[49]], shape=(1, 1), dtype=int32)  k\n",
      "(1, 1, 65)  (1, 65)  (1, 65) 11   input_eval: tf.Tensor([[11]], shape=(1, 1), dtype=int32)  ;\n",
      "(1, 1, 65)  (1, 65)  (1, 65) 1   input_eval: tf.Tensor([[1]], shape=(1, 1), dtype=int32)   \n",
      "(1, 1, 65)  (1, 65)  (1, 65) 53   input_eval: tf.Tensor([[53]], shape=(1, 1), dtype=int32)  o\n",
      "(1, 1, 65)  (1, 65)  (1, 65) 52   input_eval: tf.Tensor([[52]], shape=(1, 1), dtype=int32)  n\n",
      "(1, 1, 65)  (1, 65)  (1, 65) 43   input_eval: tf.Tensor([[43]], shape=(1, 1), dtype=int32)  e\n",
      "(1, 1, 65)  (1, 65)  (1, 65) 1   input_eval: tf.Tensor([[1]], shape=(1, 1), dtype=int32)   \n",
      "(1, 1, 65)  (1, 65)  (1, 65) 60   input_eval: tf.Tensor([[60]], shape=(1, 1), dtype=int32)  v\n",
      "(1, 1, 65)  (1, 65)  (1, 65) 47   input_eval: tf.Tensor([[47]], shape=(1, 1), dtype=int32)  i\n",
      "(1, 1, 65)  (1, 65)  (1, 65) 56   input_eval: tf.Tensor([[56]], shape=(1, 1), dtype=int32)  r\n",
      "(1, 1, 65)  (1, 65)  (1, 65) 58   input_eval: tf.Tensor([[58]], shape=(1, 1), dtype=int32)  t\n",
      "(1, 1, 65)  (1, 65)  (1, 65) 59   input_eval: tf.Tensor([[59]], shape=(1, 1), dtype=int32)  u\n",
      "(1, 1, 65)  (1, 65)  (1, 65) 53   input_eval: tf.Tensor([[53]], shape=(1, 1), dtype=int32)  o\n",
      "(1, 1, 65)  (1, 65)  (1, 65) 59   input_eval: tf.Tensor([[59]], shape=(1, 1), dtype=int32)  u\n",
      "(1, 1, 65)  (1, 65)  (1, 65) 57   input_eval: tf.Tensor([[57]], shape=(1, 1), dtype=int32)  s\n",
      "(1, 1, 65)  (1, 65)  (1, 65) 1   input_eval: tf.Tensor([[1]], shape=(1, 1), dtype=int32)   \n",
      "(1, 1, 65)  (1, 65)  (1, 65) 50   input_eval: tf.Tensor([[50]], shape=(1, 1), dtype=int32)  l\n",
      "(1, 1, 65)  (1, 65)  (1, 65) 53   input_eval: tf.Tensor([[53]], shape=(1, 1), dtype=int32)  o\n",
      "(1, 1, 65)  (1, 65)  (1, 65) 60   input_eval: tf.Tensor([[60]], shape=(1, 1), dtype=int32)  v\n",
      "(1, 1, 65)  (1, 65)  (1, 65) 43   input_eval: tf.Tensor([[43]], shape=(1, 1), dtype=int32)  e\n",
      "(1, 1, 65)  (1, 65)  (1, 65) 6   input_eval: tf.Tensor([[6]], shape=(1, 1), dtype=int32)  ,\n",
      "(1, 1, 65)  (1, 65)  (1, 65) 0   input_eval: tf.Tensor([[0]], shape=(1, 1), dtype=int32)  \n",
      "\n",
      "(1, 1, 65)  (1, 65)  (1, 65) 14   input_eval: tf.Tensor([[14]], shape=(1, 1), dtype=int32)  B\n",
      "(1, 1, 65)  (1, 65)  (1, 65) 59   input_eval: tf.Tensor([[59]], shape=(1, 1), dtype=int32)  u\n",
      "(1, 1, 65)  (1, 65)  (1, 65) 58   input_eval: tf.Tensor([[58]], shape=(1, 1), dtype=int32)  t\n",
      "(1, 1, 65)  (1, 65)  (1, 65) 1   input_eval: tf.Tensor([[1]], shape=(1, 1), dtype=int32)   \n",
      "(1, 1, 65)  (1, 65)  (1, 65) 42   input_eval: tf.Tensor([[42]], shape=(1, 1), dtype=int32)  d\n",
      "(1, 1, 65)  (1, 65)  (1, 65) 53   input_eval: tf.Tensor([[53]], shape=(1, 1), dtype=int32)  o\n",
      "(1, 1, 65)  (1, 65)  (1, 65) 1   input_eval: tf.Tensor([[1]], shape=(1, 1), dtype=int32)   \n",
      "(1, 1, 65)  (1, 65)  (1, 65) 52   input_eval: tf.Tensor([[52]], shape=(1, 1), dtype=int32)  n\n",
      "(1, 1, 65)  (1, 65)  (1, 65) 53   input_eval: tf.Tensor([[53]], shape=(1, 1), dtype=int32)  o\n",
      "(1, 1, 65)  (1, 65)  (1, 65) 58   input_eval: tf.Tensor([[58]], shape=(1, 1), dtype=int32)  t\n",
      "(1, 1, 65)  (1, 65)  (1, 65) 1   input_eval: tf.Tensor([[1]], shape=(1, 1), dtype=int32)   \n",
      "(1, 1, 65)  (1, 65)  (1, 65) 41   input_eval: tf.Tensor([[41]], shape=(1, 1), dtype=int32)  c\n",
      "(1, 1, 65)  (1, 65)  (1, 65) 53   input_eval: tf.Tensor([[53]], shape=(1, 1), dtype=int32)  o\n",
      "(1, 1, 65)  (1, 65)  (1, 65) 51   input_eval: tf.Tensor([[51]], shape=(1, 1), dtype=int32)  m\n",
      "(1, 1, 65)  (1, 65)  (1, 65) 43   input_eval: tf.Tensor([[43]], shape=(1, 1), dtype=int32)  e\n",
      "(1, 1, 65)  (1, 65)  (1, 65) 8   input_eval: tf.Tensor([[8]], shape=(1, 1), dtype=int32)  .\n",
      "(1, 1, 65)  (1, 65)  (1, 65) 0   input_eval: tf.Tensor([[0]], shape=(1, 1), dtype=int32)  \n",
      "\n",
      "(1, 1, 65)  (1, 65)  (1, 65) 0   input_eval: tf.Tensor([[0]], shape=(1, 1), dtype=int32)  \n",
      "\n",
      "(1, 1, 65)  (1, 65)  (1, 65) 14   input_eval: tf.Tensor([[14]], shape=(1, 1), dtype=int32)  B\n",
      "(1, 1, 65)  (1, 65)  (1, 65) 30   input_eval: tf.Tensor([[30]], shape=(1, 1), dtype=int32)  R\n",
      "(1, 1, 65)  (1, 65)  (1, 65) 33   input_eval: tf.Tensor([[33]], shape=(1, 1), dtype=int32)  U\n",
      "(1, 1, 65)  (1, 65)  (1, 65) 32   input_eval: tf.Tensor([[32]], shape=(1, 1), dtype=int32)  T\n",
      "(1, 1, 65)  (1, 65)  (1, 65) 33   input_eval: tf.Tensor([[33]], shape=(1, 1), dtype=int32)  U\n",
      "(1, 1, 65)  (1, 65)  (1, 65) 31   input_eval: tf.Tensor([[31]], shape=(1, 1), dtype=int32)  S\n",
      "(1, 1, 65)  (1, 65)  (1, 65) 10   input_eval: tf.Tensor([[10]], shape=(1, 1), dtype=int32)  :\n",
      "(1, 1, 65)  (1, 65)  (1, 65) 0   input_eval: tf.Tensor([[0]], shape=(1, 1), dtype=int32)  \n",
      "\n",
      "(1, 1, 65)  (1, 65)  (1, 65) 13   input_eval: tf.Tensor([[13]], shape=(1, 1), dtype=int32)  A\n",
      "(1, 1, 65)  (1, 65)  (1, 65) 52   input_eval: tf.Tensor([[52]], shape=(1, 1), dtype=int32)  n\n",
      "(1, 1, 65)  (1, 65)  (1, 65) 42   input_eval: tf.Tensor([[42]], shape=(1, 1), dtype=int32)  d\n",
      "(1, 1, 65)  (1, 65)  (1, 65) 1   input_eval: tf.Tensor([[1]], shape=(1, 1), dtype=int32)   \n",
      "(1, 1, 65)  (1, 65)  (1, 65) 58   input_eval: tf.Tensor([[58]], shape=(1, 1), dtype=int32)  t\n",
      "(1, 1, 65)  (1, 65)  (1, 65) 46   input_eval: tf.Tensor([[46]], shape=(1, 1), dtype=int32)  h\n",
      "(1, 1, 65)  (1, 65)  (1, 65) 39   input_eval: tf.Tensor([[39]], shape=(1, 1), dtype=int32)  a\n",
      "(1, 1, 65)  (1, 65)  (1, 65) 58   input_eval: tf.Tensor([[58]], shape=(1, 1), dtype=int32)  t\n",
      "(1, 1, 65)  (1, 65)  (1, 65) 1   input_eval: tf.Tensor([[1]], shape=(1, 1), dtype=int32)   \n",
      "(1, 1, 65)  (1, 65)  (1, 65) 21   input_eval: tf.Tensor([[21]], shape=(1, 1), dtype=int32)  I\n",
      "(1, 1, 65)  (1, 65)  (1, 65) 1   input_eval: tf.Tensor([[1]], shape=(1, 1), dtype=int32)   \n"
     ]
    },
    {
     "name": "stdout",
     "output_type": "stream",
     "text": [
      "(1, 1, 65)  (1, 65)  (1, 65) 39   input_eval: tf.Tensor([[39]], shape=(1, 1), dtype=int32)  a\n",
      "(1, 1, 65)  (1, 65)  (1, 65) 51   input_eval: tf.Tensor([[51]], shape=(1, 1), dtype=int32)  m\n",
      "(1, 1, 65)  (1, 65)  (1, 65) 1   input_eval: tf.Tensor([[1]], shape=(1, 1), dtype=int32)   \n",
      "(1, 1, 65)  (1, 65)  (1, 65) 39   input_eval: tf.Tensor([[39]], shape=(1, 1), dtype=int32)  a\n",
      "(1, 1, 65)  (1, 65)  (1, 65) 1   input_eval: tf.Tensor([[1]], shape=(1, 1), dtype=int32)   \n",
      "(1, 1, 65)  (1, 65)  (1, 65) 45   input_eval: tf.Tensor([[45]], shape=(1, 1), dtype=int32)  g\n",
      "(1, 1, 65)  (1, 65)  (1, 65) 43   input_eval: tf.Tensor([[43]], shape=(1, 1), dtype=int32)  e\n",
      "(1, 1, 65)  (1, 65)  (1, 65) 52   input_eval: tf.Tensor([[52]], shape=(1, 1), dtype=int32)  n\n",
      "(1, 1, 65)  (1, 65)  (1, 65) 58   input_eval: tf.Tensor([[58]], shape=(1, 1), dtype=int32)  t\n",
      "(1, 1, 65)  (1, 65)  (1, 65) 50   input_eval: tf.Tensor([[50]], shape=(1, 1), dtype=int32)  l\n",
      "(1, 1, 65)  (1, 65)  (1, 65) 43   input_eval: tf.Tensor([[43]], shape=(1, 1), dtype=int32)  e\n",
      "(1, 1, 65)  (1, 65)  (1, 65) 51   input_eval: tf.Tensor([[51]], shape=(1, 1), dtype=int32)  m\n",
      "(1, 1, 65)  (1, 65)  (1, 65) 39   input_eval: tf.Tensor([[39]], shape=(1, 1), dtype=int32)  a\n",
      "(1, 1, 65)  (1, 65)  (1, 65) 52   input_eval: tf.Tensor([[52]], shape=(1, 1), dtype=int32)  n\n",
      "(1, 1, 65)  (1, 65)  (1, 65) 6   input_eval: tf.Tensor([[6]], shape=(1, 1), dtype=int32)  ,\n",
      "(1, 1, 65)  (1, 65)  (1, 65) 0   input_eval: tf.Tensor([[0]], shape=(1, 1), dtype=int32)  \n",
      "\n",
      "(1, 1, 65)  (1, 65)  (1, 65) 32   input_eval: tf.Tensor([[32]], shape=(1, 1), dtype=int32)  T\n",
      "(1, 1, 65)  (1, 65)  (1, 65) 53   input_eval: tf.Tensor([[53]], shape=(1, 1), dtype=int32)  o\n",
      "(1, 1, 65)  (1, 65)  (1, 65) 1   input_eval: tf.Tensor([[1]], shape=(1, 1), dtype=int32)   \n",
      "(1, 1, 65)  (1, 65)  (1, 65) 44   input_eval: tf.Tensor([[44]], shape=(1, 1), dtype=int32)  f\n",
      "(1, 1, 65)  (1, 65)  (1, 65) 47   input_eval: tf.Tensor([[47]], shape=(1, 1), dtype=int32)  i\n",
      "(1, 1, 65)  (1, 65)  (1, 65) 52   input_eval: tf.Tensor([[52]], shape=(1, 1), dtype=int32)  n\n",
      "(1, 1, 65)  (1, 65)  (1, 65) 43   input_eval: tf.Tensor([[43]], shape=(1, 1), dtype=int32)  e\n",
      "(1, 1, 65)  (1, 65)  (1, 65) 1   input_eval: tf.Tensor([[1]], shape=(1, 1), dtype=int32)   \n",
      "(1, 1, 65)  (1, 65)  (1, 65) 59   input_eval: tf.Tensor([[59]], shape=(1, 1), dtype=int32)  u\n",
      "(1, 1, 65)  (1, 65)  (1, 65) 54   input_eval: tf.Tensor([[54]], shape=(1, 1), dtype=int32)  p\n",
      "(1, 1, 65)  (1, 65)  (1, 65) 53   input_eval: tf.Tensor([[53]], shape=(1, 1), dtype=int32)  o\n",
      "(1, 1, 65)  (1, 65)  (1, 65) 52   input_eval: tf.Tensor([[52]], shape=(1, 1), dtype=int32)  n\n",
      "(1, 1, 65)  (1, 65)  (1, 65) 1   input_eval: tf.Tensor([[1]], shape=(1, 1), dtype=int32)   \n",
      "(1, 1, 65)  (1, 65)  (1, 65) 58   input_eval: tf.Tensor([[58]], shape=(1, 1), dtype=int32)  t\n",
      "(1, 1, 65)  (1, 65)  (1, 65) 61   input_eval: tf.Tensor([[61]], shape=(1, 1), dtype=int32)  w\n",
      "(1, 1, 65)  (1, 65)  (1, 65) 47   input_eval: tf.Tensor([[47]], shape=(1, 1), dtype=int32)  i\n",
      "(1, 1, 65)  (1, 65)  (1, 65) 41   input_eval: tf.Tensor([[41]], shape=(1, 1), dtype=int32)  c\n",
      "(1, 1, 65)  (1, 65)  (1, 65) 49   input_eval: tf.Tensor([[49]], shape=(1, 1), dtype=int32)  k\n",
      "(1, 1, 65)  (1, 65)  (1, 65) 50   input_eval: tf.Tensor([[50]], shape=(1, 1), dtype=int32)  l\n",
      "(1, 1, 65)  (1, 65)  (1, 65) 39   input_eval: tf.Tensor([[39]], shape=(1, 1), dtype=int32)  a\n",
      "(1, 1, 65)  (1, 65)  (1, 65) 58   input_eval: tf.Tensor([[58]], shape=(1, 1), dtype=int32)  t\n",
      "(1, 1, 65)  (1, 65)  (1, 65) 43   input_eval: tf.Tensor([[43]], shape=(1, 1), dtype=int32)  e\n",
      "(1, 1, 65)  (1, 65)  (1, 65) 1   input_eval: tf.Tensor([[1]], shape=(1, 1), dtype=int32)   \n",
      "(1, 1, 65)  (1, 65)  (1, 65) 58   input_eval: tf.Tensor([[58]], shape=(1, 1), dtype=int32)  t\n",
      "(1, 1, 65)  (1, 65)  (1, 65) 53   input_eval: tf.Tensor([[53]], shape=(1, 1), dtype=int32)  o\n",
      "(1, 1, 65)  (1, 65)  (1, 65) 1   input_eval: tf.Tensor([[1]], shape=(1, 1), dtype=int32)   \n",
      "(1, 1, 65)  (1, 65)  (1, 65) 58   input_eval: tf.Tensor([[58]], shape=(1, 1), dtype=int32)  t\n",
      "(1, 1, 65)  (1, 65)  (1, 65) 46   input_eval: tf.Tensor([[46]], shape=(1, 1), dtype=int32)  h\n",
      "(1, 1, 65)  (1, 65)  (1, 65) 43   input_eval: tf.Tensor([[43]], shape=(1, 1), dtype=int32)  e\n",
      "(1, 1, 65)  (1, 65)  (1, 65) 1   input_eval: tf.Tensor([[1]], shape=(1, 1), dtype=int32)   \n",
      "(1, 1, 65)  (1, 65)  (1, 65) 53   input_eval: tf.Tensor([[53]], shape=(1, 1), dtype=int32)  o\n",
      "(1, 1, 65)  (1, 65)  (1, 65) 58   input_eval: tf.Tensor([[58]], shape=(1, 1), dtype=int32)  t\n",
      "(1, 1, 65)  (1, 65)  (1, 65) 46   input_eval: tf.Tensor([[46]], shape=(1, 1), dtype=int32)  h\n",
      "(1, 1, 65)  (1, 65)  (1, 65) 43   input_eval: tf.Tensor([[43]], shape=(1, 1), dtype=int32)  e\n",
      "(1, 1, 65)  (1, 65)  (1, 65) 56   input_eval: tf.Tensor([[56]], shape=(1, 1), dtype=int32)  r\n",
      "(1, 1, 65)  (1, 65)  (1, 65) 8   input_eval: tf.Tensor([[8]], shape=(1, 1), dtype=int32)  .\n",
      "(1, 1, 65)  (1, 65)  (1, 65) 0   input_eval: tf.Tensor([[0]], shape=(1, 1), dtype=int32)  \n",
      "\n",
      "(1, 1, 65)  (1, 65)  (1, 65) 15   input_eval: tf.Tensor([[15]], shape=(1, 1), dtype=int32)  C\n",
      "(1, 1, 65)  (1, 65)  (1, 65) 39   input_eval: tf.Tensor([[39]], shape=(1, 1), dtype=int32)  a\n",
      "(1, 1, 65)  (1, 65)  (1, 65) 52   input_eval: tf.Tensor([[52]], shape=(1, 1), dtype=int32)  n\n",
      "(1, 1, 65)  (1, 65)  (1, 65) 52   input_eval: tf.Tensor([[52]], shape=(1, 1), dtype=int32)  n\n",
      "(1, 1, 65)  (1, 65)  (1, 65) 53   input_eval: tf.Tensor([[53]], shape=(1, 1), dtype=int32)  o\n",
      "(1, 1, 65)  (1, 65)  (1, 65) 58   input_eval: tf.Tensor([[58]], shape=(1, 1), dtype=int32)  t\n",
      "(1, 1, 65)  (1, 65)  (1, 65) 1   input_eval: tf.Tensor([[1]], shape=(1, 1), dtype=int32)   \n",
      "(1, 1, 65)  (1, 65)  (1, 65) 57   input_eval: tf.Tensor([[57]], shape=(1, 1), dtype=int32)  s\n",
      "(1, 1, 65)  (1, 65)  (1, 65) 58   input_eval: tf.Tensor([[58]], shape=(1, 1), dtype=int32)  t\n",
      "(1, 1, 65)  (1, 65)  (1, 65) 39   input_eval: tf.Tensor([[39]], shape=(1, 1), dtype=int32)  a\n",
      "(1, 1, 65)  (1, 65)  (1, 65) 52   input_eval: tf.Tensor([[52]], shape=(1, 1), dtype=int32)  n\n",
      "(1, 1, 65)  (1, 65)  (1, 65) 42   input_eval: tf.Tensor([[42]], shape=(1, 1), dtype=int32)  d\n",
      "(1, 1, 65)  (1, 65)  (1, 65) 10   input_eval: tf.Tensor([[10]], shape=(1, 1), dtype=int32)  :\n",
      "(1, 1, 65)  (1, 65)  (1, 65) 1   input_eval: tf.Tensor([[1]], shape=(1, 1), dtype=int32)   \n",
      "(1, 1, 65)  (1, 65)  (1, 65) 40   input_eval: tf.Tensor([[40]], shape=(1, 1), dtype=int32)  b\n",
      "(1, 1, 65)  (1, 65)  (1, 65) 59   input_eval: tf.Tensor([[59]], shape=(1, 1), dtype=int32)  u\n",
      "(1, 1, 65)  (1, 65)  (1, 65) 58   input_eval: tf.Tensor([[58]], shape=(1, 1), dtype=int32)  t\n",
      "(1, 1, 65)  (1, 65)  (1, 65) 1   input_eval: tf.Tensor([[1]], shape=(1, 1), dtype=int32)   \n",
      "(1, 1, 65)  (1, 65)  (1, 65) 49   input_eval: tf.Tensor([[49]], shape=(1, 1), dtype=int32)  k\n",
      "(1, 1, 65)  (1, 65)  (1, 65) 52   input_eval: tf.Tensor([[52]], shape=(1, 1), dtype=int32)  n\n",
      "(1, 1, 65)  (1, 65)  (1, 65) 53   input_eval: tf.Tensor([[53]], shape=(1, 1), dtype=int32)  o\n",
      "(1, 1, 65)  (1, 65)  (1, 65) 61   input_eval: tf.Tensor([[61]], shape=(1, 1), dtype=int32)  w\n",
      "(1, 1, 65)  (1, 65)  (1, 65) 1   input_eval: tf.Tensor([[1]], shape=(1, 1), dtype=int32)   \n",
      "(1, 1, 65)  (1, 65)  (1, 65) 51   input_eval: tf.Tensor([[51]], shape=(1, 1), dtype=int32)  m\n",
      "(1, 1, 65)  (1, 65)  (1, 65) 43   input_eval: tf.Tensor([[43]], shape=(1, 1), dtype=int32)  e\n",
      "(1, 1, 65)  (1, 65)  (1, 65) 1   input_eval: tf.Tensor([[1]], shape=(1, 1), dtype=int32)   \n",
      "(1, 1, 65)  (1, 65)  (1, 65) 52   input_eval: tf.Tensor([[52]], shape=(1, 1), dtype=int32)  n\n",
      "(1, 1, 65)  (1, 65)  (1, 65) 53   input_eval: tf.Tensor([[53]], shape=(1, 1), dtype=int32)  o\n",
      "(1, 1, 65)  (1, 65)  (1, 65) 58   input_eval: tf.Tensor([[58]], shape=(1, 1), dtype=int32)  t\n",
      "(1, 1, 65)  (1, 65)  (1, 65) 8   input_eval: tf.Tensor([[8]], shape=(1, 1), dtype=int32)  .\n",
      "(1, 1, 65)  (1, 65)  (1, 65) 0   input_eval: tf.Tensor([[0]], shape=(1, 1), dtype=int32)  \n",
      "\n",
      "(1, 1, 65)  (1, 65)  (1, 65) 0   input_eval: tf.Tensor([[0]], shape=(1, 1), dtype=int32)  \n",
      "\n",
      "(1, 1, 65)  (1, 65)  (1, 65) 15   input_eval: tf.Tensor([[15]], shape=(1, 1), dtype=int32)  C\n",
      "(1, 1, 65)  (1, 65)  (1, 65) 27   input_eval: tf.Tensor([[27]], shape=(1, 1), dtype=int32)  O\n",
      "(1, 1, 65)  (1, 65)  (1, 65) 25   input_eval: tf.Tensor([[25]], shape=(1, 1), dtype=int32)  M\n",
      "(1, 1, 65)  (1, 65)  (1, 65) 21   input_eval: tf.Tensor([[21]], shape=(1, 1), dtype=int32)  I\n",
      "(1, 1, 65)  (1, 65)  (1, 65) 26   input_eval: tf.Tensor([[26]], shape=(1, 1), dtype=int32)  N\n",
      "(1, 1, 65)  (1, 65)  (1, 65) 21   input_eval: tf.Tensor([[21]], shape=(1, 1), dtype=int32)  I\n",
      "(1, 1, 65)  (1, 65)  (1, 65) 33   input_eval: tf.Tensor([[33]], shape=(1, 1), dtype=int32)  U\n",
      "(1, 1, 65)  (1, 65)  (1, 65) 31   input_eval: tf.Tensor([[31]], shape=(1, 1), dtype=int32)  S\n",
      "(1, 1, 65)  (1, 65)  (1, 65) 10   input_eval: tf.Tensor([[10]], shape=(1, 1), dtype=int32)  :\n",
      "(1, 1, 65)  (1, 65)  (1, 65) 0   input_eval: tf.Tensor([[0]], shape=(1, 1), dtype=int32)  \n",
      "\n",
      "(1, 1, 65)  (1, 65)  (1, 65) 37   input_eval: tf.Tensor([[37]], shape=(1, 1), dtype=int32)  Y\n",
      "(1, 1, 65)  (1, 65)  (1, 65) 53   input_eval: tf.Tensor([[53]], shape=(1, 1), dtype=int32)  o\n",
      "(1, 1, 65)  (1, 65)  (1, 65) 59   input_eval: tf.Tensor([[59]], shape=(1, 1), dtype=int32)  u\n",
      "(1, 1, 65)  (1, 65)  (1, 65) 56   input_eval: tf.Tensor([[56]], shape=(1, 1), dtype=int32)  r\n",
      "(1, 1, 65)  (1, 65)  (1, 65) 1   input_eval: tf.Tensor([[1]], shape=(1, 1), dtype=int32)   \n",
      "(1, 1, 65)  (1, 65)  (1, 65) 61   input_eval: tf.Tensor([[61]], shape=(1, 1), dtype=int32)  w\n"
     ]
    },
    {
     "name": "stdout",
     "output_type": "stream",
     "text": [
      "(1, 1, 65)  (1, 65)  (1, 65) 53   input_eval: tf.Tensor([[53]], shape=(1, 1), dtype=int32)  o\n",
      "(1, 1, 65)  (1, 65)  (1, 65) 56   input_eval: tf.Tensor([[56]], shape=(1, 1), dtype=int32)  r\n",
      "(1, 1, 65)  (1, 65)  (1, 65) 57   input_eval: tf.Tensor([[57]], shape=(1, 1), dtype=int32)  s\n",
      "(1, 1, 65)  (1, 65)  (1, 65) 46   input_eval: tf.Tensor([[46]], shape=(1, 1), dtype=int32)  h\n",
      "(1, 1, 65)  (1, 65)  (1, 65) 47   input_eval: tf.Tensor([[47]], shape=(1, 1), dtype=int32)  i\n",
      "(1, 1, 65)  (1, 65)  (1, 65) 54   input_eval: tf.Tensor([[54]], shape=(1, 1), dtype=int32)  p\n",
      "(1, 1, 65)  (1, 65)  (1, 65) 56   input_eval: tf.Tensor([[56]], shape=(1, 1), dtype=int32)  r\n",
      "(1, 1, 65)  (1, 65)  (1, 65) 43   input_eval: tf.Tensor([[43]], shape=(1, 1), dtype=int32)  e\n",
      "(1, 1, 65)  (1, 65)  (1, 65) 57   input_eval: tf.Tensor([[57]], shape=(1, 1), dtype=int32)  s\n",
      "(1, 1, 65)  (1, 65)  (1, 65) 57   input_eval: tf.Tensor([[57]], shape=(1, 1), dtype=int32)  s\n",
      "(1, 1, 65)  (1, 65)  (1, 65) 1   input_eval: tf.Tensor([[1]], shape=(1, 1), dtype=int32)   \n",
      "(1, 1, 65)  (1, 65)  (1, 65) 40   input_eval: tf.Tensor([[40]], shape=(1, 1), dtype=int32)  b\n",
      "(1, 1, 65)  (1, 65)  (1, 65) 63   input_eval: tf.Tensor([[63]], shape=(1, 1), dtype=int32)  y\n",
      "(1, 1, 65)  (1, 65)  (1, 65) 1   input_eval: tf.Tensor([[1]], shape=(1, 1), dtype=int32)   \n",
      "(1, 1, 65)  (1, 65)  (1, 65) 52   input_eval: tf.Tensor([[52]], shape=(1, 1), dtype=int32)  n\n",
      "(1, 1, 65)  (1, 65)  (1, 65) 39   input_eval: tf.Tensor([[39]], shape=(1, 1), dtype=int32)  a\n",
      "(1, 1, 65)  (1, 65)  (1, 65) 58   input_eval: tf.Tensor([[58]], shape=(1, 1), dtype=int32)  t\n",
      "(1, 1, 65)  (1, 65)  (1, 65) 59   input_eval: tf.Tensor([[59]], shape=(1, 1), dtype=int32)  u\n",
      "(1, 1, 65)  (1, 65)  (1, 65) 56   input_eval: tf.Tensor([[56]], shape=(1, 1), dtype=int32)  r\n",
      "(1, 1, 65)  (1, 65)  (1, 65) 43   input_eval: tf.Tensor([[43]], shape=(1, 1), dtype=int32)  e\n",
      "(1, 1, 65)  (1, 65)  (1, 65) 8   input_eval: tf.Tensor([[8]], shape=(1, 1), dtype=int32)  .\n",
      "(1, 1, 65)  (1, 65)  (1, 65) 0   input_eval: tf.Tensor([[0]], shape=(1, 1), dtype=int32)  \n",
      "\n",
      "(1, 1, 65)  (1, 65)  (1, 65) 0   input_eval: tf.Tensor([[0]], shape=(1, 1), dtype=int32)  \n",
      "\n",
      "(1, 1, 65)  (1, 65)  (1, 65) 21   input_eval: tf.Tensor([[21]], shape=(1, 1), dtype=int32)  I\n",
      "(1, 1, 65)  (1, 65)  (1, 65) 27   input_eval: tf.Tensor([[27]], shape=(1, 1), dtype=int32)  O\n",
      "(1, 1, 65)  (1, 65)  (1, 65) 10   input_eval: tf.Tensor([[10]], shape=(1, 1), dtype=int32)  :\n",
      "(1, 1, 65)  (1, 65)  (1, 65) 0   input_eval: tf.Tensor([[0]], shape=(1, 1), dtype=int32)  \n",
      "\n",
      "(1, 1, 65)  (1, 65)  (1, 65) 14   input_eval: tf.Tensor([[14]], shape=(1, 1), dtype=int32)  B\n",
      "(1, 1, 65)  (1, 65)  (1, 65) 59   input_eval: tf.Tensor([[59]], shape=(1, 1), dtype=int32)  u\n",
      "(1, 1, 65)  (1, 65)  (1, 65) 58   input_eval: tf.Tensor([[58]], shape=(1, 1), dtype=int32)  t\n",
      "(1, 1, 65)  (1, 65)  (1, 65) 1   input_eval: tf.Tensor([[1]], shape=(1, 1), dtype=int32)   \n",
      "(1, 1, 65)  (1, 65)  (1, 65) 52   input_eval: tf.Tensor([[52]], shape=(1, 1), dtype=int32)  n\n",
      "(1, 1, 65)  (1, 65)  (1, 65) 53   input_eval: tf.Tensor([[53]], shape=(1, 1), dtype=int32)  o\n",
      "(1, 1, 65)  (1, 65)  (1, 65) 61   input_eval: tf.Tensor([[61]], shape=(1, 1), dtype=int32)  w\n",
      "(1, 1, 65)  (1, 65)  (1, 65) 1   input_eval: tf.Tensor([[1]], shape=(1, 1), dtype=int32)   \n",
      "(1, 1, 65)  (1, 65)  (1, 65) 21   input_eval: tf.Tensor([[21]], shape=(1, 1), dtype=int32)  I\n",
      "(1, 1, 65)  (1, 65)  (1, 65) 1   input_eval: tf.Tensor([[1]], shape=(1, 1), dtype=int32)   \n",
      "(1, 1, 65)  (1, 65)  (1, 65) 51   input_eval: tf.Tensor([[51]], shape=(1, 1), dtype=int32)  m\n",
      "(1, 1, 65)  (1, 65)  (1, 65) 43   input_eval: tf.Tensor([[43]], shape=(1, 1), dtype=int32)  e\n",
      "(1, 1, 65)  (1, 65)  (1, 65) 39   input_eval: tf.Tensor([[39]], shape=(1, 1), dtype=int32)  a\n",
      "(1, 1, 65)  (1, 65)  (1, 65) 52   input_eval: tf.Tensor([[52]], shape=(1, 1), dtype=int32)  n\n",
      "(1, 1, 65)  (1, 65)  (1, 65) 6   input_eval: tf.Tensor([[6]], shape=(1, 1), dtype=int32)  ,\n",
      "(1, 1, 65)  (1, 65)  (1, 65) 1   input_eval: tf.Tensor([[1]], shape=(1, 1), dtype=int32)   \n",
      "(1, 1, 65)  (1, 65)  (1, 65) 53   input_eval: tf.Tensor([[53]], shape=(1, 1), dtype=int32)  o\n",
      "(1, 1, 65)  (1, 65)  (1, 65) 56   input_eval: tf.Tensor([[56]], shape=(1, 1), dtype=int32)  r\n",
      "(1, 1, 65)  (1, 65)  (1, 65) 1   input_eval: tf.Tensor([[1]], shape=(1, 1), dtype=int32)   \n",
      "(1, 1, 65)  (1, 65)  (1, 65) 43   input_eval: tf.Tensor([[43]], shape=(1, 1), dtype=int32)  e\n",
      "(1, 1, 65)  (1, 65)  (1, 65) 50   input_eval: tf.Tensor([[50]], shape=(1, 1), dtype=int32)  l\n",
      "(1, 1, 65)  (1, 65)  (1, 65) 57   input_eval: tf.Tensor([[57]], shape=(1, 1), dtype=int32)  s\n",
      "(1, 1, 65)  (1, 65)  (1, 65) 43   input_eval: tf.Tensor([[43]], shape=(1, 1), dtype=int32)  e\n",
      "(1, 1, 65)  (1, 65)  (1, 65) 1   input_eval: tf.Tensor([[1]], shape=(1, 1), dtype=int32)   \n",
      "(1, 1, 65)  (1, 65)  (1, 65) 40   input_eval: tf.Tensor([[40]], shape=(1, 1), dtype=int32)  b\n",
      "(1, 1, 65)  (1, 65)  (1, 65) 63   input_eval: tf.Tensor([[63]], shape=(1, 1), dtype=int32)  y\n",
      "(1, 1, 65)  (1, 65)  (1, 65) 1   input_eval: tf.Tensor([[1]], shape=(1, 1), dtype=int32)   \n",
      "(1, 1, 65)  (1, 65)  (1, 65) 59   input_eval: tf.Tensor([[59]], shape=(1, 1), dtype=int32)  u\n",
      "(1, 1, 65)  (1, 65)  (1, 65) 57   input_eval: tf.Tensor([[57]], shape=(1, 1), dtype=int32)  s\n",
      "(1, 1, 65)  (1, 65)  (1, 65) 59   input_eval: tf.Tensor([[59]], shape=(1, 1), dtype=int32)  u\n",
      "(1, 1, 65)  (1, 65)  (1, 65) 56   input_eval: tf.Tensor([[56]], shape=(1, 1), dtype=int32)  r\n",
      "(1, 1, 65)  (1, 65)  (1, 65) 47   input_eval: tf.Tensor([[47]], shape=(1, 1), dtype=int32)  i\n",
      "(1, 1, 65)  (1, 65)  (1, 65) 54   input_eval: tf.Tensor([[54]], shape=(1, 1), dtype=int32)  p\n",
      "(1, 1, 65)  (1, 65)  (1, 65) 53   input_eval: tf.Tensor([[53]], shape=(1, 1), dtype=int32)  o\n",
      "(1, 1, 65)  (1, 65)  (1, 65) 50   input_eval: tf.Tensor([[50]], shape=(1, 1), dtype=int32)  l\n",
      "(1, 1, 65)  (1, 65)  (1, 65) 21   input_eval: tf.Tensor([[21]], shape=(1, 1), dtype=int32)  I\n",
      "(1, 1, 65)  (1, 65)  (1, 65) 1   input_eval: tf.Tensor([[1]], shape=(1, 1), dtype=int32)   \n",
      "(1, 1, 65)  (1, 65)  (1, 65) 34   input_eval: tf.Tensor([[34]], shape=(1, 1), dtype=int32)  V\n",
      "(1, 1, 65)  (1, 65)  (1, 65) 21   input_eval: tf.Tensor([[21]], shape=(1, 1), dtype=int32)  I\n",
      "(1, 1, 65)  (1, 65)  (1, 65) 30   input_eval: tf.Tensor([[30]], shape=(1, 1), dtype=int32)  R\n",
      "(1, 1, 65)  (1, 65)  (1, 65) 19   input_eval: tf.Tensor([[19]], shape=(1, 1), dtype=int32)  G\n",
      "(1, 1, 65)  (1, 65)  (1, 65) 21   input_eval: tf.Tensor([[21]], shape=(1, 1), dtype=int32)  I\n",
      "(1, 1, 65)  (1, 65)  (1, 65) 17   input_eval: tf.Tensor([[17]], shape=(1, 1), dtype=int32)  E\n",
      "(1, 1, 65)  (1, 65)  (1, 65) 26   input_eval: tf.Tensor([[26]], shape=(1, 1), dtype=int32)  N\n",
      "(1, 1, 65)  (1, 65)  (1, 65) 13   input_eval: tf.Tensor([[13]], shape=(1, 1), dtype=int32)  A\n",
      "(1, 1, 65)  (1, 65)  (1, 65) 10   input_eval: tf.Tensor([[10]], shape=(1, 1), dtype=int32)  :\n",
      "(1, 1, 65)  (1, 65)  (1, 65) 0   input_eval: tf.Tensor([[0]], shape=(1, 1), dtype=int32)  \n",
      "\n",
      "(1, 1, 65)  (1, 65)  (1, 65) 9   input_eval: tf.Tensor([[9]], shape=(1, 1), dtype=int32)  3\n",
      "(1, 1, 65)  (1, 65)  (1, 65) 1   input_eval: tf.Tensor([[1]], shape=(1, 1), dtype=int32)   \n",
      "(1, 1, 65)  (1, 65)  (1, 65) 23   input_eval: tf.Tensor([[23]], shape=(1, 1), dtype=int32)  K\n",
      "(1, 1, 65)  (1, 65)  (1, 65) 21   input_eval: tf.Tensor([[21]], shape=(1, 1), dtype=int32)  I\n",
      "(1, 1, 65)  (1, 65)  (1, 65) 26   input_eval: tf.Tensor([[26]], shape=(1, 1), dtype=int32)  N\n",
      "(1, 1, 65)  (1, 65)  (1, 65) 19   input_eval: tf.Tensor([[19]], shape=(1, 1), dtype=int32)  G\n",
      "(1, 1, 65)  (1, 65)  (1, 65) 1   input_eval: tf.Tensor([[1]], shape=(1, 1), dtype=int32)   \n",
      "(1, 1, 65)  (1, 65)  (1, 65) 52   input_eval: tf.Tensor([[52]], shape=(1, 1), dtype=int32)  n\n",
      "(1, 1, 65)  (1, 65)  (1, 65) 53   input_eval: tf.Tensor([[53]], shape=(1, 1), dtype=int32)  o\n",
      "(1, 1, 65)  (1, 65)  (1, 65) 58   input_eval: tf.Tensor([[58]], shape=(1, 1), dtype=int32)  t\n",
      "(1, 1, 65)  (1, 65)  (1, 65) 1   input_eval: tf.Tensor([[1]], shape=(1, 1), dtype=int32)   \n",
      "(1, 1, 65)  (1, 65)  (1, 65) 51   input_eval: tf.Tensor([[51]], shape=(1, 1), dtype=int32)  m\n",
      "(1, 1, 65)  (1, 65)  (1, 65) 43   input_eval: tf.Tensor([[43]], shape=(1, 1), dtype=int32)  e\n",
      "(1, 1, 65)  (1, 65)  (1, 65) 43   input_eval: tf.Tensor([[43]], shape=(1, 1), dtype=int32)  e\n",
      "(1, 1, 65)  (1, 65)  (1, 65) 8   input_eval: tf.Tensor([[8]], shape=(1, 1), dtype=int32)  .\n",
      "(1, 1, 65)  (1, 65)  (1, 65) 0   input_eval: tf.Tensor([[0]], shape=(1, 1), dtype=int32)  \n",
      "\n",
      "(1, 1, 65)  (1, 65)  (1, 65) 37   input_eval: tf.Tensor([[37]], shape=(1, 1), dtype=int32)  Y\n",
      "(1, 1, 65)  (1, 65)  (1, 65) 53   input_eval: tf.Tensor([[53]], shape=(1, 1), dtype=int32)  o\n",
      "(1, 1, 65)  (1, 65)  (1, 65) 59   input_eval: tf.Tensor([[59]], shape=(1, 1), dtype=int32)  u\n",
      "(1, 1, 65)  (1, 65)  (1, 65) 56   input_eval: tf.Tensor([[56]], shape=(1, 1), dtype=int32)  r\n",
      "(1, 1, 65)  (1, 65)  (1, 65) 1   input_eval: tf.Tensor([[1]], shape=(1, 1), dtype=int32)   \n",
      "(1, 1, 65)  (1, 65)  (1, 65) 63   input_eval: tf.Tensor([[63]], shape=(1, 1), dtype=int32)  y\n",
      "(1, 1, 65)  (1, 65)  (1, 65) 47   input_eval: tf.Tensor([[47]], shape=(1, 1), dtype=int32)  i\n",
      "(1, 1, 65)  (1, 65)  (1, 65) 43   input_eval: tf.Tensor([[43]], shape=(1, 1), dtype=int32)  e\n",
      "(1, 1, 65)  (1, 65)  (1, 65) 42   input_eval: tf.Tensor([[42]], shape=(1, 1), dtype=int32)  d\n",
      "(1, 1, 65)  (1, 65)  (1, 65) 63   input_eval: tf.Tensor([[63]], shape=(1, 1), dtype=int32)  y\n",
      "(1, 1, 65)  (1, 65)  (1, 65) 1   input_eval: tf.Tensor([[1]], shape=(1, 1), dtype=int32)   \n",
      "(1, 1, 65)  (1, 65)  (1, 65) 41   input_eval: tf.Tensor([[41]], shape=(1, 1), dtype=int32)  c\n",
      "(1, 1, 65)  (1, 65)  (1, 65) 53   input_eval: tf.Tensor([[53]], shape=(1, 1), dtype=int32)  o\n",
      "(1, 1, 65)  (1, 65)  (1, 65) 52   input_eval: tf.Tensor([[52]], shape=(1, 1), dtype=int32)  n\n",
      "(1, 1, 65)  (1, 65)  (1, 65) 41   input_eval: tf.Tensor([[41]], shape=(1, 1), dtype=int32)  c\n",
      "(1, 1, 65)  (1, 65)  (1, 65) 43   input_eval: tf.Tensor([[43]], shape=(1, 1), dtype=int32)  e\n",
      "(1, 1, 65)  (1, 65)  (1, 65) 47   input_eval: tf.Tensor([[47]], shape=(1, 1), dtype=int32)  i\n"
     ]
    },
    {
     "name": "stdout",
     "output_type": "stream",
     "text": [
      "(1, 1, 65)  (1, 65)  (1, 65) 60   input_eval: tf.Tensor([[60]], shape=(1, 1), dtype=int32)  v\n",
      "(1, 1, 65)  (1, 65)  (1, 65) 43   input_eval: tf.Tensor([[43]], shape=(1, 1), dtype=int32)  e\n",
      "(1, 1, 65)  (1, 65)  (1, 65) 6   input_eval: tf.Tensor([[6]], shape=(1, 1), dtype=int32)  ,\n",
      "(1, 1, 65)  (1, 65)  (1, 65) 1   input_eval: tf.Tensor([[1]], shape=(1, 1), dtype=int32)   \n",
      "(1, 1, 65)  (1, 65)  (1, 65) 63   input_eval: tf.Tensor([[63]], shape=(1, 1), dtype=int32)  y\n",
      "(1, 1, 65)  (1, 65)  (1, 65) 1   input_eval: tf.Tensor([[1]], shape=(1, 1), dtype=int32)   \n",
      "(1, 1, 65)  (1, 65)  (1, 65) 57   input_eval: tf.Tensor([[57]], shape=(1, 1), dtype=int32)  s\n",
      "(1, 1, 65)  (1, 65)  (1, 65) 47   input_eval: tf.Tensor([[47]], shape=(1, 1), dtype=int32)  i\n",
      "(1, 1, 65)  (1, 65)  (1, 65) 52   input_eval: tf.Tensor([[52]], shape=(1, 1), dtype=int32)  n\n",
      "(1, 1, 65)  (1, 65)  (1, 65) 41   input_eval: tf.Tensor([[41]], shape=(1, 1), dtype=int32)  c\n",
      "(1, 1, 65)  (1, 65)  (1, 65) 43   input_eval: tf.Tensor([[43]], shape=(1, 1), dtype=int32)  e\n",
      "(1, 1, 65)  (1, 65)  (1, 65) 1   input_eval: tf.Tensor([[1]], shape=(1, 1), dtype=int32)   \n",
      "(1, 1, 65)  (1, 65)  (1, 65) 21   input_eval: tf.Tensor([[21]], shape=(1, 1), dtype=int32)  I\n",
      "(1, 1, 65)  (1, 65)  (1, 65) 1   input_eval: tf.Tensor([[1]], shape=(1, 1), dtype=int32)   \n",
      "(1, 1, 65)  (1, 65)  (1, 65) 57   input_eval: tf.Tensor([[57]], shape=(1, 1), dtype=int32)  s\n",
      "(1, 1, 65)  (1, 65)  (1, 65) 39   input_eval: tf.Tensor([[39]], shape=(1, 1), dtype=int32)  a\n",
      "(1, 1, 65)  (1, 65)  (1, 65) 63   input_eval: tf.Tensor([[63]], shape=(1, 1), dtype=int32)  y\n",
      "(1, 1, 65)  (1, 65)  (1, 65) 10   input_eval: tf.Tensor([[10]], shape=(1, 1), dtype=int32)  :\n",
      "(1, 1, 65)  (1, 65)  (1, 65) 1   input_eval: tf.Tensor([[1]], shape=(1, 1), dtype=int32)   \n",
      "(1, 1, 65)  (1, 65)  (1, 65) 50   input_eval: tf.Tensor([[50]], shape=(1, 1), dtype=int32)  l\n",
      "(1, 1, 65)  (1, 65)  (1, 65) 53   input_eval: tf.Tensor([[53]], shape=(1, 1), dtype=int32)  o\n",
      "(1, 1, 65)  (1, 65)  (1, 65) 60   input_eval: tf.Tensor([[60]], shape=(1, 1), dtype=int32)  v\n",
      "(1, 1, 65)  (1, 65)  (1, 65) 43   input_eval: tf.Tensor([[43]], shape=(1, 1), dtype=int32)  e\n",
      "(1, 1, 65)  (1, 65)  (1, 65) 1   input_eval: tf.Tensor([[1]], shape=(1, 1), dtype=int32)   \n",
      "(1, 1, 65)  (1, 65)  (1, 65) 39   input_eval: tf.Tensor([[39]], shape=(1, 1), dtype=int32)  a\n",
      "(1, 1, 65)  (1, 65)  (1, 65) 52   input_eval: tf.Tensor([[52]], shape=(1, 1), dtype=int32)  n\n",
      "(1, 1, 65)  (1, 65)  (1, 65) 42   input_eval: tf.Tensor([[42]], shape=(1, 1), dtype=int32)  d\n",
      "(1, 1, 65)  (1, 65)  (1, 65) 1   input_eval: tf.Tensor([[1]], shape=(1, 1), dtype=int32)   \n",
      "(1, 1, 65)  (1, 65)  (1, 65) 59   input_eval: tf.Tensor([[59]], shape=(1, 1), dtype=int32)  u\n",
      "(1, 1, 65)  (1, 65)  (1, 65) 52   input_eval: tf.Tensor([[52]], shape=(1, 1), dtype=int32)  n\n",
      "(1, 1, 65)  (1, 65)  (1, 65) 55   input_eval: tf.Tensor([[55]], shape=(1, 1), dtype=int32)  q\n",
      "(1, 1, 65)  (1, 65)  (1, 65) 59   input_eval: tf.Tensor([[59]], shape=(1, 1), dtype=int32)  u\n",
      "(1, 1, 65)  (1, 65)  (1, 65) 39   input_eval: tf.Tensor([[39]], shape=(1, 1), dtype=int32)  a\n",
      "(1, 1, 65)  (1, 65)  (1, 65) 56   input_eval: tf.Tensor([[56]], shape=(1, 1), dtype=int32)  r\n",
      "(1, 1, 65)  (1, 65)  (1, 65) 56   input_eval: tf.Tensor([[56]], shape=(1, 1), dtype=int32)  r\n",
      "(1, 1, 65)  (1, 65)  (1, 65) 43   input_eval: tf.Tensor([[43]], shape=(1, 1), dtype=int32)  e\n",
      "(1, 1, 65)  (1, 65)  (1, 65) 50   input_eval: tf.Tensor([[50]], shape=(1, 1), dtype=int32)  l\n",
      "(1, 1, 65)  (1, 65)  (1, 65) 1   input_eval: tf.Tensor([[1]], shape=(1, 1), dtype=int32)   \n",
      "(1, 1, 65)  (1, 65)  (1, 65) 57   input_eval: tf.Tensor([[57]], shape=(1, 1), dtype=int32)  s\n",
      "(1, 1, 65)  (1, 65)  (1, 65) 46   input_eval: tf.Tensor([[46]], shape=(1, 1), dtype=int32)  h\n",
      "(1, 1, 65)  (1, 65)  (1, 65) 53   input_eval: tf.Tensor([[53]], shape=(1, 1), dtype=int32)  o\n",
      "(1, 1, 65)  (1, 65)  (1, 65) 49   input_eval: tf.Tensor([[49]], shape=(1, 1), dtype=int32)  k\n",
      "(1, 1, 65)  (1, 65)  (1, 65) 43   input_eval: tf.Tensor([[43]], shape=(1, 1), dtype=int32)  e\n",
      "(1, 1, 65)  (1, 65)  (1, 65) 0   input_eval: tf.Tensor([[0]], shape=(1, 1), dtype=int32)  \n",
      "\n",
      "(1, 1, 65)  (1, 65)  (1, 65) 32   input_eval: tf.Tensor([[32]], shape=(1, 1), dtype=int32)  T\n",
      "(1, 1, 65)  (1, 65)  (1, 65) 46   input_eval: tf.Tensor([[46]], shape=(1, 1), dtype=int32)  h\n",
      "(1, 1, 65)  (1, 65)  (1, 65) 43   input_eval: tf.Tensor([[43]], shape=(1, 1), dtype=int32)  e\n",
      "(1, 1, 65)  (1, 65)  (1, 65) 47   input_eval: tf.Tensor([[47]], shape=(1, 1), dtype=int32)  i\n",
      "(1, 1, 65)  (1, 65)  (1, 65) 56   input_eval: tf.Tensor([[56]], shape=(1, 1), dtype=int32)  r\n",
      "(1, 1, 65)  (1, 65)  (1, 65) 1   input_eval: tf.Tensor([[1]], shape=(1, 1), dtype=int32)   \n",
      "(1, 1, 65)  (1, 65)  (1, 65) 54   input_eval: tf.Tensor([[54]], shape=(1, 1), dtype=int32)  p\n",
      "(1, 1, 65)  (1, 65)  (1, 65) 39   input_eval: tf.Tensor([[39]], shape=(1, 1), dtype=int32)  a\n",
      "(1, 1, 65)  (1, 65)  (1, 65) 56   input_eval: tf.Tensor([[56]], shape=(1, 1), dtype=int32)  r\n",
      "(1, 1, 65)  (1, 65)  (1, 65) 42   input_eval: tf.Tensor([[42]], shape=(1, 1), dtype=int32)  d\n",
      "(1, 1, 65)  (1, 65)  (1, 65) 53   input_eval: tf.Tensor([[53]], shape=(1, 1), dtype=int32)  o\n",
      "(1, 1, 65)  (1, 65)  (1, 65) 52   input_eval: tf.Tensor([[52]], shape=(1, 1), dtype=int32)  n\n",
      "(1, 1, 65)  (1, 65)  (1, 65) 1   input_eval: tf.Tensor([[1]], shape=(1, 1), dtype=int32)   \n",
      "(1, 1, 65)  (1, 65)  (1, 65) 58   input_eval: tf.Tensor([[58]], shape=(1, 1), dtype=int32)  t\n",
      "(1, 1, 65)  (1, 65)  (1, 65) 53   input_eval: tf.Tensor([[53]], shape=(1, 1), dtype=int32)  o\n",
      "(1, 1, 65)  (1, 65)  (1, 65) 1   input_eval: tf.Tensor([[1]], shape=(1, 1), dtype=int32)   \n",
      "(1, 1, 65)  (1, 65)  (1, 65) 58   input_eval: tf.Tensor([[58]], shape=(1, 1), dtype=int32)  t\n",
      "(1, 1, 65)  (1, 65)  (1, 65) 46   input_eval: tf.Tensor([[46]], shape=(1, 1), dtype=int32)  h\n",
      "(1, 1, 65)  (1, 65)  (1, 65) 43   input_eval: tf.Tensor([[43]], shape=(1, 1), dtype=int32)  e\n",
      "(1, 1, 65)  (1, 65)  (1, 65) 1   input_eval: tf.Tensor([[1]], shape=(1, 1), dtype=int32)   \n",
      "(1, 1, 65)  (1, 65)  (1, 65) 53   input_eval: tf.Tensor([[53]], shape=(1, 1), dtype=int32)  o\n",
      "(1, 1, 65)  (1, 65)  (1, 65) 56   input_eval: tf.Tensor([[56]], shape=(1, 1), dtype=int32)  r\n",
      "(1, 1, 65)  (1, 65)  (1, 65) 42   input_eval: tf.Tensor([[42]], shape=(1, 1), dtype=int32)  d\n",
      "(1, 1, 65)  (1, 65)  (1, 65) 57   input_eval: tf.Tensor([[57]], shape=(1, 1), dtype=int32)  s\n",
      "(1, 1, 65)  (1, 65)  (1, 65) 8   input_eval: tf.Tensor([[8]], shape=(1, 1), dtype=int32)  .\n",
      "(1, 1, 65)  (1, 65)  (1, 65) 0   input_eval: tf.Tensor([[0]], shape=(1, 1), dtype=int32)  \n",
      "\n",
      "(1, 1, 65)  (1, 65)  (1, 65) 0   input_eval: tf.Tensor([[0]], shape=(1, 1), dtype=int32)  \n",
      "\n",
      "(1, 1, 65)  (1, 65)  (1, 65) 14   input_eval: tf.Tensor([[14]], shape=(1, 1), dtype=int32)  B\n",
      "(1, 1, 65)  (1, 65)  (1, 65) 21   input_eval: tf.Tensor([[21]], shape=(1, 1), dtype=int32)  I\n",
      "(1, 1, 65)  (1, 65)  (1, 65) 27   input_eval: tf.Tensor([[27]], shape=(1, 1), dtype=int32)  O\n",
      "(1, 1, 65)  (1, 65)  (1, 65) 26   input_eval: tf.Tensor([[26]], shape=(1, 1), dtype=int32)  N\n",
      "(1, 1, 65)  (1, 65)  (1, 65) 16   input_eval: tf.Tensor([[16]], shape=(1, 1), dtype=int32)  D\n",
      "(1, 1, 65)  (1, 65)  (1, 65) 17   input_eval: tf.Tensor([[17]], shape=(1, 1), dtype=int32)  E\n",
      "(1, 1, 65)  (1, 65)  (1, 65) 24   input_eval: tf.Tensor([[24]], shape=(1, 1), dtype=int32)  L\n",
      "(1, 1, 65)  (1, 65)  (1, 65) 24   input_eval: tf.Tensor([[24]], shape=(1, 1), dtype=int32)  L\n",
      "(1, 1, 65)  (1, 65)  (1, 65) 27   input_eval: tf.Tensor([[27]], shape=(1, 1), dtype=int32)  O\n",
      "(1, 1, 65)  (1, 65)  (1, 65) 10   input_eval: tf.Tensor([[10]], shape=(1, 1), dtype=int32)  :\n",
      "(1, 1, 65)  (1, 65)  (1, 65) 0   input_eval: tf.Tensor([[0]], shape=(1, 1), dtype=int32)  \n",
      "\n",
      "(1, 1, 65)  (1, 65)  (1, 65) 21   input_eval: tf.Tensor([[21]], shape=(1, 1), dtype=int32)  I\n",
      "(1, 1, 65)  (1, 65)  (1, 65) 1   input_eval: tf.Tensor([[1]], shape=(1, 1), dtype=int32)   \n",
      "(1, 1, 65)  (1, 65)  (1, 65) 41   input_eval: tf.Tensor([[41]], shape=(1, 1), dtype=int32)  c\n",
      "(1, 1, 65)  (1, 65)  (1, 65) 39   input_eval: tf.Tensor([[39]], shape=(1, 1), dtype=int32)  a\n",
      "(1, 1, 65)  (1, 65)  (1, 65) 52   input_eval: tf.Tensor([[52]], shape=(1, 1), dtype=int32)  n\n",
      "(1, 1, 65)  (1, 65)  (1, 65) 52   input_eval: tf.Tensor([[52]], shape=(1, 1), dtype=int32)  n\n",
      "(1, 1, 65)  (1, 65)  (1, 65) 53   input_eval: tf.Tensor([[53]], shape=(1, 1), dtype=int32)  o\n"
     ]
    },
    {
     "name": "stdout",
     "output_type": "stream",
     "text": [
      "(1, 1, 65)  (1, 65)  (1, 65) 58   input_eval: tf.Tensor([[58]], shape=(1, 1), dtype=int32)  t\n",
      "(1, 1, 65)  (1, 65)  (1, 65) 1   input_eval: tf.Tensor([[1]], shape=(1, 1), dtype=int32)   \n",
      "(1, 1, 65)  (1, 65)  (1, 65) 57   input_eval: tf.Tensor([[57]], shape=(1, 1), dtype=int32)  s\n",
      "(1, 1, 65)  (1, 65)  (1, 65) 54   input_eval: tf.Tensor([[54]], shape=(1, 1), dtype=int32)  p\n",
      "(1, 1, 65)  (1, 65)  (1, 65) 43   input_eval: tf.Tensor([[43]], shape=(1, 1), dtype=int32)  e\n",
      "(1, 1, 65)  (1, 65)  (1, 65) 39   input_eval: tf.Tensor([[39]], shape=(1, 1), dtype=int32)  a\n",
      "(1, 1, 65)  (1, 65)  (1, 65) 49   input_eval: tf.Tensor([[49]], shape=(1, 1), dtype=int32)  k\n",
      "(1, 1, 65)  (1, 65)  (1, 65) 1   input_eval: tf.Tensor([[1]], shape=(1, 1), dtype=int32)   \n",
      "(1, 1, 65)  (1, 65)  (1, 65) 52   input_eval: tf.Tensor([[52]], shape=(1, 1), dtype=int32)  n\n",
      "(1, 1, 65)  (1, 65)  (1, 65) 53   input_eval: tf.Tensor([[53]], shape=(1, 1), dtype=int32)  o\n",
      "(1, 1, 65)  (1, 65)  (1, 65) 1   input_eval: tf.Tensor([[1]], shape=(1, 1), dtype=int32)   \n",
      "(1, 1, 65)  (1, 65)  (1, 65) 51   input_eval: tf.Tensor([[51]], shape=(1, 1), dtype=int32)  m\n",
      "(1, 1, 65)  (1, 65)  (1, 65) 53   input_eval: tf.Tensor([[53]], shape=(1, 1), dtype=int32)  o\n",
      "(1, 1, 65)  (1, 65)  (1, 65) 56   input_eval: tf.Tensor([[56]], shape=(1, 1), dtype=int32)  r\n",
      "(1, 1, 65)  (1, 65)  (1, 65) 43   input_eval: tf.Tensor([[43]], shape=(1, 1), dtype=int32)  e\n",
      "(1, 1, 65)  (1, 65)  (1, 65) 2   input_eval: tf.Tensor([[2]], shape=(1, 1), dtype=int32)  !\n",
      "(1, 1, 65)  (1, 65)  (1, 65) 0   input_eval: tf.Tensor([[0]], shape=(1, 1), dtype=int32)  \n",
      "\n",
      "(1, 1, 65)  (1, 65)  (1, 65) 32   input_eval: tf.Tensor([[32]], shape=(1, 1), dtype=int32)  T\n",
      "(1, 1, 65)  (1, 65)  (1, 65) 46   input_eval: tf.Tensor([[46]], shape=(1, 1), dtype=int32)  h\n",
      "(1, 1, 65)  (1, 65)  (1, 65) 53   input_eval: tf.Tensor([[53]], shape=(1, 1), dtype=int32)  o\n",
      "(1, 1, 65)  (1, 65)  (1, 65) 59   input_eval: tf.Tensor([[59]], shape=(1, 1), dtype=int32)  u\n",
      "(1, 1, 65)  (1, 65)  (1, 65) 1   input_eval: tf.Tensor([[1]], shape=(1, 1), dtype=int32)   \n",
      "(1, 1, 65)  (1, 65)  (1, 65) 57   input_eval: tf.Tensor([[57]], shape=(1, 1), dtype=int32)  s\n",
      "(1, 1, 65)  (1, 65)  (1, 65) 53   input_eval: tf.Tensor([[53]], shape=(1, 1), dtype=int32)  o\n",
      "(1, 1, 65)  (1, 65)  (1, 65) 56   input_eval: tf.Tensor([[56]], shape=(1, 1), dtype=int32)  r\n",
      "(1, 1, 65)  (1, 65)  (1, 65) 58   input_eval: tf.Tensor([[58]], shape=(1, 1), dtype=int32)  t\n",
      "(1, 1, 65)  (1, 65)  (1, 65) 1   input_eval: tf.Tensor([[1]], shape=(1, 1), dtype=int32)   \n",
      "(1, 1, 65)  (1, 65)  (1, 65) 57   input_eval: tf.Tensor([[57]], shape=(1, 1), dtype=int32)  s\n",
      "(1, 1, 65)  (1, 65)  (1, 65) 58   input_eval: tf.Tensor([[58]], shape=(1, 1), dtype=int32)  t\n",
      "(1, 1, 65)  (1, 65)  (1, 65) 39   input_eval: tf.Tensor([[39]], shape=(1, 1), dtype=int32)  a\n",
      "(1, 1, 65)  (1, 65)  (1, 65) 52   input_eval: tf.Tensor([[52]], shape=(1, 1), dtype=int32)  n\n",
      "(1, 1, 65)  (1, 65)  (1, 65) 42   input_eval: tf.Tensor([[42]], shape=(1, 1), dtype=int32)  d\n",
      "(1, 1, 65)  (1, 65)  (1, 65) 57   input_eval: tf.Tensor([[57]], shape=(1, 1), dtype=int32)  s\n",
      "(1, 1, 65)  (1, 65)  (1, 65) 6   input_eval: tf.Tensor([[6]], shape=(1, 1), dtype=int32)  ,\n",
      "(1, 1, 65)  (1, 65)  (1, 65) 1   input_eval: tf.Tensor([[1]], shape=(1, 1), dtype=int32)   \n",
      "(1, 1, 65)  (1, 65)  (1, 65) 40   input_eval: tf.Tensor([[40]], shape=(1, 1), dtype=int32)  b\n",
      "(1, 1, 65)  (1, 65)  (1, 65) 59   input_eval: tf.Tensor([[59]], shape=(1, 1), dtype=int32)  u\n",
      "(1, 1, 65)  (1, 65)  (1, 65) 58   input_eval: tf.Tensor([[58]], shape=(1, 1), dtype=int32)  t\n",
      "(1, 1, 65)  (1, 65)  (1, 65) 1   input_eval: tf.Tensor([[1]], shape=(1, 1), dtype=int32)   \n",
      "(1, 1, 65)  (1, 65)  (1, 65) 57   input_eval: tf.Tensor([[57]], shape=(1, 1), dtype=int32)  s\n",
      "(1, 1, 65)  (1, 65)  (1, 65) 53   input_eval: tf.Tensor([[53]], shape=(1, 1), dtype=int32)  o\n",
      "(1, 1, 65)  (1, 65)  (1, 65) 61   input_eval: tf.Tensor([[61]], shape=(1, 1), dtype=int32)  w\n",
      "(1, 1, 65)  (1, 65)  (1, 65) 39   input_eval: tf.Tensor([[39]], shape=(1, 1), dtype=int32)  a\n",
      "(1, 1, 65)  (1, 65)  (1, 65) 56   input_eval: tf.Tensor([[56]], shape=(1, 1), dtype=int32)  r\n",
      "(1, 1, 65)  (1, 65)  (1, 65) 42   input_eval: tf.Tensor([[42]], shape=(1, 1), dtype=int32)  d\n",
      "(1, 1, 65)  (1, 65)  (1, 65) 47   input_eval: tf.Tensor([[47]], shape=(1, 1), dtype=int32)  i\n",
      "(1, 1, 65)  (1, 65)  (1, 65) 52   input_eval: tf.Tensor([[52]], shape=(1, 1), dtype=int32)  n\n",
      "(1, 1, 65)  (1, 65)  (1, 65) 45   input_eval: tf.Tensor([[45]], shape=(1, 1), dtype=int32)  g\n",
      "(1, 1, 65)  (1, 65)  (1, 65) 1   input_eval: tf.Tensor([[1]], shape=(1, 1), dtype=int32)   \n",
      "(1, 1, 65)  (1, 65)  (1, 65) 39   input_eval: tf.Tensor([[39]], shape=(1, 1), dtype=int32)  a\n",
      "(1, 1, 65)  (1, 65)  (1, 65) 50   input_eval: tf.Tensor([[50]], shape=(1, 1), dtype=int32)  l\n",
      "(1, 1, 65)  (1, 65)  (1, 65) 50   input_eval: tf.Tensor([[50]], shape=(1, 1), dtype=int32)  l\n",
      "(1, 1, 65)  (1, 65)  (1, 65) 1   input_eval: tf.Tensor([[1]], shape=(1, 1), dtype=int32)   \n",
      "(1, 1, 65)  (1, 65)  (1, 65) 52   input_eval: tf.Tensor([[52]], shape=(1, 1), dtype=int32)  n\n",
      "(1, 1, 65)  (1, 65)  (1, 65) 47   input_eval: tf.Tensor([[47]], shape=(1, 1), dtype=int32)  i\n",
      "(1, 1, 65)  (1, 65)  (1, 65) 45   input_eval: tf.Tensor([[45]], shape=(1, 1), dtype=int32)  g\n",
      "(1, 1, 65)  (1, 65)  (1, 65) 46   input_eval: tf.Tensor([[46]], shape=(1, 1), dtype=int32)  h\n",
      "(1, 1, 65)  (1, 65)  (1, 65) 58   input_eval: tf.Tensor([[58]], shape=(1, 1), dtype=int32)  t\n",
      "(1, 1, 65)  (1, 65)  (1, 65) 0   input_eval: tf.Tensor([[0]], shape=(1, 1), dtype=int32)  \n",
      "\n",
      "(1, 1, 65)  (1, 65)  (1, 65) 20   input_eval: tf.Tensor([[20]], shape=(1, 1), dtype=int32)  H\n",
      "(1, 1, 65)  (1, 65)  (1, 65) 47   input_eval: tf.Tensor([[47]], shape=(1, 1), dtype=int32)  i\n",
      "(1, 1, 65)  (1, 65)  (1, 65) 44   input_eval: tf.Tensor([[44]], shape=(1, 1), dtype=int32)  f\n",
      "(1, 1, 65)  (1, 65)  (1, 65) 43   input_eval: tf.Tensor([[43]], shape=(1, 1), dtype=int32)  e\n",
      "(1, 1, 65)  (1, 65)  (1, 65) 1   input_eval: tf.Tensor([[1]], shape=(1, 1), dtype=int32)   \n",
      "(1, 1, 65)  (1, 65)  (1, 65) 56   input_eval: tf.Tensor([[56]], shape=(1, 1), dtype=int32)  r\n",
      "(1, 1, 65)  (1, 65)  (1, 65) 39   input_eval: tf.Tensor([[39]], shape=(1, 1), dtype=int32)  a\n",
      "(1, 1, 65)  (1, 65)  (1, 65) 58   input_eval: tf.Tensor([[58]], shape=(1, 1), dtype=int32)  t\n",
      "(1, 1, 65)  (1, 65)  (1, 65) 46   input_eval: tf.Tensor([[46]], shape=(1, 1), dtype=int32)  h\n",
      "(1, 1, 65)  (1, 65)  (1, 65) 43   input_eval: tf.Tensor([[43]], shape=(1, 1), dtype=int32)  e\n",
      "(1, 1, 65)  (1, 65)  (1, 65) 56   input_eval: tf.Tensor([[56]], shape=(1, 1), dtype=int32)  r\n",
      "(1, 1, 65)  (1, 65)  (1, 65) 6   input_eval: tf.Tensor([[6]], shape=(1, 1), dtype=int32)  ,\n",
      "(1, 1, 65)  (1, 65)  (1, 65) 1   input_eval: tf.Tensor([[1]], shape=(1, 1), dtype=int32)   \n",
      "(1, 1, 65)  (1, 65)  (1, 65) 39   input_eval: tf.Tensor([[39]], shape=(1, 1), dtype=int32)  a\n",
      "(1, 1, 65)  (1, 65)  (1, 65) 52   input_eval: tf.Tensor([[52]], shape=(1, 1), dtype=int32)  n\n",
      "(1, 1, 65)  (1, 65)  (1, 65) 63   input_eval: tf.Tensor([[63]], shape=(1, 1), dtype=int32)  y\n",
      "(1, 1, 65)  (1, 65)  (1, 65) 1   input_eval: tf.Tensor([[1]], shape=(1, 1), dtype=int32)   \n",
      "(1, 1, 65)  (1, 65)  (1, 65) 51   input_eval: tf.Tensor([[51]], shape=(1, 1), dtype=int32)  m\n",
      "(1, 1, 65)  (1, 65)  (1, 65) 39   input_eval: tf.Tensor([[39]], shape=(1, 1), dtype=int32)  a\n",
      "(1, 1, 65)  (1, 65)  (1, 65) 52   input_eval: tf.Tensor([[52]], shape=(1, 1), dtype=int32)  n\n",
      "(1, 1, 65)  (1, 65)  (1, 65) 1   input_eval: tf.Tensor([[1]], shape=(1, 1), dtype=int32)   \n",
      "(1, 1, 65)  (1, 65)  (1, 65) 52   input_eval: tf.Tensor([[52]], shape=(1, 1), dtype=int32)  n\n",
      "(1, 1, 65)  (1, 65)  (1, 65) 43   input_eval: tf.Tensor([[43]], shape=(1, 1), dtype=int32)  e\n",
      "(1, 1, 65)  (1, 65)  (1, 65) 45   input_eval: tf.Tensor([[45]], shape=(1, 1), dtype=int32)  g\n",
      "(1, 1, 65)  (1, 65)  (1, 65) 50   input_eval: tf.Tensor([[50]], shape=(1, 1), dtype=int32)  l\n",
      "(1, 1, 65)  (1, 65)  (1, 65) 43   input_eval: tf.Tensor([[43]], shape=(1, 1), dtype=int32)  e\n",
      "(1, 1, 65)  (1, 65)  (1, 65) 41   input_eval: tf.Tensor([[41]], shape=(1, 1), dtype=int32)  c\n",
      "(1, 1, 65)  (1, 65)  (1, 65) 58   input_eval: tf.Tensor([[58]], shape=(1, 1), dtype=int32)  t\n",
      "(1, 1, 65)  (1, 65)  (1, 65) 47   input_eval: tf.Tensor([[47]], shape=(1, 1), dtype=int32)  i\n",
      "(1, 1, 65)  (1, 65)  (1, 65) 52   input_eval: tf.Tensor([[52]], shape=(1, 1), dtype=int32)  n\n"
     ]
    },
    {
     "name": "stdout",
     "output_type": "stream",
     "text": [
      "(1, 1, 65)  (1, 65)  (1, 65) 45   input_eval: tf.Tensor([[45]], shape=(1, 1), dtype=int32)  g\n",
      "(1, 1, 65)  (1, 65)  (1, 65) 1   input_eval: tf.Tensor([[1]], shape=(1, 1), dtype=int32)   \n",
      "(1, 1, 65)  (1, 65)  (1, 65) 52   input_eval: tf.Tensor([[52]], shape=(1, 1), dtype=int32)  n\n",
      "(1, 1, 65)  (1, 65)  (1, 65) 53   input_eval: tf.Tensor([[53]], shape=(1, 1), dtype=int32)  o\n",
      "(1, 1, 65)  (1, 65)  (1, 65) 58   input_eval: tf.Tensor([[58]], shape=(1, 1), dtype=int32)  t\n",
      "(1, 1, 65)  (1, 65)  (1, 65) 12   input_eval: tf.Tensor([[12]], shape=(1, 1), dtype=int32)  ?\n",
      "(1, 1, 65)  (1, 65)  (1, 65) 0   input_eval: tf.Tensor([[0]], shape=(1, 1), dtype=int32)  \n",
      "\n",
      "(1, 1, 65)  (1, 65)  (1, 65) 31   input_eval: tf.Tensor([[31]], shape=(1, 1), dtype=int32)  S\n",
      "(1, 1, 65)  (1, 65)  (1, 65) 47   input_eval: tf.Tensor([[47]], shape=(1, 1), dtype=int32)  i\n",
      "(1, 1, 65)  (1, 65)  (1, 65) 56   input_eval: tf.Tensor([[56]], shape=(1, 1), dtype=int32)  r\n",
      "(1, 1, 65)  (1, 65)  (1, 65) 56   input_eval: tf.Tensor([[56]], shape=(1, 1), dtype=int32)  r\n",
      "(1, 1, 65)  (1, 65)  (1, 65) 39   input_eval: tf.Tensor([[39]], shape=(1, 1), dtype=int32)  a\n",
      "(1, 1, 65)  (1, 65)  (1, 65) 46   input_eval: tf.Tensor([[46]], shape=(1, 1), dtype=int32)  h\n",
      "(1, 1, 65)  (1, 65)  (1, 65) 6   input_eval: tf.Tensor([[6]], shape=(1, 1), dtype=int32)  ,\n",
      "(1, 1, 65)  (1, 65)  (1, 65) 1   input_eval: tf.Tensor([[1]], shape=(1, 1), dtype=int32)   \n",
      "(1, 1, 65)  (1, 65)  (1, 65) 19   input_eval: tf.Tensor([[19]], shape=(1, 1), dtype=int32)  G\n",
      "(1, 1, 65)  (1, 65)  (1, 65) 56   input_eval: tf.Tensor([[56]], shape=(1, 1), dtype=int32)  r\n",
      "(1, 1, 65)  (1, 65)  (1, 65) 43   input_eval: tf.Tensor([[43]], shape=(1, 1), dtype=int32)  e\n",
      "(1, 1, 65)  (1, 65)  (1, 65) 51   input_eval: tf.Tensor([[51]], shape=(1, 1), dtype=int32)  m\n",
      "(1, 1, 65)  (1, 65)  (1, 65) 47   input_eval: tf.Tensor([[47]], shape=(1, 1), dtype=int32)  i\n",
      "(1, 1, 65)  (1, 65)  (1, 65) 53   input_eval: tf.Tensor([[53]], shape=(1, 1), dtype=int32)  o\n",
      "(1, 1, 65)  (1, 65)  (1, 65) 10   input_eval: tf.Tensor([[10]], shape=(1, 1), dtype=int32)  :\n",
      "(1, 1, 65)  (1, 65)  (1, 65) 0   input_eval: tf.Tensor([[0]], shape=(1, 1), dtype=int32)  \n",
      "\n",
      "(1, 1, 65)  (1, 65)  (1, 65) 14   input_eval: tf.Tensor([[14]], shape=(1, 1), dtype=int32)  B\n",
      "(1, 1, 65)  (1, 65)  (1, 65) 59   input_eval: tf.Tensor([[59]], shape=(1, 1), dtype=int32)  u\n",
      "(1, 1, 65)  (1, 65)  (1, 65) 58   input_eval: tf.Tensor([[58]], shape=(1, 1), dtype=int32)  t\n",
      "(1, 1, 65)  (1, 65)  (1, 65) 1   input_eval: tf.Tensor([[1]], shape=(1, 1), dtype=int32)   \n",
      "(1, 1, 65)  (1, 65)  (1, 65) 63   input_eval: tf.Tensor([[63]], shape=(1, 1), dtype=int32)  y\n",
      "(1, 1, 65)  (1, 65)  (1, 65) 43   input_eval: tf.Tensor([[43]], shape=(1, 1), dtype=int32)  e\n",
      "(1, 1, 65)  (1, 65)  (1, 65) 58   input_eval: tf.Tensor([[58]], shape=(1, 1), dtype=int32)  t\n",
      "(1, 1, 65)  (1, 65)  (1, 65) 1   input_eval: tf.Tensor([[1]], shape=(1, 1), dtype=int32)   \n",
      "(1, 1, 65)  (1, 65)  (1, 65) 57   input_eval: tf.Tensor([[57]], shape=(1, 1), dtype=int32)  s\n",
      "(1, 1, 65)  (1, 65)  (1, 65) 61   input_eval: tf.Tensor([[61]], shape=(1, 1), dtype=int32)  w\n",
      "(1, 1, 65)  (1, 65)  (1, 65) 43   input_eval: tf.Tensor([[43]], shape=(1, 1), dtype=int32)  e\n",
      "(1, 1, 65)  (1, 65)  (1, 65) 39   input_eval: tf.Tensor([[39]], shape=(1, 1), dtype=int32)  a\n",
      "(1, 1, 65)  (1, 65)  (1, 65) 56   input_eval: tf.Tensor([[56]], shape=(1, 1), dtype=int32)  r\n",
      "(1, 1, 65)  (1, 65)  (1, 65) 1   input_eval: tf.Tensor([[1]], shape=(1, 1), dtype=int32)   \n",
      "(1, 1, 65)  (1, 65)  (1, 65) 52   input_eval: tf.Tensor([[52]], shape=(1, 1), dtype=int32)  n\n",
      "(1, 1, 65)  (1, 65)  (1, 65) 53   input_eval: tf.Tensor([[53]], shape=(1, 1), dtype=int32)  o\n",
      "(1, 1, 65)  (1, 65)  (1, 65) 58   input_eval: tf.Tensor([[58]], shape=(1, 1), dtype=int32)  t\n",
      "(1, 1, 65)  (1, 65)  (1, 65) 6   input_eval: tf.Tensor([[6]], shape=(1, 1), dtype=int32)  ,\n",
      "(1, 1, 65)  (1, 65)  (1, 65) 1   input_eval: tf.Tensor([[1]], shape=(1, 1), dtype=int32)   \n",
      "(1, 1, 65)  (1, 65)  (1, 65) 59   input_eval: tf.Tensor([[59]], shape=(1, 1), dtype=int32)  u\n",
      "(1, 1, 65)  (1, 65)  (1, 65) 54   input_eval: tf.Tensor([[54]], shape=(1, 1), dtype=int32)  p\n",
      "(1, 1, 65)  (1, 65)  (1, 65) 53   input_eval: tf.Tensor([[53]], shape=(1, 1), dtype=int32)  o\n",
      "(1, 1, 65)  (1, 65)  (1, 65) 52   input_eval: tf.Tensor([[52]], shape=(1, 1), dtype=int32)  n\n",
      "(1, 1, 65)  (1, 65)  (1, 65) 2   input_eval: tf.Tensor([[2]], shape=(1, 1), dtype=int32)  !\n",
      "(1, 1, 65)  (1, 65)  (1, 65) 1   input_eval: tf.Tensor([[1]], shape=(1, 1), dtype=int32)   \n",
      "(1, 1, 65)  (1, 65)  (1, 65) 35   input_eval: tf.Tensor([[35]], shape=(1, 1), dtype=int32)  W\n",
      "(1, 1, 65)  (1, 65)  (1, 65) 46   input_eval: tf.Tensor([[46]], shape=(1, 1), dtype=int32)  h\n",
      "(1, 1, 65)  (1, 65)  (1, 65) 63   input_eval: tf.Tensor([[63]], shape=(1, 1), dtype=int32)  y\n",
      "(1, 1, 65)  (1, 65)  (1, 65) 1   input_eval: tf.Tensor([[1]], shape=(1, 1), dtype=int32)   \n",
      "(1, 1, 65)  (1, 65)  (1, 65) 53   input_eval: tf.Tensor([[53]], shape=(1, 1), dtype=int32)  o\n",
      "(1, 1, 65)  (1, 65)  (1, 65) 58   input_eval: tf.Tensor([[58]], shape=(1, 1), dtype=int32)  t\n",
      "(1, 1, 65)  (1, 65)  (1, 65) 46   input_eval: tf.Tensor([[46]], shape=(1, 1), dtype=int32)  h\n",
      "(1, 1, 65)  (1, 65)  (1, 65) 43   input_eval: tf.Tensor([[43]], shape=(1, 1), dtype=int32)  e\n",
      "(1, 1, 65)  (1, 65)  (1, 65) 56   input_eval: tf.Tensor([[56]], shape=(1, 1), dtype=int32)  r\n",
      "(1, 1, 65)  (1, 65)  (1, 65) 12   input_eval: tf.Tensor([[12]], shape=(1, 1), dtype=int32)  ?\n",
      "(1, 1, 65)  (1, 65)  (1, 65) 1   input_eval: tf.Tensor([[1]], shape=(1, 1), dtype=int32)   \n",
      "(1, 1, 65)  (1, 65)  (1, 65) 14   input_eval: tf.Tensor([[14]], shape=(1, 1), dtype=int32)  B\n",
      "(1, 1, 65)  (1, 65)  (1, 65) 59   input_eval: tf.Tensor([[59]], shape=(1, 1), dtype=int32)  u\n",
      "(1, 1, 65)  (1, 65)  (1, 65) 58   input_eval: tf.Tensor([[58]], shape=(1, 1), dtype=int32)  t\n",
      "(1, 1, 65)  (1, 65)  (1, 65) 6   input_eval: tf.Tensor([[6]], shape=(1, 1), dtype=int32)  ,\n",
      "(1, 1, 65)  (1, 65)  (1, 65) 1   input_eval: tf.Tensor([[1]], shape=(1, 1), dtype=int32)   \n",
      "(1, 1, 65)  (1, 65)  (1, 65) 47   input_eval: tf.Tensor([[47]], shape=(1, 1), dtype=int32)  i\n",
      "(1, 1, 65)  (1, 65)  (1, 65) 52   input_eval: tf.Tensor([[52]], shape=(1, 1), dtype=int32)  n\n",
      "(1, 1, 65)  (1, 65)  (1, 65) 1   input_eval: tf.Tensor([[1]], shape=(1, 1), dtype=int32)   \n",
      "(1, 1, 65)  (1, 65)  (1, 65) 45   input_eval: tf.Tensor([[45]], shape=(1, 1), dtype=int32)  g\n",
      "(1, 1, 65)  (1, 65)  (1, 65) 53   input_eval: tf.Tensor([[53]], shape=(1, 1), dtype=int32)  o\n",
      "(1, 1, 65)  (1, 65)  (1, 65) 53   input_eval: tf.Tensor([[53]], shape=(1, 1), dtype=int32)  o\n",
      "(1, 1, 65)  (1, 65)  (1, 65) 42   input_eval: tf.Tensor([[42]], shape=(1, 1), dtype=int32)  d\n",
      "(1, 1, 65)  (1, 65)  (1, 65) 1   input_eval: tf.Tensor([[1]], shape=(1, 1), dtype=int32)   \n",
      "(1, 1, 65)  (1, 65)  (1, 65) 17   input_eval: tf.Tensor([[17]], shape=(1, 1), dtype=int32)  E\n",
      "(1, 1, 65)  (1, 65)  (1, 65) 42   input_eval: tf.Tensor([[42]], shape=(1, 1), dtype=int32)  d\n",
      "(1, 1, 65)  (1, 65)  (1, 65) 61   input_eval: tf.Tensor([[61]], shape=(1, 1), dtype=int32)  w\n",
      "(1, 1, 65)  (1, 65)  (1, 65) 39   input_eval: tf.Tensor([[39]], shape=(1, 1), dtype=int32)  a\n",
      "(1, 1, 65)  (1, 65)  (1, 65) 56   input_eval: tf.Tensor([[56]], shape=(1, 1), dtype=int32)  r\n",
      "(1, 1, 65)  (1, 65)  (1, 65) 42   input_eval: tf.Tensor([[42]], shape=(1, 1), dtype=int32)  d\n",
      "(1, 1, 65)  (1, 65)  (1, 65) 1   input_eval: tf.Tensor([[1]], shape=(1, 1), dtype=int32)   \n",
      "(1, 1, 65)  (1, 65)  (1, 65) 46   input_eval: tf.Tensor([[46]], shape=(1, 1), dtype=int32)  h\n",
      "(1, 1, 65)  (1, 65)  (1, 65) 43   input_eval: tf.Tensor([[43]], shape=(1, 1), dtype=int32)  e\n",
      "(1, 1, 65)  (1, 65)  (1, 65) 56   input_eval: tf.Tensor([[56]], shape=(1, 1), dtype=int32)  r\n",
      "(1, 1, 65)  (1, 65)  (1, 65) 43   input_eval: tf.Tensor([[43]], shape=(1, 1), dtype=int32)  e\n",
      "(1, 1, 65)  (1, 65)  (1, 65) 6   input_eval: tf.Tensor([[6]], shape=(1, 1), dtype=int32)  ,\n",
      "(1, 1, 65)  (1, 65)  (1, 65) 1   input_eval: tf.Tensor([[1]], shape=(1, 1), dtype=int32)   \n",
      "(1, 1, 65)  (1, 65)  (1, 65) 58   input_eval: tf.Tensor([[58]], shape=(1, 1), dtype=int32)  t\n",
      "(1, 1, 65)  (1, 65)  (1, 65) 46   input_eval: tf.Tensor([[46]], shape=(1, 1), dtype=int32)  h\n",
      "(1, 1, 65)  (1, 65)  (1, 65) 39   input_eval: tf.Tensor([[39]], shape=(1, 1), dtype=int32)  a\n",
      "(1, 1, 65)  (1, 65)  (1, 65) 58   input_eval: tf.Tensor([[58]], shape=(1, 1), dtype=int32)  t\n"
     ]
    },
    {
     "name": "stdout",
     "output_type": "stream",
     "text": [
      "(1, 1, 65)  (1, 65)  (1, 65) 1   input_eval: tf.Tensor([[1]], shape=(1, 1), dtype=int32)   \n",
      "(1, 1, 65)  (1, 65)  (1, 65) 51   input_eval: tf.Tensor([[51]], shape=(1, 1), dtype=int32)  m\n",
      "(1, 1, 65)  (1, 65)  (1, 65) 63   input_eval: tf.Tensor([[63]], shape=(1, 1), dtype=int32)  y\n",
      "(1, 1, 65)  (1, 65)  (1, 65) 1   input_eval: tf.Tensor([[1]], shape=(1, 1), dtype=int32)   \n",
      "(1, 1, 65)  (1, 65)  (1, 65) 42   input_eval: tf.Tensor([[42]], shape=(1, 1), dtype=int32)  d\n",
      "(1, 1, 65)  (1, 65)  (1, 65) 39   input_eval: tf.Tensor([[39]], shape=(1, 1), dtype=int32)  a\n",
      "(1, 1, 65)  (1, 65)  (1, 65) 51   input_eval: tf.Tensor([[51]], shape=(1, 1), dtype=int32)  m\n",
      "(1, 1, 65)  (1, 65)  (1, 65) 0   input_eval: tf.Tensor([[0]], shape=(1, 1), dtype=int32)  \n",
      "\n",
      "(1, 1, 65)  (1, 65)  (1, 65) 24   input_eval: tf.Tensor([[24]], shape=(1, 1), dtype=int32)  L\n",
      "(1, 1, 65)  (1, 65)  (1, 65) 47   input_eval: tf.Tensor([[47]], shape=(1, 1), dtype=int32)  i\n",
      "(1, 1, 65)  (1, 65)  (1, 65) 60   input_eval: tf.Tensor([[60]], shape=(1, 1), dtype=int32)  v\n",
      "(1, 1, 65)  (1, 65)  (1, 65) 47   input_eval: tf.Tensor([[47]], shape=(1, 1), dtype=int32)  i\n",
      "(1, 1, 65)  (1, 65)  (1, 65) 52   input_eval: tf.Tensor([[52]], shape=(1, 1), dtype=int32)  n\n",
      "(1, 1, 65)  (1, 65)  (1, 65) 45   input_eval: tf.Tensor([[45]], shape=(1, 1), dtype=int32)  g\n",
      "(1, 1, 65)  (1, 65)  (1, 65) 1   input_eval: tf.Tensor([[1]], shape=(1, 1), dtype=int32)   \n",
      "(1, 1, 65)  (1, 65)  (1, 65) 39   input_eval: tf.Tensor([[39]], shape=(1, 1), dtype=int32)  a\n",
      "(1, 1, 65)  (1, 65)  (1, 65) 58   input_eval: tf.Tensor([[58]], shape=(1, 1), dtype=int32)  t\n",
      "(1, 1, 65)  (1, 65)  (1, 65) 47   input_eval: tf.Tensor([[47]], shape=(1, 1), dtype=int32)  i\n",
      "(1, 1, 65)  (1, 65)  (1, 65) 41   input_eval: tf.Tensor([[41]], shape=(1, 1), dtype=int32)  c\n",
      "(1, 1, 65)  (1, 65)  (1, 65) 50   input_eval: tf.Tensor([[50]], shape=(1, 1), dtype=int32)  l\n",
      "(1, 1, 65)  (1, 65)  (1, 65) 47   input_eval: tf.Tensor([[47]], shape=(1, 1), dtype=int32)  i\n",
      "(1, 1, 65)  (1, 65)  (1, 65) 52   input_eval: tf.Tensor([[52]], shape=(1, 1), dtype=int32)  n\n",
      "(1, 1, 65)  (1, 65)  (1, 65) 43   input_eval: tf.Tensor([[43]], shape=(1, 1), dtype=int32)  e\n",
      "(1, 1, 65)  (1, 65)  (1, 65) 42   input_eval: tf.Tensor([[42]], shape=(1, 1), dtype=int32)  d\n",
      "(1, 1, 65)  (1, 65)  (1, 65) 1   input_eval: tf.Tensor([[1]], shape=(1, 1), dtype=int32)   \n",
      "(1, 1, 65)  (1, 65)  (1, 65) 40   input_eval: tf.Tensor([[40]], shape=(1, 1), dtype=int32)  b\n",
      "(1, 1, 65)  (1, 65)  (1, 65) 43   input_eval: tf.Tensor([[43]], shape=(1, 1), dtype=int32)  e\n",
      "(1, 1, 65)  (1, 65)  (1, 65) 39   input_eval: tf.Tensor([[39]], shape=(1, 1), dtype=int32)  a\n",
      "(1, 1, 65)  (1, 65)  (1, 65) 59   input_eval: tf.Tensor([[59]], shape=(1, 1), dtype=int32)  u\n",
      "(1, 1, 65)  (1, 65)  (1, 65) 58   input_eval: tf.Tensor([[58]], shape=(1, 1), dtype=int32)  t\n",
      "(1, 1, 65)  (1, 65)  (1, 65) 47   input_eval: tf.Tensor([[47]], shape=(1, 1), dtype=int32)  i\n",
      "(1, 1, 65)  (1, 65)  (1, 65) 44   input_eval: tf.Tensor([[44]], shape=(1, 1), dtype=int32)  f\n",
      "(1, 1, 65)  (1, 65)  (1, 65) 59   input_eval: tf.Tensor([[59]], shape=(1, 1), dtype=int32)  u\n",
      "(1, 1, 65)  (1, 65)  (1, 65) 50   input_eval: tf.Tensor([[50]], shape=(1, 1), dtype=int32)  l\n",
      "(1, 1, 65)  (1, 65)  (1, 65) 10   input_eval: tf.Tensor([[10]], shape=(1, 1), dtype=int32)  :\n",
      "(1, 1, 65)  (1, 65)  (1, 65) 0   input_eval: tf.Tensor([[0]], shape=(1, 1), dtype=int32)  \n",
      "\n",
      "(1, 1, 65)  (1, 65)  (1, 65) 37   input_eval: tf.Tensor([[37]], shape=(1, 1), dtype=int32)  Y\n",
      "(1, 1, 65)  (1, 65)  (1, 65) 53   input_eval: tf.Tensor([[53]], shape=(1, 1), dtype=int32)  o\n",
      "(1, 1, 65)  (1, 65)  (1, 65) 59   input_eval: tf.Tensor([[59]], shape=(1, 1), dtype=int32)  u\n",
      "(1, 1, 65)  (1, 65)  (1, 65) 1   input_eval: tf.Tensor([[1]], shape=(1, 1), dtype=int32)   \n",
      "(1, 1, 65)  (1, 65)  (1, 65) 60   input_eval: tf.Tensor([[60]], shape=(1, 1), dtype=int32)  v\n",
      "(1, 1, 65)  (1, 65)  (1, 65) 47   input_eval: tf.Tensor([[47]], shape=(1, 1), dtype=int32)  i\n",
      "(1, 1, 65)  (1, 65)  (1, 65) 50   input_eval: tf.Tensor([[50]], shape=(1, 1), dtype=int32)  l\n",
      "(1, 1, 65)  (1, 65)  (1, 65) 50   input_eval: tf.Tensor([[50]], shape=(1, 1), dtype=int32)  l\n",
      "(1, 1, 65)  (1, 65)  (1, 65) 47   input_eval: tf.Tensor([[47]], shape=(1, 1), dtype=int32)  i\n",
      "(1, 1, 65)  (1, 65)  (1, 65) 52   input_eval: tf.Tensor([[52]], shape=(1, 1), dtype=int32)  n\n",
      "(1, 1, 65)  (1, 65)  (1, 65) 45   input_eval: tf.Tensor([[45]], shape=(1, 1), dtype=int32)  g\n",
      "(1, 1, 65)  (1, 65)  (1, 65) 1   input_eval: tf.Tensor([[1]], shape=(1, 1), dtype=int32)   \n",
      "(1, 1, 65)  (1, 65)  (1, 65) 58   input_eval: tf.Tensor([[58]], shape=(1, 1), dtype=int32)  t\n",
      "(1, 1, 65)  (1, 65)  (1, 65) 46   input_eval: tf.Tensor([[46]], shape=(1, 1), dtype=int32)  h\n",
      "(1, 1, 65)  (1, 65)  (1, 65) 43   input_eval: tf.Tensor([[43]], shape=(1, 1), dtype=int32)  e\n",
      "(1, 1, 65)  (1, 65)  (1, 65) 43   input_eval: tf.Tensor([[43]], shape=(1, 1), dtype=int32)  e\n",
      "(1, 1, 65)  (1, 65)  (1, 65) 11   input_eval: tf.Tensor([[11]], shape=(1, 1), dtype=int32)  ;\n",
      "(1, 1, 65)  (1, 65)  (1, 65) 1   input_eval: tf.Tensor([[1]], shape=(1, 1), dtype=int32)   \n",
      "(1, 1, 65)  (1, 65)  (1, 65) 41   input_eval: tf.Tensor([[41]], shape=(1, 1), dtype=int32)  c\n",
      "(1, 1, 65)  (1, 65)  (1, 65) 46   input_eval: tf.Tensor([[46]], shape=(1, 1), dtype=int32)  h\n",
      "(1, 1, 65)  (1, 65)  (1, 65) 53   input_eval: tf.Tensor([[53]], shape=(1, 1), dtype=int32)  o\n",
      "(1, 1, 65)  (1, 65)  (1, 65) 53   input_eval: tf.Tensor([[53]], shape=(1, 1), dtype=int32)  o\n",
      "(1, 1, 65)  (1, 65)  (1, 65) 57   input_eval: tf.Tensor([[57]], shape=(1, 1), dtype=int32)  s\n",
      "(1, 1, 65)  (1, 65)  (1, 65) 43   input_eval: tf.Tensor([[43]], shape=(1, 1), dtype=int32)  e\n",
      "(1, 1, 65)  (1, 65)  (1, 65) 1   input_eval: tf.Tensor([[1]], shape=(1, 1), dtype=int32)   \n",
      "(1, 1, 65)  (1, 65)  (1, 65) 40   input_eval: tf.Tensor([[40]], shape=(1, 1), dtype=int32)  b\n",
      "(1, 1, 65)  (1, 65)  (1, 65) 59   input_eval: tf.Tensor([[59]], shape=(1, 1), dtype=int32)  u\n",
      "(1, 1, 65)  (1, 65)  (1, 65) 58   input_eval: tf.Tensor([[58]], shape=(1, 1), dtype=int32)  t\n",
      "(1, 1, 65)  (1, 65)  (1, 65) 1   input_eval: tf.Tensor([[1]], shape=(1, 1), dtype=int32)   \n",
      "(1, 1, 65)  (1, 65)  (1, 65) 40   input_eval: tf.Tensor([[40]], shape=(1, 1), dtype=int32)  b\n",
      "(1, 1, 65)  (1, 65)  (1, 65) 53   input_eval: tf.Tensor([[53]], shape=(1, 1), dtype=int32)  o\n",
      "(1, 1, 65)  (1, 65)  (1, 65) 50   input_eval: tf.Tensor([[50]], shape=(1, 1), dtype=int32)  l\n",
      "(1, 1, 65)  (1, 65)  (1, 65) 47   input_eval: tf.Tensor([[47]], shape=(1, 1), dtype=int32)  i\n",
      "(1, 1, 65)  (1, 65)  (1, 65) 52   input_eval: tf.Tensor([[52]], shape=(1, 1), dtype=int32)  n\n",
      "(1, 1, 65)  (1, 65)  (1, 65) 45   input_eval: tf.Tensor([[45]], shape=(1, 1), dtype=int32)  g\n",
      "(1, 1, 65)  (1, 65)  (1, 65) 8   input_eval: tf.Tensor([[8]], shape=(1, 1), dtype=int32)  .\n",
      "(1, 1, 65)  (1, 65)  (1, 65) 0   input_eval: tf.Tensor([[0]], shape=(1, 1), dtype=int32)  \n",
      "\n",
      "(1, 1, 65)  (1, 65)  (1, 65) 0   input_eval: tf.Tensor([[0]], shape=(1, 1), dtype=int32)  \n",
      "\n",
      "(1, 1, 65)  (1, 65)  (1, 65) 17   input_eval: tf.Tensor([[17]], shape=(1, 1), dtype=int32)  E\n",
      "(1, 1, 65)  (1, 65)  (1, 65) 31   input_eval: tf.Tensor([[31]], shape=(1, 1), dtype=int32)  S\n",
      "(1, 1, 65)  (1, 65)  (1, 65) 15   input_eval: tf.Tensor([[15]], shape=(1, 1), dtype=int32)  C\n",
      "(1, 1, 65)  (1, 65)  (1, 65) 13   input_eval: tf.Tensor([[13]], shape=(1, 1), dtype=int32)  A\n",
      "(1, 1, 65)  (1, 65)  (1, 65) 24   input_eval: tf.Tensor([[24]], shape=(1, 1), dtype=int32)  L\n",
      "(1, 1, 65)  (1, 65)  (1, 65) 33   input_eval: tf.Tensor([[33]], shape=(1, 1), dtype=int32)  U\n",
      "(1, 1, 65)  (1, 65)  (1, 65) 31   input_eval: tf.Tensor([[31]], shape=(1, 1), dtype=int32)  S\n",
      "(1, 1, 65)  (1, 65)  (1, 65) 10   input_eval: tf.Tensor([[10]], shape=(1, 1), dtype=int32)  :\n",
      "(1, 1, 65)  (1, 65)  (1, 65) 0   input_eval: tf.Tensor([[0]], shape=(1, 1), dtype=int32)  \n",
      "\n",
      "(1, 1, 65)  (1, 65)  (1, 65) 26   input_eval: tf.Tensor([[26]], shape=(1, 1), dtype=int32)  N\n",
      "(1, 1, 65)  (1, 65)  (1, 65) 53   input_eval: tf.Tensor([[53]], shape=(1, 1), dtype=int32)  o\n",
      "(1, 1, 65)  (1, 65)  (1, 65) 61   input_eval: tf.Tensor([[61]], shape=(1, 1), dtype=int32)  w\n",
      "(1, 1, 65)  (1, 65)  (1, 65) 1   input_eval: tf.Tensor([[1]], shape=(1, 1), dtype=int32)   \n",
      "(1, 1, 65)  (1, 65)  (1, 65) 21   input_eval: tf.Tensor([[21]], shape=(1, 1), dtype=int32)  I\n",
      "(1, 1, 65)  (1, 65)  (1, 65) 1   input_eval: tf.Tensor([[1]], shape=(1, 1), dtype=int32)   \n",
      "(1, 1, 65)  (1, 65)  (1, 65) 52   input_eval: tf.Tensor([[52]], shape=(1, 1), dtype=int32)  n\n",
      "(1, 1, 65)  (1, 65)  (1, 65) 53   input_eval: tf.Tensor([[53]], shape=(1, 1), dtype=int32)  o\n",
      "(1, 1, 65)  (1, 65)  (1, 65) 58   input_eval: tf.Tensor([[58]], shape=(1, 1), dtype=int32)  t\n",
      "(1, 1, 65)  (1, 65)  (1, 65) 1   input_eval: tf.Tensor([[1]], shape=(1, 1), dtype=int32)   \n",
      "(1, 1, 65)  (1, 65)  (1, 65) 51   input_eval: tf.Tensor([[51]], shape=(1, 1), dtype=int32)  m\n",
      "(1, 1, 65)  (1, 65)  (1, 65) 59   input_eval: tf.Tensor([[59]], shape=(1, 1), dtype=int32)  u\n",
      "(1, 1, 65)  (1, 65)  (1, 65) 41   input_eval: tf.Tensor([[41]], shape=(1, 1), dtype=int32)  c\n",
      "(1, 1, 65)  (1, 65)  (1, 65) 46   input_eval: tf.Tensor([[46]], shape=(1, 1), dtype=int32)  h\n",
      "(1, 1, 65)  (1, 65)  (1, 65) 1   input_eval: tf.Tensor([[1]], shape=(1, 1), dtype=int32)   \n"
     ]
    },
    {
     "name": "stdout",
     "output_type": "stream",
     "text": [
      "(1, 1, 65)  (1, 65)  (1, 65) 44   input_eval: tf.Tensor([[44]], shape=(1, 1), dtype=int32)  f\n",
      "(1, 1, 65)  (1, 65)  (1, 65) 53   input_eval: tf.Tensor([[53]], shape=(1, 1), dtype=int32)  o\n",
      "(1, 1, 65)  (1, 65)  (1, 65) 56   input_eval: tf.Tensor([[56]], shape=(1, 1), dtype=int32)  r\n",
      "(1, 1, 65)  (1, 65)  (1, 65) 45   input_eval: tf.Tensor([[45]], shape=(1, 1), dtype=int32)  g\n",
      "(1, 1, 65)  (1, 65)  (1, 65) 53   input_eval: tf.Tensor([[53]], shape=(1, 1), dtype=int32)  o\n",
      "(1, 1, 65)  (1, 65)  (1, 65) 58   input_eval: tf.Tensor([[58]], shape=(1, 1), dtype=int32)  t\n",
      "(1, 1, 65)  (1, 65)  (1, 65) 1   input_eval: tf.Tensor([[1]], shape=(1, 1), dtype=int32)   \n",
      "(1, 1, 65)  (1, 65)  (1, 65) 57   input_eval: tf.Tensor([[57]], shape=(1, 1), dtype=int32)  s\n",
      "(1, 1, 65)  (1, 65)  (1, 65) 43   input_eval: tf.Tensor([[43]], shape=(1, 1), dtype=int32)  e\n",
      "(1, 1, 65)  (1, 65)  (1, 65) 56   input_eval: tf.Tensor([[56]], shape=(1, 1), dtype=int32)  r\n",
      "(1, 1, 65)  (1, 65)  (1, 65) 8   input_eval: tf.Tensor([[8]], shape=(1, 1), dtype=int32)  .\n",
      "(1, 1, 65)  (1, 65)  (1, 65) 0   input_eval: tf.Tensor([[0]], shape=(1, 1), dtype=int32)  \n",
      "\n",
      "(1, 1, 65)  (1, 65)  (1, 65) 31   input_eval: tf.Tensor([[31]], shape=(1, 1), dtype=int32)  S\n",
      "(1, 1, 65)  (1, 65)  (1, 65) 39   input_eval: tf.Tensor([[39]], shape=(1, 1), dtype=int32)  a\n",
      "(1, 1, 65)  (1, 65)  (1, 65) 63   input_eval: tf.Tensor([[63]], shape=(1, 1), dtype=int32)  y\n",
      "(1, 1, 65)  (1, 65)  (1, 65) 1   input_eval: tf.Tensor([[1]], shape=(1, 1), dtype=int32)   \n",
      "(1, 1, 65)  (1, 65)  (1, 65) 58   input_eval: tf.Tensor([[58]], shape=(1, 1), dtype=int32)  t\n",
      "(1, 1, 65)  (1, 65)  (1, 65) 46   input_eval: tf.Tensor([[46]], shape=(1, 1), dtype=int32)  h\n",
      "(1, 1, 65)  (1, 65)  (1, 65) 39   input_eval: tf.Tensor([[39]], shape=(1, 1), dtype=int32)  a\n",
      "(1, 1, 65)  (1, 65)  (1, 65) 58   input_eval: tf.Tensor([[58]], shape=(1, 1), dtype=int32)  t\n",
      "(1, 1, 65)  (1, 65)  (1, 65) 1   input_eval: tf.Tensor([[1]], shape=(1, 1), dtype=int32)   \n",
      "(1, 1, 65)  (1, 65)  (1, 65) 58   input_eval: tf.Tensor([[58]], shape=(1, 1), dtype=int32)  t\n",
      "(1, 1, 65)  (1, 65)  (1, 65) 46   input_eval: tf.Tensor([[46]], shape=(1, 1), dtype=int32)  h\n",
      "(1, 1, 65)  (1, 65)  (1, 65) 43   input_eval: tf.Tensor([[43]], shape=(1, 1), dtype=int32)  e\n",
      "(1, 1, 65)  (1, 65)  (1, 65) 56   input_eval: tf.Tensor([[56]], shape=(1, 1), dtype=int32)  r\n",
      "(1, 1, 65)  (1, 65)  (1, 65) 43   input_eval: tf.Tensor([[43]], shape=(1, 1), dtype=int32)  e\n",
      "(1, 1, 65)  (1, 65)  (1, 65) 1   input_eval: tf.Tensor([[1]], shape=(1, 1), dtype=int32)   \n",
      "(1, 1, 65)  (1, 65)  (1, 65) 44   input_eval: tf.Tensor([[44]], shape=(1, 1), dtype=int32)  f\n",
      "\n",
      "ROMEO: first of Jantain's: Pitzut up!\n",
      "Your love is dead, and would more liberty, though you not off again.\n",
      "\n",
      "GRUMIO:\n",
      "Where ise your Romes are now away.\n",
      "\n",
      "PETRUCHIO:\n",
      "How fares my daughter with me, noble lord?\n",
      "\n",
      "PRIY:\n",
      "Why, sir: wo! now for our comminstantentice:\n",
      "I think, ashaman!\n",
      "\n",
      "Page:\n",
      "His name; leave outwaxd, I'll follow.\n",
      "\n",
      "PROSPERO:\n",
      "Adoptesion, mark; one virtuous love,\n",
      "But do not come.\n",
      "\n",
      "BRUTUS:\n",
      "And that I am a gentleman,\n",
      "To fine upon twicklate to the other.\n",
      "Cannot stand: but know me not.\n",
      "\n",
      "COMINIUS:\n",
      "Your worshipress by nature.\n",
      "\n",
      "IO:\n",
      "But now I mean, or else by usuripolI VIRGIENA:\n",
      "3 KING not mee.\n",
      "Your yiedy conceive, y since I say: love and unquarrel shoke\n",
      "Their pardon to the ords.\n",
      "\n",
      "BIONDELLO:\n",
      "I cannot speak no more!\n",
      "Thou sort stands, but sowarding all night\n",
      "Hife rather, any man neglecting not?\n",
      "Sirrah, Gremio:\n",
      "But yet swear not, upon! Why other? But, in good Edward here, that my dam\n",
      "Living aticlined beautiful:\n",
      "You villing thee; choose but boling.\n",
      "\n",
      "ESCALUS:\n",
      "Now I not much forgot ser.\n",
      "Say that there f\n"
     ]
    }
   ],
   "source": [
    "print(generate_text(model, start_string=\"ROMEO: \"))"
   ]
  },
  {
   "cell_type": "markdown",
   "metadata": {
    "colab_type": "text",
    "id": "AM2Uma_-yVIq"
   },
   "source": [
    "# 실습\n",
    "\n",
    "1. 시작 문자열을 다른 것으로 해보면 어떤 결과가 나오는가?\n",
    "\n",
    "2.  generate_text 함수에서 temperature 값을 10으로 변경하여 생성되는 결과를 확인해 보시오.\n",
    "\n",
    "3. 모형의 정확도를 높이기 위해 모형에 layer를 추가해 보시오."
   ]
  }
 ],
 "metadata": {
  "accelerator": "GPU",
  "colab": {
   "collapsed_sections": [],
   "name": "text_generation.ipynb",
   "provenance": [
    {
     "file_id": "https://github.com/tensorflow/docs/blob/master/site/ko/tutorials/text/text_generation.ipynb",
     "timestamp": 1573952202601
    }
   ]
  },
  "kernelspec": {
   "display_name": "Python 3 (ipykernel)",
   "language": "python",
   "name": "python3"
  },
  "language_info": {
   "codemirror_mode": {
    "name": "ipython",
    "version": 3
   },
   "file_extension": ".py",
   "mimetype": "text/x-python",
   "name": "python",
   "nbconvert_exporter": "python",
   "pygments_lexer": "ipython3",
   "version": "3.10.10"
  }
 },
 "nbformat": 4,
 "nbformat_minor": 1
}
