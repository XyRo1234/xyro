{
 "cells": [
  {
   "cell_type": "markdown",
   "metadata": {
    "id": "JsEDR5QCl0Et"
   },
   "source": [
    "# LSTM 실습\n",
    "LSTM(Long Short Term Memory)는 좀 더 긴 타임 스텝의 데이터를 처리하기 위해 고안되었다. gradient vanishing 문제를 극복하여 성공적으로 모델링 할 수 있다. \n",
    "\n",
    "앞 선 실습에서 SimpleRNN 클래스를 LSTM 클래스로 바꾸기만 하면 LSTM 순환 신경망을 만들 수 있다."
   ]
  },
  {
   "cell_type": "code",
   "execution_count": 1,
   "metadata": {
    "colab": {
     "base_uri": "https://localhost:8080/"
    },
    "id": "j6i2jodhCtp-",
    "outputId": "5a93e313-1af7-42c9-e37a-33a368942c40"
   },
   "outputs": [
    {
     "name": "stdout",
     "output_type": "stream",
     "text": [
      "2.11.0\n"
     ]
    }
   ],
   "source": [
    "import tensorflow as tf\n",
    "print(tf.__version__)"
   ]
  },
  {
   "cell_type": "markdown",
   "metadata": {
    "id": "oRWPdkUIhN26"
   },
   "source": [
    "# 훈련데이터 준비\n",
    "\n",
    "* IMDB 데이터 사용 - Word Embedding은 단어 벡터의 크기를 임의로 조정하므로 사용되는 단어의 갯수에 크게 영향을 받지 않는다.\n",
    "\n",
    "* 이 경우 사용되는 단어의 갯수를 1000으로 한다."
   ]
  },
  {
   "cell_type": "code",
   "execution_count": 2,
   "metadata": {
    "id": "AagDOCDfcqOq"
   },
   "outputs": [],
   "source": [
    "import numpy as np\n",
    "from tensorflow.keras.datasets import imdb"
   ]
  },
  {
   "cell_type": "code",
   "execution_count": 3,
   "metadata": {
    "colab": {
     "base_uri": "https://localhost:8080/"
    },
    "id": "8ZDfoEg_ZE_0",
    "outputId": "615e5aeb-e20d-4aa9-923d-225734736f1f"
   },
   "outputs": [
    {
     "name": "stdout",
     "output_type": "stream",
     "text": [
      "[list([2, 2, 22, 2, 43, 530, 973, 2, 2, 65, 458, 2, 66, 2, 2, 173, 36, 256, 2, 25, 100, 43, 838, 112, 50, 670, 2, 2, 35, 480, 284, 2, 150, 2, 172, 112, 167, 2, 336, 385, 39, 2, 172, 2, 2, 2, 546, 38, 2, 447, 2, 192, 50, 2, 2, 147, 2, 2, 2, 22, 2, 2, 2, 469, 2, 22, 71, 87, 2, 2, 43, 530, 38, 76, 2, 2, 2, 2, 22, 2, 515, 2, 2, 2, 626, 2, 2, 2, 62, 386, 2, 2, 316, 2, 106, 2, 2, 2, 2, 2, 480, 66, 2, 33, 2, 130, 2, 2, 38, 619, 2, 25, 124, 51, 36, 135, 48, 25, 2, 33, 2, 22, 2, 215, 28, 77, 52, 2, 2, 407, 2, 82, 2, 2, 2, 107, 117, 2, 2, 256, 2, 2, 2, 2, 2, 723, 36, 71, 43, 530, 476, 26, 400, 317, 46, 2, 2, 2, 2, 2, 104, 88, 2, 381, 2, 297, 98, 32, 2, 56, 26, 141, 2, 194, 2, 2, 2, 226, 22, 21, 134, 476, 26, 480, 2, 144, 30, 2, 2, 51, 36, 28, 224, 92, 25, 104, 2, 226, 65, 2, 38, 2, 88, 2, 2, 283, 2, 2, 2, 113, 103, 32, 2, 2, 2, 2, 178, 32])\n",
      " list([2, 194, 2, 194, 2, 78, 228, 2, 2, 2, 2, 2, 134, 26, 2, 715, 2, 118, 2, 2, 394, 20, 2, 119, 954, 189, 102, 2, 207, 110, 2, 21, 2, 69, 188, 2, 30, 23, 2, 2, 249, 126, 93, 2, 114, 2, 2, 2, 2, 647, 2, 116, 2, 35, 2, 2, 229, 2, 340, 2, 2, 118, 2, 2, 130, 2, 2, 2, 2, 2, 89, 29, 952, 46, 37, 2, 455, 2, 45, 43, 38, 2, 2, 398, 2, 2, 26, 2, 2, 163, 2, 2, 2, 2, 2, 2, 194, 775, 2, 2, 2, 349, 2, 148, 605, 2, 2, 2, 123, 125, 68, 2, 2, 2, 349, 165, 2, 98, 2, 2, 228, 2, 43, 2, 2, 2, 299, 120, 2, 120, 174, 2, 220, 175, 136, 50, 2, 2, 228, 2, 2, 2, 656, 245, 2, 2, 2, 2, 131, 152, 491, 2, 2, 32, 2, 2, 2, 2, 2, 371, 78, 22, 625, 64, 2, 2, 2, 168, 145, 23, 2, 2, 2, 2, 2, 2, 2, 28, 2, 52, 154, 462, 33, 89, 78, 285, 2, 145, 95])\n",
      " list([2, 2, 47, 2, 30, 31, 2, 2, 249, 108, 2, 2, 2, 54, 61, 369, 2, 71, 149, 2, 22, 112, 2, 2, 311, 2, 2, 2, 33, 75, 43, 2, 296, 2, 86, 320, 35, 534, 2, 263, 2, 2, 2, 2, 33, 89, 78, 2, 66, 2, 2, 360, 2, 2, 58, 316, 334, 2, 2, 2, 43, 645, 662, 2, 257, 85, 2, 42, 2, 2, 83, 68, 2, 2, 36, 165, 2, 278, 36, 69, 2, 780, 2, 106, 2, 2, 2, 2, 2, 22, 2, 215, 28, 610, 40, 2, 87, 326, 23, 2, 21, 23, 22, 2, 272, 40, 57, 31, 2, 2, 22, 47, 2, 2, 51, 2, 170, 23, 595, 116, 595, 2, 2, 191, 79, 638, 89, 2, 2, 2, 2, 106, 607, 624, 35, 534, 2, 227, 2, 129, 113])\n",
      " ...\n",
      " list([2, 2, 2, 230, 245, 2, 2, 2, 2, 446, 2, 45, 2, 84, 2, 2, 21, 2, 912, 84, 2, 325, 725, 134, 2, 2, 84, 2, 36, 28, 57, 2, 21, 2, 140, 2, 703, 2, 2, 84, 56, 2, 2, 2, 2, 31, 2, 2, 2, 2, 2, 2, 2, 2, 2, 20, 207, 110, 563, 2, 2, 2, 2, 2, 97, 2, 20, 53, 2, 74, 2, 460, 364, 2, 29, 270, 2, 960, 108, 45, 40, 29, 2, 395, 2, 2, 2, 500, 2, 2, 89, 364, 70, 29, 140, 2, 64, 2, 2, 2, 2, 26, 178, 2, 529, 443, 2, 2, 27, 710, 117, 2, 2, 165, 47, 84, 37, 131, 818, 2, 595, 2, 2, 61, 2, 2, 2, 2, 288, 2, 2, 34, 2, 2, 2, 65, 496, 2, 231, 2, 790, 2, 2, 320, 234, 2, 234, 2, 2, 2, 496, 2, 139, 929, 2, 2, 2, 2, 2, 2, 2, 2, 2, 250, 2, 2, 2, 2, 2, 2, 747, 2, 372, 2, 2, 541, 2, 2, 2, 59, 2, 2, 2, 2])\n",
      " list([2, 2, 2, 69, 72, 2, 2, 610, 930, 2, 2, 582, 23, 2, 2, 484, 685, 54, 349, 2, 2, 2, 45, 58, 2, 2, 197, 2, 2, 43, 23, 2, 2, 62, 30, 145, 402, 2, 2, 51, 575, 32, 61, 369, 71, 66, 770, 2, 2, 75, 100, 2, 2, 2, 105, 37, 69, 147, 712, 75, 2, 44, 257, 390, 2, 69, 263, 514, 105, 50, 286, 2, 23, 2, 123, 2, 161, 40, 2, 421, 2, 116, 2, 897, 2, 2, 40, 319, 2, 112, 2, 2, 2, 121, 25, 70, 2, 2, 719, 2, 2, 2, 31, 62, 40, 2, 2, 2, 2, 2, 2, 123, 2, 942, 25, 2, 721, 2, 145, 2, 202, 2, 160, 580, 202, 2, 2, 52, 58, 2, 92, 401, 728, 2, 39, 2, 251, 2, 2, 251, 2, 2, 2, 38, 84, 80, 124, 2, 2, 23])\n",
      " list([2, 2, 2, 194, 337, 2, 2, 204, 22, 45, 254, 2, 106, 2, 123, 2, 2, 270, 2, 2, 2, 2, 732, 2, 101, 405, 39, 2, 2, 2, 2, 2, 115, 50, 305, 2, 47, 2, 168, 2, 235, 2, 38, 111, 699, 102, 2, 2, 2, 2, 2, 24, 2, 78, 2, 2, 2, 2, 21, 27, 2, 2, 2, 2, 2, 92, 2, 2, 2, 2, 2, 204, 42, 97, 90, 35, 221, 109, 29, 127, 27, 118, 2, 97, 2, 157, 21, 2, 2, 2, 2, 66, 78, 2, 2, 631, 2, 2, 2, 272, 191, 2, 2, 2, 2, 2, 2, 2, 544, 2, 383, 2, 848, 2, 2, 497, 2, 2, 2, 2, 2, 21, 60, 27, 239, 2, 43, 2, 209, 405, 2, 2, 2, 764, 40, 2, 248, 20, 2, 2, 2, 174, 2, 72, 2, 51, 2, 2, 22, 2, 204, 131, 2])]\n",
      "y\n",
      "[1 0 0 ... 0 1 0]\n",
      "(25000,) (25000,)\n"
     ]
    }
   ],
   "source": [
    "(x_train_all, y_train_all), (x_test, y_test) = imdb.load_data(skip_top=20, num_words=1000)\n",
    "print(x_train_all)\n",
    "print('y')\n",
    "print(y_train_all)\n",
    "print(x_train_all.shape, y_train_all.shape)"
   ]
  },
  {
   "cell_type": "code",
   "execution_count": 4,
   "metadata": {
    "id": "0Xn2krTqY34v"
   },
   "outputs": [],
   "source": [
    "from tensorflow.keras.layers import Embedding"
   ]
  },
  {
   "cell_type": "code",
   "execution_count": 5,
   "metadata": {
    "colab": {
     "base_uri": "https://localhost:8080/"
    },
    "id": "lpORaDiIc8hn",
    "outputId": "feaf1f63-ebe3-4672-b387-275bb3ad4cc6"
   },
   "outputs": [
    {
     "name": "stdout",
     "output_type": "stream",
     "text": [
      "[22, 43, 530, 973, 65, 458, 66, 173, 36, 256, 25, 100, 43, 838, 112, 50, 670, 35, 480, 284, 150, 172, 112, 167, 336, 385, 39, 172, 546, 38, 447, 192, 50, 147, 22, 469, 22, 71, 87, 43, 530, 38, 76, 22, 515, 626, 62, 386, 316, 106, 480, 66, 33, 130, 38, 619, 25, 124, 51, 36, 135, 48, 25, 33, 22, 215, 28, 77, 52, 407, 82, 107, 117, 256, 723, 36, 71, 43, 530, 476, 26, 400, 317, 46, 104, 88, 381, 297, 98, 32, 56, 26, 141, 194, 226, 22, 21, 134, 476, 26, 480, 144, 30, 51, 36, 28, 224, 92, 25, 104, 226, 65, 38, 88, 283, 113, 103, 32, 178, 32]\n",
      "(25000,) (25000,)\n"
     ]
    }
   ],
   "source": [
    "for i in range(len(x_train_all)):\n",
    "    x_train_all[i] = [w for w in x_train_all[i] if w > 2]\n",
    "\n",
    "print(x_train_all[0])\n",
    "print(x_train_all.shape, y_train_all.shape)"
   ]
  },
  {
   "cell_type": "code",
   "execution_count": 6,
   "metadata": {
    "colab": {
     "base_uri": "https://localhost:8080/"
    },
    "id": "dnM909TXdVXl",
    "outputId": "8ff2d2db-e623-4ae0-f7fc-fadf844f3582"
   },
   "outputs": [
    {
     "name": "stdout",
     "output_type": "stream",
     "text": [
      "(20000,) (5000,)\n"
     ]
    }
   ],
   "source": [
    "\n",
    "from sklearn.model_selection import train_test_split\n",
    "\n",
    "x_train,x_val,y_train,y_val = train_test_split(x_train_all, y_train_all, test_size=0.2, random_state=123)\n",
    "\n",
    "print(x_train.shape, x_val.shape)"
   ]
  },
  {
   "cell_type": "code",
   "execution_count": 7,
   "metadata": {
    "colab": {
     "base_uri": "https://localhost:8080/"
    },
    "id": "JxBu41lOdWSw",
    "outputId": "a52e66c7-2da9-4db6-91d3-56c6a4a1b9fb"
   },
   "outputs": [
    {
     "name": "stdout",
     "output_type": "stream",
     "text": [
      "(20000, 100) (5000, 100)\n"
     ]
    }
   ],
   "source": [
    "from tensorflow.keras.preprocessing import sequence\n",
    "\n",
    "max_len = 100\n",
    "x_train_seq = sequence.pad_sequences(x_train, maxlen=max_len)\n",
    "x_val_seq = sequence.pad_sequences(x_val, maxlen=max_len)\n",
    "\n",
    "print(x_train_seq.shape, x_val_seq.shape)"
   ]
  },
  {
   "cell_type": "markdown",
   "metadata": {
    "id": "d3SWcxgHePO6"
   },
   "source": [
    "# 모형의 생성\n"
   ]
  },
  {
   "cell_type": "code",
   "execution_count": 8,
   "metadata": {
    "id": "IEBhruXKeTM8"
   },
   "outputs": [],
   "source": [
    "from tensorflow.keras.models import Sequential\n",
    "from tensorflow.keras.layers import Dense, LSTM"
   ]
  },
  {
   "cell_type": "code",
   "execution_count": 9,
   "metadata": {
    "colab": {
     "base_uri": "https://localhost:8080/"
    },
    "id": "UyMpeun8dq97",
    "outputId": "ca997ab0-0dff-4981-fd6f-5435f411bff6"
   },
   "outputs": [
    {
     "name": "stdout",
     "output_type": "stream",
     "text": [
      "Model: \"sequential\"\n",
      "_________________________________________________________________\n",
      " Layer (type)                Output Shape              Param #   \n",
      "=================================================================\n",
      " embedding (Embedding)       (None, None, 100)         1000000   \n",
      "                                                                 \n",
      " lstm (LSTM)                 (None, 8)                 3488      \n",
      "                                                                 \n",
      " dense (Dense)               (None, 1)                 9         \n",
      "                                                                 \n",
      "=================================================================\n",
      "Total params: 1,003,497\n",
      "Trainable params: 1,003,497\n",
      "Non-trainable params: 0\n",
      "_________________________________________________________________\n"
     ]
    }
   ],
   "source": [
    "model_lstm = Sequential()\n",
    "\n",
    "####################\n",
    "# TODO : 앞 선 실습에서 사용된 코드에서 SimpleRNN을 LSTM으로 변경하여 LSTM 모형을 생성하는\n",
    "# 코드를 작성하여 보시오,\n",
    "####################\n",
    "vocab_size = 10000\n",
    "\n",
    "model_lstm.add(Embedding(vocab_size, 100))  # one-hot encoding 대신에 Embedding을 사용\n",
    "model_lstm.add(LSTM(8))\n",
    "model_lstm.add(Dense(1, activation='sigmoid'))\n",
    "\n",
    "model_lstm.summary()"
   ]
  },
  {
   "cell_type": "markdown",
   "metadata": {
    "id": "J-3SFtHYXxoR"
   },
   "source": [
    "# 모델 컴파일 & 훈련 "
   ]
  },
  {
   "cell_type": "code",
   "execution_count": 10,
   "metadata": {
    "colab": {
     "base_uri": "https://localhost:8080/"
    },
    "id": "W6ezESOBX9eD",
    "outputId": "c263954d-7f91-4053-dfce-330ea5de01c9"
   },
   "outputs": [
    {
     "name": "stdout",
     "output_type": "stream",
     "text": [
      "Epoch 1/10\n",
      "625/625 [==============================] - 19s 28ms/step - loss: 0.4569 - accuracy: 0.7933 - val_loss: 0.3691 - val_accuracy: 0.8430\n",
      "Epoch 2/10\n",
      "625/625 [==============================] - 22s 36ms/step - loss: 0.3345 - accuracy: 0.8586 - val_loss: 0.3644 - val_accuracy: 0.8420\n",
      "Epoch 3/10\n",
      "625/625 [==============================] - 22s 35ms/step - loss: 0.3046 - accuracy: 0.8729 - val_loss: 0.3428 - val_accuracy: 0.8560\n",
      "Epoch 4/10\n",
      "625/625 [==============================] - 22s 36ms/step - loss: 0.2854 - accuracy: 0.8802 - val_loss: 0.3358 - val_accuracy: 0.8604\n",
      "Epoch 5/10\n",
      "625/625 [==============================] - 22s 36ms/step - loss: 0.2634 - accuracy: 0.8909 - val_loss: 0.3466 - val_accuracy: 0.8608\n",
      "Epoch 6/10\n",
      "625/625 [==============================] - 22s 35ms/step - loss: 0.2470 - accuracy: 0.8981 - val_loss: 0.3413 - val_accuracy: 0.8548\n",
      "Epoch 7/10\n",
      "625/625 [==============================] - 21s 34ms/step - loss: 0.2386 - accuracy: 0.9004 - val_loss: 0.3538 - val_accuracy: 0.8590\n",
      "Epoch 8/10\n",
      "625/625 [==============================] - 22s 35ms/step - loss: 0.2161 - accuracy: 0.9114 - val_loss: 0.3746 - val_accuracy: 0.8548\n",
      "Epoch 9/10\n",
      "625/625 [==============================] - 21s 34ms/step - loss: 0.2024 - accuracy: 0.9172 - val_loss: 0.3847 - val_accuracy: 0.8498\n",
      "Epoch 10/10\n",
      "625/625 [==============================] - 22s 36ms/step - loss: 0.1926 - accuracy: 0.9230 - val_loss: 0.4295 - val_accuracy: 0.8512\n"
     ]
    }
   ],
   "source": [
    "model_lstm.compile(optimizer='adam', loss='binary_crossentropy', metrics=['accuracy'])\n",
    "\n",
    "history=model_lstm.fit(x_train_seq, y_train, epochs=10, batch_size=32, \n",
    "                      validation_data=(x_val_seq, y_val))"
   ]
  },
  {
   "cell_type": "markdown",
   "metadata": {
    "id": "2PLTL3jMYoau"
   },
   "source": [
    "# 모형 훈련 결과 시각화하기 "
   ]
  },
  {
   "cell_type": "code",
   "execution_count": 11,
   "metadata": {
    "colab": {
     "base_uri": "https://localhost:8080/",
     "height": 265
    },
    "id": "lHDstQ1jZdDW",
    "outputId": "56884be2-af2d-4c8e-fe5f-26e7ad615020"
   },
   "outputs": [
    {
     "data": {
      "image/png": "[encoded data removed]",
      "text/plain": [
       "<Figure size 640x480 with 1 Axes>"
      ]
     },
     "metadata": {},
     "output_type": "display_data"
    }
   ],
   "source": [
    "import matplotlib.pyplot as plt\n",
    "%matplotlib inline\n",
    "\n",
    "plt.plot(history.history['loss'], label='Train Loss')\n",
    "plt.plot(history.history['val_loss'], label='Validation Loss')\n",
    "plt.legend()\n",
    "plt.show()"
   ]
  },
  {
   "cell_type": "code",
   "execution_count": 12,
   "metadata": {
    "colab": {
     "base_uri": "https://localhost:8080/",
     "height": 265
    },
    "id": "QgbQO65BZbMP",
    "outputId": "2087b163-eb41-4fe2-c24a-fe478c7af5c1"
   },
   "outputs": [
    {
     "data": {
      "image/png": "[encoded data removed]",
      "text/plain": [
       "<Figure size 640x480 with 1 Axes>"
      ]
     },
     "metadata": {},
     "output_type": "display_data"
    }
   ],
   "source": [
    "plt.plot(history.history['accuracy'], label='Train Accuracy')\n",
    "plt.plot(history.history['val_accuracy'], label='Validation Accuracy')\n",
    "plt.legend()\n",
    "plt.show()"
   ]
  },
  {
   "cell_type": "markdown",
   "metadata": {
    "id": "zhQHsThsYj9L"
   },
   "source": [
    "# 모형의 평가\n",
    "\n",
    "모형의 정확도 점수를 출력해 보면 SimpleRNN보다 성능이 향상 된 것을 확인할 수 있다."
   ]
  },
  {
   "cell_type": "code",
   "execution_count": 13,
   "metadata": {
    "colab": {
     "base_uri": "https://localhost:8080/"
    },
    "id": "GmQyZK_rYhnH",
    "outputId": "a80bc810-6af5-4050-badc-ebd0a8eb7981"
   },
   "outputs": [
    {
     "name": "stdout",
     "output_type": "stream",
     "text": [
      "0.8511999845504761\n"
     ]
    }
   ],
   "source": [
    "loss, acc = model_lstm.evaluate(x_val_seq, y_val, verbose=0)\n",
    "print(acc)"
   ]
  }
 ],
 "metadata": {
  "colab": {
   "collapsed_sections": [],
   "name": "LSTM.ipynb",
   "provenance": []
  },
  "kernelspec": {
   "display_name": "Python 3 (ipykernel)",
   "language": "python",
   "name": "python3"
  },
  "language_info": {
   "codemirror_mode": {
    "name": "ipython",
    "version": 3
   },
   "file_extension": ".py",
   "mimetype": "text/x-python",
   "name": "python",
   "nbconvert_exporter": "python",
   "pygments_lexer": "ipython3",
   "version": "3.10.10"
  }
 },
 "nbformat": 4,
 "nbformat_minor": 1
}
