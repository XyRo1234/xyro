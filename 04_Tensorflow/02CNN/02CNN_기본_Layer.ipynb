{
 "cells": [
  {
   "cell_type": "markdown",
   "metadata": {
    "colab_type": "text",
    "id": "SkqWxXrI3115"
   },
   "source": [
    "# Layer Explaination"
   ]
  },
  {
   "cell_type": "code",
   "execution_count": 1,
   "metadata": {
    "colab": {
     "base_uri": "https://localhost:8080/",
     "height": 52
    },
    "colab_type": "code",
    "executionInfo": {
     "elapsed": 7172,
     "status": "ok",
     "timestamp": 1573969226083,
     "user": {
      "displayName": "이선화",
      "photoUrl": "https://lh3.googleusercontent.com/a-/AAuE7mAaVHDHE1MIY1LHmJ_yWOBQMBjk_0EAJ4f0eWo-=s64",
      "userId": "17814374716323603424"
     },
     "user_tz": -540
    },
    "id": "hrkNvY-E3118",
    "outputId": "e1ee61c3-7c3b-4fa1-e876-9beff2ee8941"
   },
   "outputs": [
    {
     "name": "stdout",
     "output_type": "stream",
     "text": [
      "2.11.0\n"
     ]
    }
   ],
   "source": [
    "import tensorflow as tf\n",
    "print(tf.__version__)"
   ]
  },
  {
   "cell_type": "markdown",
   "metadata": {
    "colab_type": "text",
    "id": "H6b49VgD312A"
   },
   "source": [
    "## Input Image  \n",
    "Input으로 들어갈 DataSet을 들여다보면서 시각화까지"
   ]
  },
  {
   "cell_type": "markdown",
   "metadata": {
    "colab_type": "text",
    "id": "Y-pewNGl312B"
   },
   "source": [
    "패키지 로드  \n",
    "- os\n",
    "- glob\n",
    "- matplotlib"
   ]
  },
  {
   "cell_type": "code",
   "execution_count": 2,
   "metadata": {
    "colab": {},
    "colab_type": "code",
    "id": "HitRKryz312B"
   },
   "outputs": [],
   "source": [
    "import os\n",
    "\n",
    "import matplotlib.pyplot as plt\n",
    "%matplotlib inline"
   ]
  },
  {
   "cell_type": "code",
   "execution_count": 3,
   "metadata": {
    "colab": {
     "base_uri": "https://localhost:8080/",
     "height": 52
    },
    "colab_type": "code",
    "executionInfo": {
     "elapsed": 6452,
     "status": "ok",
     "timestamp": 1573969240714,
     "user": {
      "displayName": "이선화",
      "photoUrl": "https://lh3.googleusercontent.com/a-/AAuE7mAaVHDHE1MIY1LHmJ_yWOBQMBjk_0EAJ4f0eWo-=s64",
      "userId": "17814374716323603424"
     },
     "user_tz": -540
    },
    "id": "j1LdiWDP312E",
    "outputId": "8acbe8e8-e5d6-4017-ccc5-44b071c697bb"
   },
   "outputs": [],
   "source": [
    "from tensorflow.keras import datasets\n",
    "\n",
    "(train_x, train_y), (test_x, test_y) = datasets.mnist.load_data()"
   ]
  },
  {
   "cell_type": "code",
   "execution_count": 4,
   "metadata": {
    "colab": {},
    "colab_type": "code",
    "id": "u_HrycEM312G"
   },
   "outputs": [],
   "source": [
    "image = train_x[0]"
   ]
  },
  {
   "cell_type": "markdown",
   "metadata": {
    "colab_type": "text",
    "id": "1SimQ7LD312J"
   },
   "source": [
    "이미지의 shape을 확인한다."
   ]
  },
  {
   "cell_type": "code",
   "execution_count": 5,
   "metadata": {
    "colab": {
     "base_uri": "https://localhost:8080/",
     "height": 34
    },
    "colab_type": "code",
    "executionInfo": {
     "elapsed": 797,
     "status": "ok",
     "timestamp": 1573969280193,
     "user": {
      "displayName": "이선화",
      "photoUrl": "https://lh3.googleusercontent.com/a-/AAuE7mAaVHDHE1MIY1LHmJ_yWOBQMBjk_0EAJ4f0eWo-=s64",
      "userId": "17814374716323603424"
     },
     "user_tz": -540
    },
    "id": "5XeWwW54312K",
    "outputId": "d908b0f7-c3e4-49ca-b92f-363fd313f238"
   },
   "outputs": [
    {
     "data": {
      "text/plain": [
       "(28, 28)"
      ]
     },
     "execution_count": 5,
     "metadata": {},
     "output_type": "execute_result"
    }
   ],
   "source": [
    "# 이미지 shape 확인\n",
    "image.shape"
   ]
  },
  {
   "cell_type": "code",
   "execution_count": 6,
   "metadata": {
    "colab": {
     "base_uri": "https://localhost:8080/",
     "height": 34
    },
    "colab_type": "code",
    "executionInfo": {
     "elapsed": 806,
     "status": "ok",
     "timestamp": 1573969282478,
     "user": {
      "displayName": "이선화",
      "photoUrl": "https://lh3.googleusercontent.com/a-/AAuE7mAaVHDHE1MIY1LHmJ_yWOBQMBjk_0EAJ4f0eWo-=s64",
      "userId": "17814374716323603424"
     },
     "user_tz": -540
    },
    "id": "M64z7iYk312P",
    "outputId": "cb64150c-7859-4200-8743-948117ab8ae0"
   },
   "outputs": [
    {
     "data": {
      "text/plain": [
       "(1, 28, 28, 1)"
      ]
     },
     "execution_count": 6,
     "metadata": {},
     "output_type": "execute_result"
    }
   ],
   "source": [
    "# 차원 수 높이기 \n",
    "# batch_size, width, height, channel\n",
    "image = image[tf.newaxis, ..., tf.newaxis]\n",
    "image.shape"
   ]
  },
  {
   "cell_type": "markdown",
   "metadata": {
    "colab_type": "text",
    "id": "vko1MeGc312R"
   },
   "source": [
    "# Feature Extraction"
   ]
  },
  {
   "cell_type": "markdown",
   "metadata": {
    "colab_type": "text",
    "id": "RqNEmYG2312S"
   },
   "source": [
    "![image.png](../assets/CNN_1.jpg)"
   ]
  },
  {
   "cell_type": "markdown",
   "metadata": {
    "colab_type": "text",
    "id": "88_F88uI312T"
   },
   "source": [
    "## Convolution"
   ]
  },
  {
   "cell_type": "markdown",
   "metadata": {
    "colab_type": "text",
    "id": "NqJ0UXOe312T"
   },
   "source": [
    "![image.png](../assets/CNN_2.gif)\n",
    "\n",
    "![IMG](../assets/CNN_3.jpg)"
   ]
  },
  {
   "cell_type": "markdown",
   "metadata": {
    "colab_type": "text",
    "id": "Gft_Kgbz312U"
   },
   "source": [
    "* filters: layer에서 나갈 때 몇 개의 filter를 만들 것인지 (a.k.a weights, filters, channels)  \n",
    "* kernel_size: filter(Weight)의 사이즈  \n",
    "* strides: 몇 개의 pixel을 skip 하면서 훑어지나갈 것인지 (사이즈에도 영향을 줌)  \n",
    "* padding: zero padding을 만들 것인지. VALID는 Padding이 없고, SAME은 Padding이 있음 (사이즈에도 영향을 줌)  \n",
    "* activation: Activation Function을 만들것인지. 당장 설정 안해도 Layer층을 따로 만들 수 있음"
   ]
  },
  {
   "cell_type": "code",
   "execution_count": 7,
   "metadata": {
    "colab": {
     "base_uri": "https://localhost:8080/",
     "height": 34
    },
    "colab_type": "code",
    "executionInfo": {
     "elapsed": 810,
     "status": "ok",
     "timestamp": 1573969651750,
     "user": {
      "displayName": "이선화",
      "photoUrl": "https://lh3.googleusercontent.com/a-/AAuE7mAaVHDHE1MIY1LHmJ_yWOBQMBjk_0EAJ4f0eWo-=s64",
      "userId": "17814374716323603424"
     },
     "user_tz": -540
    },
    "id": "HhX_uhFZ312V",
    "outputId": "74172fa7-5af8-44ef-e58a-d5cc9523888d"
   },
   "outputs": [
    {
     "data": {
      "text/plain": [
       "<keras.layers.convolutional.conv2d.Conv2D at 0x22d0d7ca6e0>"
      ]
     },
     "execution_count": 7,
     "metadata": {},
     "output_type": "execute_result"
    }
   ],
   "source": [
    "tf.keras.layers.Conv2D(filters=1, kernel_size=(3, 3), strides=(1, 1), \n",
    "                       padding='VALID', activation='relu')"
   ]
  },
  {
   "cell_type": "markdown",
   "metadata": {
    "colab_type": "text",
    "id": "H4yPhtHv312Y"
   },
   "source": [
    "(3, 3) 대신에 3으로도 대체 가능"
   ]
  },
  {
   "cell_type": "code",
   "execution_count": 8,
   "metadata": {
    "colab": {
     "base_uri": "https://localhost:8080/",
     "height": 34
    },
    "colab_type": "code",
    "executionInfo": {
     "elapsed": 823,
     "status": "ok",
     "timestamp": 1573969661529,
     "user": {
      "displayName": "이선화",
      "photoUrl": "https://lh3.googleusercontent.com/a-/AAuE7mAaVHDHE1MIY1LHmJ_yWOBQMBjk_0EAJ4f0eWo-=s64",
      "userId": "17814374716323603424"
     },
     "user_tz": -540
    },
    "id": "yhWfnHQ2312Z",
    "outputId": "d73456ca-ed93-4dfe-b46b-41406ed32aad"
   },
   "outputs": [
    {
     "data": {
      "text/plain": [
       "<keras.layers.convolutional.conv2d.Conv2D at 0x22d0d7ca9b0>"
      ]
     },
     "execution_count": 8,
     "metadata": {},
     "output_type": "execute_result"
    }
   ],
   "source": [
    "tf.keras.layers.Conv2D(filters=1, kernel_size=3, strides=(1, 1), padding='VALID', activation='relu')"
   ]
  },
  {
   "cell_type": "markdown",
   "metadata": {
    "colab_type": "text",
    "id": "CU2syId_312b"
   },
   "source": [
    "### Visualization"
   ]
  },
  {
   "cell_type": "markdown",
   "metadata": {
    "colab_type": "text",
    "id": "ruQy2EzK312c"
   },
   "source": [
    "- tf.keras.layers.Conv2D"
   ]
  },
  {
   "cell_type": "code",
   "execution_count": 9,
   "metadata": {
    "colab": {},
    "colab_type": "code",
    "id": "sSzRskDl312c"
   },
   "outputs": [],
   "source": [
    "image = tf.cast(image, dtype=tf.float32)"
   ]
  },
  {
   "cell_type": "code",
   "execution_count": 10,
   "metadata": {
    "colab": {},
    "colab_type": "code",
    "id": "6hDBTNms312f"
   },
   "outputs": [],
   "source": [
    "layer = tf.keras.layers.Conv2D(1, 3, strides=(2,2), padding='same')\n",
    "output = layer(image)"
   ]
  },
  {
   "cell_type": "code",
   "execution_count": 11,
   "metadata": {},
   "outputs": [
    {
     "data": {
      "text/plain": [
       "TensorShape([1, 28, 28, 1])"
      ]
     },
     "execution_count": 11,
     "metadata": {},
     "output_type": "execute_result"
    }
   ],
   "source": [
    "image.shape"
   ]
  },
  {
   "cell_type": "code",
   "execution_count": 12,
   "metadata": {},
   "outputs": [
    {
     "data": {
      "text/plain": [
       "TensorShape([1, 14, 14, 1])"
      ]
     },
     "execution_count": 12,
     "metadata": {},
     "output_type": "execute_result"
    }
   ],
   "source": [
    "output.shape"
   ]
  },
  {
   "cell_type": "markdown",
   "metadata": {
    "colab_type": "text",
    "id": "FAWUCibK312h"
   },
   "source": [
    "weight 불러오기\n",
    "\n",
    "- layer.get_weights()"
   ]
  },
  {
   "cell_type": "code",
   "execution_count": 13,
   "metadata": {
    "colab": {
     "base_uri": "https://localhost:8080/",
     "height": 310
    },
    "colab_type": "code",
    "executionInfo": {
     "elapsed": 1543,
     "status": "ok",
     "timestamp": 1573969783233,
     "user": {
      "displayName": "이선화",
      "photoUrl": "https://lh3.googleusercontent.com/a-/AAuE7mAaVHDHE1MIY1LHmJ_yWOBQMBjk_0EAJ4f0eWo-=s64",
      "userId": "17814374716323603424"
     },
     "user_tz": -540
    },
    "id": "8Tce0Z14312i",
    "outputId": "961d855f-7047-4512-d365-6b58fecfff45"
   },
   "outputs": [
    {
     "data": {
      "image/png": "[encoded data removed]",
      "text/plain": [
       "<Figure size 1500x500 with 4 Axes>"
      ]
     },
     "metadata": {},
     "output_type": "display_data"
    }
   ],
   "source": [
    "weight = layer.get_weights()[0]\n",
    "\n",
    "plt.figure(figsize=(15, 5))\n",
    "plt.subplot(131)\n",
    "#plt.hist(output.numpy().ravel(), range=[-2,2])\n",
    "#plt.ylim(0, 500)\n",
    "plt.imshow(image[0,:,:,0], 'gray')\n",
    "\n",
    "plt.subplot(132)\n",
    "plt.title(weight.shape)\n",
    "plt.imshow(weight[:,:,0,0], 'gray')\n",
    "\n",
    "plt.subplot(133)\n",
    "plt.title(output.shape)\n",
    "plt.imshow(output[0, :, :, 0], 'gray')\n",
    "plt.colorbar()\n",
    "\n",
    "plt.show()"
   ]
  },
  {
   "cell_type": "markdown",
   "metadata": {
    "colab_type": "text",
    "id": "hJK2jswk312l"
   },
   "source": [
    "## Activation Function"
   ]
  },
  {
   "cell_type": "code",
   "execution_count": 14,
   "metadata": {
    "colab": {},
    "colab_type": "code",
    "id": "apVRhbPw312m"
   },
   "outputs": [],
   "source": [
    "# out = tf.keras.layers.Conv2D(3, 3, strides=(1, 1), padding='SAME')(out)\n",
    "layer = tf.keras.layers.ReLU()\n",
    "output_relu = layer(output)"
   ]
  },
  {
   "cell_type": "code",
   "execution_count": 15,
   "metadata": {
    "colab": {
     "base_uri": "https://localhost:8080/",
     "height": 336
    },
    "colab_type": "code",
    "executionInfo": {
     "elapsed": 1110,
     "status": "ok",
     "timestamp": 1573969874754,
     "user": {
      "displayName": "이선화",
      "photoUrl": "https://lh3.googleusercontent.com/a-/AAuE7mAaVHDHE1MIY1LHmJ_yWOBQMBjk_0EAJ4f0eWo-=s64",
      "userId": "17814374716323603424"
     },
     "user_tz": -540
    },
    "id": "9X_H7EFo312p",
    "outputId": "d03d5c3a-c014-45cb-ef0e-356c6d0ff118",
    "scrolled": true
   },
   "outputs": [
    {
     "data": {
      "image/png": "[encoded data removed]",
      "text/plain": [
       "<Figure size 1500x500 with 4 Axes>"
      ]
     },
     "metadata": {},
     "output_type": "display_data"
    }
   ],
   "source": [
    "plt.figure(figsize=(15, 5))\n",
    "plt.subplot(121)\n",
    "plt.title(output.shape)\n",
    "plt.imshow(output[0, :, :, 0], 'gray')\n",
    "plt.colorbar()\n",
    "\n",
    "plt.subplot(122)\n",
    "plt.title(output_relu.shape)\n",
    "plt.imshow(output_relu[0, :, :, 0], 'gray')\n",
    "plt.colorbar()\n",
    "plt.show()"
   ]
  },
  {
   "cell_type": "markdown",
   "metadata": {
    "colab_type": "text",
    "id": "DzDKPFvk312v"
   },
   "source": [
    "## Pooling"
   ]
  },
  {
   "cell_type": "markdown",
   "metadata": {
    "colab_type": "text",
    "id": "87IZFw9h312v"
   },
   "source": [
    "![image.png](https://miro.medium.com/max/707/1*UbjtZxhx5Z1HEsW-49cDeQ.jpeg)"
   ]
  },
  {
   "cell_type": "markdown",
   "metadata": {
    "colab_type": "text",
    "id": "V8g2tTbb312w"
   },
   "source": [
    "- tf.keras.layers.MaxPool2D"
   ]
  },
  {
   "cell_type": "code",
   "execution_count": 16,
   "metadata": {
    "colab": {
     "base_uri": "https://localhost:8080/",
     "height": 34
    },
    "colab_type": "code",
    "executionInfo": {
     "elapsed": 793,
     "status": "ok",
     "timestamp": 1573969914950,
     "user": {
      "displayName": "이선화",
      "photoUrl": "https://lh3.googleusercontent.com/a-/AAuE7mAaVHDHE1MIY1LHmJ_yWOBQMBjk_0EAJ4f0eWo-=s64",
      "userId": "17814374716323603424"
     },
     "user_tz": -540
    },
    "id": "smiGwBmX312x",
    "outputId": "a750ee26-cb49-4c00-8cef-63b758f43565"
   },
   "outputs": [
    {
     "data": {
      "text/plain": [
       "<keras.layers.pooling.max_pooling2d.MaxPooling2D at 0x22d10f82800>"
      ]
     },
     "execution_count": 16,
     "metadata": {},
     "output_type": "execute_result"
    }
   ],
   "source": [
    "tf.keras.layers.MaxPool2D(pool_size=(2, 2), strides=(2, 2), padding='SAME')"
   ]
  },
  {
   "cell_type": "code",
   "execution_count": 17,
   "metadata": {
    "colab": {},
    "colab_type": "code",
    "id": "1mEHarIc312z"
   },
   "outputs": [],
   "source": [
    "layer = tf.keras.layers.MaxPool2D(pool_size=(2, 2), strides=(2, 2), padding='SAME')\n",
    "output_pool = layer(output_relu)"
   ]
  },
  {
   "cell_type": "code",
   "execution_count": 18,
   "metadata": {
    "colab": {
     "base_uri": "https://localhost:8080/",
     "height": 336
    },
    "colab_type": "code",
    "executionInfo": {
     "elapsed": 1692,
     "status": "ok",
     "timestamp": 1573970021446,
     "user": {
      "displayName": "이선화",
      "photoUrl": "https://lh3.googleusercontent.com/a-/AAuE7mAaVHDHE1MIY1LHmJ_yWOBQMBjk_0EAJ4f0eWo-=s64",
      "userId": "17814374716323603424"
     },
     "user_tz": -540
    },
    "id": "9kbfc5pN3124",
    "outputId": "e20cf883-3156-4a25-fb0f-091af7d5739a"
   },
   "outputs": [
    {
     "data": {
      "image/png": "[encoded data removed]",
      "text/plain": [
       "<Figure size 1500x500 with 4 Axes>"
      ]
     },
     "metadata": {},
     "output_type": "display_data"
    }
   ],
   "source": [
    "plt.figure(figsize=(15, 5))\n",
    "plt.subplot(121)\n",
    "plt.title(output_relu.shape)\n",
    "plt.imshow(output_relu[0, :, :, 0], 'gray')\n",
    "plt.colorbar()\n",
    "\n",
    "plt.subplot(122)\n",
    "plt.title(output_pool.shape)\n",
    "plt.imshow(output_pool[0, :, :, 0], 'gray')\n",
    "plt.colorbar()\n",
    "plt.show()"
   ]
  },
  {
   "cell_type": "markdown",
   "metadata": {
    "colab_type": "text",
    "id": "0JI9IK1l313B"
   },
   "source": [
    "# Fully Connected"
   ]
  },
  {
   "cell_type": "markdown",
   "metadata": {
    "colab_type": "text",
    "id": "5SsAvcqC313B"
   },
   "source": [
    "![image.png](https://miro.medium.com/max/872/1*vDRsPt3ooEI2HOXaRGp39Q.jpeg)"
   ]
  },
  {
   "cell_type": "markdown",
   "metadata": {
    "colab_type": "text",
    "id": "eYKPY7hL313C"
   },
   "source": [
    "## Flatten"
   ]
  },
  {
   "cell_type": "markdown",
   "metadata": {
    "colab_type": "text",
    "id": "MsYG7Ztm313D"
   },
   "source": [
    "![image.png](https://sds-platform-private.s3-us-east-2.amazonaws.com/uploads/73_blog_image_1.png)"
   ]
  },
  {
   "cell_type": "markdown",
   "metadata": {
    "colab_type": "text",
    "id": "OkxC3i63313F"
   },
   "source": [
    "- tf.keras.layers.Flatten()"
   ]
  },
  {
   "cell_type": "code",
   "execution_count": 19,
   "metadata": {
    "colab": {
     "base_uri": "https://localhost:8080/",
     "height": 34
    },
    "colab_type": "code",
    "executionInfo": {
     "elapsed": 945,
     "status": "ok",
     "timestamp": 1573970355895,
     "user": {
      "displayName": "이선화",
      "photoUrl": "https://lh3.googleusercontent.com/a-/AAuE7mAaVHDHE1MIY1LHmJ_yWOBQMBjk_0EAJ4f0eWo-=s64",
      "userId": "17814374716323603424"
     },
     "user_tz": -540
    },
    "id": "goRchKDc313F",
    "outputId": "c1eb9482-365f-4903-ed31-17c39bd26522"
   },
   "outputs": [
    {
     "data": {
      "text/plain": [
       "<keras.layers.reshaping.flatten.Flatten at 0x22d110ce710>"
      ]
     },
     "execution_count": 19,
     "metadata": {},
     "output_type": "execute_result"
    }
   ],
   "source": [
    "tf.keras.layers.Flatten()"
   ]
  },
  {
   "cell_type": "code",
   "execution_count": 20,
   "metadata": {
    "colab": {
     "base_uri": "https://localhost:8080/",
     "height": 34
    },
    "colab_type": "code",
    "executionInfo": {
     "elapsed": 799,
     "status": "ok",
     "timestamp": 1573970416385,
     "user": {
      "displayName": "이선화",
      "photoUrl": "https://lh3.googleusercontent.com/a-/AAuE7mAaVHDHE1MIY1LHmJ_yWOBQMBjk_0EAJ4f0eWo-=s64",
      "userId": "17814374716323603424"
     },
     "user_tz": -540
    },
    "id": "rUlbpQVn313I",
    "outputId": "17963d87-e61f-41f6-8f97-896f4835fd4f"
   },
   "outputs": [
    {
     "name": "stdout",
     "output_type": "stream",
     "text": [
      "(1, 49)\n"
     ]
    }
   ],
   "source": [
    "layer = tf.keras.layers.Flatten()\n",
    "output_flatten = layer(output_pool)\n",
    "\n",
    "print(output_flatten.shape)  # 1 * 14 * 14 * 1 = 196"
   ]
  },
  {
   "cell_type": "code",
   "execution_count": 22,
   "metadata": {
    "scrolled": false
   },
   "outputs": [
    {
     "data": {
      "image/png": "[encoded data removed]",
      "text/plain": [
       "<Figure size 1500x500 with 6 Axes>"
      ]
     },
     "metadata": {},
     "output_type": "display_data"
    },
    {
     "data": {
      "text/plain": [
       "<tf.Tensor: shape=(1, 676), dtype=float32, numpy=\n",
       "array([[  0.        ,   0.        ,   0.        ,   0.        ,\n",
       "          0.        ,   0.        ,   0.        ,   0.        ,\n",
       "          0.        ,   0.        ,   0.        ,   0.        ,\n",
       "          0.        ,   0.        ,   0.        ,   0.        ,\n",
       "          0.        ,   0.        ,   0.        ,   0.        ,\n",
       "          0.        ,   0.        ,   0.        ,   0.        ,\n",
       "          0.        ,   0.        ,   0.        ,   0.        ,\n",
       "          0.        ,   0.        ,   0.        ,   0.        ,\n",
       "          0.        ,   0.        ,   0.        ,   0.        ,\n",
       "          0.        ,   0.        ,   0.        ,   0.        ,\n",
       "          0.        ,   0.        ,   0.        ,   0.        ,\n",
       "          0.        ,   0.        ,   0.        ,   0.        ,\n",
       "          0.        ,   0.        ,   0.        ,   0.        ,\n",
       "          0.        ,   0.        ,   0.        ,   0.        ,\n",
       "          0.        ,   0.        ,   0.        ,   0.        ,\n",
       "          0.        ,   0.81515086,   5.361284  ,   9.0824    ,\n",
       "         15.928528  ,  45.273956  ,  64.92474   , 126.38175   ,\n",
       "        126.38175   , 129.05312   , 129.05312   , 182.86005   ,\n",
       "        189.62004   , 189.62004   , 132.64558   ,  57.96388   ,\n",
       "          0.        ,   0.        ,   0.        ,   0.        ,\n",
       "          0.        ,   0.        ,   0.        ,   8.151508  ,\n",
       "         14.485594  ,  44.87819   ,  73.01363   , 112.96922   ,\n",
       "        163.88943   , 183.24478   , 220.56607   , 220.56607   ,\n",
       "        210.80496   , 203.78922   , 188.05405   , 180.14876   ,\n",
       "        175.38968   , 182.86005   , 189.62004   , 189.62004   ,\n",
       "        132.64558   ,  57.96388   ,   0.        ,   0.        ,\n",
       "          0.        ,   0.        ,   0.        ,   0.        ,\n",
       "         13.314131  ,  69.64006   , 123.473625  , 205.38388   ,\n",
       "        205.38388   , 203.3006    , 197.22415   , 191.10022   ,\n",
       "        220.56607   , 220.56607   , 211.0307    , 208.60443   ,\n",
       "        188.05405   , 180.14876   , 175.38968   , 163.441     ,\n",
       "        163.441     , 123.428505  ,  82.615944  ,  24.463696  ,\n",
       "          0.        ,   0.        ,   0.        ,   0.        ,\n",
       "          0.        ,   0.        ,  13.314131  ,  69.64006   ,\n",
       "        123.473625  , 205.38388   , 211.66281   , 211.66281   ,\n",
       "        209.0315    , 209.0315    , 186.19585   , 211.0307    ,\n",
       "        211.0307    , 208.60443   , 152.18698   ,  79.218765  ,\n",
       "         87.91013   ,  87.91013   ,  38.978897  ,   0.        ,\n",
       "          0.        ,   0.        ,   0.        ,   0.        ,\n",
       "          0.        ,   0.        ,   0.        ,   0.        ,\n",
       "         13.609568  ,  72.66577   ,  82.93822   , 182.25017   ,\n",
       "        211.66281   , 211.66281   , 209.0315    , 209.0315    ,\n",
       "        186.19585   , 152.19199   , 143.68192   , 143.68192   ,\n",
       "        112.61071   ,  66.90976   ,   7.201828  ,   7.201828  ,\n",
       "          0.        ,   0.        ,   0.        ,   0.        ,\n",
       "          0.        ,   0.        ,   0.        ,   0.        ,\n",
       "          0.        ,   0.        ,  13.609568  ,  72.66577   ,\n",
       "         74.249756  ,  74.249756  , 112.94412   , 113.47186   ,\n",
       "        167.0651    , 167.0651    , 111.79688   ,  61.041237  ,\n",
       "         13.91898   ,   8.265438  ,  18.87349   ,  18.87349   ,\n",
       "          0.        ,   0.        ,   0.        ,   0.        ,\n",
       "          0.        ,   0.        ,   0.        ,   0.        ,\n",
       "          0.        ,   0.        ,   0.        ,   0.        ,\n",
       "          5.5970526 ,  60.034966  ,  60.034966  ,  49.162354  ,\n",
       "         57.46233   ,  98.77992   , 114.465324  , 114.465324  ,\n",
       "         93.29233   ,  31.210686  ,  45.898212  ,  45.898212  ,\n",
       "          0.        ,   0.        ,   0.        ,   0.        ,\n",
       "          0.        ,   0.        ,   0.        ,   0.        ,\n",
       "          0.        ,   0.        ,   0.        ,   0.        ,\n",
       "          0.        ,   0.        ,   0.        ,  24.87579   ,\n",
       "         43.54445   ,  43.54445   ,  57.46233   ,  98.77992   ,\n",
       "        114.465324  , 114.465324  ,  96.426056  ,  96.426056  ,\n",
       "         45.898212  ,  45.898212  ,   0.        ,   0.        ,\n",
       "          0.        ,   0.        ,   0.        ,   0.        ,\n",
       "          0.        ,   0.        ,   0.        ,   0.        ,\n",
       "          0.        ,   0.        ,   0.        ,   0.        ,\n",
       "          0.        ,   0.        ,   4.353263  ,   4.353263  ,\n",
       "         42.227497  ,  93.915955  ,  93.915955  ,  56.745422  ,\n",
       "        127.09082   , 154.00122   , 154.00122   ,  90.23069   ,\n",
       "         49.44891   ,   0.4564085 ,   0.        ,   0.        ,\n",
       "          0.        ,   0.        ,   0.        ,   0.        ,\n",
       "          0.        ,   0.        ,   0.        ,   0.        ,\n",
       "          0.        ,   0.        ,   0.        ,   0.        ,\n",
       "          0.        ,   0.        ,  42.227497  ,  63.95964   ,\n",
       "         65.34605   ,  65.34605   , 127.09082   , 172.98764   ,\n",
       "        175.29214   , 175.29214   , 136.82967   ,  58.195057  ,\n",
       "         11.4102125 ,   0.        ,   0.        ,   0.        ,\n",
       "          0.        ,   0.        ,   0.        ,   0.        ,\n",
       "          0.        ,   0.        ,   0.        ,   0.        ,\n",
       "          0.        ,   0.        ,   0.        ,   0.        ,\n",
       "          3.420421  ,  55.408195  ,  65.9996    ,  65.9996    ,\n",
       "         39.794914  , 172.98764   , 175.29214   , 175.29214   ,\n",
       "        150.03381   , 140.21097   ,  71.76034   ,  12.3230295 ,\n",
       "          0.        ,   0.        ,   0.        ,   0.        ,\n",
       "          0.        ,   0.        ,   0.        ,   0.        ,\n",
       "          0.        ,   0.        ,   0.        ,   0.        ,\n",
       "          0.        ,   0.        ,   0.        ,  10.883158  ,\n",
       "         65.9996    ,  66.815994  ,  66.815994  ,  41.462234  ,\n",
       "        113.54989   , 150.03381   , 153.79893   , 153.79893   ,\n",
       "        131.3224    ,  84.3393    ,   0.        ,   0.        ,\n",
       "          0.        ,   0.        ,   0.        ,   0.        ,\n",
       "          0.        ,   0.        ,   0.        ,   0.        ,\n",
       "          0.        ,   0.        ,   0.        ,   0.        ,\n",
       "          0.        ,   0.        ,  25.186735  ,  66.815994  ,\n",
       "         66.815994  ,  54.309986  ,  58.86161   ,  58.86161   ,\n",
       "        153.79893   , 153.79893   , 131.3224    , 109.8496    ,\n",
       "         29.210144  ,   0.        ,   0.        ,   0.        ,\n",
       "          0.        ,   0.        ,   0.        ,   0.        ,\n",
       "          0.        ,   0.        ,   0.        ,   0.        ,\n",
       "          0.        ,   0.        ,   0.        ,   0.        ,\n",
       "          0.        ,  13.992631  ,  54.309986  , 119.28055   ,\n",
       "        204.27106   , 204.27106   , 198.43213   , 147.8504    ,\n",
       "        112.60532   , 109.8496    ,  29.210144  ,   0.        ,\n",
       "          0.        ,   0.        ,   0.        ,   0.        ,\n",
       "          0.        ,   0.        ,   0.        ,   0.        ,\n",
       "          0.        ,   0.        ,   0.        ,   0.        ,\n",
       "          0.        ,  10.596961  ,  46.329025  ,  99.07092   ,\n",
       "        157.84567   , 187.3147    , 263.229     , 263.229     ,\n",
       "        246.20535   , 164.27257   ,  65.56624   ,  34.475143  ,\n",
       "          0.        ,   0.        ,   0.        ,   0.        ,\n",
       "          0.        ,   0.        ,   0.        ,   0.        ,\n",
       "          0.        ,   0.        ,   0.        ,   0.        ,\n",
       "          0.        ,   6.521207  ,  34.738758  ,  85.352776  ,\n",
       "        139.84274   , 193.05246   , 220.82394   , 220.82394   ,\n",
       "        263.229     , 263.229     , 246.20535   , 164.27257   ,\n",
       "         65.56624   ,   9.16011   ,   0.        ,   0.        ,\n",
       "          0.        ,   0.        ,   0.        ,   0.        ,\n",
       "          0.        ,   0.        ,   0.        ,   0.        ,\n",
       "          0.        ,   6.24949   ,  21.539553  ,  76.55229   ,\n",
       "        120.60261   , 190.43234   , 228.46802   , 232.92343   ,\n",
       "        232.92343   , 220.82394   , 217.37906   , 200.38304   ,\n",
       "        142.41344   ,  52.474358  ,   0.        ,   0.        ,\n",
       "          0.        ,   0.        ,   0.        ,   0.        ,\n",
       "          0.        ,   0.        ,   0.        ,   0.        ,\n",
       "          0.        ,   4.8909054 ,  49.28587   ,  92.45418   ,\n",
       "        173.86111   , 191.9834    , 220.83585   , 236.1076    ,\n",
       "        236.1076    , 232.92343   , 232.92343   , 192.8802    ,\n",
       "        130.83034   ,  64.535515  ,  11.332428  ,   0.        ,\n",
       "          0.        ,   0.        ,   0.        ,   0.        ,\n",
       "          0.        ,   0.        ,   0.        ,   0.        ,\n",
       "          0.        ,  14.944432  ,  55.358917  , 111.852005  ,\n",
       "        166.20807   , 188.56976   , 201.69281   , 235.86798   ,\n",
       "        235.86798   , 236.1076    , 236.1076    , 201.05069   ,\n",
       "        132.11551   ,  65.18265   ,  12.805046  ,   0.        ,\n",
       "          0.        ,   0.        ,   0.        ,   0.        ,\n",
       "          0.        ,   0.        ,   0.        ,   0.        ,\n",
       "          0.        ,   0.        ,   0.        ,  31.982569  ,\n",
       "         71.41017   , 143.86618   , 234.13992   , 234.13992   ,\n",
       "        222.74504   , 235.86798   , 235.86798   , 226.89815   ,\n",
       "        156.22662   ,  96.671265  ,  37.568436  ,   0.        ,\n",
       "          0.        ,   0.        ,   0.        ,   0.        ,\n",
       "          0.        ,   0.        ,   0.        ,   0.        ,\n",
       "          0.        ,   0.        ,   0.        ,   0.        ,\n",
       "          0.        ,  31.982569  ,  71.41017   , 143.86618   ,\n",
       "        234.13992   , 234.13992   , 222.74504   , 163.96744   ,\n",
       "        118.631294  ,  43.695877  ,  30.332817  ,   0.        ,\n",
       "          0.        ,   0.        ,   0.        ,   0.        ,\n",
       "          0.        ,   0.        ,   0.        ,   0.        ,\n",
       "          0.        ,   0.        ,   0.        ,   0.        ,\n",
       "          0.        ,   0.        ,   0.        ,  42.28884   ,\n",
       "         72.383064  ,  72.383064  ,  32.51139   ,   2.8627853 ,\n",
       "          0.        ,   0.        ,   0.        ,   0.        ,\n",
       "          0.        ,   0.        ,   0.        ,   0.        ,\n",
       "          0.        ,   0.        ,   0.        ,   0.        ,\n",
       "          0.        ,   0.        ,   0.        ,   0.        ,\n",
       "          0.        ,   0.        ,   0.        ,   0.        ,\n",
       "          0.        ,  42.28884   ,  72.383064  ,  72.383064  ,\n",
       "         32.51139   ,   2.8627853 ,   0.        ,   0.        ,\n",
       "          0.        ,   0.        ,   0.        ,   0.        ,\n",
       "          0.        ,   0.        ,   0.        ,   0.        ,\n",
       "          0.        ,   0.        ,   0.        ,   0.        ,\n",
       "          0.        ,   0.        ,   0.        ,   0.        ,\n",
       "          0.        ,   0.        ,   0.        ,   0.        ,\n",
       "          0.        ,   0.        ,   0.        ,   0.        ,\n",
       "          0.        ,   0.        ,   0.        ,   0.        ,\n",
       "          0.        ,   0.        ,   0.        ,   0.        ,\n",
       "          0.        ,   0.        ,   0.        ,   0.        ,\n",
       "          0.        ,   0.        ,   0.        ,   0.        ,\n",
       "          0.        ,   0.        ,   0.        ,   0.        ]],\n",
       "      dtype=float32)>"
      ]
     },
     "execution_count": 22,
     "metadata": {},
     "output_type": "execute_result"
    }
   ],
   "source": [
    "import os\n",
    "import matplotlib.pyplot as plt\n",
    "%matplotlib inline\n",
    "import tensorflow as tf\n",
    "from tensorflow.keras import datasets\n",
    "\n",
    "(train_x, train_y), (test_x, test_y) = datasets.mnist.load_data()\n",
    "image = train_x[0]\n",
    "\n",
    "# 이미지 shape 확인 \n",
    "image.shape\n",
    "\n",
    "# 차원 수 높이기 \n",
    "# batch_size, width, height, channel\n",
    "image = image[tf.newaxis, ..., tf.newaxis]\n",
    "image.shape\n",
    "\n",
    "# Convolution\n",
    "image = tf.cast(image, dtype=tf.float32)\n",
    "output_relu = tf.keras.layers.Conv2D(filters=1, kernel_size=3, strides=1,padding='VALID', activation='relu')(image)\n",
    "# print('Convolution:',output_relu)\n",
    "\n",
    "# # Visualization\n",
    "# image = tf.cast(image, dtype=tf.float32)\n",
    "# output = tf.keras.layers.Conv2D(1, 3, strides=(2,2), padding='same')(image)\n",
    "# print('Visualization:',output.shape)\n",
    "\n",
    "# # Activation Function\n",
    "# layer = tf.keras.layers.ReLU()\n",
    "# output_relu = layer(output)\n",
    "# print('Activation Function:',output_relu.shape)\n",
    "\n",
    "# Pooling\n",
    "layer = tf.keras.layers.MaxPool2D(pool_size=(2, 2), strides=(1, 1), padding='SAME')\n",
    "output_pool = layer(output_relu)\n",
    "\n",
    "plt.figure(figsize=(15, 5))\n",
    "\n",
    "plt.subplot(131)\n",
    "plt.title(output_relu.shape)\n",
    "plt.imshow(image[0, :, :, 0], 'gray')\n",
    "plt.colorbar()\n",
    "\n",
    "plt.subplot(132)\n",
    "plt.title(output_relu.shape)\n",
    "plt.imshow(output_relu[0, :, :, 0], 'gray')\n",
    "plt.colorbar()\n",
    "\n",
    "plt.subplot(133)\n",
    "plt.title(output_pool.shape)\n",
    "plt.imshow(output_pool[0,:, :,0], 'gray')\n",
    "plt.colorbar()\n",
    "plt.show()\n",
    "\n",
    "layer = tf.keras.layers.Flatten()\n",
    "output_flatten = layer(output_pool)\n",
    "output_flatten"
   ]
  },
  {
   "cell_type": "code",
   "execution_count": null,
   "metadata": {},
   "outputs": [],
   "source": []
  }
 ],
 "metadata": {
  "colab": {
   "collapsed_sections": [],
   "name": "CNN_기본_Layer.ipynb",
   "provenance": []
  },
  "kernelspec": {
   "display_name": "Python 3 (ipykernel)",
   "language": "python",
   "name": "python3"
  },
  "language_info": {
   "codemirror_mode": {
    "name": "ipython",
    "version": 3
   },
   "file_extension": ".py",
   "mimetype": "text/x-python",
   "name": "python",
   "nbconvert_exporter": "python",
   "pygments_lexer": "ipython3",
   "version": "3.10.10"
  }
 },
 "nbformat": 4,
 "nbformat_minor": 1
}
