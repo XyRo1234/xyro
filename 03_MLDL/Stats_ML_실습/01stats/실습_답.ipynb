{
 "cells": [
  {
   "cell_type": "markdown",
   "metadata": {
    "id": "T9HE7H1992v3"
   },
   "source": [
    "## 01실습\n",
    "\n",
    "다음의 ages를 bins의 구간으로 나누어 보세요. (hint. pd.cut()을 사용하세요.)\n",
    "```\n",
    "ages = [20, 22, 25, 27, 21, 23, 37, 31, 61, 45, 41, 32]\n",
    "bins = [18, 25, 35, 60, 100]\n",
    "\n",
    "```\n"
   ]
  },
  {
   "cell_type": "code",
   "execution_count": 3,
   "metadata": {},
   "outputs": [
    {
     "data": {
      "text/plain": [
       "[(18, 25], (18, 25], (18, 25], (25, 35], (18, 25], ..., (25, 35], (60, 100], (35, 60], (35, 60], (25, 35]]\n",
       "Length: 12\n",
       "Categories (4, interval[int64, right]): [(18, 25] < (25, 35] < (35, 60] < (60, 100]]"
      ]
     },
     "execution_count": 3,
     "metadata": {},
     "output_type": "execute_result"
    }
   ],
   "source": [
    "import pandas as pd\n",
    "\n",
    "ages = [20, 22, 25, 27, 21, 23, 37, 31, 61, 45, 41, 32]\n",
    "bins = [18, 25, 35, 60, 100]\n",
    "\n",
    "pd.cut(ages, bins)"
   ]
  },
  {
   "cell_type": "markdown",
   "metadata": {
    "id": "aTtOpJ686OwM"
   },
   "source": [
    "# 02실습\n",
    "\n",
    "다음과 같은 물고기의 크기와 관련된 데이터가 있다. \n",
    "\n",
    "```\n",
    "fish_data = np.array([2,3,3,4,4,4,4,5,5,6])\n",
    "fish_data\n",
    "```\n",
    "\n"
   ]
  },
  {
   "cell_type": "code",
   "execution_count": 4,
   "metadata": {},
   "outputs": [
    {
     "data": {
      "text/plain": [
       "array([2, 3, 3, 4, 4, 4, 4, 5, 5, 6])"
      ]
     },
     "execution_count": 4,
     "metadata": {},
     "output_type": "execute_result"
    }
   ],
   "source": [
    "import numpy as np\n",
    "fish_data = np.array([2,3,3,4,4,4,4,5,5,6])\n",
    "fish_data"
   ]
  },
  {
   "cell_type": "markdown",
   "metadata": {},
   "source": [
    "1. fish_data의 합계와 fish_data의 사이즈를 구하시오. (np.sum(), len()) "
   ]
  },
  {
   "cell_type": "code",
   "execution_count": 5,
   "metadata": {},
   "outputs": [
    {
     "data": {
      "text/plain": [
       "(40, 10)"
      ]
     },
     "execution_count": 5,
     "metadata": {},
     "output_type": "execute_result"
    }
   ],
   "source": [
    "np.sum(fish_data), len(fish_data)"
   ]
  },
  {
   "cell_type": "markdown",
   "metadata": {},
   "source": [
    "2. fish_data 의 평균을 구하시오."
   ]
  },
  {
   "cell_type": "code",
   "execution_count": 6,
   "metadata": {},
   "outputs": [
    {
     "data": {
      "text/plain": [
       "4.0"
      ]
     },
     "execution_count": 6,
     "metadata": {},
     "output_type": "execute_result"
    }
   ],
   "source": [
    "np.sum(fish_data)/len(fish_data)"
   ]
  },
  {
   "cell_type": "code",
   "execution_count": 7,
   "metadata": {},
   "outputs": [
    {
     "data": {
      "text/plain": [
       "4.0"
      ]
     },
     "execution_count": 7,
     "metadata": {},
     "output_type": "execute_result"
    }
   ],
   "source": [
    "np.mean(fish_data)"
   ]
  },
  {
   "cell_type": "markdown",
   "metadata": {},
   "source": [
    "3. fish_data의 중위수(중앙값)을 구하시오."
   ]
  },
  {
   "cell_type": "code",
   "execution_count": 8,
   "metadata": {},
   "outputs": [
    {
     "data": {
      "text/plain": [
       "4.0"
      ]
     },
     "execution_count": 8,
     "metadata": {},
     "output_type": "execute_result"
    }
   ],
   "source": [
    "np.median(fish_data)"
   ]
  },
  {
   "cell_type": "markdown",
   "metadata": {},
   "source": [
    "4. fish_data 의 최빈값을 구하시오."
   ]
  },
  {
   "cell_type": "code",
   "execution_count": 9,
   "metadata": {},
   "outputs": [
    {
     "data": {
      "text/plain": [
       "ModeResult(mode=array([4]), count=array([4]))"
      ]
     },
     "execution_count": 9,
     "metadata": {},
     "output_type": "execute_result"
    }
   ],
   "source": [
    "from scipy import stats\n",
    "stats.mode(fish_data)"
   ]
  },
  {
   "cell_type": "code",
   "execution_count": 10,
   "metadata": {},
   "outputs": [
    {
     "data": {
      "text/plain": [
       "0    4\n",
       "dtype: int32"
      ]
     },
     "execution_count": 10,
     "metadata": {},
     "output_type": "execute_result"
    }
   ],
   "source": [
    "pd.Series(fish_data).mode()"
   ]
  },
  {
   "cell_type": "markdown",
   "metadata": {
    "id": "aTtOpJ686OwM"
   },
   "source": [
    "# 03실습\n",
    "\n",
    "다음과 같은 물고기의 크기와 관련된 데이터가 있다. \n",
    "\n",
    "```\n",
    "fish_data = np.array([2,3,3,4,4,4,4,5,5,6])\n",
    "fish_data\n",
    "```\n",
    "\n"
   ]
  },
  {
   "cell_type": "code",
   "execution_count": 9,
   "metadata": {},
   "outputs": [
    {
     "data": {
      "text/plain": [
       "array([2, 3, 3, 4, 4, 4, 4, 5, 5, 6])"
      ]
     },
     "execution_count": 9,
     "metadata": {},
     "output_type": "execute_result"
    }
   ],
   "source": [
    "import numpy as np\n",
    "\n",
    "fish_data = np.array([2,3,3,4,4,4,4,5,5,6])\n",
    "fish_data"
   ]
  },
  {
   "cell_type": "markdown",
   "metadata": {},
   "source": [
    "1. fish_data 의 분산을 구하시오"
   ]
  },
  {
   "cell_type": "code",
   "execution_count": 10,
   "metadata": {},
   "outputs": [
    {
     "data": {
      "text/plain": [
       "1.2"
      ]
     },
     "execution_count": 10,
     "metadata": {},
     "output_type": "execute_result"
    }
   ],
   "source": [
    "fish_data.var(ddof=0)\n",
    "# 또는\n",
    "np.var(fish_data)"
   ]
  },
  {
   "cell_type": "markdown",
   "metadata": {},
   "source": [
    "2. fish_data의 불편분산을 구하시오."
   ]
  },
  {
   "cell_type": "code",
   "execution_count": 11,
   "metadata": {},
   "outputs": [
    {
     "data": {
      "text/plain": [
       "1.3333333333333333"
      ]
     },
     "execution_count": 11,
     "metadata": {},
     "output_type": "execute_result"
    }
   ],
   "source": [
    "fish_data.var(ddof=1)\n",
    "# 또는\n",
    "np.var(fish_data, ddof=1)"
   ]
  },
  {
   "cell_type": "markdown",
   "metadata": {},
   "source": [
    "3. fish_data의 표준편차를 구하시오."
   ]
  },
  {
   "cell_type": "code",
   "execution_count": 12,
   "metadata": {},
   "outputs": [
    {
     "data": {
      "text/plain": [
       "1.0954451150103321"
      ]
     },
     "execution_count": 12,
     "metadata": {},
     "output_type": "execute_result"
    }
   ],
   "source": [
    "fish_data.std()\n",
    "# 또는\n",
    "np.std(fish_data)"
   ]
  },
  {
   "cell_type": "markdown",
   "metadata": {},
   "source": [
    "4. fish_data의 사분위수를 구하시오."
   ]
  },
  {
   "cell_type": "code",
   "execution_count": 13,
   "metadata": {},
   "outputs": [
    {
     "name": "stdout",
     "output_type": "stream",
     "text": [
      "3.25 4.0 4.75\n"
     ]
    }
   ],
   "source": [
    "Q1,Q2,Q3 = np.percentile(fish_data, [25, 50, 75])\n",
    "print(Q1, Q2, Q3)"
   ]
  },
  {
   "cell_type": "markdown",
   "metadata": {},
   "source": [
    "5. fish_data의 IQR값을 구하시오."
   ]
  },
  {
   "cell_type": "code",
   "execution_count": 14,
   "metadata": {},
   "outputs": [
    {
     "data": {
      "text/plain": [
       "1.5"
      ]
     },
     "execution_count": 14,
     "metadata": {},
     "output_type": "execute_result"
    }
   ],
   "source": [
    "IQR = Q3 - Q1\n",
    "IQR"
   ]
  },
  {
   "cell_type": "markdown",
   "metadata": {},
   "source": [
    "# 04실습 \n",
    "\n",
    "다음과 같이 물고기의 크기와 무게에 관련된 데이터가 있다.\n",
    "\n",
    "```\n",
    "data = pd.DataFrame({'length':[18.5, 18.7, 19.1, 19.7, 21.5, 21.7, 21.8, 22. , 23.4, 23.8], \n",
    "                     'weight':[34, 39, 41, 38, 45, 41, 52, 44, 44, 49]})\n",
    "data\n",
    "```"
   ]
  },
  {
   "cell_type": "code",
   "execution_count": 15,
   "metadata": {},
   "outputs": [
    {
     "data": {
      "text/html": [
       "<div>\n",
       "<style scoped>\n",
       "    .dataframe tbody tr th:only-of-type {\n",
       "        vertical-align: middle;\n",
       "    }\n",
       "\n",
       "    .dataframe tbody tr th {\n",
       "        vertical-align: top;\n",
       "    }\n",
       "\n",
       "    .dataframe thead th {\n",
       "        text-align: right;\n",
       "    }\n",
       "</style>\n",
       "<table border=\"1\" class=\"dataframe\">\n",
       "  <thead>\n",
       "    <tr style=\"text-align: right;\">\n",
       "      <th></th>\n",
       "      <th>length</th>\n",
       "      <th>weight</th>\n",
       "    </tr>\n",
       "  </thead>\n",
       "  <tbody>\n",
       "    <tr>\n",
       "      <th>0</th>\n",
       "      <td>18.5</td>\n",
       "      <td>34</td>\n",
       "    </tr>\n",
       "    <tr>\n",
       "      <th>1</th>\n",
       "      <td>18.7</td>\n",
       "      <td>39</td>\n",
       "    </tr>\n",
       "    <tr>\n",
       "      <th>2</th>\n",
       "      <td>19.1</td>\n",
       "      <td>41</td>\n",
       "    </tr>\n",
       "    <tr>\n",
       "      <th>3</th>\n",
       "      <td>19.7</td>\n",
       "      <td>38</td>\n",
       "    </tr>\n",
       "    <tr>\n",
       "      <th>4</th>\n",
       "      <td>21.5</td>\n",
       "      <td>45</td>\n",
       "    </tr>\n",
       "    <tr>\n",
       "      <th>5</th>\n",
       "      <td>21.7</td>\n",
       "      <td>41</td>\n",
       "    </tr>\n",
       "    <tr>\n",
       "      <th>6</th>\n",
       "      <td>21.8</td>\n",
       "      <td>52</td>\n",
       "    </tr>\n",
       "    <tr>\n",
       "      <th>7</th>\n",
       "      <td>22.0</td>\n",
       "      <td>44</td>\n",
       "    </tr>\n",
       "    <tr>\n",
       "      <th>8</th>\n",
       "      <td>23.4</td>\n",
       "      <td>44</td>\n",
       "    </tr>\n",
       "    <tr>\n",
       "      <th>9</th>\n",
       "      <td>23.8</td>\n",
       "      <td>49</td>\n",
       "    </tr>\n",
       "  </tbody>\n",
       "</table>\n",
       "</div>"
      ],
      "text/plain": [
       "   length  weight\n",
       "0    18.5      34\n",
       "1    18.7      39\n",
       "2    19.1      41\n",
       "3    19.7      38\n",
       "4    21.5      45\n",
       "5    21.7      41\n",
       "6    21.8      52\n",
       "7    22.0      44\n",
       "8    23.4      44\n",
       "9    23.8      49"
      ]
     },
     "execution_count": 15,
     "metadata": {},
     "output_type": "execute_result"
    }
   ],
   "source": [
    "data = pd.DataFrame({'length':[18.5, 18.7, 19.1, 19.7, 21.5, 21.7, 21.8, 22. , 23.4, 23.8], \n",
    "                     'weight':[34, 39, 41, 38, 45, 41, 52, 44, 44, 49]})\n",
    "data"
   ]
  },
  {
   "cell_type": "markdown",
   "metadata": {},
   "source": [
    "1. 물고기 데이터에서 length와 weight 간의 공분산을 구하시오."
   ]
  },
  {
   "cell_type": "code",
   "execution_count": 16,
   "metadata": {},
   "outputs": [
    {
     "data": {
      "text/plain": [
       "array([[ 3.64622222,  7.67333333],\n",
       "       [ 7.67333333, 28.01111111]])"
      ]
     },
     "execution_count": 16,
     "metadata": {},
     "output_type": "execute_result"
    }
   ],
   "source": [
    "np.cov(data.length, data.weight)"
   ]
  },
  {
   "cell_type": "code",
   "execution_count": 17,
   "metadata": {},
   "outputs": [
    {
     "data": {
      "text/html": [
       "<div>\n",
       "<style scoped>\n",
       "    .dataframe tbody tr th:only-of-type {\n",
       "        vertical-align: middle;\n",
       "    }\n",
       "\n",
       "    .dataframe tbody tr th {\n",
       "        vertical-align: top;\n",
       "    }\n",
       "\n",
       "    .dataframe thead th {\n",
       "        text-align: right;\n",
       "    }\n",
       "</style>\n",
       "<table border=\"1\" class=\"dataframe\">\n",
       "  <thead>\n",
       "    <tr style=\"text-align: right;\">\n",
       "      <th></th>\n",
       "      <th>length</th>\n",
       "      <th>weight</th>\n",
       "    </tr>\n",
       "  </thead>\n",
       "  <tbody>\n",
       "    <tr>\n",
       "      <th>length</th>\n",
       "      <td>3.646222</td>\n",
       "      <td>7.673333</td>\n",
       "    </tr>\n",
       "    <tr>\n",
       "      <th>weight</th>\n",
       "      <td>7.673333</td>\n",
       "      <td>28.011111</td>\n",
       "    </tr>\n",
       "  </tbody>\n",
       "</table>\n",
       "</div>"
      ],
      "text/plain": [
       "          length     weight\n",
       "length  3.646222   7.673333\n",
       "weight  7.673333  28.011111"
      ]
     },
     "execution_count": 17,
     "metadata": {},
     "output_type": "execute_result"
    }
   ],
   "source": [
    "data.cov()"
   ]
  },
  {
   "cell_type": "markdown",
   "metadata": {},
   "source": [
    "2. 물고기 데이터에서  length와 weight 간의 상관계수를 구하시오."
   ]
  },
  {
   "cell_type": "code",
   "execution_count": 18,
   "metadata": {},
   "outputs": [
    {
     "data": {
      "text/plain": [
       "array([[1.       , 0.7592719],\n",
       "       [0.7592719, 1.       ]])"
      ]
     },
     "execution_count": 18,
     "metadata": {},
     "output_type": "execute_result"
    }
   ],
   "source": [
    "np.corrcoef(data.length, data.weight)"
   ]
  },
  {
   "cell_type": "code",
   "execution_count": 19,
   "metadata": {},
   "outputs": [
    {
     "data": {
      "text/html": [
       "<div>\n",
       "<style scoped>\n",
       "    .dataframe tbody tr th:only-of-type {\n",
       "        vertical-align: middle;\n",
       "    }\n",
       "\n",
       "    .dataframe tbody tr th {\n",
       "        vertical-align: top;\n",
       "    }\n",
       "\n",
       "    .dataframe thead th {\n",
       "        text-align: right;\n",
       "    }\n",
       "</style>\n",
       "<table border=\"1\" class=\"dataframe\">\n",
       "  <thead>\n",
       "    <tr style=\"text-align: right;\">\n",
       "      <th></th>\n",
       "      <th>length</th>\n",
       "      <th>weight</th>\n",
       "    </tr>\n",
       "  </thead>\n",
       "  <tbody>\n",
       "    <tr>\n",
       "      <th>length</th>\n",
       "      <td>1.000000</td>\n",
       "      <td>0.759272</td>\n",
       "    </tr>\n",
       "    <tr>\n",
       "      <th>weight</th>\n",
       "      <td>0.759272</td>\n",
       "      <td>1.000000</td>\n",
       "    </tr>\n",
       "  </tbody>\n",
       "</table>\n",
       "</div>"
      ],
      "text/plain": [
       "          length    weight\n",
       "length  1.000000  0.759272\n",
       "weight  0.759272  1.000000"
      ]
     },
     "execution_count": 19,
     "metadata": {},
     "output_type": "execute_result"
    }
   ],
   "source": [
    "data.corr()"
   ]
  },
  {
   "cell_type": "markdown",
   "metadata": {},
   "source": [
    "# 06.실습\n",
    "\n"
   ]
  },
  {
   "cell_type": "markdown",
   "metadata": {},
   "source": [
    "1. 10개의 제비중에 4개의 당첨 제비가 포함되어 있다. 이 중 3개의 제비를 임의로 뽑을 때 다음을 구하시오.\n",
    "\n",
    "    1) 3개 모두가 당첨 제비가 아닐 확률은?  \n",
    "    2) 적어도 1개 이상이 제비일 확률은?"
   ]
  },
  {
   "cell_type": "code",
   "execution_count": 1,
   "metadata": {},
   "outputs": [],
   "source": [
    "from itertools import combinations\n",
    "\n",
    "lottery = list(combinations([1,1,1,1,0,0,0,0,0,0], 3))\n",
    "N = len(list(lottery))"
   ]
  },
  {
   "cell_type": "code",
   "execution_count": 3,
   "metadata": {},
   "outputs": [
    {
     "data": {
      "text/plain": [
       "120"
      ]
     },
     "execution_count": 3,
     "metadata": {},
     "output_type": "execute_result"
    }
   ],
   "source": [
    "len(lottery)"
   ]
  },
  {
   "cell_type": "code",
   "execution_count": 23,
   "metadata": {},
   "outputs": [
    {
     "name": "stdout",
     "output_type": "stream",
     "text": [
      "3개 모두가 당첨 제비가 아닐 확률 =  0.16666666666666666\n"
     ]
    }
   ],
   "source": [
    "wins = 0\n",
    "\n",
    "for i in lottery:\n",
    "    if (i.count(0) == 3):\n",
    "        wins += 1\n",
    "\n",
    "print('3개 모두가 당첨 제비가 아닐 확률 = ', wins/N)"
   ]
  },
  {
   "cell_type": "code",
   "execution_count": 24,
   "metadata": {},
   "outputs": [
    {
     "name": "stdout",
     "output_type": "stream",
     "text": [
      "적어도 1개 이상이 당첨 제비일 확률 =  0.8333333333333334\n"
     ]
    }
   ],
   "source": [
    "wins = 0\n",
    "\n",
    "for i in lottery:\n",
    "    if (i.count(1) == 1) or (i.count(1) == 2) or (i.count(1) == 3):\n",
    "        wins += 1\n",
    "\n",
    "print('적어도 1개 이상이 당첨 제비일 확률 = ', wins/N)"
   ]
  },
  {
   "cell_type": "code",
   "execution_count": 25,
   "metadata": {},
   "outputs": [
    {
     "data": {
      "text/plain": [
       "0.8333333333333334"
      ]
     },
     "execution_count": 25,
     "metadata": {},
     "output_type": "execute_result"
    }
   ],
   "source": [
    "# 여사건의 확률 \n",
    "1-(20/120)"
   ]
  },
  {
   "cell_type": "code",
   "execution_count": 26,
   "metadata": {},
   "outputs": [
    {
     "data": {
      "text/plain": [
       "0.16666666666666666"
      ]
     },
     "execution_count": 26,
     "metadata": {},
     "output_type": "execute_result"
    }
   ],
   "source": [
    "# 3개 모두가 당첨 제비가 아닐 확률 \n",
    "from scipy.special import comb\n",
    "\n",
    "comb(4,0)*comb(6,3)/comb(10, 3)"
   ]
  },
  {
   "cell_type": "code",
   "execution_count": 27,
   "metadata": {},
   "outputs": [
    {
     "data": {
      "text/plain": [
       "0.8333333333333334"
      ]
     },
     "execution_count": 27,
     "metadata": {},
     "output_type": "execute_result"
    }
   ],
   "source": [
    "# 적어도 1개 이상이 당첨 제비일 확률\n",
    "1 - (comb(4,0)*comb(6,3)/comb(10, 3))"
   ]
  },
  {
   "cell_type": "markdown",
   "metadata": {},
   "source": [
    "# 07 실습\n",
    "\n",
    "1. 조건부 확률을 이용하여 다음 확률을 계산해 보자.  \n",
    "\n",
    "1000명 중 5명이 걸린다고 하자. 병원에서 이 병에 걸렸는지 판정하는 검사도구를 개발했는데,   \n",
    "> 검사의 정확도는 '실제로 병이 있는 경우에 병이 있다고 정확히 진단할 확률'이 95%이고, '실제로 병이 없는 경우에 병이 없다고 정확히 판정할 확률'이 99%라고 하자. \n",
    "\n",
    "어떤 사람이 검사를 받은 결과 병이 있는 것으로 양성판정을 받았을 때, 이 사람이 실제로 병에 걸려 있을 확률은 얼마나 될까?"
   ]
  },
  {
   "cell_type": "code",
   "execution_count": 1,
   "metadata": {},
   "outputs": [
    {
     "data": {
      "text/plain": [
       "0.32312925170068024"
      ]
     },
     "execution_count": 1,
     "metadata": {},
     "output_type": "execute_result"
    }
   ],
   "source": [
    "p_병 = 0.005 # 병에 걸렸을 확률, 유병률\n",
    "\n",
    "p_민감도 = 0.95 # 병이 있는 경우에, 병이 있다고 판정할 확률\n",
    "p_특이도 = 0.99 # 병이 없는 경우에, 병이 없다고 판정할 확률\n",
    "\n",
    "# 병이 없는 경우에, 병이 있다고 판정할 확률 = 1 - 특이도 = 0.01\n",
    "# p_양성 ==> 병 유무와 관계없이 양성이 나올 확률\n",
    "# p_양성 = 병에 걸려서 양성 + 병에 안걸렸는데 양성\n",
    "p_양성 = p_병 * 0.95 + (1 - p_병) * 0.01\n",
    "\n",
    "p_병_양성 = (0.95 * 0.005) / p_양성  # 이 사람이 실제로 병에 걸려 있을 확률\n",
    "\n",
    "p_병_양성  "
   ]
  },
  {
   "cell_type": "markdown",
   "metadata": {},
   "source": [
    "2. A라는 사람이 다시 한번 검사 하였을때 2차 검사에서도 양성 판정을 받았다면 실제로 이 병에 걸렸을 확률은 얼마인가?"
   ]
  },
  {
   "cell_type": "code",
   "execution_count": 2,
   "metadata": {},
   "outputs": [
    {
     "data": {
      "text/plain": [
       "0.9784258456201215"
      ]
     },
     "execution_count": 2,
     "metadata": {},
     "output_type": "execute_result"
    }
   ],
   "source": [
    "# p_양성은 검사결과 양성 판정이 나올 확률이다. \n",
    "# 병에 걸릴 확률 p_병은 아무런 관찰이 없을때 가정한 0.005가 아니라 \n",
    "# 이전 검사결과를 토대로 구한 사후 확률인 p_병_양성으로 업데이트 된다. \n",
    "# 1번에서 구한 p_양성, p_민감도, p_병 의 확률을 사용하여 사후확률을 계산한다. \n",
    "\n",
    "p_병 = p_병_양성 \n",
    "\n",
    "p_양성 = p_병 * 0.95 + (1 - p_병) * 0.01\n",
    "\n",
    "p_병_양성 = (0.95 * p_병) / p_양성\n",
    "\n",
    "p_병_양성 "
   ]
  },
  {
   "cell_type": "markdown",
   "metadata": {},
   "source": [
    "1차, 2차 모두 양성일 경우 병에 걸렸을 확률은 98%로 매우 높다. "
   ]
  },
  {
   "cell_type": "markdown",
   "metadata": {
    "id": "gBnTfXXf5M8d"
   },
   "source": [
    "# 10실습\n",
    "\n",
    "1. 복권의 당첨률이 30% 라고 한다. 복권을 8장 구입했다. 이항분포로 다음의 확률을 구하시오.\n",
    "    - 4장이 당첨될 확률은? ($P=4$)\n",
    "    - 3장에서 7장 당첨될 확률은? ( $P(3\\le X \\le 7$ )\n",
    "    - 6장 이상 당첨될 확률은? ( $P \\ge 6$ )"
   ]
  },
  {
   "cell_type": "code",
   "execution_count": 30,
   "metadata": {},
   "outputs": [
    {
     "data": {
      "text/plain": [
       "(0.13613669999999994, 0.4481605799999997, 0.011292210000000025)"
      ]
     },
     "execution_count": 30,
     "metadata": {},
     "output_type": "execute_result"
    }
   ],
   "source": [
    "rv = stats.binom(8, 0.3)\n",
    "rv.pmf(4), rv.cdf(7)-rv.cdf(2), 1-rv.cdf(5)"
   ]
  },
  {
   "cell_type": "markdown",
   "metadata": {
    "id": "6SPsXU0VVSKX"
   },
   "source": [
    "# 11실습\n",
    "\n",
    "1. 확률변수 X가 평균이 70, 표준편차가 10인 정규분포를 따를때 다음의 확률을 구하시오.\n",
    "    \n",
    "    - P(X < 94.3)\n",
    "    - P(X > 57.5)\n",
    "    - P(57.7 < X < 94.3)"
   ]
  },
  {
   "cell_type": "code",
   "execution_count": 31,
   "metadata": {},
   "outputs": [
    {
     "data": {
      "text/plain": [
       "(0.9924505885836908, 0.8943502263331446, 0.8868008149168355)"
      ]
     },
     "execution_count": 31,
     "metadata": {},
     "output_type": "execute_result"
    }
   ],
   "source": [
    "rv = stats.norm(loc = 70, scale=10)\n",
    "\n",
    "rv.cdf(94.3), 1-rv.cdf(57.5), rv.cdf(94.3)-rv.cdf(57.5)"
   ]
  }
 ],
 "metadata": {
  "kernelspec": {
   "display_name": "Python 3 (ipykernel)",
   "language": "python",
   "name": "python3"
  },
  "language_info": {
   "codemirror_mode": {
    "name": "ipython",
    "version": 3
   },
   "file_extension": ".py",
   "mimetype": "text/x-python",
   "name": "python",
   "nbconvert_exporter": "python",
   "pygments_lexer": "ipython3",
   "version": "3.9.13"
  }
 },
 "nbformat": 4,
 "nbformat_minor": 4
}
