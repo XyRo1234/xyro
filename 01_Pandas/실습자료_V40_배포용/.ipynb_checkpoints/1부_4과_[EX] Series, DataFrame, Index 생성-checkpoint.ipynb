{
 "cells": [
  {
   "cell_type": "code",
   "execution_count": null,
   "metadata": {},
   "outputs": [],
   "source": [
    "from IPython.core.interactiveshell import InteractiveShell\n",
    "InteractiveShell.ast_node_interactivity = \"all\"\n",
    "\n",
    "class disp(object):\n",
    "    template = '<div style=\"float: left;padding:10px;\"> <b>[{0}]</b> {1}</div>'\n",
    "    def __init__(self, *args):\n",
    "        self.args = args\n",
    "        \n",
    "    def _repr_html_(self):\n",
    "        return '\\n'.join( self.template.format(a, eval(a)._repr_html_()) \n",
    "                        for a in self.args)\n",
    "\n",
    "def prt(*pVPK) :\n",
    "    print(*pVPK, sep = '\\n', end = '\\n\\n')\n",
    "    \n",
    "import pandas as pd\n",
    "import numpy as np    "
   ]
  },
  {
   "cell_type": "markdown",
   "metadata": {},
   "source": [
    "### [예제1] Series 생성 : copy parameter"
   ]
  },
  {
   "cell_type": "code",
   "execution_count": null,
   "metadata": {},
   "outputs": [],
   "source": [
    "# ndarray 수정 전\n",
    "a = np.array([3,5])\n",
    "sr1 = pd.Series(a, index=('A', 'B'))\n",
    "sr2 = pd.Series(a, index=('A', 'B'), copy=True)\n",
    "\n",
    "prt(a, sr1, sr2)"
   ]
  },
  {
   "cell_type": "code",
   "execution_count": null,
   "metadata": {},
   "outputs": [],
   "source": [
    "# ndarray 수정 후\n",
    "a = np.array([3,5])\n",
    "sr1 = pd.Series(a,index=('A','B'))\n",
    "sr2 = pd.Series(a,index=('A','B'),copy=True)\n",
    "a[0] = 100\n",
    "\n",
    "prt(a, sr1, sr2)    "
   ]
  },
  {
   "cell_type": "markdown",
   "metadata": {},
   "source": [
    "### [예제2] Series 생성 : iterable, array_like"
   ]
  },
  {
   "cell_type": "code",
   "execution_count": null,
   "metadata": {},
   "outputs": [],
   "source": [
    "# [s1 ~ s6]\n",
    "\n",
    "s1 = pd.Series(range(20,23))\n",
    "s2 = pd.Series(10)\n",
    "s3 = pd.Series(10, index = ['kim','lee'], name='score')\n",
    "s4 = pd.Series('hello')\n",
    "s5 = pd.Series(['h','e','l'])\n",
    "s6 = pd.Series(np.array([90,80]), index=['kim','lee'], dtype=float)\n",
    "s1; s2; s3; s4; s5; s6"
   ]
  },
  {
   "cell_type": "code",
   "execution_count": null,
   "metadata": {},
   "outputs": [],
   "source": [
    "# [s7 ~ s9]\n",
    "\n",
    "s7 = pd.Series({10:'kim', 20:'lee', 30:'park'})\n",
    "s8 = pd.Series({10:'kim', 20:'lee', 30:'park'}, index=[20, 10, 11])\n",
    "s9 = pd.Series(s7, index=[20, 10, 11])\n",
    "s7; s8; s9"
   ]
  },
  {
   "cell_type": "markdown",
   "metadata": {},
   "source": [
    "### [예제3] DataFrame 생성 : 빈 DataFrame 생성"
   ]
  },
  {
   "cell_type": "code",
   "execution_count": null,
   "metadata": {},
   "outputs": [],
   "source": [
    "df1 = pd.DataFrame(columns=list('ABC'))\n",
    "df2 = pd.DataFrame(index=list('ABC'))\n",
    "df3 = pd.DataFrame(index=np.arange(2), columns=list('ABC'))\n",
    "df1; df2; df3"
   ]
  },
  {
   "cell_type": "markdown",
   "metadata": {
    "colab_type": "text",
    "id": "STbDxFTn6ivq"
   },
   "source": [
    "### [예제4] DataFrame 생성 : Scalar, Iterable"
   ]
  },
  {
   "cell_type": "code",
   "execution_count": null,
   "metadata": {},
   "outputs": [],
   "source": [
    "# [df2, df3]\n",
    "\n",
    "df1 = pd.DataFrame(0, index=[1,2]) #error\n",
    "df2 = pd.DataFrame(0, index=[1,2], columns=['A','B'])\n",
    "df3 = pd.DataFrame(50, index=range(10,12), columns=['A','B','C'], dtype=float)\n",
    "df2; df3"
   ]
  },
  {
   "cell_type": "code",
   "execution_count": null,
   "metadata": {
    "scrolled": true
   },
   "outputs": [],
   "source": [
    "# [df4, df5, df6]\n",
    "\n",
    "df4 = pd.DataFrame([['kim',90],['lee',50]])\n",
    "df5 = pd.DataFrame([['kim',90],['lee',50]], columns=['n','s'], index=[10,11])\n",
    "df6 = pd.DataFrame([['kim',90],['lee']], columns=['n','s'], index=['A','B'])\n",
    "df4; df5; df6"
   ]
  },
  {
   "cell_type": "markdown",
   "metadata": {},
   "source": [
    "### [예제5] DataFrame 생성 : dict"
   ]
  },
  {
   "cell_type": "code",
   "execution_count": null,
   "metadata": {},
   "outputs": [],
   "source": [
    "# [df2, df3]\n",
    "\n",
    "df1 = pd.DataFrame({'n':'kim','a':10})  #error\n",
    "df2 = pd.DataFrame({'n':'kim','a':10}, index=[0])\n",
    "df3 = pd.DataFrame({'n':['kim'],'a':[10]})  \n",
    "df2; df3"
   ]
  },
  {
   "cell_type": "code",
   "execution_count": null,
   "metadata": {},
   "outputs": [],
   "source": [
    "# [df4, df5]\n",
    "\n",
    "df4 = pd.DataFrame({'n':'kim','a':10}, index=[1,2])\n",
    "df5 = pd.DataFrame({'n':['kim'],'a':[10]}, index=[1,2])\n",
    "df4; df5"
   ]
  },
  {
   "cell_type": "code",
   "execution_count": null,
   "metadata": {},
   "outputs": [],
   "source": [
    "# [df6, df7]\n",
    "\n",
    "df6 = pd.DataFrame({'n':['kim','lee','park'],'a':[10,20,30]}) \n",
    "df7 = pd.DataFrame({'n':['kim','lee','park'],'a':[10,20,30]},index=['x','y','z']) \n",
    "df6; df7"
   ]
  },
  {
   "cell_type": "code",
   "execution_count": null,
   "metadata": {},
   "outputs": [],
   "source": [
    "# [df8]\n",
    "\n",
    "sr = pd.Series(['kim','lee','park'])          \n",
    "df8 = pd.DataFrame({'n':sr, 'a':{0:10, 2:20}})\n",
    "sr; df8"
   ]
  },
  {
   "cell_type": "code",
   "execution_count": null,
   "metadata": {},
   "outputs": [],
   "source": [
    "# [df9]\n",
    "\n",
    "df9 = pd.DataFrame([{'n':'kim','a':10}, {'n':'lee','a':20}]) #?\n",
    "df9"
   ]
  },
  {
   "cell_type": "markdown",
   "metadata": {},
   "source": [
    "### [예제6] DataFrame 생성 : ndarray"
   ]
  },
  {
   "cell_type": "code",
   "execution_count": null,
   "metadata": {},
   "outputs": [],
   "source": [
    "arr1 = np.array([[1,2,3],[4,5,6]])\n",
    "arr2 = np.array([['kim', 'W', 90], ['lee', 'M', 50]])\n",
    "df1 = pd.DataFrame(arr1, index=['X','Y'], columns=['A','B','C'])\n",
    "df2 = pd.DataFrame(arr2, index=[10,20], columns = ['A','B','C'])\n",
    "\n",
    "prt(df1.dtypes, df2.dtypes)\n",
    "disp('df1', 'df2')"
   ]
  },
  {
   "cell_type": "code",
   "execution_count": null,
   "metadata": {},
   "outputs": [],
   "source": [
    "df2['C'] = df2['C'].astype(int)\n",
    "\n",
    "prt(df2.dtypes)"
   ]
  },
  {
   "cell_type": "markdown",
   "metadata": {},
   "source": [
    "### [예제7] DataFrame 생성 : DataFrame, Series, 기타"
   ]
  },
  {
   "cell_type": "code",
   "execution_count": null,
   "metadata": {},
   "outputs": [],
   "source": [
    "# [1] \n",
    "\n",
    "df = pd.DataFrame({'id':[11,12,13],'n':['kim','lee','park'],'a':[30,40,50]}) \n",
    "df1 = pd.DataFrame(df, columns=['n','a'], index=[0, 2])\n",
    "df2 = pd.DataFrame({'names':df['n'], 'age':df['a']}, index=[0,2])\n",
    "df3 = pd.DataFrame(df, columns=['n','a','h'], index=[0,2,10])\n",
    "\n",
    "disp('df', 'df1', 'df2','df3')"
   ]
  },
  {
   "cell_type": "code",
   "execution_count": null,
   "metadata": {
    "scrolled": true
   },
   "outputs": [],
   "source": [
    "# [2]\n",
    "\n",
    "df = pd.DataFrame({'id':[11,12,13],'n':['kim','lee','park'],'a':[30,40,50]}) \n",
    "df4 = pd.DataFrame(df['n'])    \n",
    "\n",
    "disp('df', 'df4')"
   ]
  },
  {
   "cell_type": "code",
   "execution_count": null,
   "metadata": {},
   "outputs": [],
   "source": [
    "# [3]\n",
    "\n",
    "df5 = pd.DataFrame.from_dict({'n':['kim','lee'],'a':[30,40]})\n",
    "df6 = pd.DataFrame.from_dict({'n':['kim','lee'],'a':[30,40]}, orient='index')\n",
    "\n",
    "disp('df5', 'df6')"
   ]
  },
  {
   "cell_type": "markdown",
   "metadata": {},
   "source": [
    "### [예제8] Index 생성"
   ]
  },
  {
   "cell_type": "code",
   "execution_count": null,
   "metadata": {},
   "outputs": [],
   "source": [
    "# [1]\n",
    "\n",
    "i1 = pd.Index([11, 12, 13], name='id')\n",
    "i2 = pd.Index(['A','B','A'], name='class')\n",
    "sr1 = pd.Series(['kim','lee','park'], index=i1)\n",
    "sr2 = pd.Series(['kim','lee','park'], index=i2)\n",
    "i1; i2; sr1; sr2"
   ]
  },
  {
   "cell_type": "code",
   "execution_count": null,
   "metadata": {},
   "outputs": [],
   "source": [
    "# [2]\n",
    "\n",
    "i3 = pd.Index(range(11, 14), dtype = 'int32')\n",
    "i4 = pd.RangeIndex(11, 16, 2, name='id')\n",
    "sr3 = pd.Series(['kim','lee','park'], index = i3)\n",
    "sr4 = pd.Series(sr3, index = i4)\n",
    "i3; i4; sr3; sr4"
   ]
  },
  {
   "cell_type": "markdown",
   "metadata": {},
   "source": [
    "### [예제9] DatetimeIndex 객체"
   ]
  },
  {
   "cell_type": "code",
   "execution_count": null,
   "metadata": {},
   "outputs": [],
   "source": [
    "# [1]\n",
    "\n",
    "i1 = pd.DatetimeIndex(['2000-1-2','2000-1-27','2000-2-21','2000-3-17'])\n",
    "i2 = pd.date_range('1/2/2000', periods=4, freq='25D')\n",
    "i3 = pd.date_range('2000-1-1 12:00:00', periods=2, freq='30T')\n",
    "prt(type(i1),i1.dtype, type(i2),i2.dtype, type(i3), i3.dtype)\n",
    "i1; i2; i3"
   ]
  },
  {
   "cell_type": "code",
   "execution_count": null,
   "metadata": {},
   "outputs": [],
   "source": [
    "# [2]\n",
    "\n",
    "sr = pd.Series(range(4), index=i2)\n",
    "r1 = sr['2000-01-27']\n",
    "r2 = sr['2000-01-01':'2000-02-20']\n",
    "r3 = sr['2000-01']\n",
    "r4 = sr['2000']\n",
    "sr; r1; r2; r3; r4"
   ]
  },
  {
   "cell_type": "markdown",
   "metadata": {},
   "source": [
    "### [예제10] Series, DataFrame의 Format 변환!"
   ]
  },
  {
   "cell_type": "code",
   "execution_count": null,
   "metadata": {},
   "outputs": [],
   "source": [
    "#[1]\n",
    "\n",
    "df = pd.DataFrame({'n':['kim','lee','park'],'a':[19,20,22]}) \n",
    "\n",
    "df.to_excel('out_data/test1.xlsx', index=False)\n",
    "r1 = pd.read_excel('out_data/test1.xlsx')\n",
    "df.to_csv('out_data/test2.csv', index=False)\n",
    "r2 = pd.read_csv('out_data/test2.csv')\n",
    "r3 = df.to_dict()\n",
    "r1; r2; r3"
   ]
  },
  {
   "cell_type": "code",
   "execution_count": null,
   "metadata": {},
   "outputs": [],
   "source": [
    "# [2] \n",
    "\n",
    "idx = pd.Index(['kim','lee'], name='name')\n",
    "sr = pd.Series([10,20], index=idx, name='score')\n",
    "\n",
    "r4 = sr.to_numpy()\n",
    "r5 = sr.to_list()\n",
    "r6 = sr.to_dict()\n",
    "r7 = sr.to_frame()\n",
    "sr.to_csv('out_data/test3.csv')\n",
    "r8 = pd.read_csv('out_data/test3.csv')\n",
    "sr; r4; r5; r6; r7; r8"
   ]
  }
 ],
 "metadata": {
  "colab": {
   "collapsed_sections": [
    "X9j6NHSVvIB7"
   ],
   "name": "DF_basic_Indexing_kim.ipynb",
   "provenance": []
  },
  "kernelspec": {
   "display_name": "Python 3",
   "language": "python",
   "name": "python3"
  },
  "language_info": {
   "codemirror_mode": {
    "name": "ipython",
    "version": 3
   },
   "file_extension": ".py",
   "mimetype": "text/x-python",
   "name": "python",
   "nbconvert_exporter": "python",
   "pygments_lexer": "ipython3",
   "version": "3.8.5"
  },
  "toc": {
   "base_numbering": 1,
   "nav_menu": {},
   "number_sections": true,
   "sideBar": true,
   "skip_h1_title": false,
   "title_cell": "Table of Contents",
   "title_sidebar": "Contents",
   "toc_cell": false,
   "toc_position": {},
   "toc_section_display": true,
   "toc_window_display": false
  }
 },
 "nbformat": 4,
 "nbformat_minor": 1
}
