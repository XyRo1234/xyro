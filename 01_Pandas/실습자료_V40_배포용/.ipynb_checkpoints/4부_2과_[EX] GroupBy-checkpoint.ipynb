{
 "cells": [
  {
   "cell_type": "code",
   "execution_count": null,
   "metadata": {},
   "outputs": [],
   "source": [
    "from IPython.core.interactiveshell import InteractiveShell\n",
    "InteractiveShell.ast_node_interactivity = \"all\"\n",
    "\n",
    "class disp(object):\n",
    "    template = '<div style=\"float: left;padding:10px;\"> <b>[{0}]</b> {1}</div>'\n",
    "    def __init__(self, *args):\n",
    "        self.args = args\n",
    "        \n",
    "    def _repr_html_(self):\n",
    "        return '\\n'.join(self.template.format(a, eval(a)._repr_html_())\n",
    "                         for a in self.args)\n",
    "\n",
    "import pandas as pd   \n",
    "import numpy as np"
   ]
  },
  {
   "cell_type": "markdown",
   "metadata": {},
   "source": [
    "### [예제1] GroupBy 객체의 이해"
   ]
  },
  {
   "cell_type": "code",
   "execution_count": null,
   "metadata": {
    "scrolled": true
   },
   "outputs": [],
   "source": [
    "# [1]\n",
    "\n",
    "d = {'grade':[1,1,1,2,2],'name':['kim','lee','park','song','lew'],'exam':[60,90,50,100,80]}\n",
    "df = pd.DataFrame(d)\n",
    "df\n",
    "\n",
    "gb = df.groupby('grade')\n",
    "print(gb)"
   ]
  },
  {
   "cell_type": "code",
   "execution_count": null,
   "metadata": {
    "scrolled": true
   },
   "outputs": [],
   "source": [
    "# [2] \n",
    "\n",
    "d = {'grade':[1,1,1,2,2],'name':['kim','lee','park','song','lew'],'exam':[60,90,50,100,80]}\n",
    "df = pd.DataFrame(d)\n",
    "gb = df.groupby('grade')\n",
    "\n",
    "r1 = gb.groups\n",
    "r2 = gb.get_group(2)\n",
    "r1; disp('df', 'r2')"
   ]
  },
  {
   "cell_type": "code",
   "execution_count": null,
   "metadata": {},
   "outputs": [],
   "source": [
    "# [3]\n",
    "\n",
    "d = {'grade':[1,1,1,2,2],'name':['kim','lee','park','song','lew'],'exam':[60,90,50,100,80]}\n",
    "df = pd.DataFrame(d)\n",
    "gb = df.groupby('grade')\n",
    "\n",
    "r3 = gb.mean()\n",
    "disp('df', 'r3')"
   ]
  },
  {
   "cell_type": "markdown",
   "metadata": {},
   "source": [
    "### [예제2] GroupBy 객체 이해 2"
   ]
  },
  {
   "cell_type": "code",
   "execution_count": null,
   "metadata": {},
   "outputs": [],
   "source": [
    "# [1]\n",
    "\n",
    "df = pd.DataFrame({'grade':[2,2,1,1,1], 'class':list('AAAAB'),'exam':[100,90,50,70,80]},\n",
    "                 index=['kim','lee','park','song','lew'])\n",
    "\n",
    "r1 = df.groupby(['grade', 'class']).groups\n",
    "r2 = df.groupby(['grade', 'class']).get_group((1, 'A'))\n",
    "r3 = df.groupby(['grade', 'class']).max()\n",
    "\n",
    "r1; disp('df', 'r2'); r3"
   ]
  },
  {
   "cell_type": "code",
   "execution_count": null,
   "metadata": {},
   "outputs": [],
   "source": [
    "# [2]\n",
    "\n",
    "df = pd.DataFrame({'grade':[2,2,1,1,1], 'class':list('AAAAB'),'exam':[100,90,50,70,80]},\n",
    "                 index=['kim','lee','park','song','lew'])\n",
    "\n",
    "r4 = df.groupby('grade', as_index=False).sum()\n",
    "r5 = df.groupby('grade', sort=False).sum()\n",
    "disp('df', 'r4'); r5"
   ]
  },
  {
   "cell_type": "markdown",
   "metadata": {},
   "source": [
    "### [예제3] GroupBy 객체 인덱싱"
   ]
  },
  {
   "cell_type": "code",
   "execution_count": null,
   "metadata": {
    "scrolled": false
   },
   "outputs": [],
   "source": [
    "# [1]\n",
    "\n",
    "df = pd.DataFrame({'grade':[2,2,1,1,1], 'name':['kim','lee','park','song','lew'],\n",
    "                  'kor':[100,80,60,90,80], 'eng':[50,100,60,80,70],\n",
    "                  'math':[60,50,40,100,50]})\n",
    "\n",
    "gb = df.groupby('grade')  \n",
    "srgb = gb['kor']\n",
    "dfgb = gb[['kor','eng']]\n",
    "\n",
    "print(gb, srgb, dfgb, sep = '\\n')"
   ]
  },
  {
   "cell_type": "code",
   "execution_count": null,
   "metadata": {},
   "outputs": [],
   "source": [
    "# [2]\n",
    "\n",
    "df = pd.DataFrame({'grade':[1,1,1,2,2], 'name':['kim','lee','park','song','lew'],\n",
    "                  'kor':[100,80,60,90,80], 'eng':[50,100,60,80,70],\n",
    "                  'math':[60,50,40,100,50]})\n",
    "gb = df.groupby('grade')  \n",
    "srgb = gb['kor']\n",
    "dfgb = gb[['kor','eng']]\n",
    "\n",
    "r1 = srgb.groups\n",
    "r2 = dfgb.groups\n",
    "r3 = srgb.get_group(2)\n",
    "r4 = dfgb.get_group(2)\n",
    "r1; r2; r3; \n",
    "\n",
    "disp('df', 'r4')"
   ]
  },
  {
   "cell_type": "code",
   "execution_count": null,
   "metadata": {},
   "outputs": [],
   "source": [
    "# [3]\n",
    "\n",
    "df = pd.DataFrame({'grade':[1,1,1,2,2], 'name':['kim','lee','park','song','lew'],\n",
    "                  'kor':[100,80,60,90,80], 'eng':[50,100,60,80,70],\n",
    "                  'math':[60,50,40,100,50]})\n",
    "\n",
    "r5 = df['kor'].groupby('grade') # error\n",
    "r6 = df['kor'].groupby(df['grade']).groups\n",
    "r7 = df.loc[:, 'kor':'math'].groupby(df['grade']).groups\n",
    "r8 = df.groupby('grade')[['kor','eng','math']].groups\n",
    "\n",
    "df; r6; r7; r8"
   ]
  },
  {
   "cell_type": "markdown",
   "metadata": {},
   "source": [
    "### [예제4] GroupBy 집계 예"
   ]
  },
  {
   "cell_type": "code",
   "execution_count": null,
   "metadata": {},
   "outputs": [],
   "source": [
    "# [1]\n",
    "\n",
    "df = pd.DataFrame({'grade':[1,1,1,1,2,2,2,2], 'class':list('AABBAABB'),\n",
    "                  'kor':[90,100,80,70,60,100,100,85], 'eng':[50,95,60,80,70,90,40,100]},\n",
    "                 index=['kim','lee','park','song','lew','ki','an','ha'])\n",
    "df\n",
    "\n",
    "r1 = df.groupby(['grade', 'class']).mean().mean(axis=1)\n",
    "r1"
   ]
  },
  {
   "cell_type": "code",
   "execution_count": null,
   "metadata": {},
   "outputs": [],
   "source": [
    "# [2] \n",
    "\n",
    "df = pd.DataFrame({'grade':[1,1,1,1,2,2,2,2], 'class':list('AABBAABB'),\n",
    "                  'kor':[90,100,80,70,60,100,100,85], 'eng':[50,95,60,80,70,90,40,100]},\n",
    "                 index=['kim','lee','park','song','lew','ki','an','ha'])\n",
    "\n",
    "adf = df.groupby(['grade','class']).mean()\n",
    "bdf = df.groupby(['grade']).mean()\n",
    "r2 = adf - bdf\n",
    "\n",
    "disp('df', 'adf', 'bdf', 'r2')"
   ]
  },
  {
   "cell_type": "markdown",
   "metadata": {},
   "source": [
    "### [예제5] 함수에 의한 GroupBy"
   ]
  },
  {
   "cell_type": "code",
   "execution_count": null,
   "metadata": {
    "scrolled": false
   },
   "outputs": [],
   "source": [
    "# [1-1]\n",
    "\n",
    "idx = pd.Index([1,3,5,9,12], name='month')\n",
    "df1 = pd.DataFrame({'sale':[10, 30, 50, 40, 70],'stock':[100,100,200,200,300]},index=idx)\n",
    "\n",
    "gb1 = df1.groupby(lambda x: x<7)\n",
    "gb2 = df1.groupby(lambda x:'1~6' if x<7 else '7~12')\n",
    "r1 = gb1.groups\n",
    "r2 = gb2.groups\n",
    "r3 = gb2.sum()\n",
    "\n",
    "r1; r2; disp('df1', 'r3')"
   ]
  },
  {
   "cell_type": "code",
   "execution_count": null,
   "metadata": {},
   "outputs": [],
   "source": [
    "# [1-2]\n",
    "idx = pd.Index([1,3,5,9,12], name='month')\n",
    "df2 = pd.DataFrame({'sale':[10, 30, 50, 40, 70],'stock':[100,100,200,200,300]},index=idx).T\n",
    "\n",
    "gb3 = df2.groupby(lambda x:'1~6' if x<7 else '7~12', axis=1)\n",
    "r4 = gb3.groups\n",
    "r5 = gb3.sum()\n",
    "\n",
    "r4; disp('df2', 'r5')"
   ]
  },
  {
   "cell_type": "markdown",
   "metadata": {},
   "source": [
    "### [예제6] dict, Series, list, ndarray에 의한 GroupBy"
   ]
  },
  {
   "cell_type": "code",
   "execution_count": null,
   "metadata": {
    "scrolled": true
   },
   "outputs": [],
   "source": [
    "# [1]\n",
    "\n",
    "idx = pd.Index([1,3,5,9,12], name='month')\n",
    "df = pd.DataFrame({'sale':[10, 30, 50, 40, 70],'stock':[100,100,200,200,300]},index=idx)\n",
    "df\n",
    "\n",
    "dic = {1:'G1', 9:'G1', 3:'G2', 12:'G2'}\n",
    "r1 = df.groupby(dic).groups\n",
    "r1"
   ]
  },
  {
   "cell_type": "code",
   "execution_count": null,
   "metadata": {
    "scrolled": true
   },
   "outputs": [],
   "source": [
    "# [2]\n",
    "\n",
    "idx = pd.Index([1,3,5,9,12], name='month')\n",
    "df = pd.DataFrame({'sale':[10, 30, 50, 40, 70],'stock':[100,100,200,200,300]},index=idx)\n",
    "df\n",
    "\n",
    "sr = pd.Series({1:'G1', 2:'G1', 9:'G1', 3:'G2'})\n",
    "r2 = df.groupby(sr).groups\n",
    "r2"
   ]
  },
  {
   "cell_type": "code",
   "execution_count": null,
   "metadata": {},
   "outputs": [],
   "source": [
    "# [3]\n",
    "\n",
    "idx = pd.Index([1,3,5,9,12], name='month')\n",
    "df = pd.DataFrame({'sale':[10, 30, 50, 40, 70],'stock':[100,100,200,200,300]},index=idx)\n",
    "df\n",
    "\n",
    "l = ['G1', 'G1', 'G2', 'G2', 'G3']\n",
    "r3 = df.groupby(l).groups\n",
    "r3"
   ]
  },
  {
   "cell_type": "code",
   "execution_count": null,
   "metadata": {},
   "outputs": [],
   "source": [
    "# [4]\n",
    "\n",
    "idx = pd.Index([1,3,5,9,12], name='month')\n",
    "df = pd.DataFrame({'sale':[10, 30, 50, 40, 70],'stock':[100,100,200,200,300]},index=idx)\n",
    "df\n",
    "\n",
    "arr = np.where(df['sale']>=50, 'high', 'low')\n",
    "r4 = df.groupby(arr).groups\n",
    "r5 = df.groupby(arr).size()\n",
    "arr; r4; r5"
   ]
  },
  {
   "cell_type": "markdown",
   "metadata": {},
   "source": [
    "### [예제7]  MultiIndex 그룹화"
   ]
  },
  {
   "cell_type": "code",
   "execution_count": null,
   "metadata": {
    "scrolled": true
   },
   "outputs": [],
   "source": [
    "# [1]\n",
    "\n",
    "df = pd.DataFrame({'model':list('XYXYY'),'sale':[10, 30, 50, 40, 70],\n",
    "                  'month':[3,3,3,9,9],'brand':list('ABBAB')}).set_index(['month','brand'])\n",
    "\n",
    "r1 = df.groupby(level=0).groups\n",
    "r2 = df.groupby(level='brand').groups\n",
    "r3 = df.groupby(level=0).sum()\n",
    "r4 = df.groupby(level=1).sum()\n",
    "r1; r2; disp('df', 'r3', 'r4')"
   ]
  },
  {
   "cell_type": "code",
   "execution_count": null,
   "metadata": {
    "scrolled": true
   },
   "outputs": [],
   "source": [
    "# [2] \n",
    "\n",
    "df = pd.DataFrame({'model':list('XYXYY'),'sale':[10, 30, 50, 40, 70],\n",
    "                  'month':[3,3,3,9,9],'brand':list('ABBAB')}).set_index(['month','brand'])\n",
    "\n",
    "r5 = df.groupby(['month', 'model']).groups\n",
    "r6 = df.groupby([0, 'model']).groups # error\n",
    "r7 = df.groupby([pd.Grouper(level=0),'model']).groups\n",
    "r8 = df.groupby(['month', 'model']).sum()\n",
    "r5; r7; disp('df', 'r8')"
   ]
  }
 ],
 "metadata": {
  "kernelspec": {
   "display_name": "Python 3",
   "language": "python",
   "name": "python3"
  },
  "language_info": {
   "codemirror_mode": {
    "name": "ipython",
    "version": 3
   },
   "file_extension": ".py",
   "mimetype": "text/x-python",
   "name": "python",
   "nbconvert_exporter": "python",
   "pygments_lexer": "ipython3",
   "version": "3.8.5"
  },
  "toc": {
   "base_numbering": 1,
   "nav_menu": {},
   "number_sections": true,
   "sideBar": true,
   "skip_h1_title": false,
   "title_cell": "Table of Contents",
   "title_sidebar": "Contents",
   "toc_cell": false,
   "toc_position": {
    "height": "calc(100% - 180px)",
    "left": "10px",
    "top": "150px",
    "width": "351.075px"
   },
   "toc_section_display": true,
   "toc_window_display": false
  }
 },
 "nbformat": 4,
 "nbformat_minor": 2
}
