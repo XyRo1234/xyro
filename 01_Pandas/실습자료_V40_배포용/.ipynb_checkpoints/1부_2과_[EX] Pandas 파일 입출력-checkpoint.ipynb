{
 "cells": [
  {
   "cell_type": "code",
   "execution_count": null,
   "metadata": {},
   "outputs": [],
   "source": [
    "from IPython.core.interactiveshell import InteractiveShell\n",
    "InteractiveShell.ast_node_interactivity = \"all\"\n",
    "\n",
    "class disp(object):\n",
    "    template = '<div style=\"float: left;padding:10px;\"> <b>[{0}]</b> {1}</div>'\n",
    "    def __init__(self, *args):\n",
    "        self.args = args\n",
    "        \n",
    "    def _repr_html_(self):\n",
    "        return '\\n'.join(self.template.format(a, eval(a)._repr_html_())\n",
    "                         for a in self.args)\n",
    "    \n",
    "import pandas as pd"
   ]
  },
  {
   "cell_type": "markdown",
   "metadata": {},
   "source": [
    "### [예제1] CSV 파일 읽기"
   ]
  },
  {
   "cell_type": "code",
   "execution_count": null,
   "metadata": {
    "scrolled": true
   },
   "outputs": [],
   "source": [
    "# [1]\n",
    "\n",
    "import pandas as pd\n",
    "file1 = 'data/01_02_01.csv'\n",
    "df1 = pd.read_csv(file1)\n",
    "df1"
   ]
  },
  {
   "cell_type": "code",
   "execution_count": null,
   "metadata": {
    "scrolled": true
   },
   "outputs": [],
   "source": [
    "# [2]\n",
    "\n",
    "file1 = 'data/01_02_01_ANSI.csv'\n",
    "df2 = pd.read_csv(file1) # error\n",
    "df3 = pd.read_csv(file1, encoding='ANSI')\n",
    "df3"
   ]
  },
  {
   "cell_type": "markdown",
   "metadata": {},
   "source": [
    "### [예제2] read_csv() 옵션 이해 1"
   ]
  },
  {
   "cell_type": "code",
   "execution_count": null,
   "metadata": {},
   "outputs": [],
   "source": [
    "# [1]\n",
    "\n",
    "file1 = 'data/01_02_01.csv'\n",
    "df1 = pd.read_csv(file1, header = None)\n",
    "df2 = pd.read_csv(file1, header = 2)\n",
    "\n",
    "disp('df1', 'df2')"
   ]
  },
  {
   "cell_type": "code",
   "execution_count": null,
   "metadata": {},
   "outputs": [],
   "source": [
    "# [2]\n",
    "\n",
    "file1 = 'data/01_02_01.csv'\n",
    "df3 = pd.read_csv(file1, skiprows=2)\n",
    "df4 = pd.read_csv(file1, header=None, skiprows=3, names=['A','B','C'])\n",
    "df5 = pd.read_csv(file1, header=None, skiprows=[0,2,4])\n",
    "df6 = pd.read_csv(file1, header=None, skiprows=lambda x: x%2==0)\n",
    "\n",
    "disp('df3', 'df4', 'df5', 'df6')"
   ]
  },
  {
   "cell_type": "markdown",
   "metadata": {
    "scrolled": false
   },
   "source": [
    "### [예제3] read_csv() 옵션 이해 2"
   ]
  },
  {
   "cell_type": "code",
   "execution_count": null,
   "metadata": {},
   "outputs": [],
   "source": [
    "# [1]\n",
    "\n",
    "file1 = 'data/01_02_01.csv'\n",
    "df1 = pd.read_csv(file1, nrows = 3)\n",
    "df2 = pd.read_csv(file1, header = 1, skiprows = 2, nrows = 3)\n",
    "df3 = pd.read_csv(file1, usecols=['id', 'age'])\n",
    "df4 = pd.read_csv(file1, header=None, skiprows=1, usecols=[0, 2])\n",
    "df5 = pd.read_csv(file1, index_col='id')\n",
    "df6 = pd.read_csv(file1, index_col=['id','name'])\n",
    "\n",
    "disp('df1', 'df2', 'df3', 'df4', 'df5', 'df6')"
   ]
  },
  {
   "cell_type": "markdown",
   "metadata": {},
   "source": [
    "### [예제4] CSV(또는 TXT) 파일로 저장하기"
   ]
  },
  {
   "cell_type": "code",
   "execution_count": null,
   "metadata": {
    "scrolled": false
   },
   "outputs": [],
   "source": [
    "df1 = pd.read_csv('data/01_02_01.csv', nrows=2)\n",
    "df1.to_csv('out_data/test_out.csv', header=False, index=False)\n",
    "df2 = pd.read_csv('out_data/test_out.csv', header=None)\n",
    "\n",
    "disp('df1', 'df2')"
   ]
  },
  {
   "cell_type": "markdown",
   "metadata": {},
   "source": [
    "### [예제5] 엑셀 파일 읽기"
   ]
  },
  {
   "cell_type": "code",
   "execution_count": null,
   "metadata": {
    "scrolled": false
   },
   "outputs": [],
   "source": [
    "# [1-1]\n",
    "\n",
    "df1 = pd.read_excel('data/01_02_01.xlsx', sheet_name=0)\n",
    "df2 = pd.read_excel('data/01_02_01.xlsx', sheet_name='sheet_1')\n",
    "\n",
    "disp('df1', 'df2')"
   ]
  },
  {
   "cell_type": "code",
   "execution_count": null,
   "metadata": {},
   "outputs": [],
   "source": [
    "# [1-2]\n",
    "\n",
    "df3 = pd.read_excel('data/01_02_01.xlsx', sheet_name = [1, 0])\n",
    "df4 = pd.read_excel('data/01_02_01.xlsx', sheet_name = ['sheet_2','sheet_1'])\n",
    "df3; df4"
   ]
  },
  {
   "cell_type": "markdown",
   "metadata": {},
   "source": [
    "### [예제6] 엑셀파일 쓰기"
   ]
  },
  {
   "cell_type": "code",
   "execution_count": null,
   "metadata": {
    "scrolled": true
   },
   "outputs": [],
   "source": [
    "# [1]\n",
    "\n",
    "newfile1 = 'out_data/test1.xlsx'\n",
    "\n",
    "df1 = pd.read_csv('data/01_02_01.csv', nrows=2)\n",
    "df1.to_excel(newfile1, sheet_name='my_sheet',index=False)\n",
    "df2 = pd.read_excel(newfile1)\n",
    "\n",
    "disp('df1', 'df2')"
   ]
  },
  {
   "cell_type": "code",
   "execution_count": null,
   "metadata": {},
   "outputs": [],
   "source": [
    "# [2]\n",
    "\n",
    "f = 'out_data/test2.xlsx'\n",
    "\n",
    "with pd.ExcelWriter(f) as wr :\n",
    "    df1.to_excel(wr, sheet_name=\"new1\", index=False)\n",
    "    df2.to_excel(wr, sheet_name=\"new2\", index=False)\n",
    "\n",
    "with pd.ExcelWriter(f, mode = 'a', engine='openpyxl') as wr :\n",
    "    df1.to_excel(wr, sheet_name=\"new11\", index=False)\n",
    "    df2.to_excel(wr, sheet_name=\"new3\", index=False)\n",
    "\n",
    "df3 = pd.read_excel(f)\n",
    "df3"
   ]
  }
 ],
 "metadata": {
  "kernelspec": {
   "display_name": "Python 3",
   "language": "python",
   "name": "python3"
  },
  "language_info": {
   "codemirror_mode": {
    "name": "ipython",
    "version": 3
   },
   "file_extension": ".py",
   "mimetype": "text/x-python",
   "name": "python",
   "nbconvert_exporter": "python",
   "pygments_lexer": "ipython3",
   "version": "3.8.5"
  },
  "toc": {
   "base_numbering": 1,
   "nav_menu": {},
   "number_sections": true,
   "sideBar": true,
   "skip_h1_title": false,
   "title_cell": "Table of Contents",
   "title_sidebar": "Contents",
   "toc_cell": false,
   "toc_position": {},
   "toc_section_display": true,
   "toc_window_display": false
  }
 },
 "nbformat": 4,
 "nbformat_minor": 2
}
