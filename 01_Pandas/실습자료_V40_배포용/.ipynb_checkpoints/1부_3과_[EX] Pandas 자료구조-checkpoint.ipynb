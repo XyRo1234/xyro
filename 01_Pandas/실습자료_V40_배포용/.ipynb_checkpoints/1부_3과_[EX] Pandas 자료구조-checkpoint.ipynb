{
 "cells": [
  {
   "cell_type": "code",
   "execution_count": null,
   "metadata": {
    "colab": {
     "base_uri": "https://localhost:8080/",
     "height": 126
    },
    "colab_type": "code",
    "id": "uuZd1bckq4GY",
    "outputId": "96f342f5-df26-41c4-c668-ddf2320b7020"
   },
   "outputs": [],
   "source": [
    "from IPython.core.interactiveshell import InteractiveShell\n",
    "InteractiveShell.ast_node_interactivity = \"all\"\n",
    "\n",
    "class disp(object):\n",
    "    template = '<div style=\"float: left;padding:10px;\"> <b>[{0}]</b> {1}</div>'\n",
    "    def __init__(self, *args):\n",
    "        self.args = args\n",
    "        \n",
    "    def _repr_html_(self):\n",
    "        return '\\n'.join( self.template.format(a, eval(a)._repr_html_()) \n",
    "                        for a in self.args)\n",
    "    \n",
    "def prt(*pVPK) :\n",
    "    print(*pVPK, sep = '\\n\\n', end = '\\n\\n')\n",
    "\n",
    "import pandas as pd\n",
    "import numpy as np  "
   ]
  },
  {
   "cell_type": "markdown",
   "metadata": {},
   "source": [
    "### [예제1] index 객체 구성"
   ]
  },
  {
   "cell_type": "code",
   "execution_count": null,
   "metadata": {},
   "outputs": [],
   "source": [
    "# [df]\n",
    "\n",
    "df = pd.read_csv('data/01_03_01.csv',index_col='id')\n",
    "print('[1]', df.index)\n",
    "print('[2]', df.index.name, df.index.values, type(df.index.values))\n",
    "print('[3]', df.columns)\n",
    "print('[4]',df.columns.name,df.columns.values,type(df.columns.values))\n",
    "df"
   ]
  },
  {
   "cell_type": "code",
   "execution_count": null,
   "metadata": {},
   "outputs": [],
   "source": [
    "# [df2]\n",
    "\n",
    "df2 = pd.read_csv('data/01_03_01.csv', header=None)\n",
    "print('[5]', df2.index)\n",
    "print('[6]', df2.columns)\n",
    "df2"
   ]
  },
  {
   "cell_type": "markdown",
   "metadata": {},
   "source": [
    "### [예제2] DataFrame 객체 구성"
   ]
  },
  {
   "cell_type": "code",
   "execution_count": null,
   "metadata": {},
   "outputs": [],
   "source": [
    "# [1]\n",
    "\n",
    "df = pd.read_csv('data/01_03_01.csv')\n",
    "df\n",
    "\n",
    "print(df.values)\n",
    "print(type(df.values))"
   ]
  },
  {
   "cell_type": "code",
   "execution_count": null,
   "metadata": {},
   "outputs": [],
   "source": [
    "# [2]\n",
    "\n",
    "df = pd.read_csv('data/01_03_01.csv')\n",
    "df\n",
    "\n",
    "print(df.index)\n",
    "print(df.index.name)\n",
    "print(df.index.values)\n",
    "print(type(df.index.values))"
   ]
  },
  {
   "cell_type": "code",
   "execution_count": null,
   "metadata": {},
   "outputs": [],
   "source": [
    "# [3]\n",
    "\n",
    "df = pd.read_csv('data/01_03_01.csv')\n",
    "df\n",
    "\n",
    "print(df.columns)\n",
    "print(df.columns.name)\n",
    "print(df.columns.values)\n",
    "print(type(df.columns.values))"
   ]
  },
  {
   "cell_type": "markdown",
   "metadata": {},
   "source": [
    "### [예제3] DataFrame의 Index 편집\n"
   ]
  },
  {
   "cell_type": "code",
   "execution_count": null,
   "metadata": {},
   "outputs": [],
   "source": [
    "# [1]\n",
    "\n",
    "df = pd.read_csv('data/01_03_01.csv')\n",
    "df\n",
    "df.index = [11,12,13,14]\n",
    "df.index.name = 'XX'\n",
    "df.columns = ('A', 'B', 'C')\n",
    "df.columns.name = 'YY'\n",
    "df"
   ]
  },
  {
   "cell_type": "code",
   "execution_count": null,
   "metadata": {},
   "outputs": [],
   "source": [
    "# [2]\n",
    "\n",
    "df = pd.read_csv('data/01_03_01.csv')\n",
    "df.index = [11,12,13,14]\n",
    "df.index.name = 'XX'\n",
    "df.columns = ('A', 'B', 'C')\n",
    "df.columns.name = 'YY'\n",
    "df\n",
    "\n",
    "print(df.index[0], df.index.values[0], df.index.values[0:2])\n",
    "print(df.columns[1], df.columns.values[1], df.columns.values[0:2])"
   ]
  },
  {
   "cell_type": "markdown",
   "metadata": {},
   "source": [
    "### [예제4]  Series 객체 구성"
   ]
  },
  {
   "cell_type": "code",
   "execution_count": null,
   "metadata": {
    "scrolled": true
   },
   "outputs": [],
   "source": [
    "# [1-1]\n",
    "\n",
    "df = pd.read_csv('data/01_03_01.csv')\n",
    "df\n",
    "sr1 = df['id']\n",
    "sr2 = df.loc[0]\n",
    "\n",
    "print(sr1.name, sr1.values, sr1.index)\n",
    "print(sr2.name, sr2.values, sr2.index)\n",
    "sr1; sr2"
   ]
  },
  {
   "cell_type": "code",
   "execution_count": null,
   "metadata": {
    "scrolled": true
   },
   "outputs": [],
   "source": [
    "# [1-2]\n",
    "\n",
    "df = pd.read_csv('data/01_03_01.csv')\n",
    "df\n",
    "sr1 = df['id']\n",
    "sr2 = df.loc[0]\n",
    "\n",
    "print(sr1.index.name, sr1.index.values)\n",
    "print(sr2.index.name, sr2.index.values)"
   ]
  },
  {
   "cell_type": "markdown",
   "metadata": {},
   "source": [
    "### [예제5] Series 구성요소 편집"
   ]
  },
  {
   "cell_type": "code",
   "execution_count": null,
   "metadata": {},
   "outputs": [],
   "source": [
    "# [1]\n",
    "\n",
    "df = pd.read_csv('data/01_03_01.csv')\n",
    "df\n",
    "sr1 = df['id']\n",
    "sr1\n",
    "\n",
    "sr1.name = '번호'\n",
    "sr1.index = [1,3,5,7]\n",
    "sr1.index.name = 'XX'\n",
    "sr1"
   ]
  },
  {
   "cell_type": "code",
   "execution_count": null,
   "metadata": {},
   "outputs": [],
   "source": [
    "# [2]\n",
    "\n",
    "df = pd.read_csv('data/01_03_01.csv')\n",
    "df\n",
    "sr2 = df.loc[0]\n",
    "sr2\n",
    "\n",
    "sr2.name = 'profile'\n",
    "sr2.index = ('A','B','C')\n",
    "sr2.index.name = 'YY'\n",
    "sr2"
   ]
  },
  {
   "cell_type": "code",
   "execution_count": null,
   "metadata": {},
   "outputs": [],
   "source": [
    "# [3]\n",
    "\n",
    "df = pd.read_csv('data/01_03_01.csv')\n",
    "df\n",
    "sr3 = df.loc[0]\n",
    "sr3\n",
    "\n",
    "sr3.index.name = 'YY'\n",
    "sr3.index = ('A','B','C')\n",
    "sr3"
   ]
  },
  {
   "cell_type": "markdown",
   "metadata": {},
   "source": [
    "### [예제6]  head(), tail(), nlargest(), nsmallest()"
   ]
  },
  {
   "cell_type": "code",
   "execution_count": null,
   "metadata": {},
   "outputs": [],
   "source": [
    "# [1-1]\n",
    "\n",
    "df = pd.DataFrame({'age':[19,20,21,19,23,20], 'id':[2,4,5,1,3,6]}, \n",
    "                  index=['kim','lee','park','song','lew','ki'])\n",
    "r1 = df.head()\n",
    "r2 = df.head(2)\n",
    "r3 = df.head(-4)\n",
    "\n",
    "disp('df', 'r1', 'r2', 'r3')"
   ]
  },
  {
   "cell_type": "code",
   "execution_count": null,
   "metadata": {},
   "outputs": [],
   "source": [
    "# [1-2]\n",
    "\n",
    "df = pd.DataFrame({'age':[19,20,21,19,23,20], 'id':[2,4,5,1,3,6]}, \n",
    "                  index=['kim','lee','park','song','lew','ki'])\n",
    "r4 = df.tail()\n",
    "r5 = df.tail(2)\n",
    "r6 = df.tail(-4)\n",
    "\n",
    "disp('df', 'r4', 'r5', 'r6')"
   ]
  },
  {
   "cell_type": "code",
   "execution_count": null,
   "metadata": {
    "scrolled": false
   },
   "outputs": [],
   "source": [
    "# [2]\n",
    "\n",
    "df = pd.DataFrame({'age':[19,20,21,19,23,20], 'id':[2,4,5,1,3,6]}, \n",
    "                  index=['kim','lee','park','song','lew','ki'])\n",
    "\n",
    "r7 = df.nlargest(3, 'age')\n",
    "r8 = df.nlargest(3, 'age', keep='last')\n",
    "r9 = df.nlargest(3, 'age', keep='all')\n",
    "r10 = df.nsmallest(3, ['age','id'])\n",
    "r11 = df['age'].nsmallest(3)\n",
    "\n",
    "disp('df', 'r7','r8','r9')"
   ]
  },
  {
   "cell_type": "markdown",
   "metadata": {},
   "source": [
    "### [예제7] DataFrame / Serie의 정보 확인"
   ]
  },
  {
   "cell_type": "code",
   "execution_count": null,
   "metadata": {},
   "outputs": [],
   "source": [
    "# [1]\n",
    "\n",
    "df = pd.read_csv('data/01_03_04.csv')\n",
    "df\n",
    "\n",
    "r1 = df.dtypes\n",
    "r2 = df.shape\n",
    "r3 = df['age'].dtype\n",
    "r4 = df['age'].shape\n",
    "\n",
    "r1; r2; r3; r4"
   ]
  },
  {
   "cell_type": "code",
   "execution_count": null,
   "metadata": {},
   "outputs": [],
   "source": [
    "# [2]\n",
    "\n",
    "df = pd.read_csv('data/01_03_04.csv')\n",
    "\n",
    "r5 = df.info()\n",
    "r6 = df.memory_usage()\n",
    "r7 = df.memory_usage(index=False)\n",
    "r8 = df.memory_usage(deep=True)\n",
    "\n",
    "r5; r6; r7; r8"
   ]
  },
  {
   "cell_type": "markdown",
   "metadata": {},
   "source": [
    "### [예제8] DataFrame의 type변경"
   ]
  },
  {
   "cell_type": "code",
   "execution_count": null,
   "metadata": {},
   "outputs": [],
   "source": [
    "# [1]\n",
    "\n",
    "d = {'name':['kim','lee','park'], 'age':[19,20,21],'height':[168.5, 170.5, 157.5]}\n",
    "df = pd.DataFrame(d)\n",
    "df\n",
    "\n",
    "r1 = df.dtypes\n",
    "r2 = df.astype(object).dtypes\n",
    "r3 = df.astype(int).dtypes #error\n",
    "r4 = df.astype(int, errors = 'ignore').dtypes \n",
    "r1; r2; r4"
   ]
  },
  {
   "cell_type": "code",
   "execution_count": null,
   "metadata": {
    "scrolled": false
   },
   "outputs": [],
   "source": [
    "# [2] \n",
    "\n",
    "d = {'name':['kim','lee','park'], 'age':[19,20,21],'height':[168.5, 170.5, 157.5]}\n",
    "df = pd.DataFrame(d)\n",
    "\n",
    "df2 = df.astype(int, errors='ignore')\n",
    "sr2 = df2['age'].astype(float)\n",
    "disp('df', 'df2'); sr2"
   ]
  },
  {
   "cell_type": "code",
   "execution_count": null,
   "metadata": {},
   "outputs": [],
   "source": [
    "# [3]\n",
    "\n",
    "d = {'name':['kim','lee','park'], 'age':[19,20,21],'height':[168.5, 170.5, 157.5]}\n",
    "df = pd.DataFrame(d)\n",
    "r1 = df.dtypes\n",
    "r1\n",
    "\n",
    "dic = {'age':np.int8, 'height':np.float32}\n",
    "df3 = df.astype(dic)\n",
    "r5 = df3.dtypes\n",
    "df3; r5"
   ]
  }
 ],
 "metadata": {
  "colab": {
   "collapsed_sections": [
    "X9j6NHSVvIB7"
   ],
   "name": "DF_basic_Indexing_kim.ipynb",
   "provenance": []
  },
  "kernelspec": {
   "display_name": "Python 3",
   "language": "python",
   "name": "python3"
  },
  "language_info": {
   "codemirror_mode": {
    "name": "ipython",
    "version": 3
   },
   "file_extension": ".py",
   "mimetype": "text/x-python",
   "name": "python",
   "nbconvert_exporter": "python",
   "pygments_lexer": "ipython3",
   "version": "3.8.5"
  },
  "toc": {
   "base_numbering": 1,
   "nav_menu": {},
   "number_sections": true,
   "sideBar": true,
   "skip_h1_title": false,
   "title_cell": "Table of Contents",
   "title_sidebar": "Contents",
   "toc_cell": false,
   "toc_position": {},
   "toc_section_display": true,
   "toc_window_display": false
  }
 },
 "nbformat": 4,
 "nbformat_minor": 1
}
