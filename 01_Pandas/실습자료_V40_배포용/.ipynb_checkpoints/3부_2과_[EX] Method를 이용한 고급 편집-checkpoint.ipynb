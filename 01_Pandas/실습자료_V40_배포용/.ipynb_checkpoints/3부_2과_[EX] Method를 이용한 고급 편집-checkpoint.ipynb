{
 "cells": [
  {
   "cell_type": "code",
   "execution_count": null,
   "metadata": {
    "scrolled": true
   },
   "outputs": [],
   "source": [
    "from IPython.core.interactiveshell import InteractiveShell\n",
    "InteractiveShell.ast_node_interactivity = \"all\"\n",
    "\n",
    "class disp(object):\n",
    "    template = '<div style=\"float: left;padding:10px;\"> <b>[{0}]</b> {1}</div>'\n",
    "    def __init__(self, *args):\n",
    "        self.args = args\n",
    "        \n",
    "    def _repr_html_(self):\n",
    "        return '\\n'.join(self.template.format(a, eval(a)._repr_html_())\n",
    "                         for a in self.args)\n",
    "\n",
    "import pandas as pd  \n",
    "import numpy as np"
   ]
  },
  {
   "cell_type": "markdown",
   "metadata": {},
   "source": [
    "### [예제1] query() 메서드 이해"
   ]
  },
  {
   "cell_type": "code",
   "execution_count": null,
   "metadata": {},
   "outputs": [],
   "source": [
    "# [1]\n",
    "\n",
    "df = pd.DataFrame({'name':['kim','lee','park','song'], 'age':[20, 40, 35, 25]})\n",
    "\n",
    "r1 = df[df['age'] >= 20 and df['age'] <= 30] #error\n",
    "r2 = df[20 <= df['age'] <= 30] #error\n",
    "r3 = df[(df['age'] >= 20) & (df['age'] <= 30)]\n",
    "\n",
    "disp('df', 'r3')"
   ]
  },
  {
   "cell_type": "code",
   "execution_count": null,
   "metadata": {},
   "outputs": [],
   "source": [
    "# [2]\n",
    "\n",
    "df = pd.DataFrame({'name':['kim','lee','park','song'], 'age':[20, 40, 35, 25]})\n",
    "\n",
    "r4 = df.query('age >= 20 & age <= 30') \n",
    "r5 = df.query('age >= 20 and age <= 30')\n",
    "r6 = df.query('20 <= age <= 30')\n",
    "\n",
    "disp('r4', 'r5', 'r6')"
   ]
  },
  {
   "cell_type": "code",
   "execution_count": null,
   "metadata": {
    "scrolled": true
   },
   "outputs": [],
   "source": [
    "# [3]\n",
    "\n",
    "df = pd.DataFrame({'name':['kim','lee','park','song'], 'age':[20, 40, 35, 25]})\n",
    "\n",
    "r7 = df[df['name'] in ['kim', 'park']] #error\n",
    "r8 = df[(df['name'] == 'kim') | (df['name'] == 'park')]\n",
    "r9 = df[df['name'].isin(['kim', 'park'])]\n",
    "\n",
    "disp('r8', 'r9')"
   ]
  },
  {
   "cell_type": "code",
   "execution_count": null,
   "metadata": {},
   "outputs": [],
   "source": [
    "# [4]\n",
    "\n",
    "df = pd.DataFrame({'name':['kim','lee','park','song'], 'age':[20, 40, 35, 25]})\n",
    "\n",
    "r10 = df.query('name in [\"kim\", \"park\"]')\n",
    "r11 = df.query('name == [\"kim\", \"park\"]')\n",
    "r12 = df.query('name.isin([\"kim\", \"park\"])', engine='python')\n",
    "\n",
    "disp('r10', 'r11', 'r12')"
   ]
  },
  {
   "cell_type": "markdown",
   "metadata": {},
   "source": [
    "### [예제2] query() 메서드 이해2"
   ]
  },
  {
   "cell_type": "code",
   "execution_count": null,
   "metadata": {},
   "outputs": [],
   "source": [
    "# [1]\n",
    "\n",
    "d = {'class':['A','B','A','C'],'name':['kim','lee','park','song'],'id':range(11,15),'exam':[80,50,90,60]}\n",
    "df = pd.DataFrame(d).set_index('id')\n",
    "\n",
    "r1 = df[df.index == 11] \n",
    "r2 = df.query('id == 11')\n",
    "r3 = df.query('index == 11') \n",
    "\n",
    "disp('df', 'r1', 'r2', 'r3')"
   ]
  },
  {
   "cell_type": "code",
   "execution_count": null,
   "metadata": {
    "scrolled": true
   },
   "outputs": [],
   "source": [
    "# [2]\n",
    "\n",
    "d = {'class':['A','B','A','C'],'name':['kim','lee','park','song'],'id':range(11,15),'exam':[80,50,90,60]}\n",
    "df = pd.DataFrame(d).set_index('id')\n",
    "\n",
    "x, y = df['class'], 'A'\n",
    "r4 = df.query('class == \"A\"') #error\n",
    "r5 = df.query('`class` == \"A\"')\n",
    "r6 = df.query('@x == @y')\n",
    "\n",
    "disp('df', 'r5', 'r6')"
   ]
  },
  {
   "cell_type": "code",
   "execution_count": null,
   "metadata": {
    "scrolled": true
   },
   "outputs": [],
   "source": [
    "# [3]\n",
    "\n",
    "d = {'class':['A','B','A','C'],'name':['kim','lee','park','song'],'id':range(11,15),'exam':[80,50,90,60]}\n",
    "df = pd.DataFrame(d).set_index('id')\n",
    "\n",
    "x = df['exam'].mean()\n",
    "y = ['A', 'C']\n",
    "r7 = df.query('exam <= @x')\n",
    "r8 = df.query('`class` in @y ')['exam'].max()\n",
    "\n",
    "disp('df','r7'); r8"
   ]
  },
  {
   "cell_type": "markdown",
   "metadata": {},
   "source": [
    "### [예제3] filter() 메서드 이해"
   ]
  },
  {
   "cell_type": "code",
   "execution_count": null,
   "metadata": {},
   "outputs": [],
   "source": [
    "# [1]\n",
    "\n",
    "d = {'kor':[80,50,90,60],'eng':[70,100,80,50]}\n",
    "df = pd.DataFrame(d, index=['kim','lee','park','ki'])\n",
    "\n",
    "r1 = df.filter(items = ['kor'])\n",
    "r2 = df.filter(like = 'k')\n",
    "\n",
    "disp('df', 'r1', 'r2')"
   ]
  },
  {
   "cell_type": "code",
   "execution_count": null,
   "metadata": {
    "scrolled": true
   },
   "outputs": [],
   "source": [
    "# [2]\n",
    "\n",
    "d = {'kor':[80,50,90,60],'eng':[70,100,80,50]}\n",
    "df = pd.DataFrame(d, index=['kim','lee','park','ki'])\n",
    "\n",
    "r3 = df.filter(items = ['kim', 'ki'], axis=0)\n",
    "r4 = df.filter(regex = '^k', axis=0) \n",
    "r5 = df.loc[df.index.isin(['kim', 'ki'])]\n",
    "r6 = df[ df.index.str.startswith('k') ]\n",
    "\n",
    "disp('df', 'r3', 'r4', 'r5', 'r6')"
   ]
  },
  {
   "cell_type": "code",
   "execution_count": null,
   "metadata": {},
   "outputs": [],
   "source": [
    "# [3]\n",
    "\n",
    "d = {'kor':[80,50,90,60],'eng':[70,100,80,50]}\n",
    "df = pd.DataFrame(d, index=['kim','lee','park','ki'])\n",
    "\n",
    "r7 = df.filter(regex='a$', like='K', axis=0) #error"
   ]
  },
  {
   "cell_type": "code",
   "execution_count": null,
   "metadata": {},
   "outputs": [],
   "source": [
    "# [4]\n",
    "\n",
    "d = {'kor':[80,50,90,60],'eng':[70,100,80,50]}\n",
    "df2 = pd.DataFrame(d, index=['kim','lee','park','kim'])\n",
    "\n",
    "r8 = df2.filter(items=['kim'], axis=0) #error\n",
    "r9 = df2.filter(like='m', axis=0)\n",
    "r10 = df2.filter(regex='^k', axis=0)\n",
    "\n",
    "disp('df2', 'r9', 'r10')"
   ]
  },
  {
   "cell_type": "markdown",
   "metadata": {},
   "source": [
    "### [예제4] sr.apply() 메서드 이해 1"
   ]
  },
  {
   "cell_type": "code",
   "execution_count": null,
   "metadata": {},
   "outputs": [],
   "source": [
    "# [1]\n",
    "\n",
    "df = pd.DataFrame({'A': [2, 5, 9], 'B':[10.5, 20.5, 15.5]})\n",
    "\n",
    "r1 = df['B'].round()\n",
    "r2 = df['B'].apply('round')\n",
    "r3 = df['B'].apply(round)\n",
    "r1; r2; r3"
   ]
  },
  {
   "cell_type": "code",
   "execution_count": null,
   "metadata": {},
   "outputs": [],
   "source": [
    "# [2]\n",
    "\n",
    "df = pd.DataFrame({'A': [2, 5, 9], 'B':[10.5, 20.5, 15.5]})\n",
    "\n",
    "r4 = df['A'].apply(np.square)\n",
    "r5 = df['A'].apply('mean')\n",
    "r6 = df['A'].apply(mean) #error\n",
    "r4; r5"
   ]
  },
  {
   "cell_type": "code",
   "execution_count": null,
   "metadata": {},
   "outputs": [],
   "source": [
    "# [3]\n",
    "\n",
    "df = pd.DataFrame({'A': [2, 5, 9], 'B':[10.5, 20.5, 15.5]})\n",
    "\n",
    "def func(x):\n",
    "    print(type(x), x)\n",
    "    return x*x\n",
    "\n",
    "r7 = df['A'].apply(func)\n",
    "r7"
   ]
  },
  {
   "cell_type": "markdown",
   "metadata": {},
   "source": [
    "### [예제5] sr.apply() 메서드 이해 2"
   ]
  },
  {
   "cell_type": "code",
   "execution_count": null,
   "metadata": {},
   "outputs": [],
   "source": [
    "# [1]\n",
    "\n",
    "df = pd.DataFrame({'model':['TV','PC','HP'], 'price':[400,200,100]})\n",
    "\n",
    "def func1(t, x, y, z):\n",
    "    return t * x + y - z\n",
    "\n",
    "r1 = df['price'].apply(func1, x=0.5, y=50, z=5)\n",
    "r2 = df['price'].apply(func1, args=(0.5, 50, 5))\n",
    "r3 = df['price'].apply(func1, args=[0.5, 50], z=5)\n",
    "r4 = df['price'].apply(func1, args=(0.5,), y=50, z=5)\n",
    "df; r1; r2; r3; r4"
   ]
  },
  {
   "cell_type": "code",
   "execution_count": null,
   "metadata": {
    "scrolled": true
   },
   "outputs": [],
   "source": [
    "# [2]\n",
    "\n",
    "df = pd.DataFrame({'model':['TV','PC','HP'], 'price':[400,200,100]})\n",
    "df\n",
    "\n",
    "def func2(x, y):\n",
    "    return x-50 if x<y else x-100\n",
    "\n",
    "df['sale'] = df['price'].apply(func2, y=300)\n",
    "df"
   ]
  },
  {
   "cell_type": "markdown",
   "metadata": {},
   "source": [
    "### [예제6] sr.apply() 활용 예"
   ]
  },
  {
   "cell_type": "code",
   "execution_count": null,
   "metadata": {},
   "outputs": [],
   "source": [
    "d = {'model':['TV','COMPUTER','PHONE'],'price':[4000000,2000000,1000000]}\n",
    "df = pd.DataFrame(d)\n",
    "\n",
    "r1 = df['model'].apply(lambda x: x if len(x)<=4 else (x[:3]+'~'))\n",
    "r2 = df['price'].apply('{:,}원'.format)\n",
    "df; r1; r2"
   ]
  },
  {
   "cell_type": "markdown",
   "metadata": {},
   "source": [
    "### [예제7] df.apply() 이해 1"
   ]
  },
  {
   "cell_type": "code",
   "execution_count": null,
   "metadata": {},
   "outputs": [],
   "source": [
    "df = pd.DataFrame({'A': [1, 2, 3], 'B':[4, 5, 6]})\n",
    "\n",
    "def f1(x):\n",
    "    print(x)\n",
    "    return x*x\n",
    "\n",
    "r1 = df.apply(f1)  \n",
    "r1"
   ]
  },
  {
   "cell_type": "markdown",
   "metadata": {},
   "source": [
    "### [예제8] df.apply() 이해 2"
   ]
  },
  {
   "cell_type": "code",
   "execution_count": null,
   "metadata": {},
   "outputs": [],
   "source": [
    "# [1]\n",
    "\n",
    "df = pd.DataFrame({'A': [1, 2, 3], 'B':[4, 5, 6], 'C':[7, 8, 9]})\n",
    "\n",
    "r1 = df.apply(np.sum)\n",
    "r2 = df.apply(np.sum, axis=1)\n",
    "df; r1; r2"
   ]
  },
  {
   "cell_type": "code",
   "execution_count": null,
   "metadata": {
    "scrolled": true
   },
   "outputs": [],
   "source": [
    "# [2]\n",
    "\n",
    "df = pd.DataFrame({'A': [1, 2, 3], 'B':[4, 5, 6], 'C':[7, 8, 9]})\n",
    "\n",
    "r3 = df.apply(np.square)\n",
    "r4 = df.apply(lambda x: x['A']*x['B']+x['C'], axis=1)\n",
    "\n",
    "disp('df', 'r3'); r4"
   ]
  },
  {
   "cell_type": "markdown",
   "metadata": {},
   "source": [
    "### [예제9] df.apply(): result_type 옵션"
   ]
  },
  {
   "cell_type": "code",
   "execution_count": null,
   "metadata": {
    "scrolled": false
   },
   "outputs": [],
   "source": [
    "# [1]\n",
    "\n",
    "df = pd.DataFrame({'A': [100,50,70], 'B':[90,80,20], 'C':[10,60,40]}, index=[1,2,3]) \n",
    "\n",
    "func1 = lambda x:[ x.sum(), x.max(), x.min()]\n",
    "r1 = df.apply(func1, axis=1)\n",
    "r2 = df.apply(func1, axis=1, result_type='reduce')\n",
    "r3 = df.apply(func1, axis=1, result_type='expand')\n",
    "r4 = df.apply(func1, axis=1, result_type='broadcast')\n",
    "\n",
    "r1; r2\n",
    "disp('df', 'r3', 'r4')"
   ]
  },
  {
   "cell_type": "code",
   "execution_count": null,
   "metadata": {},
   "outputs": [],
   "source": [
    "# [2]\n",
    "\n",
    "df = pd.DataFrame({'A': [100,50,70], 'B':[90,80,20], 'C':[10,60,40]}, index=[1,2,3]) \n",
    "\n",
    "func2 = lambda x:[ x.max(), x.min()]\n",
    "r5 = df.apply(func2, axis=1, result_type='expand')\n",
    "r6 = df.apply(func2, axis=1, result_type='broadcast') # error\n",
    "\n",
    "disp('df', 'r5')"
   ]
  },
  {
   "cell_type": "markdown",
   "metadata": {},
   "source": [
    "### [예제10] applymap()의 이해"
   ]
  },
  {
   "cell_type": "code",
   "execution_count": null,
   "metadata": {},
   "outputs": [],
   "source": [
    "df = pd.DataFrame({'A': [0.07, 0.234, 0.68], 'B':[0.78,0.95,0.05], 'C':[0.88,0.95,0.35]}, index=[1,2,3]) \n",
    "df\n",
    "\n",
    "r1 = df.applymap(round)\n",
    "r2 = df.applymap('{:.1%}'.format )\n",
    "r3 = df.apply('{:.1%}'.format ) # error\n",
    "r1; r2"
   ]
  },
  {
   "cell_type": "markdown",
   "metadata": {},
   "source": [
    "### [예제11] map() 메서드의 이해"
   ]
  },
  {
   "cell_type": "code",
   "execution_count": null,
   "metadata": {},
   "outputs": [],
   "source": [
    "d = {'model':['tv','com','audio','phone'], 'price':[200,300,150,450]}\n",
    "df = pd.DataFrame(d)\n",
    "\n",
    "code = {'tv':'TV','com':'PC','phone':'HP','audio':'AD'}\n",
    "r1 = df['price'].map(lambda x:'high' if x>=300 else'low')\n",
    "r2 = df['price'].map(float)\n",
    "r3 = df['model'].map(pd.Series(code))\n",
    "r4 = df['model'].map(code)\n",
    "df; r1; r2; r3; r4"
   ]
  },
  {
   "cell_type": "markdown",
   "metadata": {},
   "source": [
    "### [예제12] map()을 이용한 mapping 활용"
   ]
  },
  {
   "cell_type": "code",
   "execution_count": null,
   "metadata": {},
   "outputs": [],
   "source": [
    "# [1]\n",
    "\n",
    "d = {'model':['tv','com','audio','phone'], 'price':[np.nan,300,150,450]}\n",
    "df = pd.DataFrame(d)\n",
    "\n",
    "code = {'tv':'TV','com':'PC','audio':'AD'}\n",
    "r1 = df['model'].map(code)\n",
    "r2 = df['model'].replace(code)\n",
    "r3 = df['model'].apply(code.get)\n",
    "r4 = df['model'].apply(code.get, args = (0,))\n",
    "df; r1; r2; r3; r4"
   ]
  },
  {
   "cell_type": "code",
   "execution_count": null,
   "metadata": {},
   "outputs": [],
   "source": [
    "# [2]\n",
    "\n",
    "d = {'model':['tv','com','audio','phone'], 'price':[np.nan,300,150,450]}\n",
    "df = pd.DataFrame(d)\n",
    "\n",
    "r5 = df['price'].map('{:,}만원'.format)\n",
    "r6 = df['price'].map('{:,}만원'.format, na_action='ignore')\n",
    "r7 = df['price'].fillna(0).map('{:,}만원'.format)\n",
    "df; r5; r6; r7"
   ]
  },
  {
   "cell_type": "markdown",
   "metadata": {},
   "source": [
    "### [예제13] where(), mask() 메서드의 이해"
   ]
  },
  {
   "cell_type": "code",
   "execution_count": null,
   "metadata": {
    "scrolled": true
   },
   "outputs": [],
   "source": [
    "# [1]\n",
    "\n",
    "df = pd.DataFrame({'model':['TV', 'PC', 'HP', 'AD'], 'price':[200,300,150,450]})\n",
    "\n",
    "r1 = df['price'].where(df['price'] >= 300, 'low')\n",
    "r2 = df['price'].mask(df['price'] >= 300, 'high')\n",
    "r3 = df['price'].where(df['price'] >= 300)\n",
    "r4 = np.where(df['price']>=300, 'high', 'low')\n",
    "df; r1; r2; r3; r4"
   ]
  },
  {
   "cell_type": "code",
   "execution_count": null,
   "metadata": {},
   "outputs": [],
   "source": [
    "# [2]\n",
    "\n",
    "df = pd.DataFrame({'model':['TV', 'PC', 'HP', 'AD'], 'price':[200,300,150,450]})\n",
    "    \n",
    "r5 = df.mask(df['price']<=200, '*')\n",
    "\n",
    "f1 = lambda x : x['price'] <= 200\n",
    "sr = pd.Series(['-', 0], index=['model','price'])\n",
    "r6 = df.mask(f1, sr, axis=1)\n",
    "df; r5; r6"
   ]
  }
 ],
 "metadata": {
  "kernelspec": {
   "display_name": "Python 3",
   "language": "python",
   "name": "python3"
  },
  "language_info": {
   "codemirror_mode": {
    "name": "ipython",
    "version": 3
   },
   "file_extension": ".py",
   "mimetype": "text/x-python",
   "name": "python",
   "nbconvert_exporter": "python",
   "pygments_lexer": "ipython3",
   "version": "3.8.5"
  },
  "toc": {
   "base_numbering": 1,
   "nav_menu": {},
   "number_sections": true,
   "sideBar": true,
   "skip_h1_title": true,
   "title_cell": "Table of Contents",
   "title_sidebar": "Contents",
   "toc_cell": false,
   "toc_position": {
    "height": "calc(100% - 180px)",
    "left": "10px",
    "top": "150px",
    "width": "165px"
   },
   "toc_section_display": true,
   "toc_window_display": false
  }
 },
 "nbformat": 4,
 "nbformat_minor": 2
}
