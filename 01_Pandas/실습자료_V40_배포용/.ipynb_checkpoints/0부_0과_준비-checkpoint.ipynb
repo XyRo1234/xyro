{
 "cells": [
  {
   "cell_type": "markdown",
   "metadata": {},
   "source": [
    "### [1] 아래 셀 선택 후 Ctrl + Enter 키를 눌러서 실행"
   ]
  },
  {
   "cell_type": "code",
   "execution_count": null,
   "metadata": {},
   "outputs": [],
   "source": [
    "from IPython.core.interactiveshell import InteractiveShell\n",
    "InteractiveShell.ast_node_interactivity = \"all\""
   ]
  },
  {
   "cell_type": "markdown",
   "metadata": {},
   "source": [
    "### [2] 설치된 pandas 버전 확인 : 아래 셀 선택후 실행"
   ]
  },
  {
   "cell_type": "code",
   "execution_count": null,
   "metadata": {},
   "outputs": [],
   "source": [
    "import pandas as pd\n",
    "pd.__version__\n",
    "\n",
    "import matplotlib\n",
    "matplotlib.__version__\n",
    "\n",
    "import openpyxl\n",
    "openpyxl.__version__\n",
    "\n",
    "import numpy as np\n",
    "np.__version__\n",
    "\n",
    "import seaborn as sns\n",
    "sns.__version__\n",
    "\n",
    "import matplotlib as mpl\n",
    "mpl.__version__"
   ]
  },
  {
   "cell_type": "markdown",
   "metadata": {},
   "source": [
    "### [3] 버전이 1.0보다 낮거나 import 실패시 아래 주석 해제후 실행\n",
    "#### CMD 창에서 수행할 경우는 아래 명령에서 !를 제거하고 실행합니다"
   ]
  },
  {
   "cell_type": "code",
   "execution_count": null,
   "metadata": {},
   "outputs": [],
   "source": [
    "# 회사 외부 #\n",
    "\n",
    "# !pip install --upgrade --user matplotlib numpy openpyxl xlrd xlwt pandas seaborn matplotlib"
   ]
  }
 ],
 "metadata": {
  "kernelspec": {
   "display_name": "Python 3 (ipykernel)",
   "language": "python",
   "name": "python3"
  },
  "language_info": {
   "codemirror_mode": {
    "name": "ipython",
    "version": 3
   },
   "file_extension": ".py",
   "mimetype": "text/x-python",
   "name": "python",
   "nbconvert_exporter": "python",
   "pygments_lexer": "ipython3",
   "version": "3.7.7"
  }
 },
 "nbformat": 4,
 "nbformat_minor": 4
}
