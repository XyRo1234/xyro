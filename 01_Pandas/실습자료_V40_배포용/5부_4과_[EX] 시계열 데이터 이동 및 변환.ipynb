{
 "cells": [
  {
   "cell_type": "code",
   "execution_count": 1,
   "metadata": {},
   "outputs": [],
   "source": [
    "from IPython.core.interactiveshell import InteractiveShell\n",
    "InteractiveShell.ast_node_interactivity = \"all\"\n",
    "\n",
    "def prt(*pVPK) :\n",
    "    print(*pVPK, sep = '\\n', end = '\\n\\n')\n",
    "    \n",
    "import pandas as pd\n",
    "import numpy as np "
   ]
  },
  {
   "cell_type": "markdown",
   "metadata": {},
   "source": [
    "### [예제1] 시계열 데이터 이동(shift)"
   ]
  },
  {
   "cell_type": "code",
   "execution_count": null,
   "metadata": {
    "scrolled": true
   },
   "outputs": [],
   "source": [
    "# [1-1]\n",
    "\n",
    "idx = pd.date_range('2021-1-2', periods=3)\n",
    "sr1 = pd.Series(range(3), index=idx)\n",
    "r1 = sr1.shift(1)\n",
    "r2 = sr1.shift(1, fill_value=0)\n",
    "r3 = sr1.shift(5, freq='D')\n",
    "\n",
    "prt(sr1, r1, r2, r3)"
   ]
  },
  {
   "cell_type": "code",
   "execution_count": null,
   "metadata": {},
   "outputs": [],
   "source": [
    "# [1-2]\n",
    "\n",
    "idx = pd.date_range('2021-1-2', periods=3)\n",
    "sr2 = pd.Series(idx)\n",
    "r4 = sr2 + pd.DateOffset(days=5)\n",
    "\n",
    "prt(sr2, r4)"
   ]
  },
  {
   "cell_type": "markdown",
   "metadata": {},
   "source": [
    "### [예제2] asfreq() 메서드"
   ]
  },
  {
   "cell_type": "code",
   "execution_count": null,
   "metadata": {},
   "outputs": [],
   "source": [
    "import calendar\n",
    "print(calendar.month(2021,1))"
   ]
  },
  {
   "cell_type": "code",
   "execution_count": null,
   "metadata": {},
   "outputs": [],
   "source": [
    "idx = pd.date_range('2021-1-1', periods=3, freq='2D')\n",
    "pi = pd.period_range('2020-01-01', '2022-01-01', freq='A')\n",
    "sr = pd.Series(range(3), index=idx)\n",
    "r1 = sr.asfreq(pd.offsets.BDay(1))\n",
    "r2 = pi.asfreq('M', how='S')\n",
    "\n",
    "prt(sr, r1)\n",
    "prt(pi, r2)"
   ]
  },
  {
   "cell_type": "markdown",
   "metadata": {},
   "source": [
    "### [예제3] resampling"
   ]
  },
  {
   "cell_type": "code",
   "execution_count": null,
   "metadata": {
    "scrolled": false
   },
   "outputs": [],
   "source": [
    "# [1]\n",
    "\n",
    "idx = pd.date_range('2021-1-1', periods=6, freq='D')\n",
    "sr = pd.Series(range(1,7), index=idx)\n",
    "r1 = sr.resample('3D').mean()\n",
    "r2 = sr.resample('3D').ohlc()\n",
    "r3 = sr.resample('3D').sum() # closed='left'\n",
    "r4 = sr.resample('3D', closed='right').sum()\n",
    "sr; r1; r2; r3; r4"
   ]
  },
  {
   "cell_type": "code",
   "execution_count": null,
   "metadata": {},
   "outputs": [],
   "source": [
    "# [2] \n",
    "\n",
    "idx2 = pd.date_range('2021-1-1', periods=3, freq='2D')\n",
    "sr2 = pd.Series(range(3), index=idx2)\n",
    "r5 = sr2.resample('D').asfreq()\n",
    "r6 = sr2.resample('D').ffill()\n",
    "r7 = sr2.resample('D').apply(lambda x: sum(x)+5)\n",
    "sr2; r5;r6;r7"
   ]
  },
  {
   "cell_type": "code",
   "execution_count": null,
   "metadata": {},
   "outputs": [],
   "source": [
    "# [3]\n",
    "\n",
    "idx3 = pd.date_range('2021-1-1', periods=24, freq='H')\n",
    "sr3 = pd.Series(range(len(idx3)), index=idx3)\n",
    "r8 = sr3.groupby(pd.Grouper(freq='9H')).size()\n",
    "\n",
    "prt(sr3, r8)"
   ]
  }
 ],
 "metadata": {
  "kernelspec": {
   "display_name": "Python 3",
   "language": "python",
   "name": "python3"
  },
  "language_info": {
   "codemirror_mode": {
    "name": "ipython",
    "version": 3
   },
   "file_extension": ".py",
   "mimetype": "text/x-python",
   "name": "python",
   "nbconvert_exporter": "python",
   "pygments_lexer": "ipython3",
   "version": "3.8.5"
  }
 },
 "nbformat": 4,
 "nbformat_minor": 4
}
