{
 "cells": [
  {
   "cell_type": "code",
   "execution_count": null,
   "metadata": {},
   "outputs": [],
   "source": [
    "from IPython.core.interactiveshell import InteractiveShell\n",
    "InteractiveShell.ast_node_interactivity = \"all\"\n",
    "\n",
    "class disp(object):\n",
    "    template = '<div style=\"float: left;padding:10px;\"> <b>[{0}]</b> {1}</div>'\n",
    "    def __init__(self, *args):\n",
    "        self.args = args\n",
    "        \n",
    "    def _repr_html_(self):\n",
    "        return '\\n'.join( self.template.format(a, eval(a)._repr_html_()) \n",
    "                        for a in self.args)\n",
    "\n",
    "def prt(*pVPK) :\n",
    "    print(*pVPK, sep = '\\n\\n', end = '\\n\\n')\n",
    "    \n",
    "import numpy as np\n",
    "import pandas as pd    "
   ]
  },
  {
   "cell_type": "markdown",
   "metadata": {},
   "source": [
    "### [예제1] Series와 이항 연산자"
   ]
  },
  {
   "cell_type": "code",
   "execution_count": null,
   "metadata": {
    "scrolled": true
   },
   "outputs": [],
   "source": [
    "# [1]\n",
    "\n",
    "sr = pd.Series([1,2,3], index=['A','B','C'])\n",
    "r1 = sr * -1;\n",
    "sr; r1"
   ]
  },
  {
   "cell_type": "code",
   "execution_count": null,
   "metadata": {},
   "outputs": [],
   "source": [
    "# [2]\n",
    "\n",
    "sr = pd.Series([1,2,3], index=['A','B','C'])\n",
    "r2 = sr * [-1,-2,-3]\n",
    "sr; r2"
   ]
  },
  {
   "cell_type": "code",
   "execution_count": null,
   "metadata": {},
   "outputs": [],
   "source": [
    "# [3-1]\n",
    "\n",
    "sr = pd.Series([1,2,3], index=['A','B','C'])\n",
    "sr2 = pd.Series([-1, -2])\n",
    "r3 = sr * sr2\n",
    "\n",
    "sr; sr2; r3"
   ]
  },
  {
   "cell_type": "code",
   "execution_count": null,
   "metadata": {},
   "outputs": [],
   "source": [
    "# [3-2]\n",
    "\n",
    "sr = pd.Series([1,2,3], index=['A','B','C'])\n",
    "sr3 = pd.Series([-1,-2], index=['A','B'])\n",
    "r4 = sr * sr3      \n",
    "sr; sr3; r4"
   ]
  },
  {
   "cell_type": "markdown",
   "metadata": {},
   "source": [
    "### [예제2] DataFrame과 Scalar/Sequence 이항 연산"
   ]
  },
  {
   "cell_type": "code",
   "execution_count": null,
   "metadata": {},
   "outputs": [],
   "source": [
    "# [1]\n",
    "\n",
    "df = pd.DataFrame({'A':[1,4],'B':[2,5],'C':[3,6]},index=list('ij'))\n",
    "r1 = df * -1\n",
    "disp('df', 'r1')"
   ]
  },
  {
   "cell_type": "code",
   "execution_count": null,
   "metadata": {},
   "outputs": [],
   "source": [
    "# [2]\n",
    "\n",
    "df = pd.DataFrame({'A':[1,4],'B':[2,5],'C':[3,6]},index=list('ij'))\n",
    "r2 = df * [-1, -2, -3]\n",
    "disp('df', 'r2')"
   ]
  },
  {
   "cell_type": "code",
   "execution_count": null,
   "metadata": {},
   "outputs": [],
   "source": [
    "# [3]\n",
    "\n",
    "df = pd.DataFrame({'A':[1,4],'B':[2,5],'C':[3,6]},index=list('ij'))\n",
    "r3 = df * [-1, -2]\n",
    "disp('df', 'r3')"
   ]
  },
  {
   "cell_type": "markdown",
   "metadata": {},
   "source": [
    "### [예제3] DataFrame과 Series 이항 연산"
   ]
  },
  {
   "cell_type": "code",
   "execution_count": null,
   "metadata": {},
   "outputs": [],
   "source": [
    "# [1-1]\n",
    "\n",
    "df = pd.DataFrame({'A':[1,4],'B':[2,5],'C':[3,6]}, index=list('ij'))\n",
    "sr1 = df.loc['i']\n",
    "r1 = df * sr1\n",
    "sr1; disp('df', 'r1')"
   ]
  },
  {
   "cell_type": "code",
   "execution_count": null,
   "metadata": {},
   "outputs": [],
   "source": [
    "# [1-2]\n",
    "\n",
    "df = pd.DataFrame({'A':[1,4],'B':[2,5],'C':[3,6]}, index=list('ij'))\n",
    "sr2 = pd.Series([1,2], index=['A','B'], name = 'x')\n",
    "r2 = df * sr2\n",
    "sr2; disp('df', 'r2')"
   ]
  },
  {
   "cell_type": "code",
   "execution_count": null,
   "metadata": {},
   "outputs": [],
   "source": [
    "# [1-3]\n",
    "\n",
    "df = pd.DataFrame({'A':[1,4],'B':[2,5],'C':[3,6]}, index=list('ij'))\n",
    "sr3 = pd.Series([2,5], index=['i','j'], name = 'B')\n",
    "r3 = df * sr3 #?\n",
    "sr3; disp('df', 'r3')"
   ]
  },
  {
   "cell_type": "code",
   "execution_count": null,
   "metadata": {},
   "outputs": [],
   "source": [
    "# [2]\n",
    "\n",
    "df = pd.DataFrame({'A':[1,4],'B':[2,5],'C':[3,6]}, index=list('ij'))\n",
    "df2 = pd.DataFrame({'A':[-1, -10], 'C':[-3, -30]}, index=['i','k'])\n",
    "r4 = df * df2\n",
    "disp('df','df2','r4')"
   ]
  },
  {
   "cell_type": "markdown",
   "metadata": {},
   "source": [
    "### [예제4] 차원 유지 기본 이항 연산 메서드"
   ]
  },
  {
   "cell_type": "code",
   "execution_count": null,
   "metadata": {},
   "outputs": [],
   "source": [
    "df = pd.DataFrame(np.arange(6).reshape(3,2),index=list('ijk'),columns=list('AB'))\n",
    "df['A']['i'] = np.nan\n",
    "\n",
    "r1 = df ** [2, 3]\n",
    "r2 = df.pow([2,3])\n",
    "r3 = df.pow([2,3], axis=0) # error\n",
    "r4 = df.pow([2,3,4], axis=0)\n",
    "r5 = df.pow([2,3,4], axis=0, fill_value=0)\n",
    "disp('df','r1','r2','r4', 'r5')"
   ]
  },
  {
   "cell_type": "markdown",
   "metadata": {},
   "source": [
    "### [예제5] 이항연산자와 이항 연산 메서드의 비교"
   ]
  },
  {
   "cell_type": "code",
   "execution_count": null,
   "metadata": {},
   "outputs": [],
   "source": [
    "# [1-1]\n",
    "\n",
    "df = pd.DataFrame([[10,400],[60,100],[30,200]],index=list('ijk'),columns=list('AB'))\n",
    "\n",
    "r1 = df - df.loc['i']\n",
    "r2 = df.sub(df.loc['i'])\n",
    "disp('df', 'r1', 'r2')"
   ]
  },
  {
   "cell_type": "code",
   "execution_count": null,
   "metadata": {
    "scrolled": true
   },
   "outputs": [],
   "source": [
    "# [1-2]\n",
    "\n",
    "df = pd.DataFrame([[10,400],[60,100],[30,200]],index=list('ijk'),columns=list('AB'))\n",
    "\n",
    "r3 = df - df['A']\n",
    "r4 = df.sub(df['A'], axis=0) \n",
    "disp('df', 'r3', 'r4')"
   ]
  },
  {
   "cell_type": "code",
   "execution_count": null,
   "metadata": {
    "scrolled": true
   },
   "outputs": [],
   "source": [
    "# [2]\n",
    "\n",
    "df = pd.DataFrame([[10,400],[60,100],[30,200]],index=list('ijk'),columns=list('AB'))\n",
    "df2 = pd.DataFrame(np.arange(1,5).reshape(2,2),index=list('ik'),columns=list('AB'))\n",
    "\n",
    "r5 = df * df2\n",
    "r6 = df.mul(df2, fill_value=1)\n",
    "r7 = df['A'].mul(df2['A'], fill_value=1)\n",
    "r8 = df.mul(df2['A'], fill_value=1) #error\n",
    "disp('df', 'df2','r5', 'r6'); r7"
   ]
  },
  {
   "cell_type": "markdown",
   "metadata": {},
   "source": [
    "### [예제6] 차원 유지 기본 연산 메서드"
   ]
  },
  {
   "cell_type": "code",
   "execution_count": null,
   "metadata": {},
   "outputs": [],
   "source": [
    "# [df1]\n",
    "\n",
    "df = pd.DataFrame([[-1.11,-2.22],[3.33,4.44],[-5.54,6.65]])\n",
    "df1 = df.round(1).abs()\n",
    "disp('df', 'df1')"
   ]
  },
  {
   "cell_type": "code",
   "execution_count": null,
   "metadata": {},
   "outputs": [],
   "source": [
    "# [df2]\n",
    "\n",
    "df = pd.DataFrame([[-1.11,-2.22],[3.33,4.44],[-5.54,6.65]])\n",
    "df2 = df.clip(-1,4)\n",
    "disp('df', 'df2')"
   ]
  },
  {
   "cell_type": "code",
   "execution_count": null,
   "metadata": {},
   "outputs": [],
   "source": [
    "# [df3]\n",
    "\n",
    "df = pd.DataFrame([[-1.11,-2.22],[3.33,4.44],[-5.54,6.65]])\n",
    "df3 = df.cummax()\n",
    "disp('df', 'df3')"
   ]
  },
  {
   "cell_type": "code",
   "execution_count": null,
   "metadata": {},
   "outputs": [],
   "source": [
    "# [df4, df5]\n",
    "\n",
    "df = pd.DataFrame([[-1.11,-2.22],[3.33,4.44],[-5.54,6.65]])\n",
    "df4 = df.cumsum(axis = 1)\n",
    "df5 = df.cumsum()\n",
    "disp('df', 'df4', 'df5')"
   ]
  },
  {
   "cell_type": "code",
   "execution_count": null,
   "metadata": {},
   "outputs": [],
   "source": [
    "# [s1, s2]\n",
    "\n",
    "s = pd.Series([90,91,90,100])\n",
    "s1 = s.diff()\n",
    "s2 = s.diff(periods = 2)\n",
    "s; s1; s2"
   ]
  },
  {
   "cell_type": "code",
   "execution_count": null,
   "metadata": {},
   "outputs": [],
   "source": [
    "# [s3]\n",
    "\n",
    "s = pd.Series([90,91,90,100])\n",
    "s3 = s.pct_change()\n",
    "s; s3"
   ]
  },
  {
   "cell_type": "code",
   "execution_count": null,
   "metadata": {},
   "outputs": [],
   "source": [
    "# [s4, s5]\n",
    "\n",
    "s = pd.Series([90,91,90,100])\n",
    "s4 = s.between(91, 100)\n",
    "s5 = s.between(90, 100, inclusive='left')\n",
    "s; s4; s5"
   ]
  },
  {
   "cell_type": "markdown",
   "metadata": {},
   "source": [
    "### [예제7] 차원 축소 기본 집계 메서드의 이해"
   ]
  },
  {
   "cell_type": "code",
   "execution_count": null,
   "metadata": {
    "scrolled": true
   },
   "outputs": [],
   "source": [
    "# [r1, r2]\n",
    "\n",
    "df = pd.DataFrame({'A':[np.nan,50,60], 'B':[20,40,90],'C':[80,30,70]})\n",
    "\n",
    "r1 = df.sum()\n",
    "r2 = df.sum(axis=1)\n",
    "df; r1; r2"
   ]
  },
  {
   "cell_type": "code",
   "execution_count": null,
   "metadata": {},
   "outputs": [],
   "source": [
    "# [r3, r4]\n",
    "\n",
    "df = pd.DataFrame({'A':[np.nan,50,60], 'B':[20,40,90],'C':[80,30,70]})\n",
    "r3 = df.mean()\n",
    "r4 = df.mean(axis=1)\n",
    "df; r3;r4"
   ]
  },
  {
   "cell_type": "code",
   "execution_count": null,
   "metadata": {
    "scrolled": true
   },
   "outputs": [],
   "source": [
    "# [r5, r6]\n",
    "\n",
    "df = pd.DataFrame({'A':[np.nan,50,60], 'B':[20,40,90],'C':[80,30,70]})\n",
    "r5 = df.max()\n",
    "r6 = df.nunique()\n",
    "df; r5; r6"
   ]
  },
  {
   "cell_type": "code",
   "execution_count": null,
   "metadata": {
    "scrolled": true
   },
   "outputs": [],
   "source": [
    "# [r7, r8, r9]\n",
    "\n",
    "df = pd.DataFrame({'A':[np.nan,50,60], 'B':[20,40,90],'C':[80,30,70]})\n",
    "r7 = df.mean().mean()\n",
    "r8 = df.prod().div(1000)\n",
    "r9 = df.median().round()\n",
    "df; r7; r8; r9"
   ]
  },
  {
   "cell_type": "code",
   "execution_count": null,
   "metadata": {},
   "outputs": [],
   "source": [
    "# [r10, r11, r12]\n",
    "\n",
    "df2 = pd.DataFrame({'A':['X','Y','X'], 'B':[np.nan,50,60], 'C':[20,40,90],'D':[80,30,70]})\n",
    "\n",
    "r10 = df2.count(numeric_only=True, axis=1)\n",
    "r11 = df2.sum(axis=1) #?\n",
    "r12 = df2.loc[:, 'B':'D'].idxmax(axis=1)\n",
    "r13 = df2['D'].idxmin()\n",
    "df2; r10; r11; r12; r13"
   ]
  },
  {
   "cell_type": "markdown",
   "metadata": {},
   "source": [
    "### [예제8] 기본 연산 및 집계 메서드 활용 예 1"
   ]
  },
  {
   "cell_type": "code",
   "execution_count": null,
   "metadata": {},
   "outputs": [],
   "source": [
    "# [1-1]\n",
    "\n",
    "df = pd.DataFrame({'kor':[70,50,60], 'eng':[100,80,30]}, index=['kim','lee','park'])\n",
    "\n",
    "r1 = df - df.mean()\n",
    "r2 = df.sub(df.mean())\n",
    "disp('df', 'r1','r2')\n",
    "print(df.mean())"
   ]
  },
  {
   "cell_type": "code",
   "execution_count": null,
   "metadata": {},
   "outputs": [],
   "source": [
    "# [1-2]\n",
    "\n",
    "df = pd.DataFrame({'kor':[70,50,60], 'eng':[100,80,30]}, index=['kim','lee','park'])\n",
    "\n",
    "r3 = df.sub(df.mean(axis=1), axis=0)\n",
    "disp('df', 'r3')\n",
    "print(df.mean(axis=1))"
   ]
  },
  {
   "cell_type": "code",
   "execution_count": null,
   "metadata": {},
   "outputs": [],
   "source": [
    "# [2]\n",
    "\n",
    "df = pd.DataFrame({'kor':[70,50,60], 'eng':[100,80,30]}, index=['kim','lee','park'])\n",
    "\n",
    "sr = pd.Series({'kor':df['kor'].max(), 'eng':df['eng'].min()})\n",
    "r4 = df - sr\n",
    "sr; disp('df', 'r4')"
   ]
  },
  {
   "cell_type": "markdown",
   "metadata": {},
   "source": [
    "### [예제9] 기본 연산 및 집계 메서드 활용 예 2"
   ]
  },
  {
   "cell_type": "code",
   "execution_count": null,
   "metadata": {},
   "outputs": [],
   "source": [
    "# [1]\n",
    "\n",
    "df = pd.DataFrame({'kor':[70,50,60], 'eng':[100,80,30]}, index=['kim','lee','park'])\n",
    "df\n",
    "\n",
    "df['avg'] = df.mean(axis=1)\n",
    "df.loc['avg2'] = df.mean()\n",
    "df"
   ]
  },
  {
   "cell_type": "code",
   "execution_count": null,
   "metadata": {
    "scrolled": true
   },
   "outputs": [],
   "source": [
    "# [2]\n",
    "\n",
    "df = pd.DataFrame({'kor':[70,50,60], 'eng':[100,80,30]}, index=['kim','lee','park'])\n",
    "df\n",
    "\n",
    "df[['kor','eng']] = df[['kor','eng']] - [5, 10]\n",
    "print(df.mean(axis=1))\n",
    "\n",
    "df[['dev1','dev2']] = df[['kor','eng']].sub(df.mean(axis=1), axis=0)\n",
    "df"
   ]
  },
  {
   "cell_type": "markdown",
   "metadata": {},
   "source": [
    "### [예제10] unique() 이해 "
   ]
  },
  {
   "cell_type": "code",
   "execution_count": null,
   "metadata": {},
   "outputs": [],
   "source": [
    "s = pd.Series([90,91,90,100], index = ['A','A','C','D'])\n",
    "s\n",
    "\n",
    "r1 = s.unique()\n",
    "r2 = s.index.unique()\n",
    "r1; r2"
   ]
  },
  {
   "cell_type": "markdown",
   "metadata": {},
   "source": [
    "### [예제11] rank() 이해"
   ]
  },
  {
   "cell_type": "code",
   "execution_count": null,
   "metadata": {},
   "outputs": [],
   "source": [
    "# [r1, r2]\n",
    "\n",
    "sr = pd.Series([90,95,90,90,100], index=list('ABCDE'))\n",
    "\n",
    "r1 = sr.rank() #average\n",
    "r2 = sr.rank(pct=True)\n",
    "sr; r1; r2"
   ]
  },
  {
   "cell_type": "code",
   "execution_count": null,
   "metadata": {},
   "outputs": [],
   "source": [
    "# [r3, r4]\n",
    "\n",
    "sr = pd.Series([90,95,90,90,100], index=list('ABCDE'))\n",
    "\n",
    "r3 = sr.rank(method='min', ascending=False)\n",
    "r4 = sr.rank(method='max', ascending=False)\n",
    "sr; r3; r4"
   ]
  },
  {
   "cell_type": "code",
   "execution_count": null,
   "metadata": {},
   "outputs": [],
   "source": [
    "# [r5, r6]\n",
    "\n",
    "sr = pd.Series([90,95,90,90,100], index=list('ABCDE'))\n",
    "\n",
    "r5 = sr.rank(method='first')\n",
    "r6 = sr.rank(method='dense')\n",
    "sr; r5; r6"
   ]
  },
  {
   "cell_type": "code",
   "execution_count": null,
   "metadata": {},
   "outputs": [],
   "source": [
    "# [df1]\n",
    "\n",
    "df = pd.DataFrame([[1,2,3],[6,5,4],[7,7,7]],index=list('ijk'),columns=list('ABC'))\n",
    "df['D'] = ['Y','N','Y']\n",
    "\n",
    "df1 = df.rank(axis=1, method='first', ascending=False, numeric_only=True)\n",
    "disp('df', 'df1')"
   ]
  },
  {
   "cell_type": "markdown",
   "metadata": {},
   "source": [
    "### [예제12] describe() 동작"
   ]
  },
  {
   "cell_type": "code",
   "execution_count": null,
   "metadata": {},
   "outputs": [],
   "source": [
    "# [r1]\n",
    "\n",
    "d = {'sex':list('WWM'),'kor':[90,50,70],'eng':[80, 30,100]}\n",
    "df = pd.DataFrame(d, index=['kim','lee','park'])\n",
    "r1 = df.describe()\n",
    "disp('df', 'r1')"
   ]
  },
  {
   "cell_type": "code",
   "execution_count": null,
   "metadata": {},
   "outputs": [],
   "source": [
    "# [r2]\n",
    "\n",
    "d = {'sex':list('WWM'),'kor':[90,50,70],'eng':[80, 30,100]}\n",
    "df = pd.DataFrame(d, index=['kim','lee','park'])\n",
    "r2 = df['kor'].describe()\n",
    "df; r2"
   ]
  },
  {
   "cell_type": "code",
   "execution_count": null,
   "metadata": {},
   "outputs": [],
   "source": [
    "# [r3]\n",
    "\n",
    "d = {'sex':list('WWM'),'kor':[90,50,70],'eng':[80, 30,100]}\n",
    "df = pd.DataFrame(d, index=['kim','lee','park'])\n",
    "r3 = df.describe(include=[np.object])\n",
    "disp('df', 'r3')"
   ]
  },
  {
   "cell_type": "code",
   "execution_count": null,
   "metadata": {},
   "outputs": [],
   "source": [
    "# [r4]\n",
    "\n",
    "d = {'sex':list('WWM'),'kor':[90,50,70],'eng':[80, 30,100]}\n",
    "df = pd.DataFrame(d, index=['kim','lee','park'])\n",
    "r4 = df['kor'].describe([.2, .4, .6])\n",
    "df; r4"
   ]
  },
  {
   "cell_type": "markdown",
   "metadata": {},
   "source": [
    "### [예제13] value_counts() 동작"
   ]
  },
  {
   "cell_type": "code",
   "execution_count": null,
   "metadata": {},
   "outputs": [],
   "source": [
    "# [r1, r2]\n",
    "\n",
    "sr = pd.Series([60,60,50,60,90,50])\n",
    "r1 = sr.value_counts()\n",
    "r2 = sr.value_counts(ascending=True)  \n",
    "sr; r1; r2"
   ]
  },
  {
   "cell_type": "code",
   "execution_count": null,
   "metadata": {},
   "outputs": [],
   "source": [
    "# [r3, r4]\n",
    "\n",
    "sr = pd.Series([60,60,50,60,90,50])\n",
    "r3 = sr.value_counts(normalize=True)\n",
    "r4 = sr.value_counts(sort=False)\n",
    "sr; r3; r4"
   ]
  },
  {
   "cell_type": "code",
   "execution_count": null,
   "metadata": {},
   "outputs": [],
   "source": [
    "# [r5, r6]\n",
    "\n",
    "sr = pd.Series([60,60,50,60,90,50])\n",
    "r5 = sr.value_counts(bins=3)\n",
    "r6 = sr.value_counts().sort_index()\n",
    "sr; r5; r6"
   ]
  },
  {
   "cell_type": "code",
   "execution_count": null,
   "metadata": {},
   "outputs": [],
   "source": [
    "# [r7, r8]\n",
    "\n",
    "d = {'A':list('XXYY'),'B':list('1121')}\n",
    "df = pd.DataFrame(d)\n",
    "df\n",
    "\n",
    "r7 = df.value_counts()\n",
    "r8 = df.value_counts(['A','B'])\n",
    "r9 = df.value_counts('A')  \n",
    "r7; r8; r9"
   ]
  }
 ],
 "metadata": {
  "kernelspec": {
   "display_name": "Python 3",
   "language": "python",
   "name": "python3"
  },
  "language_info": {
   "codemirror_mode": {
    "name": "ipython",
    "version": 3
   },
   "file_extension": ".py",
   "mimetype": "text/x-python",
   "name": "python",
   "nbconvert_exporter": "python",
   "pygments_lexer": "ipython3",
   "version": "3.8.5"
  }
 },
 "nbformat": 4,
 "nbformat_minor": 2
}
