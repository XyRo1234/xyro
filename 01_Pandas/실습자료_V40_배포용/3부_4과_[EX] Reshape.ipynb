{
 "cells": [
  {
   "cell_type": "code",
   "execution_count": null,
   "metadata": {},
   "outputs": [],
   "source": [
    "from IPython.core.interactiveshell import InteractiveShell\n",
    "InteractiveShell.ast_node_interactivity = \"all\"\n",
    "\n",
    "class disp(object):\n",
    "    template = '<div style=\"float: left;padding:10px;\"> <b>[{0}]</b> {1}</div>'\n",
    "    def __init__(self, *args):\n",
    "        self.args = args\n",
    "        \n",
    "    def _repr_html_(self):\n",
    "        return '\\n'.join(self.template.format(a, eval(a)._repr_html_())\n",
    "                         for a in self.args)\n",
    "\n",
    "import pandas as pd\n",
    "import numpy as np"
   ]
  },
  {
   "cell_type": "markdown",
   "metadata": {},
   "source": [
    "### [예제1] MultiIndex 형식의 DataFrame 구조"
   ]
  },
  {
   "cell_type": "code",
   "execution_count": null,
   "metadata": {
    "scrolled": false
   },
   "outputs": [],
   "source": [
    "col = [['A','A','B','B'], ['eng','kor','eng','kor']]\n",
    "data = [[10,20,30,40],[50,60,70,80]]\n",
    "df = pd.DataFrame(data, columns=col, index=[1,2])\n",
    "df\n",
    "\n",
    "r1 = df['eng'] # error\n",
    "r2 = df[('A', 'eng')]\n",
    "r3 = df['A']\n",
    "\n",
    "r2; r3\n",
    "print(df.columns)   "
   ]
  },
  {
   "cell_type": "markdown",
   "metadata": {},
   "source": [
    "### [예제2] MultiIndex 객체 생성 : MultiIndex() 함수"
   ]
  },
  {
   "cell_type": "code",
   "execution_count": null,
   "metadata": {},
   "outputs": [],
   "source": [
    "idx1 = pd.MultiIndex(levels=[['A','B'],['X','Y']],\n",
    "       codes=[[0,0,1,1], [0,1,0,1]], names=['L1', 'L2'] )\n",
    "\n",
    "arr1 = [['A','A','B','B'],['X','Y','X','Y']]\n",
    "idx2 = pd.MultiIndex.from_arrays(arr1, names=['L1','L2'])\n",
    "\n",
    "arr2 = [('A','X'),('A','Y'),('B','X'),('B','Y')]\n",
    "idx3 = pd.MultiIndex.from_tuples(arr2, names=['L1','L2'])\n",
    "\n",
    "idx1; idx2; idx3"
   ]
  },
  {
   "cell_type": "markdown",
   "metadata": {},
   "source": [
    "### [예제3] xs() 메서드 : MultiIndex 객체 인덱싱"
   ]
  },
  {
   "cell_type": "code",
   "execution_count": null,
   "metadata": {},
   "outputs": [],
   "source": [
    "code = [[0,0,1,1], [0,1,0,1]]\n",
    "col = pd.MultiIndex(levels=[['A','B'], ['X','Y']],codes=code, names=['C1', 'C2'])\n",
    "idx = pd.MultiIndex(levels=[['i','j'], ['s','t']],codes=code, names=['I1', 'I2'])\n",
    "df = pd.DataFrame(np.arange(16).reshape(4,4), columns=col, index=idx)\n",
    "\n",
    "r1 = df.xs('s', level=1)\n",
    "r2 = df.xs('s', level='I2')\n",
    "r3 = df.xs('X', level=1, axis=1)\n",
    "\n",
    "disp('df','r1','r2','r3')"
   ]
  },
  {
   "cell_type": "markdown",
   "metadata": {},
   "source": [
    "### [예제4] MultiIndex DF의 연산"
   ]
  },
  {
   "cell_type": "code",
   "execution_count": null,
   "metadata": {},
   "outputs": [],
   "source": [
    "# [1] \n",
    "idx = pd.MultiIndex.from_arrays([[1,1,2,2], list('ABAB')], names=['g', 'c'])\n",
    "df = pd.DataFrame({'kor':[100,80,50,90], 'eng':[60,50,100,80]}, index=idx)\n",
    "\n",
    "r1 = df.mean()\n",
    "r2 = df.mean(axis=1)\n",
    "df; r1; r2"
   ]
  },
  {
   "cell_type": "code",
   "execution_count": null,
   "metadata": {
    "scrolled": false
   },
   "outputs": [],
   "source": [
    "# [2-1]\n",
    "\n",
    "idx = pd.MultiIndex.from_arrays([[1,1,2,2], list('ABAB')], names=['g', 'c'])\n",
    "df = pd.DataFrame({'kor':[100,80,50,90], 'eng':[60,50,100,80]}, index=idx)\n",
    "adf = df.groupby('g').mean()\n",
    "\n",
    "r3 = df - adf\n",
    "disp('df', 'adf', 'r3')"
   ]
  },
  {
   "cell_type": "code",
   "execution_count": null,
   "metadata": {
    "scrolled": true
   },
   "outputs": [],
   "source": [
    "# [2-2]\n",
    "\n",
    "idx = pd.MultiIndex.from_arrays([[1,1,2,2], list('ABAB')], names=['g', 'c'])\n",
    "df = pd.DataFrame({'kor':[100,80,50,90], 'eng':[60,50,100,80]}, index=idx)\n",
    "bdf = df.groupby('c').mean()\n",
    "\n",
    "r4 = df - bdf\n",
    "disp('df', 'bdf', 'r4')"
   ]
  },
  {
   "cell_type": "markdown",
   "metadata": {},
   "source": [
    "### [예제5] stack(), unstack() 메서드"
   ]
  },
  {
   "cell_type": "code",
   "execution_count": null,
   "metadata": {
    "scrolled": true
   },
   "outputs": [],
   "source": [
    "col = pd.MultiIndex.from_arrays([['A','A','B','B'], ['X','Y','X','Y']])\n",
    "df = pd.DataFrame([[10,20,30,40],[50,60,70,80]], columns=col)\n",
    "\n",
    "r1 = df.stack()\n",
    "r2 = r1.unstack()\n",
    "\n",
    "disp('df', 'r1', 'r2')"
   ]
  },
  {
   "cell_type": "markdown",
   "metadata": {},
   "source": [
    "### [예제6] stack(), unstack() 메서드의 이해"
   ]
  },
  {
   "cell_type": "code",
   "execution_count": null,
   "metadata": {},
   "outputs": [],
   "source": [
    "# [1-1] \n",
    "\n",
    "l = [['A','A','B','B'], ['eng','kor','eng','kor']]\n",
    "col = pd.MultiIndex.from_arrays(l, names=['class','subject'])\n",
    "idx = pd.Index([1,2], name='grade')\n",
    "df = pd.DataFrame([[10,20,30,40],[np.nan,60,np.nan,80]], columns=col, index=idx)\n",
    "\n",
    "r1 = df.stack('subject')\n",
    "r2 = df.stack(level=1)\n",
    "r3 = df.stack(dropna=False)\n",
    "disp('df', 'r1'); disp('r2', 'r3')"
   ]
  },
  {
   "cell_type": "code",
   "execution_count": null,
   "metadata": {},
   "outputs": [],
   "source": [
    "# [1-2] \n",
    "\n",
    "l = [['A','A','B','B'], ['eng','kor','eng','kor']]\n",
    "col = pd.MultiIndex.from_arrays(l, names=['class','subject'])\n",
    "idx = pd.Index([1,2], name='grade')\n",
    "df = pd.DataFrame([[10,20,30,40],[np.nan,60,np.nan,80]], columns=col, index=idx)\n",
    "\n",
    "r4 = df.stack(level=[0,1])\n",
    "r5 = r4.unstack()\n",
    "r6 = r4.unstack(fill_value=0)\n",
    "r4\n",
    "disp('r5', 'r6')"
   ]
  },
  {
   "cell_type": "markdown",
   "metadata": {},
   "source": [
    "### [예제7] pivot() 함수"
   ]
  },
  {
   "cell_type": "code",
   "execution_count": null,
   "metadata": {},
   "outputs": [],
   "source": [
    "df = pd.DataFrame({'A':list('ijij'), 'B':list('xxyy'), 'C':[10, 20, 30, 40] })\n",
    "\n",
    "r1 = df.pivot(index='A',columns='B',values='C')\n",
    "r2 = df.pivot(index='A',columns='B')\n",
    "\n",
    "disp('df', 'r1', 'r2')"
   ]
  },
  {
   "cell_type": "markdown",
   "metadata": {},
   "source": [
    "### [예제8] melt() 함수"
   ]
  },
  {
   "cell_type": "code",
   "execution_count": null,
   "metadata": {
    "scrolled": false
   },
   "outputs": [],
   "source": [
    "df = pd.DataFrame({'A':list('ij'), 'x':[10,20], 'y':[30,40] })\n",
    "\n",
    "r=df.melt(id_vars='A',value_vars=['x','y'],var_name='B',value_name='C')\n",
    "\n",
    "disp('df', 'r')"
   ]
  },
  {
   "cell_type": "markdown",
   "metadata": {},
   "source": [
    "### [예제9] melt() 함수의 이해"
   ]
  },
  {
   "cell_type": "code",
   "execution_count": null,
   "metadata": {},
   "outputs": [],
   "source": [
    "# [1]\n",
    "\n",
    "d = {'class':['A','B'], 'kor':[90,60],'eng':[100,70]}\n",
    "df1 = pd.DataFrame(d)\n",
    "\n",
    "r1 = df1.melt(id_vars='class',var_name='subject',value_name='score')\n",
    "r2 = df1.melt(id_vars='class', value_vars=['kor'])\n",
    "r3 = df1.melt(value_vars=['kor','eng'], var_name='subject',value_name='score')\n",
    "\n",
    "disp('df1')\n",
    "disp('r1', 'r2', 'r3')"
   ]
  },
  {
   "cell_type": "code",
   "execution_count": null,
   "metadata": {},
   "outputs": [],
   "source": [
    "# [2]\n",
    "\n",
    "col = [['class','mid','mid','fin'],['','kor','eng','kor']]\n",
    "df2 = pd.DataFrame([['A',50,100,90],['B',70,30,80]], columns=col)\n",
    "\n",
    "r4 = df2.melt(id_vars=[('class','')], value_vars=[('mid','kor'),('fin','kor')],\n",
    "             var_name=['exam','subject'],value_name='score')\n",
    "\n",
    "r5 = df2.melt(id_vars='class', col_level=0, var_name='exam',value_name='score')\n",
    "disp('df2', 'r4', 'r5')"
   ]
  }
 ],
 "metadata": {
  "kernelspec": {
   "display_name": "Python 3",
   "language": "python",
   "name": "python3"
  },
  "language_info": {
   "codemirror_mode": {
    "name": "ipython",
    "version": 3
   },
   "file_extension": ".py",
   "mimetype": "text/x-python",
   "name": "python",
   "nbconvert_exporter": "python",
   "pygments_lexer": "ipython3",
   "version": "3.8.5"
  }
 },
 "nbformat": 4,
 "nbformat_minor": 4
}
