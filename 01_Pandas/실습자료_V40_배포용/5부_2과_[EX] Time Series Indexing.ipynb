{
 "cells": [
  {
   "cell_type": "markdown",
   "metadata": {},
   "source": [
    "# Time Series Indexing"
   ]
  },
  {
   "cell_type": "code",
   "execution_count": null,
   "metadata": {},
   "outputs": [],
   "source": [
    "from IPython.core.interactiveshell import InteractiveShell\n",
    "InteractiveShell.ast_node_interactivity = \"all\"\n",
    "\n",
    "def prt(*pVPK) :\n",
    "    print(*pVPK, sep = '\\n', end = '\\n')\n",
    "\n",
    "class disp(object):\n",
    "    template = '<div style=\"float: left;padding:10px;\"> <b>[{0}]</b> {1}</div>'\n",
    "    def __init__(self, *args):\n",
    "        self.args = args\n",
    "        \n",
    "    def _repr_html_(self):\n",
    "        return '\\n'.join( self.template.format(a, eval(a)._repr_html_()) \n",
    "                        for a in self.args)\n",
    "    \n",
    "import pandas as pd\n",
    "import numpy as np \n",
    "from datetime import datetime, timedelta, date,time\n",
    "import calendar"
   ]
  },
  {
   "cell_type": "markdown",
   "metadata": {},
   "source": [
    "### [예제1] Time Series Indexing 1"
   ]
  },
  {
   "cell_type": "code",
   "execution_count": null,
   "metadata": {},
   "outputs": [],
   "source": [
    "# [1]\n",
    "\n",
    "idx = pd.to_datetime(['2000-1-1','2000-1-5','2000-2-13','2000-2-20'])\n",
    "df = pd.DataFrame({'name':list('ABCD'), 'sale':[10,5,20,30]}, index=idx)\n",
    "\n",
    "sr = df['name']\n",
    "r1 = sr['2000-1-1']\n",
    "r2 = sr[ datetime(2000,1,1) ]\n",
    "r3 = sr['2000-1-1':'2000-1-31']\n",
    "r4 = sr[:2]\n",
    "r5 = sr['2000-1']\n",
    "df; r1; r2; r3; r4;r5"
   ]
  },
  {
   "cell_type": "code",
   "execution_count": null,
   "metadata": {},
   "outputs": [],
   "source": [
    "# [2]\n",
    "\n",
    "idx = pd.to_datetime(['2000-1-1','2000-1-5','2000-2-13','2000-2-20'])\n",
    "df = pd.DataFrame({'name':list('ABCD'), 'sale':[10,5,20,30]}, index=idx)\n",
    "\n",
    "r6 = df.loc[ pd.Timestamp('2000-1-1') ]\n",
    "r7 = df.loc['2000-1-1']\n",
    "r8 = df.loc['2000-1-1':'2000-1-31']\n",
    "r9 = df.loc['2000-1']\n",
    "r6; r7; disp('df', 'r8', 'r9')"
   ]
  },
  {
   "cell_type": "code",
   "execution_count": null,
   "metadata": {},
   "outputs": [],
   "source": [
    "# [3]\n",
    "\n",
    "idx = pd.to_datetime(['2000-1-1','2000-1-5','2000-2-13','2000-2-20'])\n",
    "df = pd.DataFrame({'name':list('ABCD'), 'sale':[10,5,20,30]}, index=idx)\n",
    "\n",
    "r10 = df[df.index.day_name()=='Sunday']\n",
    "r11 = df[ df.index.is_month_start ]\n",
    "\n",
    "print(df.index.day_name())\n",
    "disp('df', 'r10', 'r11')"
   ]
  },
  {
   "cell_type": "markdown",
   "metadata": {},
   "source": [
    "### [예제2] Time Series Indexing 관련 메서드"
   ]
  },
  {
   "cell_type": "code",
   "execution_count": null,
   "metadata": {
    "scrolled": true
   },
   "outputs": [],
   "source": [
    "# [r1/r2]\n",
    "\n",
    "idx = pd.to_datetime(['2000-1-1 5:30','2000-1-5 12:00','2000-2-13 7:00','2000-2-20 12:00'])\n",
    "df = pd.DataFrame({'name':list('ABCD'), 'sale':[10,5,20,30]}, index=idx)\n",
    "\n",
    "r1 = df.between_time('09:00','13:00')\n",
    "r2 = df.at_time('12:00')\n",
    "disp('df', 'r1', 'r2')  "
   ]
  },
  {
   "cell_type": "code",
   "execution_count": null,
   "metadata": {},
   "outputs": [],
   "source": [
    "# [r3/r4/r5/r6]\n",
    "\n",
    "idx = pd.to_datetime(['2000-1-1 5:30','2000-1-5 12:00','2000-2-13 7:00','2000-2-20 12:00'])\n",
    "df = pd.DataFrame({'name':list('ABCD'), 'sale':[10,5,20,30]}, index=idx)\n",
    "\n",
    "r3 = df.first('30D')\n",
    "r4 = df.truncate(after='2000-2')\n",
    "r5 = df.truncate(before='2000-1', after='2000-2')\n",
    "r6 = df.last('30D')\n",
    "df; disp('r3', 'r4', 'r5', 'r6')      "
   ]
  },
  {
   "cell_type": "markdown",
   "metadata": {},
   "source": [
    "### [예제3] Time Series 집계 및 기타"
   ]
  },
  {
   "cell_type": "code",
   "execution_count": null,
   "metadata": {},
   "outputs": [],
   "source": [
    "# [1]\n",
    "\n",
    "idx = pd.to_datetime(['2000-1-1','2000-1-5','2000-2-13','2000-2-20'])\n",
    "df = pd.DataFrame({'name':list('ABCD'), 'sale':[10,5,20,30]}, index=idx)\n",
    "\n",
    "df['week'] = df.index.strftime('%A')\n",
    "r1 = df['week'].value_counts()\n",
    "r2 = df.groupby(lambda x:x.day_name()).sum()\n",
    "r3 = df.groupby(pd.Grouper(freq='M')).sum()\n",
    "r1; disp('df', 'r2', 'r3')"
   ]
  },
  {
   "cell_type": "code",
   "execution_count": null,
   "metadata": {
    "scrolled": true
   },
   "outputs": [],
   "source": [
    "# [2]\n",
    "\n",
    "idx = pd.to_datetime(['2000-1-1','2000-1-5','2000-2-13','2000-2-20'])\n",
    "df = pd.DataFrame({'name':list('ABCD'), 'sale':[10,5,20,30]}, index=idx)\n",
    "\n",
    "r4 = df.index.isocalendar()\n",
    "r5 = df.index.to_period('W')\n",
    "r6 = r5.start_time\n",
    "disp('df', 'r4'); r5; r6\n",
    "# print(calendar.calendar(2000))"
   ]
  },
  {
   "cell_type": "markdown",
   "metadata": {},
   "source": [
    "### [예제4] Time Series을 값으로 갖는 Series"
   ]
  },
  {
   "cell_type": "code",
   "execution_count": null,
   "metadata": {},
   "outputs": [],
   "source": [
    "# [1]\n",
    "\n",
    "d = pd.to_datetime(['2000-1-1','2000-1-5','2000-2-13','2000-2-20'])\n",
    "df = pd.DataFrame({'date':d, 'sale':[10,5,20,30]},index=list('ABCD'))\n",
    "\n",
    "r1 = df[ df['date'].dt.day_name() == 'Sunday' ]\n",
    "r2 = df[ df['date'].dt.month == 2 ]\n",
    "r3 = df[ df['date'].dt.day.between(10, 20)]\n",
    "disp('df', 'r1', 'r2', 'r3')\n",
    "print(df['date'].dt.day_name())"
   ]
  },
  {
   "cell_type": "code",
   "execution_count": null,
   "metadata": {},
   "outputs": [],
   "source": [
    "# [2]\n",
    "\n",
    "d = pd.to_datetime(['2000-1-1','2000-1-5','2000-2-13','2000-2-20'])\n",
    "df = pd.DataFrame({'date':d, 'sale':[10,5,20,30]},index=list('ABCD'))\n",
    "\n",
    "r4 = df['date'].diff()\n",
    "r5 = df['date'] - df['date'].min()\n",
    "r6 = r5 // pd.Timedelta(days=7)\n",
    "\n",
    "print(r4.dtype, r5.dtype)\n",
    "df; r4; r5; r6"
   ]
  }
 ],
 "metadata": {
  "kernelspec": {
   "display_name": "Python 3",
   "language": "python",
   "name": "python3"
  },
  "language_info": {
   "codemirror_mode": {
    "name": "ipython",
    "version": 3
   },
   "file_extension": ".py",
   "mimetype": "text/x-python",
   "name": "python",
   "nbconvert_exporter": "python",
   "pygments_lexer": "ipython3",
   "version": "3.8.5"
  }
 },
 "nbformat": 4,
 "nbformat_minor": 4
}
