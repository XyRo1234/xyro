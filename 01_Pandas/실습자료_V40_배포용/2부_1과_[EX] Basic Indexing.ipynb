{
 "cells": [
  {
   "cell_type": "code",
   "execution_count": 1,
   "metadata": {},
   "outputs": [],
   "source": [
    "from IPython.core.interactiveshell import InteractiveShell\n",
    "InteractiveShell.ast_node_interactivity = \"all\"\n",
    "\n",
    "class disp(object):\n",
    "    template = '<div style=\"float: left;padding:10px;\"> <b>[{0}]</b> {1}</div>'\n",
    "    def __init__(self, *args):\n",
    "        self.args = args\n",
    "        \n",
    "    def _repr_html_(self):\n",
    "        return '\\n'.join( self.template.format(a, eval(a)._repr_html_()) \n",
    "                        for a in self.args)\n",
    "    \n",
    "def prt(*pVPK) :\n",
    "    print(*pVPK, sep = '\\n\\n', end = '\\n\\n')\n",
    "\n",
    "import pandas as pd\n",
    "import numpy as np    "
   ]
  },
  {
   "cell_type": "markdown",
   "metadata": {},
   "source": [
    "### [예제1] [] 연산 indexing:  Series"
   ]
  },
  {
   "cell_type": "code",
   "execution_count": null,
   "metadata": {},
   "outputs": [],
   "source": [
    "# [1]\n",
    "\n",
    "sr1 = pd.Series([10,20,30,40],index=['A','B','C','D'])\n",
    "\n",
    "r1 = sr1['B']\n",
    "r2 = sr1[1]\n",
    "r3 = sr1[['A','C']]\n",
    "r4 = sr1[[0,2]]\n",
    "r5 = sr1['A':'C']\n",
    "r6 = sr1[0:3]\n",
    "sr1; r1; r2; r3; r4; r5; r6"
   ]
  },
  {
   "cell_type": "code",
   "execution_count": null,
   "metadata": {},
   "outputs": [],
   "source": [
    "# [2]\n",
    "\n",
    "sr2 = pd.Series([10,20,30,40],index=[1,2,3,4])\n",
    "\n",
    "r7 = sr2[1]\n",
    "r8 = sr2[1:3]\n",
    "r9 = sr2[::2]\n",
    "sr2; r7; r8; r9"
   ]
  },
  {
   "cell_type": "markdown",
   "metadata": {},
   "source": [
    "### [예제2] [ ] 연산 indexing: DataFrame"
   ]
  },
  {
   "cell_type": "code",
   "execution_count": null,
   "metadata": {},
   "outputs": [],
   "source": [
    "# [1]\n",
    "\n",
    "df = pd.DataFrame(np.arange(12).reshape(4,3), index=list('ijkl'), columns=list('ABC'))\n",
    "r1 = df['A']\n",
    "r2 = df[['A']]\n",
    "r3 = df[['A','C']]\n",
    "disp('df'); r1; disp('r2', 'r3')"
   ]
  },
  {
   "cell_type": "code",
   "execution_count": null,
   "metadata": {
    "scrolled": true
   },
   "outputs": [],
   "source": [
    "# [2]\n",
    "\n",
    "df = pd.DataFrame(np.arange(12).reshape(4,3), index=list('ijkl'), columns=list('ABC'))\n",
    "\n",
    "r4 = df['i':'k']\n",
    "r5 = df[0:3]\n",
    "r6 = df[::2]\n",
    "r7 = df['k':'i':-1]\n",
    "disp('df', 'r4', 'r5', 'r6', 'r7')"
   ]
  },
  {
   "cell_type": "markdown",
   "metadata": {},
   "source": [
    "### [예제3] [] 연산 indexing: 숫자형 label"
   ]
  },
  {
   "cell_type": "code",
   "execution_count": null,
   "metadata": {},
   "outputs": [],
   "source": [
    "# [1]\n",
    "\n",
    "df = pd.DataFrame(np.arange(12).reshape(4,3),index=range(1,5),columns=range(6,9))\n",
    "r1 = df[0] #error\n",
    "r2 = df['6'] #error\n",
    "r3 = df[6]\n",
    "r4 = df[[8, 6]]\n",
    "r3; r4"
   ]
  },
  {
   "cell_type": "code",
   "execution_count": null,
   "metadata": {},
   "outputs": [],
   "source": [
    "# [2]\n",
    "\n",
    "df = pd.DataFrame(np.arange(12).reshape(4,3),index=range(1,5),columns=range(6,9))\n",
    "r5 = df[1:3]\n",
    "r6 = df[6][1] #?\n",
    "r7 = df[6][1:3]\n",
    "disp('df', 'r5'); r6; r7"
   ]
  },
  {
   "cell_type": "markdown",
   "metadata": {},
   "source": [
    "### [예제4] .loc과 .iloc을 이용한 indexing"
   ]
  },
  {
   "cell_type": "code",
   "execution_count": null,
   "metadata": {},
   "outputs": [],
   "source": [
    "# [.loc => r1, r2, r3, r4]\n",
    "\n",
    "df1 = pd.DataFrame(np.arange(9).reshape(3,3), index=list('ijk'), columns=list('ABC'))\n",
    "\n",
    "r1 = df1.loc['i', 'B']\n",
    "r2 = df1.loc['i', :]\n",
    "r3 = df1.loc['i']\n",
    "r4 = df1.loc[:, 'B']\n",
    "df1; r1; r2; r3; r4"
   ]
  },
  {
   "cell_type": "code",
   "execution_count": null,
   "metadata": {},
   "outputs": [],
   "source": [
    "# [.loc => r5, r6, r7,r8,r9]\n",
    "\n",
    "df1 = pd.DataFrame(np.arange(9).reshape(3,3), index=list('ijk'), columns=list('ABC'))\n",
    "\n",
    "r5 = df1.loc[['i','k']]\n",
    "r6 = df1.loc['i':'k']\n",
    "r7 = df1.loc[:, ['A','C']]\n",
    "r8 = df1.loc[:, 'A':'C']\n",
    "r9 = df1.loc[['i','k'], 'A':'C':2]\n",
    "disp('df1', 'r5','r6', 'r7','r8','r9')"
   ]
  },
  {
   "cell_type": "code",
   "execution_count": null,
   "metadata": {},
   "outputs": [],
   "source": [
    "# [.loc ==> r10]\n",
    "\n",
    "df2 = pd.DataFrame(np.arange(9).reshape(3,3), index=[1,2,3], columns=[5,6,7])\n",
    "\n",
    "r10 = df2.loc[1:2]\n",
    "disp('df2', 'r10')"
   ]
  },
  {
   "cell_type": "code",
   "execution_count": null,
   "metadata": {},
   "outputs": [],
   "source": [
    "# [.iloc => r1, r2, r3, r4]\n",
    "\n",
    "df1 = pd.DataFrame(np.arange(9).reshape(3,3), index=list('ijk'), columns=list('ABC'))\n",
    "\n",
    "r1 = df1.iloc[0, 1]\n",
    "r2 = df1.iloc[0, :]\n",
    "r3 = df1.iloc[0]\n",
    "r4 = df1.iloc[:, 1]\n",
    "df1; r1; r2; r3; r4"
   ]
  },
  {
   "cell_type": "code",
   "execution_count": null,
   "metadata": {
    "scrolled": true
   },
   "outputs": [],
   "source": [
    "# [.iloc => r5, r6, r7,r8,r9]\n",
    "\n",
    "df1 = pd.DataFrame(np.arange(9).reshape(3,3), index=list('ijk'), columns=list('ABC'))\n",
    "\n",
    "r5 = df1.iloc[[0,2]]\n",
    "r6 = df1.iloc[0:3]\n",
    "r7 = df1.iloc[:, [0,2]]\n",
    "r8 = df1.iloc[:, 0:3]\n",
    "r9 = df1.iloc[[0,2], 0:3:2]\n",
    "disp('df1', 'r5','r6', 'r7','r8','r9')"
   ]
  },
  {
   "cell_type": "code",
   "execution_count": null,
   "metadata": {},
   "outputs": [],
   "source": [
    "# [.iloc ==> r10]\n",
    "\n",
    "df2 = pd.DataFrame(np.arange(9).reshape(3,3), index=[1,2,3], columns=[5,6,7])\n",
    "\n",
    "r11 = df2.iloc[1:2]\n",
    "disp('df2', 'r10')"
   ]
  },
  {
   "cell_type": "markdown",
   "metadata": {},
   "source": [
    "### [예제5] .at, .iat에 의한 indexing"
   ]
  },
  {
   "cell_type": "code",
   "execution_count": null,
   "metadata": {},
   "outputs": [],
   "source": [
    "df = pd.DataFrame(np.arange(6).reshape(2,3), index=list('ij'), columns=list('ABC'))\n",
    "df\n",
    "\n",
    "r1 = df['B']['j']\n",
    "r2 = df.loc['j', 'B']\n",
    "r3 = df.iloc[1, 1]\n",
    "r4 = df.at['j', 'B']\n",
    "r5 = df.iat[1, 1]\n",
    "r1; r2; r3; r4; r5"
   ]
  },
  {
   "cell_type": "markdown",
   "metadata": {},
   "source": [
    "### [예제6] .연산을 이용한 indexing"
   ]
  },
  {
   "cell_type": "code",
   "execution_count": null,
   "metadata": {},
   "outputs": [],
   "source": [
    "df = pd.DataFrame(np.arange(6).reshape(3,2),columns=['price','class'], index=['1st',2,'three'])\n",
    "df\n",
    "\n",
    "r1 = df.price\n",
    "r2 = df.class # error\n",
    "r3 = df['class']\n",
    "r4 = df.price.three\n",
    "r5 = df.price.1st # error\n",
    "r6 = df['price']['1st']\n",
    "r7 = df.loc['1st', 'price']\n",
    "r1; r3; r4; r6; r7"
   ]
  },
  {
   "cell_type": "markdown",
   "metadata": {},
   "source": [
    "### [예제7] 기본 Indexing 요약"
   ]
  },
  {
   "cell_type": "code",
   "execution_count": null,
   "metadata": {},
   "outputs": [],
   "source": [
    "# [[], .at, .iat]\n",
    "\n",
    "file1 = 'data/02_02_01.csv'\n",
    "df = pd.read_csv(file1, index_col = 'names')\n",
    "df\n",
    "\n",
    "r0 = df.at['kim','kor']\n",
    "r1 = df['kor']['kim']\n",
    "r2 = df.iat[0,2]\n",
    "r3 = df['kor']\n",
    "r4 = df[['kor', 'mat']]\n",
    "r5 = df[0:3]\n",
    "r6 = df['kim':'park']\n",
    "r0; r1; r2; r4\n",
    "disp('r5', 'r6', 'r7')"
   ]
  },
  {
   "cell_type": "code",
   "execution_count": null,
   "metadata": {},
   "outputs": [],
   "source": [
    "# [.loc]\n",
    "\n",
    "file1 = 'data/02_02_01.csv'\n",
    "df = pd.read_csv(file1, index_col = 'names')\n",
    "df\n",
    "\n",
    "r0 = df.loc['kim', 'kor']\n",
    "r1 = df.loc[:, 'kor']\n",
    "r2 = df.loc['kim']\n",
    "r3 = df.loc[:, ['kor', 'mat']]\n",
    "r4 = df.loc[['kim', 'park']]\n",
    "r5 = df.loc[:, 'kor' : 'mat']\n",
    "r6 = df.loc['kim':'park']\n",
    "r7 = df.loc['lee':'ki', 'kor':'mat']\n",
    "r0; r1; r2\n",
    "disp('r3', 'r4', 'r5', 'r6', 'r7')"
   ]
  },
  {
   "cell_type": "code",
   "execution_count": null,
   "metadata": {},
   "outputs": [],
   "source": [
    "# [.iloc]\n",
    "\n",
    "file1 = 'data/02_02_01.csv'\n",
    "df = pd.read_csv(file1, index_col = 'names')\n",
    "df\n",
    "\n",
    "r0 = df.iloc[0, 2]\n",
    "r1 = df.iloc[:, 2]\n",
    "r2 = df.iloc[0]\n",
    "r3 = df.iloc[:, [2, 4]]\n",
    "r4 = df.iloc[[0, 2]]\n",
    "r5 = df.iloc[:, 2:5]\n",
    "r6 = df.iloc[0:3]\n",
    "r7 = df.iloc[1:4, 2:5]\n",
    "r0; r1; r2\n",
    "disp('r3', 'r4', 'r5', 'r6', 'r7')"
   ]
  },
  {
   "cell_type": "markdown",
   "metadata": {},
   "source": [
    "### [예제8] Indexing에 의한 value 편집"
   ]
  },
  {
   "cell_type": "code",
   "execution_count": null,
   "metadata": {},
   "outputs": [],
   "source": [
    "# [1]\n",
    "\n",
    "df = pd.DataFrame(np.arange(6).reshape(2,3),index=list('ij'),columns=list('ABC'))\n",
    "df\n",
    "\n",
    "df.A.i = 100\n",
    "df['A']['j'] = 200 \n",
    "df.at['i', 'B'] = 300\n",
    "df.iat[1, 1] = 400\n",
    "df.loc['i', 'C'] = 500\n",
    "df.iloc[1, 2] = 600\n",
    "df"
   ]
  },
  {
   "cell_type": "code",
   "execution_count": null,
   "metadata": {},
   "outputs": [],
   "source": [
    "# [2]\n",
    "\n",
    "df = pd.DataFrame(np.arange(6).reshape(2,3),index=list('ij'),columns=list('ABC'))\n",
    "df\n",
    "\n",
    "df.loc['k', 'C'] = 100\n",
    "df.loc['l', 'D'] = 200\n",
    "df\n",
    "print(df.dtypes)"
   ]
  },
  {
   "cell_type": "markdown",
   "metadata": {},
   "source": [
    "### [예제9] Indexing에 의한 Series 편집"
   ]
  },
  {
   "cell_type": "code",
   "execution_count": null,
   "metadata": {},
   "outputs": [],
   "source": [
    "# [1-1]\n",
    "\n",
    "df = pd.DataFrame(np.arange(4).reshape(2,2),index=list('ij'),columns=list('AB'))\n",
    "df\n",
    "\n",
    "df['A'] = 100\n",
    "df['C'] = 200\n",
    "df.loc[:, 'D'] = 300\n",
    "df.iloc[:, 1] = 400\n",
    "df.iloc[:, 4] = 500 #error\n",
    "df"
   ]
  },
  {
   "cell_type": "code",
   "execution_count": null,
   "metadata": {},
   "outputs": [],
   "source": [
    "# [1-2]\n",
    "\n",
    "df = pd.DataFrame(np.arange(4).reshape(2,2),index=list('ij'),columns=list('AB'))\n",
    "df\n",
    "\n",
    "df.loc['k'] = 100\n",
    "df.iloc[1] = 200\n",
    "df.iloc[3] = 300 #error\n",
    "df"
   ]
  },
  {
   "cell_type": "code",
   "execution_count": null,
   "metadata": {},
   "outputs": [],
   "source": [
    "# [2]\n",
    "\n",
    "df = pd.DataFrame(np.arange(4).reshape(2,2),index=list('ij'),columns=list('AB'))\n",
    "df\n",
    "\n",
    "df['A'] = [100] #error\n",
    "df['C'] = [300,400]\n",
    "df.loc['k'] = range(500,800,100)\n",
    "df"
   ]
  },
  {
   "cell_type": "code",
   "execution_count": null,
   "metadata": {},
   "outputs": [],
   "source": [
    "# [3] view\n",
    "\n",
    "df = pd.DataFrame(np.arange(4).reshape(2,2),index=list('ij'),columns=list('AB'))\n",
    "df\n",
    "\n",
    "back = df['B']\n",
    "df['B'] = df['A'] + 100\n",
    "df['C'] = back\n",
    "df"
   ]
  },
  {
   "cell_type": "code",
   "execution_count": null,
   "metadata": {
    "scrolled": true
   },
   "outputs": [],
   "source": [
    "# [4-1] copy\n",
    "\n",
    "df = pd.DataFrame(np.arange(4).reshape(2,2),index=list('ij'),columns=list('AB'))\n",
    "df\n",
    "\n",
    "back = df['B'].copy()\n",
    "df['B'] = df['A'] + 100\n",
    "df['C'] = back\n",
    "df"
   ]
  },
  {
   "cell_type": "code",
   "execution_count": null,
   "metadata": {},
   "outputs": [],
   "source": [
    "# [4-2] 미리 컬럼 생성\n",
    "\n",
    "df = pd.DataFrame(np.arange(4).reshape(2,2),index=list('ij'),columns=list('AB'))\n",
    "df\n",
    "df['C'] = df['B']\n",
    "df['B'] = df['A'] + 100\n",
    "df"
   ]
  },
  {
   "cell_type": "code",
   "execution_count": null,
   "metadata": {},
   "outputs": [],
   "source": [
    "# [5]\n",
    "\n",
    "df = pd.DataFrame(np.arange(4).reshape(2,2),index=list('ij'),columns=list('AB'))\n",
    "df\n",
    "\n",
    "df['B'] = df['A']\n",
    "df['C'] = pd.Series([100,200]) #?\n",
    "df['D'] = pd.Series([300,400],index=['i','j'])\n",
    "df['E'] = pd.Series([500,600],index=['i','k'])\n",
    "df['F'] = df['D'] + df['E']\n",
    "df"
   ]
  },
  {
   "cell_type": "markdown",
   "metadata": {},
   "source": [
    "### [예제10] Indexing에 의한 DataFrame 편집"
   ]
  },
  {
   "cell_type": "code",
   "execution_count": null,
   "metadata": {},
   "outputs": [],
   "source": [
    "# [1]\n",
    "\n",
    "df1 = pd.DataFrame(0,index=list('ij'),columns=list('ABCDEFG'))\n",
    "df2 = pd.DataFrame([[10,12],[11,13]],index=list('ik'),columns=list('XY'))\n",
    "disp('df1', 'df2')\n",
    "\n",
    "df1[['A', 'B']] = 1\n",
    "df1[['C', 'D']] = [2, 3]\n",
    "df1[['E', 'F']] = [[4, 5],[6, 7]]\n",
    "df1[['G', 'H']] = df1[['E', 'F']] * -1\n",
    "df1[['S', 'T']] = df2\n",
    "df1"
   ]
  },
  {
   "cell_type": "code",
   "execution_count": null,
   "metadata": {
    "scrolled": false
   },
   "outputs": [],
   "source": [
    "# [2-1] \n",
    "\n",
    "df3 = pd.DataFrame(np.arange(1,13).reshape(4,3),index=list('ijkl'),columns=list('ABC'))\n",
    "df4 = pd.DataFrame([[-1,-2,-3],[-7,-8,-9]],index=list('ik'),columns=list('ABC'))\n",
    "disp('df3', 'df4')\n",
    "\n",
    "df3[['A','C']] = df4 # error\n",
    "df3.loc[:, ['A','C']] = df4\n",
    "df3"
   ]
  },
  {
   "cell_type": "code",
   "execution_count": null,
   "metadata": {},
   "outputs": [],
   "source": [
    "# [2-2] \n",
    "\n",
    "df3 = pd.DataFrame(np.arange(1,13).reshape(4,3),index=list('ijkl'),columns=list('ABC'))\n",
    "df4 = pd.DataFrame([[-1,-2,-3],[-7,-8,-9]],index=list('ik'),columns=list('ABC'))\n",
    "disp('df3', 'df4')\n",
    "\n",
    "df3.loc[['i','k'], ['A','C']] = df4\n",
    "df3"
   ]
  },
  {
   "cell_type": "code",
   "execution_count": null,
   "metadata": {},
   "outputs": [],
   "source": [
    "# [2-3] \n",
    "\n",
    "df3 = pd.DataFrame(np.arange(1,13).reshape(4,3),index=list('ijkl'),columns=list('ABC'))\n",
    "df4 = pd.DataFrame([[-1,-2,-3],[-7,-8,-9]],index=list('ik'),columns=list('ABC'))\n",
    "disp('df3', 'df4')\n",
    "\n",
    "df3.loc[df4.index, df4.columns] = df4\n",
    "df3"
   ]
  },
  {
   "cell_type": "code",
   "execution_count": null,
   "metadata": {
    "scrolled": true
   },
   "outputs": [],
   "source": [
    "# [2-4] \n",
    "\n",
    "df3 = pd.DataFrame(np.arange(1,13).reshape(4,3),index=list('ijkl'),columns=list('ABC'))\n",
    "df4 = pd.DataFrame([[-1,-2,-3],[-7,-8,-9]],index=list('ik'),columns=list('ABC'))\n",
    "disp('df3', 'df4')\n",
    "df3.loc[:, :] = df4\n",
    "df3"
   ]
  }
 ],
 "metadata": {
  "kernelspec": {
   "display_name": "Python 3",
   "language": "python",
   "name": "python3"
  },
  "language_info": {
   "codemirror_mode": {
    "name": "ipython",
    "version": 3
   },
   "file_extension": ".py",
   "mimetype": "text/x-python",
   "name": "python",
   "nbconvert_exporter": "python",
   "pygments_lexer": "ipython3",
   "version": "3.8.5"
  }
 },
 "nbformat": 4,
 "nbformat_minor": 2
}
