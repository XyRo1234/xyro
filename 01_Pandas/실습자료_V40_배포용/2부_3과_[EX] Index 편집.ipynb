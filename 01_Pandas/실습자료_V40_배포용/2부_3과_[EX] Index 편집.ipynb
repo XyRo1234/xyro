{
 "cells": [
  {
   "cell_type": "code",
   "execution_count": null,
   "metadata": {},
   "outputs": [],
   "source": [
    "from IPython.core.interactiveshell import InteractiveShell\n",
    "InteractiveShell.ast_node_interactivity = \"all\"\n",
    "\n",
    "class disp(object):\n",
    "    template = '<div style=\"float: left;padding:10px;\"> <b>[{0}]</b> {1}</div>'\n",
    "    def __init__(self, *args):\n",
    "        self.args = args\n",
    "        \n",
    "    def _repr_html_(self):\n",
    "        return '\\n'.join( self.template.format(a, eval(a)._repr_html_()) \n",
    "                        for a in self.args)\n",
    "\n",
    "def prt(*pVPK) :\n",
    "    print(*pVPK, sep = '\\n\\n', end = '\\n\\n')\n",
    "\n",
    "    \n",
    "import pandas as pd\n",
    "import numpy as np   "
   ]
  },
  {
   "cell_type": "markdown",
   "metadata": {},
   "source": [
    "### [예제1] rename(): Index 변경"
   ]
  },
  {
   "cell_type": "code",
   "execution_count": null,
   "metadata": {},
   "outputs": [],
   "source": [
    "# [1]\n",
    "\n",
    "df = pd.DataFrame([['kim',90],['lee',80]], columns=['n','s'], index=[10,11])\n",
    "\n",
    "r1 = df.rename({10:'A'}).rename({'n':'name','s':'score'},axis=1)\n",
    "r2 = df.rename(index={10:'A'}, columns={'n':'name','s':'score'}) \n",
    "\n",
    "disp('df', 'r1', 'r2')"
   ]
  },
  {
   "cell_type": "code",
   "execution_count": null,
   "metadata": {},
   "outputs": [],
   "source": [
    "# [2]\n",
    "\n",
    "df = pd.DataFrame([['kim',90],['lee',80]], columns=['n','s'], index=[10,11])\n",
    "\n",
    "r3 = df.rename(index = float)\n",
    "r4 = df.rename(index = lambda x: x+1, columns=str.upper)\n",
    "\n",
    "disp('df', 'r3', 'r4')"
   ]
  },
  {
   "cell_type": "code",
   "execution_count": null,
   "metadata": {},
   "outputs": [],
   "source": [
    "# [3]\n",
    "\n",
    "df = pd.DataFrame([['kim',90],['lee',80]], columns=['n','s'], index=[10,11])\n",
    "r5 = df.add_prefix('@').add_suffix('#')\n",
    "\n",
    "disp('df', 'r5')"
   ]
  },
  {
   "cell_type": "code",
   "execution_count": null,
   "metadata": {},
   "outputs": [],
   "source": [
    "# [4]\n",
    "\n",
    "df = pd.DataFrame([['kim',90],['lee',80]], columns=['n','s'], index=[10,11])\n",
    "\n",
    "sr = df['n']\n",
    "r6 = sr.rename('name')\n",
    "r7 = sr.set_axis([500, 501])\n",
    "sr; r6; r7"
   ]
  },
  {
   "cell_type": "markdown",
   "metadata": {},
   "source": [
    "### [예제2] copy와 inplace parameter"
   ]
  },
  {
   "cell_type": "code",
   "execution_count": null,
   "metadata": {},
   "outputs": [],
   "source": [
    "# [1] \n",
    "\n",
    "df = pd.DataFrame([['kim',90],['lee',80]], columns=['n','s'], index=[10,11])\n",
    "df\n",
    "df1 = df.rename(columns = {'n':'name1'}) #inplace=False, copy=True\n",
    "df.loc[10, 's'] = 100\n",
    "\n",
    "disp('df', 'df1')"
   ]
  },
  {
   "cell_type": "code",
   "execution_count": null,
   "metadata": {},
   "outputs": [],
   "source": [
    "# [2] \n",
    "\n",
    "df = pd.DataFrame([['kim',90],['lee',80]], columns=['n','s'], index=[10,11])\n",
    "df\n",
    "df2 = df.rename(columns = {'n':'name2','s':'score'}, copy=False) #inplace=False\n",
    "df.loc[10, 's'] = 100\n",
    "\n",
    "disp('df', 'df2')"
   ]
  },
  {
   "cell_type": "code",
   "execution_count": null,
   "metadata": {},
   "outputs": [],
   "source": [
    "# [3]\n",
    "\n",
    "df = pd.DataFrame([['kim',90],['lee',80]], columns=['n','s'], index=[10,11])\n",
    "\n",
    "df3 = df.rename(columns = {'n':'이름'}, inplace = True) # copy무의미 \n",
    "df.loc[10, 's'] = 100\n",
    "\n",
    "print(df3)"
   ]
  },
  {
   "cell_type": "markdown",
   "metadata": {},
   "source": [
    "### [예제3] set_index() 메서드 이해\n"
   ]
  },
  {
   "cell_type": "code",
   "execution_count": null,
   "metadata": {},
   "outputs": [],
   "source": [
    "# [1]\n",
    "\n",
    "df = pd.DataFrame([['kim',1,20],['lee',2,30]], columns=['name','id','age'])\n",
    "\n",
    "r1 = df.set_index(np.array(['A','B']))\n",
    "r2 = df.set_index(pd.RangeIndex(10,12, name='id'))\n",
    "r3 = df.set_index(pd.Series([10,11], name='id'))\n",
    "\n",
    "df; disp('r1', 'r2', 'r3')"
   ]
  },
  {
   "cell_type": "code",
   "execution_count": null,
   "metadata": {},
   "outputs": [],
   "source": [
    "# [2]\n",
    "\n",
    "df = pd.DataFrame([['kim',1,80],['lee',2,70]], columns=['name','id','age'])\n",
    "\n",
    "r4 = df.set_index('name')\n",
    "r5 = df.set_index(['name','id'])\n",
    "r6 = df.set_index('name',drop=False).set_index('id',append=True)\n",
    "\n",
    "prt(r5.index, r6.index)\n",
    "disp('df', 'r4', 'r5', 'r6')"
   ]
  },
  {
   "cell_type": "markdown",
   "metadata": {},
   "source": [
    "### [예제4] reset_index() 메서드 이해"
   ]
  },
  {
   "cell_type": "code",
   "execution_count": null,
   "metadata": {},
   "outputs": [],
   "source": [
    "df = pd.DataFrame([['kim',1,80],['lee',2,70]], columns=['name','id','exam'])\n",
    "df = df.set_index(['name', 'id'])\n",
    "\n",
    "r1 = df.reset_index(level = 0)\n",
    "r2 = df.reset_index(0)\n",
    "r3 = df.reset_index('name')\n",
    "r4 = df.reset_index(level = (0,1))\n",
    "r5 = df.reset_index()\n",
    "r6 = df.reset_index(level = 1, drop = True)\n",
    "\n",
    "disp('df', 'r1', 'r2', 'r3')\n",
    "disp('r4', 'r5', 'r6')"
   ]
  },
  {
   "cell_type": "markdown",
   "metadata": {},
   "source": [
    "### [예제5] reindex() 동작"
   ]
  },
  {
   "cell_type": "code",
   "execution_count": null,
   "metadata": {},
   "outputs": [],
   "source": [
    "# [1]\n",
    "\n",
    "d = {'name':['kim','lee','park'], 'id':[10,12,15],'kor':[100,90,80], 'eng':[88,66,99]}\n",
    "df = pd.DataFrame(d).set_index('name')\n",
    "df\n",
    "\n",
    "r1 = df.reindex(['park', 'song', 'kim'])\n",
    "r2 = df.reindex(['park', 'song', 'kim'], fill_value=0)\n",
    "r3 = df.reindex(['id', 'eng'], axis=1)\n",
    "r4 = df.reindex(index=['park', 'kim'], columns=['id','eng'])\n",
    "\n",
    "disp('r1', 'r2', 'r3', 'r4')"
   ]
  },
  {
   "cell_type": "code",
   "execution_count": null,
   "metadata": {},
   "outputs": [],
   "source": [
    "# [2]\n",
    "\n",
    "d = {'name':['kim','lee'],'id':[11,12],'day':['2020-12-22','2020-12-24']}\n",
    "df2 = pd.DataFrame(d).set_index('day').rename(index=np.datetime64)\n",
    "\n",
    "day = pd.date_range('2020-12-21','2020-12-25')\n",
    "r5 = df2.reindex(day, fill_value=0)\n",
    "\n",
    "disp('df2', 'r5')"
   ]
  },
  {
   "cell_type": "markdown",
   "metadata": {},
   "source": [
    "### [예제6] sort_index(), sort_value() 동작"
   ]
  },
  {
   "cell_type": "code",
   "execution_count": null,
   "metadata": {},
   "outputs": [],
   "source": [
    "# [1]\n",
    "\n",
    "df = pd.DataFrame({'id':[10,20,15,25], 'sex':list('WWMM'), \n",
    "                   'age':[30,50,20,10]}, index=['kim','lee',np.nan,'park'])\n",
    "\n",
    "r1 = df.sort_index()\n",
    "r2 = df.sort_index(axis=1, ascending=False)\n",
    "r3 = df.sort_index(na_position='first')\n",
    "\n",
    "disp('df','r1', 'r2', 'r3')"
   ]
  },
  {
   "cell_type": "code",
   "execution_count": null,
   "metadata": {
    "scrolled": true
   },
   "outputs": [],
   "source": [
    "# [2-1]\n",
    "\n",
    "r4 = df.sort_values('id', ascending=False)\n",
    "r5 = df.sort_values(['sex','id'])\n",
    "r6 = df.sort_values(['sex','id'],ascending=[True,False])\n",
    "\n",
    "disp('r4', 'r5', 'r6')"
   ]
  },
  {
   "cell_type": "code",
   "execution_count": null,
   "metadata": {},
   "outputs": [],
   "source": [
    "# [2-2]\n",
    "\n",
    "r7 = df.sort_values('park', axis=1) #error\n",
    "r8 = df.loc[:, ['id','age']].sort_values('park', axis=1)\n",
    "\n",
    "disp('df', 'r8')"
   ]
  },
  {
   "cell_type": "markdown",
   "metadata": {},
   "source": [
    "### [예제7]  df.T attrribute의 동작"
   ]
  },
  {
   "cell_type": "code",
   "execution_count": null,
   "metadata": {
    "scrolled": true
   },
   "outputs": [],
   "source": [
    "df = pd.DataFrame({'id':[10,20,15,25], 'sex':list('WWMM'), \n",
    "                   'age':[30,50,20,10]}, index=['park','kim','lee','song'])\n",
    "\n",
    "r1 = df.T\n",
    "r2 = df.T.sort_index(axis=1)\n",
    "\n",
    "disp('df', 'r1', 'r2')"
   ]
  }
 ],
 "metadata": {
  "colab": {
   "collapsed_sections": [
    "X9j6NHSVvIB7"
   ],
   "name": "DF_basic_Indexing_kim.ipynb",
   "provenance": []
  },
  "kernelspec": {
   "display_name": "Python 3",
   "language": "python",
   "name": "python3"
  },
  "language_info": {
   "codemirror_mode": {
    "name": "ipython",
    "version": 3
   },
   "file_extension": ".py",
   "mimetype": "text/x-python",
   "name": "python",
   "nbconvert_exporter": "python",
   "pygments_lexer": "ipython3",
   "version": "3.7.7"
  },
  "toc": {
   "base_numbering": 1,
   "nav_menu": {},
   "number_sections": true,
   "sideBar": true,
   "skip_h1_title": false,
   "title_cell": "Table of Contents",
   "title_sidebar": "Contents",
   "toc_cell": false,
   "toc_position": {
    "height": "calc(100% - 180px)",
    "left": "10px",
    "top": "150px",
    "width": "171.275px"
   },
   "toc_section_display": true,
   "toc_window_display": true
  }
 },
 "nbformat": 4,
 "nbformat_minor": 1
}
