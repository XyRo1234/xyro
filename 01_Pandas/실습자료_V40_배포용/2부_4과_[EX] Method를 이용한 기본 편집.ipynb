{
 "cells": [
  {
   "cell_type": "code",
   "execution_count": null,
   "metadata": {},
   "outputs": [],
   "source": [
    "from IPython.core.interactiveshell import InteractiveShell\n",
    "InteractiveShell.ast_node_interactivity = \"all\"\n",
    "\n",
    "class disp(object):\n",
    "    template = '<div style=\"float: left;padding:10px;\"> <b>[{0}]</b> {1}</div>'\n",
    "    def __init__(self, *args):\n",
    "        self.args = args\n",
    "        \n",
    "    def _repr_html_(self):\n",
    "        return '\\n'.join( self.template.format(a, eval(a)._repr_html_()) \n",
    "                        for a in self.args)\n",
    "def prt(*pVPK) :\n",
    "    print(*pVPK, sep = '\\n\\n', end = '\\n\\n')\n",
    "    \n",
    "import pandas as pd\n",
    "import numpy as np    "
   ]
  },
  {
   "cell_type": "markdown",
   "metadata": {},
   "source": [
    "### [예제1] insert() 메서드 활용"
   ]
  },
  {
   "cell_type": "code",
   "execution_count": null,
   "metadata": {
    "scrolled": true
   },
   "outputs": [],
   "source": [
    "df = pd.DataFrame([['kim',30],['lee',20]], columns=['name','age'])\n",
    "df\n",
    "\n",
    "df.insert(0, 'score', 100)\n",
    "df.insert(len(df.columns), 'id', range(1, len(df.index)+1))\n",
    "df.insert(0, 'score', 50) #error\n",
    "df.insert(0, 'score', 50, allow_duplicates=True)\n",
    "df.insert(df.columns.get_loc('age'), 'new', -1)\n",
    "df"
   ]
  },
  {
   "cell_type": "markdown",
   "metadata": {},
   "source": [
    "### [예제2] assign() 메서드 활용"
   ]
  },
  {
   "cell_type": "code",
   "execution_count": null,
   "metadata": {
    "scrolled": true
   },
   "outputs": [],
   "source": [
    "df = pd.DataFrame([['kim',30],['lee',20]], columns=['name','age'])\n",
    "df\n",
    "\n",
    "df = df.assign(grade = 3, sex = ['W','M'])\n",
    "df = df.assign(**{'kor':[70,100], 'eng':[50, 80]})\n",
    "df = df.assign(age = df['age'] + 1, name = df['name'].str.upper())\n",
    "df = df.assign(tot = df['kor'] + df['eng'], avg = lambda x : x['tot'] / 2)\n",
    "df"
   ]
  },
  {
   "cell_type": "markdown",
   "metadata": {},
   "source": [
    "### [예제3] sr.update() 동작"
   ]
  },
  {
   "cell_type": "code",
   "execution_count": null,
   "metadata": {
    "scrolled": false
   },
   "outputs": [],
   "source": [
    "# [1]\n",
    "\n",
    "d = {'age':[10,20,np.nan],'sex':['W','M',np.nan]}\n",
    "df = pd.DataFrame(d, index=['kim','lee','park'])\n",
    "df\n",
    "\n",
    "sr1 = pd.Series([15,25,35])\n",
    "df['age'].update(sr1)\n",
    "sr1; df"
   ]
  },
  {
   "cell_type": "code",
   "execution_count": null,
   "metadata": {},
   "outputs": [],
   "source": [
    "# [2]\n",
    "\n",
    "d = {'age':[10,20,np.nan],'sex':['W','M',np.nan]}\n",
    "df = pd.DataFrame(d, index=['kim','lee','park'])\n",
    "df\n",
    "\n",
    "sr2 = pd.Series([33,44],index=['kim','park'])\n",
    "df['age'].update(sr2)\n",
    "sr2; df"
   ]
  },
  {
   "cell_type": "code",
   "execution_count": null,
   "metadata": {},
   "outputs": [],
   "source": [
    "# [3]\n",
    "\n",
    "d = {'age':[10,20,np.nan],'sex':['W','M',np.nan]}\n",
    "df = pd.DataFrame(d, index=['kim','lee','park'])\n",
    "df\n",
    "\n",
    "sr3 = pd.Series([np.nan,'Male'],index=['kim','park'])\n",
    "df['sex'].update(sr3)\n",
    "    \n",
    "sr3; df"
   ]
  },
  {
   "cell_type": "markdown",
   "metadata": {},
   "source": [
    "### [예제 4] df.update() 동작"
   ]
  },
  {
   "cell_type": "code",
   "execution_count": null,
   "metadata": {
    "scrolled": true
   },
   "outputs": [],
   "source": [
    "# [1]\n",
    "\n",
    "d = {'age':[10,20,np.nan],'sex':['W','M',np.nan]}\n",
    "df = pd.DataFrame(d, index=['kim','lee','park'])\n",
    "df\n",
    "\n",
    "sr1 = pd.Series([np.nan,33,44], index=['kim','park','lee']) #?\n",
    "df.update(sr1)\n",
    "\n",
    "sr2 = pd.Series([np.nan,'Male','Female'], index=['kim','park','lee'], name='sex')\n",
    "df.update(sr2) # overwrite=True\n",
    "\n",
    "sr1; sr2; df"
   ]
  },
  {
   "cell_type": "code",
   "execution_count": null,
   "metadata": {},
   "outputs": [],
   "source": [
    "# [2]\n",
    "\n",
    "d = {'age':[10,20,np.nan],'sex':['M','W',np.nan]}\n",
    "df = pd.DataFrame(d,index=['kim','lee','park'])\n",
    "df\n",
    "\n",
    "sr2 = pd.Series([np.nan,'Male','Female'], index=['kim','park','lee'], name='sex')\n",
    "df.update(sr2, overwrite=False)\n",
    "\n",
    "sr2; df"
   ]
  },
  {
   "cell_type": "code",
   "execution_count": null,
   "metadata": {},
   "outputs": [],
   "source": [
    "# [3]\n",
    "\n",
    "d = {'age':[10,20,np.nan],'sex':['M','W',np.nan]}\n",
    "df = pd.DataFrame(d, index=['kim','lee','park'])\n",
    "df\n",
    "\n",
    "sr3 = pd.Series([np.nan,33,44], index=['kim','park','lee'], name='age') \n",
    "df.update(sr3, errors='raise') #error\n",
    "\n",
    "sr3; df"
   ]
  },
  {
   "cell_type": "markdown",
   "metadata": {},
   "source": [
    "### [예제5] other가 DF인 update()의 동작"
   ]
  },
  {
   "cell_type": "code",
   "execution_count": null,
   "metadata": {
    "scrolled": false
   },
   "outputs": [],
   "source": [
    "# [1]\n",
    "\n",
    "d = {'age':[np.nan,20,30],'sex':['M','W',np.nan]}\n",
    "df = pd.DataFrame(d, index=['kim','lee','park'])\n",
    "\n",
    "d2 = {'age':[33,44,55], 'sex':[np.nan,'male','Female'],}\n",
    "df2 = pd.DataFrame(d2,index=['kim','song','park'])\n",
    "\n",
    "disp('df', 'df2')\n",
    "df.update(df2)\n",
    "disp('df')"
   ]
  },
  {
   "cell_type": "code",
   "execution_count": null,
   "metadata": {},
   "outputs": [],
   "source": [
    "# [2]\n",
    "\n",
    "d = {'age':[np.nan,20,30],'sex':['M','W',np.nan]}\n",
    "df = pd.DataFrame(d, index=['kim','lee','park'])\n",
    "\n",
    "d2 = {'age':[33,44,55], 'sex':[np.nan,'male','Female'],}\n",
    "df2 = pd.DataFrame(d2,index=['kim','song','park'])\n",
    "\n",
    "disp('df', 'df2')\n",
    "df.update(df2, overwrite=False)\n",
    "disp('df')"
   ]
  },
  {
   "cell_type": "markdown",
   "metadata": {},
   "source": [
    "### [예제6] update()의 filter_func 옵션"
   ]
  },
  {
   "cell_type": "code",
   "execution_count": null,
   "metadata": {
    "scrolled": true
   },
   "outputs": [],
   "source": [
    "d = {'kor':[30,40,50],'eng':[80,70,60]}\n",
    "df = pd.DataFrame(d,index=['kim','lee','park'])\n",
    "d2 = {'kor':[35,45,55],'eng':[85,75,65]}\n",
    "df2 = pd.DataFrame(d2, index=['kim','song','park'])\n",
    "\n",
    "disp('df', 'df2')\n",
    "\n",
    "def func(x):\n",
    "    print(x,  x<70)\n",
    "    return x<70 \n",
    "\n",
    "df.update(df2, filter_func=func, overwrite=False) \n",
    "disp('df')"
   ]
  },
  {
   "cell_type": "markdown",
   "metadata": {},
   "source": [
    "### [예제7] drop() 동작"
   ]
  },
  {
   "cell_type": "code",
   "execution_count": null,
   "metadata": {
    "scrolled": true
   },
   "outputs": [],
   "source": [
    "# [1]\n",
    "\n",
    "a = np.arange(25).reshape(5,5)\n",
    "df = pd.DataFrame(a,columns=list('ABCDE'),index=list('ijklm'))\n",
    "\n",
    "df1 = df.drop(labels='i')\n",
    "df1 = df1.drop(['j','k']) \n",
    "df1 = df1.drop('A', axis=1) \n",
    "df1 = df1.drop(labels=['B','C'], axis=1) \n",
    "disp('df', 'df1')"
   ]
  },
  {
   "cell_type": "code",
   "execution_count": null,
   "metadata": {},
   "outputs": [],
   "source": [
    "# [2]\n",
    "\n",
    "a = np.arange(25).reshape(5,5)\n",
    "df = pd.DataFrame(a,columns=list('ABCDE'),index=list('ijklm'))\n",
    "\n",
    "df2 = df.drop(index ='i') \n",
    "df2 = df2.drop(columns ='A') \n",
    "df2 = df2.drop(index=['j','k'], columns=['B','C'])   \n",
    "disp('df', 'df2')"
   ]
  },
  {
   "cell_type": "code",
   "execution_count": null,
   "metadata": {},
   "outputs": [],
   "source": [
    "# [3]\n",
    "\n",
    "a = np.arange(25).reshape(5,5)\n",
    "df = pd.DataFrame(a,columns=list('ABCDE'),index=list('ijklm'))\n",
    "\n",
    "df3 = df.drop(index=['i','j','k'], columns=['A','B','C'], inplace=True)\n",
    "print(df3)    \n",
    "df"
   ]
  },
  {
   "cell_type": "code",
   "execution_count": null,
   "metadata": {
    "scrolled": true
   },
   "outputs": [],
   "source": [
    "# [4]\n",
    "\n",
    "a = np.arange(25).reshape(5,5)\n",
    "df = pd.DataFrame(a,columns=list('ABCDE'),index=list('ijklm'))\n",
    "\n",
    "df4 = df.drop(labels = 'x') #error\n",
    "df5 = df.drop(index=['i','j','k','x'],columns=['A','B','C','Y'],errors='ignore')\n",
    "disp('df', 'df5')"
   ]
  },
  {
   "cell_type": "markdown",
   "metadata": {},
   "source": [
    "### [예제8] 중복 행 삭제"
   ]
  },
  {
   "cell_type": "code",
   "execution_count": null,
   "metadata": {
    "scrolled": false
   },
   "outputs": [],
   "source": [
    "# [1]\n",
    "\n",
    "d = {'class':list('ABBA'),'name':['kim','lee','lee','kim'],'id':[100,200,300,100]}\n",
    "df = pd.DataFrame(d)\n",
    "\n",
    "r1 = df.drop_duplicates()\n",
    "r2 = df.drop_duplicates(keep='last')\n",
    "r3 = df.drop_duplicates(keep=False)\n",
    "disp('df', 'r1', 'r2', 'r3')"
   ]
  },
  {
   "cell_type": "code",
   "execution_count": null,
   "metadata": {},
   "outputs": [],
   "source": [
    "# [2]\n",
    "\n",
    "d = {'class':list('ABBA'),'name':['kim','lee','lee','kim'],'id':[100,200,300,100]}\n",
    "df = pd.DataFrame(d)\n",
    "\n",
    "r4 = df.drop_duplicates(['class','name'])\n",
    "r5 = df.drop_duplicates('name')\n",
    "r6 = df['name'].drop_duplicates()\n",
    "disp('df', 'r4', 'r5'); r6"
   ]
  },
  {
   "cell_type": "markdown",
   "metadata": {},
   "source": [
    "### [예제9] select_dtypes() 동작"
   ]
  },
  {
   "cell_type": "code",
   "execution_count": null,
   "metadata": {},
   "outputs": [],
   "source": [
    "# [1]\n",
    "\n",
    "d = {'name':['kim','lee','park'],'age':[10,20,30],'height':[155.5, 165.5, 170.5],'weight':[55,65,75]}\n",
    "df = pd.DataFrame(d)\n",
    "\n",
    "r1 = df.select_dtypes(include = object)\n",
    "r2 = df.select_dtypes(include = np.number)\n",
    "print(df.dtypes)\n",
    "disp('df', 'r1','r2')"
   ]
  },
  {
   "cell_type": "code",
   "execution_count": null,
   "metadata": {},
   "outputs": [],
   "source": [
    "# [2]\n",
    "\n",
    "d = {'name':['kim','lee','park'],'age':[10,20,30],'height':[155.5, 165.5, 170.5],'weight':[55,65,75]}\n",
    "df = pd.DataFrame(d)\n",
    "\n",
    "df['age'] = df['age'].astype(np.int32)\n",
    "r3 = df.select_dtypes(include=[int, float])\n",
    "print(df.dtypes)\n",
    "disp('df', 'r3')"
   ]
  },
  {
   "cell_type": "code",
   "execution_count": null,
   "metadata": {},
   "outputs": [],
   "source": [
    "# [3]\n",
    "\n",
    "d = {'name':['kim','lee','park'],'age':[10,20,30],'height':[155.5, 165.5, 170.5],'weight':[55,65,75]}\n",
    "df = pd.DataFrame(d)\n",
    "r4 = df.select_dtypes(include= np.number, exclude=int)\n",
    "disp('df', 'r4')"
   ]
  },
  {
   "cell_type": "markdown",
   "metadata": {},
   "source": [
    "### [예제10] pop() 동작"
   ]
  },
  {
   "cell_type": "code",
   "execution_count": null,
   "metadata": {},
   "outputs": [],
   "source": [
    "# [1]\n",
    "\n",
    "sr1 = pd.Series([100,90,80], index=['kim','lee','park'], name='kor')\n",
    "prt(sr1)\n",
    "v = sr1.pop('kim')\n",
    "prt(sr1, v)"
   ]
  },
  {
   "cell_type": "code",
   "execution_count": null,
   "metadata": {},
   "outputs": [],
   "source": [
    "# [2]\n",
    "\n",
    "df = pd.DataFrame({'kor':[100,90,80], 'eng':[40,50,60]}, index=['kim','lee','park'])\n",
    "df\n",
    "sr2 = df.pop('kor')\n",
    "df; sr2"
   ]
  },
  {
   "cell_type": "code",
   "execution_count": null,
   "metadata": {},
   "outputs": [],
   "source": [
    "# [3]\n",
    "\n",
    "df = pd.DataFrame({'kor':[100,90,80], 'eng':[40,50,60]}, index=['kim','lee','park'])\n",
    "df\n",
    "df.insert(1, 'kor2', df.pop('kor')-5 )\n",
    "df"
   ]
  }
 ],
 "metadata": {
  "kernelspec": {
   "display_name": "Python 3",
   "language": "python",
   "name": "python3"
  },
  "language_info": {
   "codemirror_mode": {
    "name": "ipython",
    "version": 3
   },
   "file_extension": ".py",
   "mimetype": "text/x-python",
   "name": "python",
   "nbconvert_exporter": "python",
   "pygments_lexer": "ipython3",
   "version": "3.8.5"
  },
  "toc": {
   "base_numbering": 1,
   "nav_menu": {},
   "number_sections": true,
   "sideBar": true,
   "skip_h1_title": false,
   "title_cell": "Table of Contents",
   "title_sidebar": "Contents",
   "toc_cell": false,
   "toc_position": {},
   "toc_section_display": true,
   "toc_window_display": false
  }
 },
 "nbformat": 4,
 "nbformat_minor": 2
}
