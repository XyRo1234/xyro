{
 "cells": [
  {
   "cell_type": "code",
   "execution_count": null,
   "metadata": {
    "scrolled": true
   },
   "outputs": [],
   "source": [
    "from IPython.core.interactiveshell import InteractiveShell\n",
    "InteractiveShell.ast_node_interactivity = \"all\"\n",
    "\n",
    "class disp(object):\n",
    "    template = '<div style=\"float: left;padding:10px;\"> <b>[{0}]</b> {1}</div>'\n",
    "    def __init__(self, *args):\n",
    "        self.args = args\n",
    "        \n",
    "    def _repr_html_(self):\n",
    "        return '\\n'.join( self.template.format(a, eval(a)._repr_html_()) \n",
    "                        for a in self.args)\n",
    "\n",
    "import pandas as pd\n",
    "import numpy as np"
   ]
  },
  {
   "cell_type": "markdown",
   "metadata": {},
   "source": [
    "### [예제1] 조건에 맞는 데이터 indexing"
   ]
  },
  {
   "cell_type": "code",
   "execution_count": null,
   "metadata": {},
   "outputs": [],
   "source": [
    "# [1]\n",
    "\n",
    "df = pd.DataFrame({'name':['kim','lee','park','song'],'age':[20,35,25,40]})\n",
    "\n",
    "df1 = df[[False, True, False, True]]\n",
    "disp('df', 'df1')"
   ]
  },
  {
   "cell_type": "code",
   "execution_count": null,
   "metadata": {
    "scrolled": true
   },
   "outputs": [],
   "source": [
    "# [2]\n",
    "\n",
    "df = pd.DataFrame({'name':['kim','lee','park','song'],'age':[20,35,25,40]})\n",
    "\n",
    "df2 = df[ df['age'] >= 30 ]\n",
    "print(df['age'] >= 30)\n",
    "disp('df', 'df2')"
   ]
  },
  {
   "cell_type": "code",
   "execution_count": null,
   "metadata": {},
   "outputs": [],
   "source": [
    "# [3]\n",
    "\n",
    "df = pd.DataFrame({'name':['kim','lee','park','song'],'age':[20,35,25,40]})\n",
    "\n",
    "df3 = df.loc[ lambda x : x['age'] >=30 ]\n",
    "disp('df', 'df3')"
   ]
  },
  {
   "cell_type": "markdown",
   "metadata": {},
   "source": [
    "### [예제2] Boolean vector : list, ndarray"
   ]
  },
  {
   "cell_type": "code",
   "execution_count": null,
   "metadata": {},
   "outputs": [],
   "source": [
    "# [1] \n",
    "\n",
    "d = {'name':['kim','lee','park','song'],'sex':list('WMWM'),'age':[20, 40, 35, 25]}\n",
    "df = pd.DataFrame(d)\n",
    "\n",
    "row = [False, True, False, True]\n",
    "r1 = df[row]\n",
    "r2 = df.loc[row]\n",
    "r3 = df.iloc[row]\n",
    "disp('df', 'r1', 'r2', 'r3')"
   ]
  },
  {
   "cell_type": "code",
   "execution_count": null,
   "metadata": {},
   "outputs": [],
   "source": [
    "# [2] \n",
    "\n",
    "d = {'name':['kim','lee','park','song'],'sex':list('WMWM'),'age':[20, 40, 35, 25]}\n",
    "df = pd.DataFrame(d)\n",
    "\n",
    "row = [False, True, False, True]\n",
    "r4 = df[row]['name']\n",
    "r5 = df['name'][row]\n",
    "r6 = df.loc[row, 'name']\n",
    "r7 = df.iloc[row, 0]\n",
    "r4; r5; r6; r7"
   ]
  },
  {
   "cell_type": "code",
   "execution_count": null,
   "metadata": {},
   "outputs": [],
   "source": [
    "# [3] \n",
    "\n",
    "d = {'name':['kim','lee','park','song'],'sex':list('WMWM'),'age':[20, 40, 35, 25]}\n",
    "df = pd.DataFrame(d)\n",
    "\n",
    "row = [False, True, False, True]\n",
    "col = np.array([True, False, True])\n",
    "r8 = df.loc[row, ['name', 'age']]\n",
    "r9 = df.loc[row, col]\n",
    "r10 = df.iloc[row, [0, 2]]\n",
    "r11 = df.iloc[row, col]\n",
    "disp('df', 'r8', 'r9', 'r10','r11')"
   ]
  },
  {
   "cell_type": "markdown",
   "metadata": {},
   "source": [
    "### [예제3] DataFrame / Series의 비교 및 논리연산"
   ]
  },
  {
   "cell_type": "code",
   "execution_count": null,
   "metadata": {
    "scrolled": true
   },
   "outputs": [],
   "source": [
    "# [1-1] \n",
    "\n",
    "df = pd.DataFrame({'A':[50,60,70],'B':[100,80,40]})\n",
    "\n",
    "m1 = df['A'] >= 60\n",
    "m2 = ~df['A'].lt(60)\n",
    "m3 = df >= 60  \n",
    "m1; m2; disp('df', 'm3')"
   ]
  },
  {
   "cell_type": "code",
   "execution_count": null,
   "metadata": {},
   "outputs": [],
   "source": [
    "# [2] \n",
    "\n",
    "df = pd.DataFrame({'A':[50,60,70],'B':[100,80,40]})\n",
    "\n",
    "m4 = (df['A']>=60) & (df['A']<=80)\n",
    "m5 = (df['A']>=60) and (df['A']<=80) #error     \n",
    "df; m4"
   ]
  },
  {
   "cell_type": "markdown",
   "metadata": {},
   "source": [
    "### [예제4] Boolean vector : Series, DataFrame "
   ]
  },
  {
   "cell_type": "code",
   "execution_count": null,
   "metadata": {},
   "outputs": [],
   "source": [
    "# [1-1] \n",
    "\n",
    "df = pd.DataFrame({'kor':[50,60,70],'eng':[100,90,40]}, index=['kim','lee','park'])\n",
    "\n",
    "m1 = df['kor']>=60\n",
    "r1 = df[m1]\n",
    "r2 = df.loc[m1]\n",
    "r3 = df.iloc[m1] # error\n",
    "r4 = df.iloc[m1.to_list()]\n",
    "r5 = df['kor'][m1]\n",
    "r6 = df.loc[m1, 'kor']\n",
    "m1\n",
    "disp('df', 'r1', 'r2', 'r4'); r5; r6"
   ]
  },
  {
   "cell_type": "code",
   "execution_count": null,
   "metadata": {},
   "outputs": [],
   "source": [
    "# [1-2]\n",
    "\n",
    "df = pd.DataFrame({'kor':[50,60,70],'eng':[100,90,40]}, index=['kim','lee','park'])\n",
    "\n",
    "m2 = pd.Series([True,False,True],index=['park','lee','kim'])\n",
    "m3 = pd.Series([True,False,True],index=['kim','lee','song'])\n",
    "r7 = df['kor'][m2]\n",
    "r8 = df['kor'][m3] #error\n",
    "r9 = df[m2] #error or warning\n",
    "r10 = df[m3] # error\n",
    "m2; m3; r7; r9"
   ]
  },
  {
   "cell_type": "code",
   "execution_count": null,
   "metadata": {
    "scrolled": true
   },
   "outputs": [],
   "source": [
    "# [2]\n",
    "\n",
    "df = pd.DataFrame({'kor':[50,60,70],'eng':[100,90,40]}, index=['kim','lee','park'])\n",
    "\n",
    "m4 = df >= 60\n",
    "m5 = m4.drop('park')\n",
    "r11 = df[m4]  \n",
    "r12 = df[m5]\n",
    "\n",
    "disp('df', 'm4', 'r11')\n",
    "disp('df', 'm5', 'r12')"
   ]
  },
  {
   "cell_type": "code",
   "execution_count": null,
   "metadata": {},
   "outputs": [],
   "source": [
    "# [3]\n",
    "\n",
    "df = pd.DataFrame({'kor':[50,60,70],'eng':[100,90,40]}, index=['kim','lee','park'])\n",
    "\n",
    "m6 = df.index == 'kim'\n",
    "r13 = df[m6]\n",
    "m6; disp('df', 'r13')"
   ]
  },
  {
   "cell_type": "markdown",
   "metadata": {},
   "source": [
    "### [예제5] Series의 .str accessor"
   ]
  },
  {
   "cell_type": "code",
   "execution_count": null,
   "metadata": {
    "scrolled": true
   },
   "outputs": [],
   "source": [
    "df = pd.DataFrame({'name':['kim','lee','ki'], 'age':[20,30,25]})\n",
    "\n",
    "m1 = df['name'] != 'lee'\n",
    "m2 = df['name'].str.contains('a|i') \n",
    "m3 = df['name'].str.endswith(('m','i'))\n",
    "m4 = df['name'].str.startswith('k')\n",
    "r1 = df[m1]\n",
    "r2 = df[m2]\n",
    "r3 = df[m3]\n",
    "r4 = df[m4]\n",
    "\n",
    "m1; m2; m3; m4\n",
    "disp('df', 'r1', 'r2', 'r3', 'r4')"
   ]
  },
  {
   "cell_type": "markdown",
   "metadata": {},
   "source": [
    "### [예제6] 사용자 함수에 의한 Indexing"
   ]
  },
  {
   "cell_type": "code",
   "execution_count": null,
   "metadata": {
    "scrolled": true
   },
   "outputs": [],
   "source": [
    "# [1-1]\n",
    "\n",
    "df = pd.DataFrame({'kor':[50,60,70],'eng':[100,90,40]}, index=['kim','lee','park'])\n",
    "df\n",
    "\n",
    "def f1(x): \n",
    "    print(type(x))\n",
    "    print(x)\n",
    "    return 'kor'\n",
    "\n",
    "sr = df.loc['kim']\n",
    "r1 = sr[f1]\n",
    "r1"
   ]
  },
  {
   "cell_type": "code",
   "execution_count": null,
   "metadata": {},
   "outputs": [],
   "source": [
    "# [1-1]\n",
    "\n",
    "df = pd.DataFrame({'kor':[50,60,70],'eng':[100,90,40]}, index=['kim','lee','park'])\n",
    "df\n",
    "\n",
    "def f1(x): \n",
    "    print(type(x))\n",
    "    print(x)\n",
    "    return 'kor'\n",
    "\n",
    "r2 = df[f1]\n",
    "r2"
   ]
  },
  {
   "cell_type": "code",
   "execution_count": null,
   "metadata": {},
   "outputs": [],
   "source": [
    "# [2] \n",
    "\n",
    "df = pd.DataFrame({'kor':[50,60,70],'eng':[100,90,40]}, index=['kim','lee','park'])\n",
    "\n",
    "def f2(x) :\n",
    "    return x.mean(axis=1) >=60\n",
    "\n",
    "r3 = df[f2] \n",
    "\n",
    "disp('df', 'r3')\n",
    "print(df.mean(axis=1))\n",
    "print(df.mean(axis=1)>=60)"
   ]
  },
  {
   "cell_type": "markdown",
   "metadata": {},
   "source": [
    "### [예제7] 조건에 따른 집계 및 편집"
   ]
  },
  {
   "cell_type": "code",
   "execution_count": null,
   "metadata": {},
   "outputs": [],
   "source": [
    "# [1]\n",
    "\n",
    "d = {'class':['A','B','A','B'],'exam':[90,60,50,80]}\n",
    "df = pd.DataFrame(d,index=['kim','lee','park','song'])\n",
    "\n",
    "r1 = df.loc[ df['exam']>=60, 'class'].count()\n",
    "r2 = df.loc[ df['exam']>=60, 'class'].value_counts()    \n",
    "df; r1; r2"
   ]
  },
  {
   "cell_type": "code",
   "execution_count": null,
   "metadata": {},
   "outputs": [],
   "source": [
    "# [2]\n",
    "\n",
    "d = {'class':['A','B','A','B'],'exam':[90,60,50,80]}\n",
    "df = pd.DataFrame(d,index=['kim','lee','park','song'])\n",
    "\n",
    "df.loc[df['exam'] < 70, 'pass'] = 'fail'\n",
    "df.loc[df['exam'] >= 70, 'pass'] = df['exam']\n",
    "df"
   ]
  },
  {
   "cell_type": "code",
   "execution_count": null,
   "metadata": {},
   "outputs": [],
   "source": [
    "# [3]\n",
    "\n",
    "d = {'kor':[40,90,50],'eng':[80,100,30]}\n",
    "df2 = pd.DataFrame(d,index=['kim','lee','park'])\n",
    "df2\n",
    "\n",
    "df2[ df2 <= 60 ] = 'fail'\n",
    "df2"
   ]
  },
  {
   "cell_type": "code",
   "execution_count": null,
   "metadata": {},
   "outputs": [],
   "source": [
    "# [4]\n",
    "\n",
    "d = {'kor':[40,90,50],'eng':[80,100,30]}\n",
    "df2 = pd.DataFrame(d,index=['kim','lee','park'])\n",
    "df2\n",
    "\n",
    "df2[ df2 <= 60 ] = 'fail'\n",
    "r3 = df2[df2.eq('fail').any(axis=1)]\n",
    "r3\n",
    "\n",
    "print(df2.eq('fail').any(axis=1) )"
   ]
  },
  {
   "cell_type": "markdown",
   "metadata": {},
   "source": [
    "### [예제8] isin() 메서드"
   ]
  },
  {
   "cell_type": "code",
   "execution_count": null,
   "metadata": {
    "scrolled": true
   },
   "outputs": [],
   "source": [
    "# [m1, r1]\n",
    "\n",
    "df = pd.DataFrame({'A':[100,90,80],'B':[50,100,70]})\n",
    "\n",
    "m1 = df['A'].isin([100,90])\n",
    "r1 = df[m1]\n",
    "m1; disp('df', 'r1')"
   ]
  },
  {
   "cell_type": "code",
   "execution_count": null,
   "metadata": {},
   "outputs": [],
   "source": [
    "# [m2, r2]\n",
    "\n",
    "df = pd.DataFrame({'A':[100,90,80],'B':[50,100,70]})\n",
    "\n",
    "m2 = df.isin([100,90])\n",
    "m3 = df.isin(100) # error\n",
    "r2 = df[m2]\n",
    "disp('df', 'm2', 'r2')"
   ]
  },
  {
   "cell_type": "markdown",
   "metadata": {},
   "source": [
    "### [예제9] all(), any() 메서드"
   ]
  },
  {
   "cell_type": "code",
   "execution_count": null,
   "metadata": {},
   "outputs": [],
   "source": [
    "# [m1, m2, m3]\n",
    "\n",
    "df = pd.DataFrame({'A':[100,90,80],'B':[50,100,70]})\n",
    "\n",
    "m1 = df.isin([100, 90])\n",
    "m2 = m1.all(axis=1)\n",
    "m3 = m1.any()\n",
    "disp('df', 'm1'); m2; m3"
   ]
  },
  {
   "cell_type": "code",
   "execution_count": null,
   "metadata": {},
   "outputs": [],
   "source": [
    "# [r1, r2]\n",
    "\n",
    "df = pd.DataFrame({'A':[100,90,80],'B':[50,100,70]})\n",
    "\n",
    "m1 = df.isin([100, 90])\n",
    "m2 = m1.all(axis=1)\n",
    "m3 = m1.any()\n",
    "\n",
    "r1 = df[m2]\n",
    "r2 = df.loc[:, m3]\n",
    "disp('df', 'r1', 'r2')"
   ]
  },
  {
   "cell_type": "code",
   "execution_count": null,
   "metadata": {},
   "outputs": [],
   "source": [
    "# [m4]\n",
    "\n",
    "df = pd.DataFrame({'A':[100,90,80],'B':[50,100,70]})\n",
    "\n",
    "m4 = df['A'].isin([100]).any()\n",
    "m4"
   ]
  },
  {
   "cell_type": "markdown",
   "metadata": {},
   "source": [
    "### [예제10] isin() 메서드 동작 이해"
   ]
  },
  {
   "cell_type": "code",
   "execution_count": null,
   "metadata": {
    "scrolled": true
   },
   "outputs": [],
   "source": [
    "# [m1]\n",
    "\n",
    "df = pd.DataFrame({'A':[100,90,80],'B':[50,100,70]})\n",
    "dic = {'A':[100,50],'B':[100,70]}\n",
    "m1 = df.isin(dic)  \n",
    "disp('df', 'm1')"
   ]
  },
  {
   "cell_type": "code",
   "execution_count": null,
   "metadata": {
    "scrolled": false
   },
   "outputs": [],
   "source": [
    "# [m2]\n",
    "\n",
    "df = pd.DataFrame({'A':[100,90,80],'B':[50,100,70]})\n",
    "sr1 = pd.Series([50,90,70])\n",
    "m2 = df.isin(sr1)  \n",
    "sr1; disp('df', 'm2')"
   ]
  },
  {
   "cell_type": "code",
   "execution_count": null,
   "metadata": {},
   "outputs": [],
   "source": [
    "# [m3]\n",
    "\n",
    "df = pd.DataFrame({'A':[100,90,80],'B':[50,100,70]})\n",
    "df1 = pd.DataFrame({'A':[100,80],'B':[50,100]})\n",
    "m3 = df.isin(df1)\n",
    "disp('df','df1','m3')"
   ]
  },
  {
   "cell_type": "code",
   "execution_count": null,
   "metadata": {},
   "outputs": [],
   "source": [
    "# [m4]\n",
    "\n",
    "df = pd.DataFrame({'A':[100,90,80],'B':[50,100,70]})\n",
    "df1 = pd.DataFrame({'A':[100,80],'B':[50,100]})\n",
    "m3 = df.isin(df1)\n",
    "\n",
    "\n",
    "m4 = m3.any(axis=1)\n",
    "r1 = df[m4]\n",
    "\n",
    "m4; disp('df', 'df1', 'm3', 'r1')"
   ]
  },
  {
   "cell_type": "markdown",
   "metadata": {},
   "source": [
    "### [예제11] duplicated() 메서드"
   ]
  },
  {
   "cell_type": "code",
   "execution_count": null,
   "metadata": {},
   "outputs": [],
   "source": [
    "# [1]\n",
    "\n",
    "df = pd.DataFrame({'name':['kim','lee','park','kim'],'id':[10, 15, 20, 10]})\n",
    "m1 = df.duplicated()\n",
    "df1 = df[m1]\n",
    "m1; disp('df', 'df1')"
   ]
  },
  {
   "cell_type": "code",
   "execution_count": null,
   "metadata": {},
   "outputs": [],
   "source": [
    "# [2]\n",
    "\n",
    "df = pd.DataFrame({'name':['kim','lee','park','kim'],'id':[10, 15, 20, 10]})\n",
    "m2 = ~df.duplicated()\n",
    "df2 = df[m2]\n",
    "m2; disp('df', 'df2')"
   ]
  },
  {
   "cell_type": "markdown",
   "metadata": {},
   "source": [
    "### [예제12] duplicated() 메서드 동작 이해"
   ]
  },
  {
   "cell_type": "code",
   "execution_count": null,
   "metadata": {},
   "outputs": [],
   "source": [
    "# [1]\n",
    "\n",
    "df = pd.DataFrame({'name':['kim','lee','park','kim'],'id':[10, 15, 20, 10]})\n",
    "m1 = df.duplicated(keep = 'last')\n",
    "df1 = df[~m1]\n",
    "m1; disp('df', 'df1')"
   ]
  },
  {
   "cell_type": "code",
   "execution_count": null,
   "metadata": {},
   "outputs": [],
   "source": [
    "# [2]\n",
    "\n",
    "df = pd.DataFrame({'name':['kim','lee','park','kim'],'id':[10, 15, 20, 10]})\n",
    "m2 = df.duplicated(keep = False)\n",
    "df2 = df[~m2]\n",
    "m2; disp('df', 'df2')"
   ]
  },
  {
   "cell_type": "code",
   "execution_count": null,
   "metadata": {
    "scrolled": true
   },
   "outputs": [],
   "source": [
    "# [3]\n",
    "\n",
    "df = pd.DataFrame({'name':['kim','lee','park','kim'],'id':[10, 15, 20, 10]})\n",
    "m3 = df.duplicated(['name'])\n",
    "m4 = df['name'].duplicated()\n",
    "df3, df4 = df[~m3], df[~m4]\n",
    "m3; m4; disp('df', 'df3', 'df4')"
   ]
  },
  {
   "cell_type": "code",
   "execution_count": null,
   "metadata": {},
   "outputs": [],
   "source": [
    "# [4]\n",
    "\n",
    "df = pd.DataFrame({'name':['kim','lee','park','kim'],'id':[10, 15, 20, 10]})\n",
    "ndf = df.set_index('name')\n",
    "m5 = ndf.index.duplicated()\n",
    "df5 = ndf[~m5]\n",
    "m5; disp('ndf', 'df5')"
   ]
  },
  {
   "cell_type": "markdown",
   "metadata": {},
   "source": [
    "### [예제13] 조건에 따른 필터링 활용"
   ]
  },
  {
   "cell_type": "code",
   "execution_count": null,
   "metadata": {},
   "outputs": [],
   "source": [
    "# [1]\n",
    "\n",
    "d = {'grade':[1,1,2,1,2],'major':['math','kor','com','kor','eng'],'exam':[80, np.nan, 90, 100,np.nan]}\n",
    "df = pd.DataFrame(d, index=['kim','lee','park','song','lew'])\n",
    "\n",
    "r1 = df[(df['grade']==1) & df['major'].isin(['kor','math'])]\n",
    "disp('df', 'r1')"
   ]
  },
  {
   "cell_type": "code",
   "execution_count": null,
   "metadata": {
    "scrolled": true
   },
   "outputs": [],
   "source": [
    "# [2]\n",
    "\n",
    "d = {'grade':[1,1,2,1,2],'major':['math','kor','com','kor','eng'],'exam':[80, np.nan, 90, 100,np.nan]}\n",
    "df = pd.DataFrame(d, index=['kim','lee','park','song','lew'])\n",
    "\n",
    "r2 = df[ df['exam'].isna()]\n",
    "r3 = df[ df['exam'].isin([np.nan]) ]\n",
    "disp('df', 'r2', 'r3')"
   ]
  },
  {
   "cell_type": "code",
   "execution_count": null,
   "metadata": {},
   "outputs": [],
   "source": [
    "# [3]\n",
    "\n",
    "d = {'grade':[1,1,2,1,2],'major':['math','kor','com','kor','eng'],'exam':[80, np.nan, 90, 100,np.nan]}\n",
    "df = pd.DataFrame(d, index=['kim','lee','park','song','lew'])\n",
    "\n",
    "df.loc[df['exam'].isna(), 'YN'] = 'NO'\n",
    "df.loc[df['exam'].notna(), 'YN'] = 'YES'\n",
    "\n",
    "df"
   ]
  }
 ],
 "metadata": {
  "kernelspec": {
   "display_name": "Python 3",
   "language": "python",
   "name": "python3"
  },
  "language_info": {
   "codemirror_mode": {
    "name": "ipython",
    "version": 3
   },
   "file_extension": ".py",
   "mimetype": "text/x-python",
   "name": "python",
   "nbconvert_exporter": "python",
   "pygments_lexer": "ipython3",
   "version": "3.8.5"
  },
  "toc": {
   "base_numbering": 1,
   "nav_menu": {},
   "number_sections": true,
   "sideBar": true,
   "skip_h1_title": true,
   "title_cell": "Table of Contents",
   "title_sidebar": "Contents",
   "toc_cell": false,
   "toc_position": {
    "height": "calc(100% - 180px)",
    "left": "10px",
    "top": "150px",
    "width": "165px"
   },
   "toc_section_display": true,
   "toc_window_display": false
  }
 },
 "nbformat": 4,
 "nbformat_minor": 2
}
