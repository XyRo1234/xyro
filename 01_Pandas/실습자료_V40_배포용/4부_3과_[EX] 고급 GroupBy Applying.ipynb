{
 "cells": [
  {
   "cell_type": "code",
   "execution_count": 1,
   "metadata": {},
   "outputs": [],
   "source": [
    "from IPython.core.interactiveshell import InteractiveShell\n",
    "InteractiveShell.ast_node_interactivity = \"all\"\n",
    "\n",
    "class disp(object):\n",
    "    template = '<div style=\"float: left;padding:10px;\"> <b>[{0}]</b> {1}</div>'\n",
    "    def __init__(self, *args):\n",
    "        self.args = args\n",
    "        \n",
    "    def _repr_html_(self):\n",
    "        return '\\n'.join(self.template.format(a, eval(a)._repr_html_())\n",
    "                         for a in self.args )\n",
    "\n",
    "import pandas as pd   \n",
    "import numpy as np"
   ]
  },
  {
   "cell_type": "markdown",
   "metadata": {},
   "source": [
    "### [예제1] gb.apply() 메서드의 이해"
   ]
  },
  {
   "cell_type": "code",
   "execution_count": 3,
   "metadata": {},
   "outputs": [
    {
     "data": {
      "text/html": [
       "<div>\n",
       "<style scoped>\n",
       "    .dataframe tbody tr th:only-of-type {\n",
       "        vertical-align: middle;\n",
       "    }\n",
       "\n",
       "    .dataframe tbody tr th {\n",
       "        vertical-align: top;\n",
       "    }\n",
       "\n",
       "    .dataframe thead th {\n",
       "        text-align: right;\n",
       "    }\n",
       "</style>\n",
       "<table border=\"1\" class=\"dataframe\">\n",
       "  <thead>\n",
       "    <tr style=\"text-align: right;\">\n",
       "      <th></th>\n",
       "      <th>class</th>\n",
       "      <th>hw</th>\n",
       "      <th>exam</th>\n",
       "    </tr>\n",
       "  </thead>\n",
       "  <tbody>\n",
       "    <tr>\n",
       "      <th>kim</th>\n",
       "      <td>A</td>\n",
       "      <td>5</td>\n",
       "      <td>80</td>\n",
       "    </tr>\n",
       "    <tr>\n",
       "      <th>lee</th>\n",
       "      <td>B</td>\n",
       "      <td>10</td>\n",
       "      <td>55</td>\n",
       "    </tr>\n",
       "    <tr>\n",
       "      <th>park</th>\n",
       "      <td>A</td>\n",
       "      <td>7</td>\n",
       "      <td>70</td>\n",
       "    </tr>\n",
       "    <tr>\n",
       "      <th>song</th>\n",
       "      <td>B</td>\n",
       "      <td>3</td>\n",
       "      <td>100</td>\n",
       "    </tr>\n",
       "  </tbody>\n",
       "</table>\n",
       "</div>"
      ],
      "text/plain": [
       "     class  hw  exam\n",
       "kim      A   5    80\n",
       "lee      B  10    55\n",
       "park     A   7    70\n",
       "song     B   3   100"
      ]
     },
     "execution_count": 3,
     "metadata": {},
     "output_type": "execute_result"
    },
    {
     "name": "stdout",
     "output_type": "stream",
     "text": [
      "     class  hw  exam\n",
      "kim      A   5    80\n",
      "park     A   7    70\n",
      "     class  hw  exam\n",
      "lee      B  10    55\n",
      "song     B   3   100\n"
     ]
    },
    {
     "data": {
      "text/html": [
       "<div style=\"float: left;padding:10px;\"> <b>[df]</b> <div>\n",
       "<style scoped>\n",
       "    .dataframe tbody tr th:only-of-type {\n",
       "        vertical-align: middle;\n",
       "    }\n",
       "\n",
       "    .dataframe tbody tr th {\n",
       "        vertical-align: top;\n",
       "    }\n",
       "\n",
       "    .dataframe thead th {\n",
       "        text-align: right;\n",
       "    }\n",
       "</style>\n",
       "<table border=\"1\" class=\"dataframe\">\n",
       "  <thead>\n",
       "    <tr style=\"text-align: right;\">\n",
       "      <th></th>\n",
       "      <th>class</th>\n",
       "      <th>hw</th>\n",
       "      <th>exam</th>\n",
       "    </tr>\n",
       "  </thead>\n",
       "  <tbody>\n",
       "    <tr>\n",
       "      <th>kim</th>\n",
       "      <td>A</td>\n",
       "      <td>5</td>\n",
       "      <td>80</td>\n",
       "    </tr>\n",
       "    <tr>\n",
       "      <th>lee</th>\n",
       "      <td>B</td>\n",
       "      <td>10</td>\n",
       "      <td>55</td>\n",
       "    </tr>\n",
       "    <tr>\n",
       "      <th>park</th>\n",
       "      <td>A</td>\n",
       "      <td>7</td>\n",
       "      <td>70</td>\n",
       "    </tr>\n",
       "    <tr>\n",
       "      <th>song</th>\n",
       "      <td>B</td>\n",
       "      <td>3</td>\n",
       "      <td>100</td>\n",
       "    </tr>\n",
       "  </tbody>\n",
       "</table>\n",
       "</div></div>\n",
       "<div style=\"float: left;padding:10px;\"> <b>[r1]</b> <div>\n",
       "<style scoped>\n",
       "    .dataframe tbody tr th:only-of-type {\n",
       "        vertical-align: middle;\n",
       "    }\n",
       "\n",
       "    .dataframe tbody tr th {\n",
       "        vertical-align: top;\n",
       "    }\n",
       "\n",
       "    .dataframe thead th {\n",
       "        text-align: right;\n",
       "    }\n",
       "</style>\n",
       "<table border=\"1\" class=\"dataframe\">\n",
       "  <thead>\n",
       "    <tr style=\"text-align: right;\">\n",
       "      <th></th>\n",
       "      <th>class</th>\n",
       "      <th>hw</th>\n",
       "      <th>exam</th>\n",
       "    </tr>\n",
       "    <tr>\n",
       "      <th>class</th>\n",
       "      <th></th>\n",
       "      <th></th>\n",
       "      <th></th>\n",
       "    </tr>\n",
       "  </thead>\n",
       "  <tbody>\n",
       "    <tr>\n",
       "      <th>A</th>\n",
       "      <td>AA</td>\n",
       "      <td>12</td>\n",
       "      <td>150</td>\n",
       "    </tr>\n",
       "    <tr>\n",
       "      <th>B</th>\n",
       "      <td>BB</td>\n",
       "      <td>13</td>\n",
       "      <td>155</td>\n",
       "    </tr>\n",
       "  </tbody>\n",
       "</table>\n",
       "</div></div>"
      ],
      "text/plain": [
       "<__main__.disp at 0x2604cedb990>"
      ]
     },
     "execution_count": 3,
     "metadata": {},
     "output_type": "execute_result"
    },
    {
     "data": {
      "text/html": [
       "<div>\n",
       "<style scoped>\n",
       "    .dataframe tbody tr th:only-of-type {\n",
       "        vertical-align: middle;\n",
       "    }\n",
       "\n",
       "    .dataframe tbody tr th {\n",
       "        vertical-align: top;\n",
       "    }\n",
       "\n",
       "    .dataframe thead th {\n",
       "        text-align: right;\n",
       "    }\n",
       "</style>\n",
       "<table border=\"1\" class=\"dataframe\">\n",
       "  <thead>\n",
       "    <tr style=\"text-align: right;\">\n",
       "      <th></th>\n",
       "      <th>class</th>\n",
       "      <th>hw</th>\n",
       "      <th>exam</th>\n",
       "    </tr>\n",
       "    <tr>\n",
       "      <th>class</th>\n",
       "      <th></th>\n",
       "      <th></th>\n",
       "      <th></th>\n",
       "    </tr>\n",
       "  </thead>\n",
       "  <tbody>\n",
       "    <tr>\n",
       "      <th>A</th>\n",
       "      <td>AA</td>\n",
       "      <td>12</td>\n",
       "      <td>150</td>\n",
       "    </tr>\n",
       "    <tr>\n",
       "      <th>B</th>\n",
       "      <td>BB</td>\n",
       "      <td>13</td>\n",
       "      <td>155</td>\n",
       "    </tr>\n",
       "  </tbody>\n",
       "</table>\n",
       "</div>"
      ],
      "text/plain": [
       "      class  hw  exam\n",
       "class                \n",
       "A        AA  12   150\n",
       "B        BB  13   155"
      ]
     },
     "execution_count": 3,
     "metadata": {},
     "output_type": "execute_result"
    }
   ],
   "source": [
    "# [1-1]\n",
    "\n",
    "d = {'class':list('ABAB'),'hw':[5,10,7,3],'exam':[80,55,70,100]}\n",
    "df = pd.DataFrame(d, index=['kim','lee','park','song'])\n",
    "df\n",
    "\n",
    "def f1(x):\n",
    "    print(x)\n",
    "    return x.sum()\n",
    "\n",
    "r1 = df.groupby('class').apply(f1)\n",
    "disp('df', 'r1')"
   ]
  },
  {
   "cell_type": "code",
   "execution_count": null,
   "metadata": {},
   "outputs": [],
   "source": [
    "# [1-2]\n",
    "\n",
    "d = {'class':list('ABAB'),'hw':[5,10,7,3],'exam':[80,55,70,100]}\n",
    "df = pd.DataFrame(d, index=['kim','lee','park','song'])\n",
    "df\n",
    "\n",
    "def f1(x):\n",
    "    print(x)\n",
    "    return x.sum()\n",
    "\n",
    "r2 = df.groupby('class')['exam'].apply(f1)\n",
    "r2"
   ]
  },
  {
   "cell_type": "code",
   "execution_count": null,
   "metadata": {},
   "outputs": [],
   "source": [
    "# [2]\n",
    "\n",
    "d = {'class':list('ABAB'),'hw':[5,10,7,3],'exam':[80,55,70,100]}\n",
    "df = pd.DataFrame(d, index=['kim','lee','park','song'])\n",
    "df\n",
    "\n",
    "def f2(x):\n",
    "    return x.nlargest(1, 'exam')\n",
    "\n",
    "r3 = df.groupby('class')[['hw','exam']].apply(f2)\n",
    "df; r3"
   ]
  },
  {
   "cell_type": "markdown",
   "metadata": {},
   "source": [
    "### [예제2] gr.transform 메서드의 이해"
   ]
  },
  {
   "cell_type": "code",
   "execution_count": null,
   "metadata": {},
   "outputs": [],
   "source": [
    "# [1]\n",
    "\n",
    "d = {'class':list('ABAB'),'hw':[5,10,7,3],'exam':[80,55,70,100]}\n",
    "df = pd.DataFrame(d, index=['kim','lee','park','song'])\n",
    "df\n",
    "\n",
    "def f1(x):\n",
    "    print(x)\n",
    "    return x.max()\n",
    "\n",
    "r1 = df.groupby('class').transform(f1)\n",
    "disp('df', 'r1')"
   ]
  },
  {
   "cell_type": "code",
   "execution_count": null,
   "metadata": {
    "scrolled": true
   },
   "outputs": [],
   "source": [
    "# [2]\n",
    "\n",
    "d = {'class':list('ABAB'),'hw':[5,10,7,3],'exam':[80,55,70,100]}\n",
    "df = pd.DataFrame(d, index=['kim','lee','park','song'])\n",
    "df\n",
    "\n",
    "gr = df.groupby('class')['exam']\n",
    "df['avg'] = gr.transform('mean')\n",
    "df['dev'] = df['exam'] - df['avg']\n",
    "df"
   ]
  },
  {
   "cell_type": "markdown",
   "metadata": {},
   "source": [
    "### [예제3] gr.agg() 메서드의 이해 1"
   ]
  },
  {
   "cell_type": "code",
   "execution_count": null,
   "metadata": {},
   "outputs": [],
   "source": [
    "# [1-1]\n",
    "\n",
    "df = pd.DataFrame({'class':list('ABAB'), 'kor':[100,50,90,80],'eng':[60,60,50,90]},\n",
    "                 index=['kim','lee','park','song'])\n",
    "\n",
    "def f1(x):\n",
    "    print(x)\n",
    "    return x.sum()\n",
    "\n",
    "gb = df.groupby('class')\n",
    "r1 = gb.agg(f1)\n",
    "disp('df', 'r1')"
   ]
  },
  {
   "cell_type": "code",
   "execution_count": null,
   "metadata": {},
   "outputs": [],
   "source": [
    "# [1-2]\n",
    "\n",
    "df = pd.DataFrame({'class':list('ABAB'), 'kor':[100,50,90,80],'eng':[60,60,50,90]},\n",
    "                 index=['kim','lee','park','song'])\n",
    "\n",
    "def f1(x):\n",
    "    print(x)\n",
    "    return x.sum()\n",
    "\n",
    "gb = df.groupby('class')\n",
    "r2 = gb['kor'].agg(f1)\n",
    "df; r2"
   ]
  },
  {
   "cell_type": "code",
   "execution_count": null,
   "metadata": {},
   "outputs": [],
   "source": [
    "# [2]\n",
    "\n",
    "df = pd.DataFrame({'class':list('ABAB'), 'kor':[100,50,90,80],'eng':[60,60,50,90]},\n",
    "                 index=['kim','lee','park','song'])\n",
    "\n",
    "gb = df.groupby('class')\n",
    "r3 = gb.agg(['sum', 'mean'])\n",
    "r4 = gb.agg({'kor':'sum', 'eng':'mean'})\n",
    "disp('df', 'r3','r4')"
   ]
  },
  {
   "cell_type": "markdown",
   "metadata": {},
   "source": [
    "### [예제4] gr.agg() 메서드의 이해 2"
   ]
  },
  {
   "cell_type": "code",
   "execution_count": null,
   "metadata": {},
   "outputs": [],
   "source": [
    "# [1] \n",
    "\n",
    "df = pd.DataFrame({'class':list('ABAB'), 'kor':[50,90,70,100],'eng':[60,60,50,90]},\n",
    "                 index=['kim','lee','park','song'])\n",
    "\n",
    "\n",
    "gb1 = df.groupby('class')[['kor', 'eng']]\n",
    "r1 = gb1.agg([('tot','sum'), ('avg','mean')])\n",
    "r2 = gb1.agg(tot = ('kor','sum'), avg = ('eng','mean'))\n",
    "disp('df', 'r1','r2')"
   ]
  },
  {
   "cell_type": "code",
   "execution_count": null,
   "metadata": {},
   "outputs": [],
   "source": [
    "# [2]\n",
    "\n",
    "df = pd.DataFrame({'class':list('ABAB'), 'kor':[50,90,70,100],'eng':[60,60,50,90]},\n",
    "                 index=['kim','lee','park','song'])\n",
    "\n",
    "def func(x):\n",
    "    return x.max() - x.min()\n",
    "\n",
    "gb = df.groupby('class')\n",
    "r3 = gb.agg(['max','min',('diff',func)])\n",
    "disp('df', 'r3')"
   ]
  },
  {
   "cell_type": "markdown",
   "metadata": {},
   "source": [
    "### [예제5] gr.filter() 메서드의 이해"
   ]
  },
  {
   "cell_type": "code",
   "execution_count": null,
   "metadata": {},
   "outputs": [],
   "source": [
    "# [1] \n",
    "\n",
    "d = {'class':list('ABAB'),'hw':[5,10,7,3],'exam':[80,60,70,100]}\n",
    "df = pd.DataFrame(d, index=['kim','lee','park','song'])\n",
    "df\n",
    "\n",
    "def f1(x):\n",
    "    print(x)\n",
    "    return x['exam'].mean() >=80\n",
    "\n",
    "r1 = df.groupby('class').filter(f1)\n",
    "disp('df', 'r1')"
   ]
  },
  {
   "cell_type": "code",
   "execution_count": null,
   "metadata": {},
   "outputs": [],
   "source": [
    "# [2] \n",
    "\n",
    "d = {'class':list('ABAB'),'hw':[5,10,7,3],'exam':[80,60,70,100]}\n",
    "df = pd.DataFrame(d, index=['kim','lee','park','song'])\n",
    "df\n",
    "\n",
    "def f2(x):\n",
    "    return x.mean() >= 80\n",
    "\n",
    "r2 = df.groupby('class')['exam'].filter(f2)\n",
    "# r3 = df.groupby('class').filter(f2) #error\n",
    "df; r2"
   ]
  },
  {
   "cell_type": "markdown",
   "metadata": {},
   "source": [
    "### [예제6] 그룹 집계 활용 : titanic"
   ]
  },
  {
   "cell_type": "code",
   "execution_count": null,
   "metadata": {},
   "outputs": [],
   "source": [
    "# [1]\n",
    "\n",
    "df = pd.read_csv('data/titanic.csv', usecols=['pclass','survived','sex','age']) \n",
    "df.head(20)\n",
    "\n",
    "gb = df.groupby(['pclass','sex'])\n",
    "df['age'] = gb['age'].transform(lambda x: x.fillna(x.mean()))\n",
    "\n",
    "print(gb['age'].mean())\n",
    "df.head(20)"
   ]
  },
  {
   "cell_type": "code",
   "execution_count": null,
   "metadata": {},
   "outputs": [],
   "source": [
    "# [2] \n",
    "\n",
    "df = pd.read_csv('data/titanic.csv',usecols=['pclass','survived','sex','age']) \n",
    "gb = df.groupby(['pclass', 'sex'])\n",
    "r2 = gb.filter(lambda x: x['survived'].sum() <= 20)\n",
    "\n",
    "print( gb['survived'].sum() )\n",
    "r2"
   ]
  }
 ],
 "metadata": {
  "kernelspec": {
   "display_name": "Python 3 (ipykernel)",
   "language": "python",
   "name": "python3"
  },
  "language_info": {
   "codemirror_mode": {
    "name": "ipython",
    "version": 3
   },
   "file_extension": ".py",
   "mimetype": "text/x-python",
   "name": "python",
   "nbconvert_exporter": "python",
   "pygments_lexer": "ipython3",
   "version": "3.11.0"
  },
  "toc": {
   "base_numbering": 1,
   "nav_menu": {},
   "number_sections": true,
   "sideBar": true,
   "skip_h1_title": true,
   "title_cell": "Table of Contents",
   "title_sidebar": "Contents",
   "toc_cell": false,
   "toc_position": {},
   "toc_section_display": true,
   "toc_window_display": false
  }
 },
 "nbformat": 4,
 "nbformat_minor": 2
}
