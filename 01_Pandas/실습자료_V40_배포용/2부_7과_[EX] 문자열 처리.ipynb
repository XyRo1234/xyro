{
 "cells": [
  {
   "cell_type": "code",
   "execution_count": null,
   "metadata": {
    "scrolled": true
   },
   "outputs": [],
   "source": [
    "from IPython.core.interactiveshell import InteractiveShell\n",
    "InteractiveShell.ast_node_interactivity = \"all\"\n",
    "\n",
    "def prt(*pVPK) :\n",
    "    print(*pVPK, sep = '\\n\\n', end = '\\n\\n')\n",
    "    \n",
    "class disp(object):\n",
    "    template = '<div style=\"float: left;padding:10px;\"> <b>[{0}]</b> {1}</div>'\n",
    "    def __init__(self, *args):\n",
    "        self.args = args\n",
    "        \n",
    "    def _repr_html_(self):\n",
    "        return '\\n'.join( self.template.format(a, eval(a)._repr_html_()) \n",
    "                        for a in self.args)\n",
    "\n",
    "import pandas as pd\n",
    "import numpy as np    \n",
    "import re"
   ]
  },
  {
   "cell_type": "markdown",
   "metadata": {},
   "source": [
    "### [예제1] python에서 문자열 처리"
   ]
  },
  {
   "cell_type": "code",
   "execution_count": null,
   "metadata": {},
   "outputs": [],
   "source": [
    "# [1]\n",
    "\n",
    "r1 = 'a b c'.split() \n",
    "r2 = 'a/b/c'.split('/')\n",
    "r3 = ' <hello> '.strip().strip('<>')\n",
    "r4 = 'a/b/c'.replace('/', ' ')\n",
    "r5 = '-'.join(['a', 'b', 'c'])\n",
    "r6 = 'hello'.startswith('h')\n",
    "r7 = 'hello'.endswith('o')\n",
    "r8 = 'hello'.count('l')\n",
    "r9 = 'hello'.upper()\n",
    "\n",
    "print(r1, r2, r3, r4, r5, r6, r7, r8, r9, sep='\\n')"
   ]
  },
  {
   "cell_type": "code",
   "execution_count": null,
   "metadata": {},
   "outputs": [],
   "source": [
    "# [2]\n",
    "\n",
    "r10 = '{} + {} = {}'.format(10,20, 30)\n",
    "r11 = '{1:} + {0:} = {2:}'.format(10,20, 30)\n",
    "r12 = '{:,}'.format(123456)\n",
    "r13 = '{:.2%}'.format(12.34567)\n",
    "r14 = f'{12.34567:.2%}'\n",
    "\n",
    "print(r10,r11, r12, r13, r14, sep='\\n')"
   ]
  },
  {
   "cell_type": "markdown",
   "metadata": {},
   "source": [
    "### [예제2] re모듈로 분리하고 치환"
   ]
  },
  {
   "cell_type": "code",
   "execution_count": null,
   "metadata": {},
   "outputs": [],
   "source": [
    "import re\n",
    "r1 = re.split('\\s+', 'abc    de  efg')\n",
    "r2 = re.sub('\\d{4}', 'XXXX', '010-1234-5678')\n",
    "r3 = re.sub('\\d{4}', 'XXXX', '010-1234-5678', 1)\n",
    "\n",
    "print(r1, r2, r3, sep='\\n')"
   ]
  },
  {
   "cell_type": "markdown",
   "metadata": {},
   "source": [
    "### [예제3] re모듈 함수 예"
   ]
  },
  {
   "cell_type": "code",
   "execution_count": null,
   "metadata": {},
   "outputs": [],
   "source": [
    "# [1]\n",
    "\n",
    "import re\n",
    "r1 = re.findall('abc', 'abc1de2ABC')\n",
    "r2 = re.findall('abc', 'abc1de2ABC', re.I)\n",
    "r3 = re.findall('[a-z]{2,3}', 'abc1de2ABC')\n",
    "\n",
    "print(r1, r2, r3, sep='\\n')"
   ]
  },
  {
   "cell_type": "code",
   "execution_count": null,
   "metadata": {
    "scrolled": true
   },
   "outputs": [],
   "source": [
    "# [2]\n",
    "\n",
    "import re\n",
    "\n",
    "pat = re.compile('(\\d{4})') \n",
    "r4= pat.search('123-456-7890')\n",
    "r5= pat.match('123-456-7890')\n",
    "r6= re.fullmatch('(\\d+):(\\d+)','12:30')\n",
    "r7= r6.groups()\n",
    "r8= r6.group(2)\n",
    "\n",
    "print(r4, r5, r6, r7, r8, sep='\\n')"
   ]
  },
  {
   "cell_type": "markdown",
   "metadata": {},
   "source": [
    "### [예제4] pandas에서 문자열 처리(.str)"
   ]
  },
  {
   "cell_type": "code",
   "execution_count": null,
   "metadata": {},
   "outputs": [],
   "source": [
    "# [r1~r2]\n",
    "\n",
    "sr = pd.Series(['abc@will.com', 'def@tek.org', 'ijk*tek.com'])\n",
    "r1 = sr.str.get(2)\n",
    "r2 = sr.str[2]\n",
    "sr; r1; r2"
   ]
  },
  {
   "cell_type": "code",
   "execution_count": null,
   "metadata": {},
   "outputs": [],
   "source": [
    "# [r3~r5]\n",
    "\n",
    "sr = pd.Series(['abc@will.com', 'def@tek.org', 'ijk*tek.com'])\n",
    "r3 = sr.str.contains('com')\n",
    "r4 = sr.str.findall('(\\w+)@(\\w+)\\.(\\w+)')\n",
    "r5 = sr.str.match('(\\w+)@(\\w+)\\.(\\w+)')\n",
    "r3; r4; r5"
   ]
  },
  {
   "cell_type": "code",
   "execution_count": null,
   "metadata": {},
   "outputs": [],
   "source": [
    "# [r6~r9]\n",
    "\n",
    "sr = pd.Series(['abc@will.com', 'def@tek.org', 'ijk*tek.com'])\n",
    "r6 = sr.str.cat(sep=' ')\n",
    "r7 = sr.str.replace('(\\w+)\\.(\\w+)$', 'will.com', regex = True)\n",
    "r8 = sr.str.extract('(\\w+)@(\\w+)\\.(\\w+)')\n",
    "r9 = sr.str.split('[@*]', expand=True)\n",
    "r6; r7; r8; r9"
   ]
  }
 ],
 "metadata": {
  "kernelspec": {
   "display_name": "Python 3",
   "language": "python",
   "name": "python3"
  },
  "language_info": {
   "codemirror_mode": {
    "name": "ipython",
    "version": 3
   },
   "file_extension": ".py",
   "mimetype": "text/x-python",
   "name": "python",
   "nbconvert_exporter": "python",
   "pygments_lexer": "ipython3",
   "version": "3.8.5"
  }
 },
 "nbformat": 4,
 "nbformat_minor": 2
}
