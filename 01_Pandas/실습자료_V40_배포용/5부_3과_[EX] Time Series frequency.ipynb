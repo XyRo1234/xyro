{
 "cells": [
  {
   "cell_type": "code",
   "execution_count": null,
   "metadata": {},
   "outputs": [],
   "source": [
    "from IPython.core.interactiveshell import InteractiveShell\n",
    "InteractiveShell.ast_node_interactivity = \"all\"\n",
    "\n",
    "def prt(*pVPK) :\n",
    "    print(*pVPK, sep = '\\n', end = '\\n')\n",
    "\n",
    "class disp(object):\n",
    "    template = '<div style=\"float: left;padding:10px;\"> <b>[{0}]</b> {1}</div>'\n",
    "    def __init__(self, *args):\n",
    "        self.args = args\n",
    "        \n",
    "    def _repr_html_(self):\n",
    "        return '\\n'.join( self.template.format(a, eval(a)._repr_html_()) \n",
    "                        for a in self.args)\n",
    "    \n",
    "import pandas as pd\n",
    "import numpy as np \n",
    "from datetime import datetime, timedelta, date,time\n",
    "import calendar"
   ]
  },
  {
   "cell_type": "markdown",
   "metadata": {},
   "source": [
    "### [예제1] DateOffset()"
   ]
  },
  {
   "cell_type": "code",
   "execution_count": null,
   "metadata": {},
   "outputs": [],
   "source": [
    "r1 = pd.date_range('2021-1-1',periods=2, freq=pd.DateOffset(days=2))\n",
    "r2 = pd.date_range('2021-1-1',periods=2, freq=pd.offsets.Day(2))\n",
    "r3 = pd.date_range('2021-1-1',periods=2, freq='2D')\n",
    "r1; r2; r3"
   ]
  },
  {
   "cell_type": "markdown",
   "metadata": {},
   "source": [
    "### [예제2] DateOffset 객체의 이해"
   ]
  },
  {
   "cell_type": "code",
   "execution_count": null,
   "metadata": {},
   "outputs": [],
   "source": [
    "import calendar\n",
    "print(calendar.month(2021,1)) # 2021-1월 달력"
   ]
  },
  {
   "cell_type": "code",
   "execution_count": null,
   "metadata": {},
   "outputs": [],
   "source": [
    "# [1]\n",
    "\n",
    "ts = pd.Timestamp('2021-1-10 09:00:00') \n",
    "r1 = ts - 4 # error\n",
    "r2 = ts - pd.DateOffset(days=4)\n",
    "r3 = ts - pd.offsets.Day(4)\n",
    "r4 = ts + pd.offsets.Week(2, weekday=4)\n",
    "r5 = ts + pd.offsets.Week(weekday=4) * 2\n",
    "r6 = ts + pd.offsets.Week(normalize=True)\n",
    "r7 = ts + pd.offsets.MonthEnd()\n",
    "r8 = ts + pd.offsets.YearEnd(month=6)\n",
    "prt(r2, r3, r4, r5, r6, r7, r8)"
   ]
  },
  {
   "cell_type": "code",
   "execution_count": null,
   "metadata": {},
   "outputs": [],
   "source": [
    "# [2]\n",
    "\n",
    "r8 = pd.to_datetime(['2021-1-1','2021-1-2']) + pd.DateOffset(months=2)\n",
    "r9 = pd.Series(pd.to_datetime(['2021-1-1','2021-1-2']))+pd.DateOffset(months=2)\n",
    "print(type(pd.DateOffset(months=2)))\n",
    "r8;r9"
   ]
  },
  {
   "cell_type": "markdown",
   "metadata": {},
   "source": [
    "### [예제3] Frequency alias"
   ]
  },
  {
   "cell_type": "code",
   "execution_count": null,
   "metadata": {},
   "outputs": [],
   "source": [
    "print(calendar.month(2021,2)) # 2021년 2월 달력\n",
    "\n",
    "t = pd.Timestamp('2021-2-12') \n",
    "r1 = pd.date_range(t,periods=2, freq='W-Sat')\n",
    "r2 = pd.date_range(t,periods=2, freq='WOM-2Sat')\n",
    "r3 = pd.date_range(t,periods=2, freq='MS')\n",
    "r4 = pd.date_range(t,periods=2, freq='Q-FEB')\n",
    "r5 = pd.date_range(t,periods=2, freq='BA')\n",
    "r6 = pd.date_range(t,periods=2, freq='BA-FEB')\n",
    "r1; r2; r3; r4; r5; r6"
   ]
  },
  {
   "cell_type": "markdown",
   "metadata": {},
   "source": [
    "### [예제4] DateOffset 맞춤형 영업일"
   ]
  },
  {
   "cell_type": "code",
   "execution_count": null,
   "metadata": {},
   "outputs": [],
   "source": [
    "import calendar\n",
    "print(calendar.month(2021,1))"
   ]
  },
  {
   "cell_type": "code",
   "execution_count": null,
   "metadata": {},
   "outputs": [],
   "source": [
    "# [1]\n",
    "\n",
    "t = pd.Timestamp('2021-1-15') \n",
    "BDoff = pd.offsets.BDay(2)\n",
    "r1 = t + pd.offsets.BDay(2)\n",
    "r2 = t + pd.offsets.BMonthEnd()\n",
    "r3 = pd.date_range(t,periods=2,freq=BDoff)\n",
    "r1; r2; r3"
   ]
  },
  {
   "cell_type": "code",
   "execution_count": null,
   "metadata": {},
   "outputs": [],
   "source": [
    "# [2]\n",
    "\n",
    "w = \"Sun Mon Tue Wed\"\n",
    "h = ['2021-01-17', '2021-01-19']\n",
    "off=pd.offsets.CustomBusinessDay(holidays=h,weekmask=w)\n",
    "r4 = t + 2 * off\n",
    "r4"
   ]
  },
  {
   "cell_type": "code",
   "execution_count": null,
   "metadata": {},
   "outputs": [],
   "source": [
    "# [3]\n",
    "\n",
    "t = pd.Timestamp('2021-1-15 09:00:00') \n",
    "idx = pd.date_range(t, periods=4, freq=off)\n",
    "r5 = pd.Series(idx.strftime(\"%a\"), index=idx.date)\n",
    "r5"
   ]
  },
  {
   "cell_type": "markdown",
   "metadata": {},
   "source": [
    "### [예제 5] Period 객체"
   ]
  },
  {
   "cell_type": "code",
   "execution_count": null,
   "metadata": {},
   "outputs": [],
   "source": [
    "# [1]\n",
    "\n",
    "p1 = pd.Period('2021-5', freq='2M')\n",
    "p2 = pd.Period('2021', freq='Q-DEC')\n",
    "r1 = p1 - 2\n",
    "r2 = p2 + 2\n",
    "r1; r2"
   ]
  },
  {
   "cell_type": "code",
   "execution_count": null,
   "metadata": {},
   "outputs": [],
   "source": [
    "# [2]\n",
    "\n",
    "di = pd.date_range('2021-01', periods=2, freq='2M')\n",
    "pi1 = pd.PeriodIndex(['2021-01', '2021-03'], freq='2M')\n",
    "pi2 = pd.period_range('2021-01', periods=2, freq='2M')\n",
    "r3 = di + pd.offsets.MonthEnd(2)\n",
    "r4 = pi1 + pd.offsets.MonthEnd(2)\n",
    "r5 = di.to_period()\n",
    "r6 = pi1.to_timestamp()\n",
    "prt(di, pi1, pi2)\n",
    "prt(r3, r4, r5, r6)"
   ]
  },
  {
   "cell_type": "code",
   "execution_count": null,
   "metadata": {},
   "outputs": [],
   "source": [
    "# [3]\n",
    "\n",
    "r7 = pd.date_range('2021-1', periods=2, freq='M')\n",
    "r8 = pd.period_range('2021-1', periods=2, freq='M')\n",
    "r9 = r7 - pd.Timestamp('2021-1-1')\n",
    "prt('[7]', r7, type(r7), r7[0], type(r7[0]))\n",
    "prt('[8]', r8, type(r8), r8[0], type(r8[0]))\n",
    "prt('[9]', r9, type(r9), r9[0], type(r9[0]))"
   ]
  },
  {
   "cell_type": "markdown",
   "metadata": {},
   "source": [
    "### [예제6] Timedelta 객체"
   ]
  },
  {
   "cell_type": "code",
   "execution_count": null,
   "metadata": {},
   "outputs": [],
   "source": [
    "r1 = pd.Timestamp('2020-1-15') - pd.Timestamp('2020-1-1')\n",
    "r2 = pd.Timedelta(\"1 days 2 hours\")\n",
    "r3 = pd.Timedelta(days=1, hours=2)\n",
    "r4 = pd.Timedelta(1, unit=\"d\")\n",
    "r5 = pd.Timedelta(pd.offsets.Day())\n",
    "r6 = pd.to_timedelta(np.arange(1, 3), unit=\"d\")\n",
    "r7 = pd.timedelta_range('1 day', periods=2)\n",
    "r8 = pd.timedelta_range('1 day', '3 day', periods=2)\n",
    "prt(r1, r2, r3, r4, r5, r6, r7, r8)"
   ]
  },
  {
   "cell_type": "markdown",
   "metadata": {},
   "source": [
    "### [예제7] Timedelta 객체 연산"
   ]
  },
  {
   "cell_type": "code",
   "execution_count": null,
   "metadata": {},
   "outputs": [],
   "source": [
    "#[1]\n",
    "\n",
    "r1 = pd.Timestamp('2020-1-15') - pd.Timedelta('1 day')\n",
    "r2 = pd.Timestamp('2020-1-15') - pd.Timedelta('00:05:05')\n",
    "r3 = pd.Timedelta('20 day') // 3\n",
    "r4 = pd.Timedelta('20 day') % 3\n",
    "r5 = pd.Timedelta('20 day') % pd.Timedelta('3 day')\n",
    "r6 = pd.Timedelta('-1 day 2 hour') * -1\n",
    "r7 = -pd.Timedelta('-1 day 2 hour')\n",
    "r8 = abs(pd.Timedelta('-1 day 2 hour'))\n",
    "r9 = pd.Timedelta(np.nan)\n",
    "\n",
    "prt(r1, r2, r3, r4, r5, r6, r7, r8, r9)"
   ]
  },
  {
   "cell_type": "code",
   "execution_count": null,
   "metadata": {},
   "outputs": [],
   "source": [
    "# [2]\n",
    "\n",
    "sr1 = pd.Series(pd.date_range('2021-1-1', periods=3, freq='D'))\n",
    "sr2 = pd.Series([pd.Timedelta(days=i) for i in range(3)])\n",
    "df = pd.DataFrame({'A':sr1, 'B':sr2})\n",
    "df\n",
    "\n",
    "df['C'] = df['A'] + df['B']\n",
    "r10 = sr1 + pd.Timedelta('2hour5min')\n",
    "r11 = sr1 + pd.offsets.Minute(5) + pd.offsets.Hour(2)\n",
    "df; r10; r11\n",
    "df.dtypes"
   ]
  }
 ],
 "metadata": {
  "kernelspec": {
   "display_name": "Python 3",
   "language": "python",
   "name": "python3"
  },
  "language_info": {
   "codemirror_mode": {
    "name": "ipython",
    "version": 3
   },
   "file_extension": ".py",
   "mimetype": "text/x-python",
   "name": "python",
   "nbconvert_exporter": "python",
   "pygments_lexer": "ipython3",
   "version": "3.8.5"
  }
 },
 "nbformat": 4,
 "nbformat_minor": 4
}
