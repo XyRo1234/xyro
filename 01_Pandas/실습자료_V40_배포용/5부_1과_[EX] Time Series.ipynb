{
 "cells": [
  {
   "cell_type": "code",
   "execution_count": null,
   "metadata": {},
   "outputs": [],
   "source": [
    "from IPython.core.interactiveshell import InteractiveShell\n",
    "InteractiveShell.ast_node_interactivity = \"all\"\n",
    "\n",
    "def prt(*pVPK) :\n",
    "    print(*pVPK, sep = '\\n', end = '\\n')\n",
    "\n",
    "class disp(object):\n",
    "    template = '<div style=\"float: left;padding:10px;\"> <b>[{0}]</b> {1}</div>'\n",
    "    def __init__(self, *args):\n",
    "        self.args = args\n",
    "        \n",
    "    def _repr_html_(self):\n",
    "        return '\\n'.join( self.template.format(a, eval(a)._repr_html_()) \n",
    "                        for a in self.args)\n",
    "    \n",
    "import pandas as pd\n",
    "import numpy as np \n",
    "from datetime import datetime, timedelta, date,time\n",
    "import calendar"
   ]
  },
  {
   "cell_type": "markdown",
   "metadata": {},
   "source": [
    "### [예제1] datetime 모듈"
   ]
  },
  {
   "cell_type": "code",
   "execution_count": null,
   "metadata": {
    "scrolled": true
   },
   "outputs": [],
   "source": [
    "# [1]\n",
    "\n",
    "from datetime import datetime\n",
    "\n",
    "r1 = datetime(2020, 1, 15, 12, 30, 45)\n",
    "r2 = datetime.now()\n",
    "prt('[1]', r1, r2)\n",
    "prt('[2]', type(r1), type(r2))\n",
    "print('[3]', r2.year, r2.month, r2.day)\n",
    "print('[4]', r2.hour, r2.minute)\n",
    "print('[5]', r2.second, r2.microsecond)\n",
    "print('[6]', r2.date(), r2.time())"
   ]
  },
  {
   "cell_type": "code",
   "execution_count": null,
   "metadata": {
    "scrolled": true
   },
   "outputs": [],
   "source": [
    "# [2]\n",
    "\n",
    "from datetime import timedelta\n",
    "r3 = datetime(2020,1,31) - datetime(2020,1,1)\n",
    "r4 = datetime(2020,1,31) - timedelta(days=30)\n",
    "r5 = datetime(2020,1,31) + r3 * 2\n",
    "prt('[7]', r3, type(r3))\n",
    "prt('[8]', r4, type(r4), r5, type(r5))"
   ]
  },
  {
   "cell_type": "code",
   "execution_count": null,
   "metadata": {
    "scrolled": false
   },
   "outputs": [],
   "source": [
    "# [3]\n",
    "\n",
    "from datetime import date,time\n",
    "r5 = date(2020, 12, 25)\n",
    "r6 = time(12, 30, 45)\n",
    "r7 = date(2020, 12, 25) - date.today()\n",
    "print('[9]', r5.year == 2020, r5 > date(2020,12,1))\n",
    "print('[10]', '월화수목금토일'[r5.weekday()])\n",
    "print('[11]', r6.hour < 10, r6 > time(9, 30, 0))\n",
    "print('[12]', r7, type(r7))"
   ]
  },
  {
   "cell_type": "code",
   "execution_count": null,
   "metadata": {},
   "outputs": [],
   "source": [
    "# [4]\n",
    "\n",
    "import calendar\n",
    "\n",
    "print( calendar.month(2020, 12) )\n",
    "print( calendar.calendar(2020) )"
   ]
  },
  {
   "cell_type": "markdown",
   "metadata": {},
   "source": [
    "### [예제2] Timestamp 객체"
   ]
  },
  {
   "cell_type": "code",
   "execution_count": null,
   "metadata": {},
   "outputs": [],
   "source": [
    "# [1]\n",
    "\n",
    "r1 = pd.Timestamp('2020-1-1')\n",
    "r2 = pd.Timestamp(year=2020,month=1,day=1,hour=12) \n",
    "r3 = pd.Timestamp(2020, 1, 1, 12, 30, 50)\n",
    "r4 = pd.Timestamp(100, unit='d')\n",
    "r5 = pd.Timestamp(100, unit='d', tz='US/pacific')\n",
    "r1; r2; r3; r4; r5"
   ]
  },
  {
   "cell_type": "code",
   "execution_count": null,
   "metadata": {},
   "outputs": [],
   "source": [
    "# [2]\n",
    "\n",
    "t = pd.Timestamp('2020-2-1')\n",
    "print(t.dayofweek, t.day_name())\n",
    "print(t.month, t.month_name())\n",
    "print(t.dayofyear, t.daysinmonth)\n",
    "print(t.is_month_start, t.is_year_start)\n",
    "print(t.strftime('%Y/%m/%d'))\n",
    "print(pd.Timestamp.now())"
   ]
  },
  {
   "cell_type": "markdown",
   "metadata": {},
   "source": [
    "### [예제3] Timestamp.strftime()메서드"
   ]
  },
  {
   "cell_type": "code",
   "execution_count": null,
   "metadata": {},
   "outputs": [],
   "source": [
    "t = pd.Timestamp('2020-1-15 12:20:45')\n",
    "print( t.strftime('%m-%d-%y') )\n",
    "print( t.strftime('%B-%d-%y %a') )\n",
    "print( t.strftime('%x %X') )\n",
    "print( t.strftime('%Y-%m-%d %H:%M:%S') )"
   ]
  },
  {
   "cell_type": "markdown",
   "metadata": {},
   "source": [
    "### [예제4] Timedelta() 함수"
   ]
  },
  {
   "cell_type": "code",
   "execution_count": null,
   "metadata": {
    "scrolled": true
   },
   "outputs": [],
   "source": [
    "r1 = pd.Timestamp('2020-1-31') - pd.Timestamp('2020-1-1')\n",
    "r2 = pd.Timestamp('2020-1-31') + pd.Timedelta(days=20)\n",
    "r3 = pd.Timestamp('2020-1-31') + pd.Timedelta(10, 'd') * 2\n",
    "prt(r1, type(r1), r2, type(r2), r3, type(r3))"
   ]
  },
  {
   "cell_type": "markdown",
   "metadata": {},
   "source": [
    "### [예제5] pd.to_datetime() 함수"
   ]
  },
  {
   "cell_type": "code",
   "execution_count": null,
   "metadata": {
    "scrolled": false
   },
   "outputs": [],
   "source": [
    "# [1]\n",
    "\n",
    "r1 = pd.to_datetime('20-1-3', yearfirst=True)\n",
    "r2 = pd.to_datetime('200103', format='%y%m%d')\n",
    "r3 = pd.to_datetime('20abc', errors='coerce')\n",
    "r4 = pd.to_datetime(['2020.1.1', '1/2/20', None])\n",
    "r5 = r4.strftime('%b-%d')\n",
    "prt(r1, r2, r3, r4, r5, type(r1), type(r4[0]))"
   ]
  },
  {
   "cell_type": "code",
   "execution_count": null,
   "metadata": {
    "scrolled": true
   },
   "outputs": [],
   "source": [
    "# [2]\n",
    "\n",
    "df = pd.DataFrame({'year':2020,'month':1,'day':[10,20]})\n",
    "sr = pd.Series(['Jan 10, 2020','01-20-2020'])\n",
    "r6 = pd.to_datetime(df)\n",
    "r7 = pd.to_datetime(sr)\n",
    "prt(r6, type(r6), r7, type(r7))"
   ]
  },
  {
   "cell_type": "code",
   "execution_count": null,
   "metadata": {},
   "outputs": [],
   "source": [
    "# [3]\n",
    "\n",
    "r9 = pd.to_datetime(1349720105, unit=\"s\")\n",
    "r10 = pd.to_datetime([1,2,3], unit='D')\n",
    "r11 = pd.to_datetime([1,2,3], unit='D', origin=pd.Timestamp('1960-01-01'))\n",
    "r9; r10; r11"
   ]
  },
  {
   "cell_type": "markdown",
   "metadata": {},
   "source": [
    "### [예제6] read_csv()로 파일을 읽어와 DatetimeIndex객체로 변환"
   ]
  },
  {
   "cell_type": "code",
   "execution_count": null,
   "metadata": {
    "scrolled": true
   },
   "outputs": [],
   "source": [
    "r1 = pd.read_csv('data/05_01_01.csv',parse_dates=True,index_col='birth')\n",
    "r2 = pd.read_csv('data/05_01_01.csv',parse_dates=['birth'],index_col='birth')\n",
    "prt(type(r1.index), type(r2.index))\n",
    "disp('r1', 'r2')"
   ]
  }
 ],
 "metadata": {
  "kernelspec": {
   "display_name": "Python 3",
   "language": "python",
   "name": "python3"
  },
  "language_info": {
   "codemirror_mode": {
    "name": "ipython",
    "version": 3
   },
   "file_extension": ".py",
   "mimetype": "text/x-python",
   "name": "python",
   "nbconvert_exporter": "python",
   "pygments_lexer": "ipython3",
   "version": "3.7.6"
  }
 },
 "nbformat": 4,
 "nbformat_minor": 4
}
