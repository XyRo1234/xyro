{
 "cells": [
  {
   "cell_type": "code",
   "execution_count": null,
   "metadata": {},
   "outputs": [],
   "source": [
    "from IPython.core.interactiveshell import InteractiveShell\n",
    "InteractiveShell.ast_node_interactivity = \"all\"\n",
    "\n",
    "class disp(object):\n",
    "    template = '<div style=\"float: left;padding:10px;\"> <b>[{0}]</b> {1}</div>'\n",
    "    def __init__(self, *args):\n",
    "        self.args = args\n",
    "        \n",
    "    def _repr_html_(self):\n",
    "        return '\\n'.join( self.template.format(a, eval(a)._repr_html_()) \n",
    "                        for a in self.args)\n",
    "    \n",
    "def prt(*pVPK) :\n",
    "    print(*pVPK, sep = '\\n\\n', end = '\\n\\n')\n",
    "\n",
    "import pandas as pd\n",
    "import numpy as np    "
   ]
  },
  {
   "cell_type": "markdown",
   "metadata": {},
   "source": [
    "### 기본 그래프 폰트 설정"
   ]
  },
  {
   "cell_type": "code",
   "execution_count": null,
   "metadata": {},
   "outputs": [],
   "source": [
    "import matplotlib as mpl\n",
    "import matplotlib.pyplot as plt\n",
    "\n",
    "f1 = mpl.font_manager.FontProperties(fname='C:/Windows/Fonts/malgun.ttf').get_name()\n",
    "mpl.rcParams['axes.unicode_minus'] = False\n",
    "mpl.rc('font', family = f1, size = 16)"
   ]
  },
  {
   "cell_type": "markdown",
   "metadata": {},
   "source": [
    "### [예제1]  line 차트"
   ]
  },
  {
   "cell_type": "code",
   "execution_count": null,
   "metadata": {},
   "outputs": [],
   "source": [
    "# [1]\n",
    "\n",
    "# 인계동의 나이별 인구수\n",
    "\n",
    "sr = pd.read_pickle('data/suwon1.pickle')\n",
    "sr\n",
    "\n",
    "# Series: index => x축, values => y축\n",
    "\n",
    "sr.plot()"
   ]
  },
  {
   "cell_type": "code",
   "execution_count": null,
   "metadata": {},
   "outputs": [],
   "source": [
    "# [2]\n",
    "\n",
    "sr.plot(kind='line',figsize=(15,5),grid=True,color='g', \\\n",
    "       xticks=range(0,101,10),yticks=range(0,1200,100))"
   ]
  },
  {
   "cell_type": "code",
   "execution_count": null,
   "metadata": {},
   "outputs": [],
   "source": [
    "# [3]\n",
    "\n",
    "sr.plot(figsize=(15,5),xlabel='나이',ylabel='인원',style='x-r',title='인계동 인구')"
   ]
  },
  {
   "cell_type": "code",
   "execution_count": null,
   "metadata": {},
   "outputs": [],
   "source": [
    "# [4] \n",
    "\n",
    "# 3개 동의 나이별 인구수\n",
    "\n",
    "df = pd.read_pickle('data/suwon2.pickle')\n",
    "df\n",
    "\n",
    "# DataFrame: index => x축, columns => 개별 그래프, values => y축\n",
    "\n",
    "df.plot(figsize=(15,5), style=['x-r','o-b','*-g'])"
   ]
  },
  {
   "cell_type": "markdown",
   "metadata": {},
   "source": [
    "### [예제2] bar 차트"
   ]
  },
  {
   "cell_type": "code",
   "execution_count": null,
   "metadata": {},
   "outputs": [],
   "source": [
    "# [1]\n",
    "\n",
    "# 장안구 동별 95세 이상 인구수\n",
    "\n",
    "sr = pd.read_pickle('data/suwon4.pickle')\n",
    "sr\n",
    "\n",
    "sr.plot(kind='barh', figsize=(10,5))"
   ]
  },
  {
   "cell_type": "code",
   "execution_count": null,
   "metadata": {
    "scrolled": true
   },
   "outputs": [],
   "source": [
    "# [2]\n",
    "\n",
    "# 장안구 전체동의 10대, 20대 인구수\n",
    "\n",
    "df = pd.read_pickle('data/suwon3.pickle')\n",
    "df\n",
    "\n",
    "df.plot(kind='bar', figsize=(12,5), fontsize=15, rot=45, color=['r','g'])"
   ]
  },
  {
   "cell_type": "code",
   "execution_count": null,
   "metadata": {},
   "outputs": [],
   "source": [
    "# [3]\n",
    "\n",
    "df.plot(kind='barh', figsize=(12,5), fontsize=15)"
   ]
  },
  {
   "cell_type": "markdown",
   "metadata": {},
   "source": [
    "### [예제3] pie 차트"
   ]
  },
  {
   "cell_type": "code",
   "execution_count": null,
   "metadata": {},
   "outputs": [],
   "source": [
    "# [1]\n",
    "\n",
    "# 장안구 동별 95세 이상 인구수\n",
    "\n",
    "sr = pd.read_pickle('data/suwon4.pickle')\n",
    "sr\n",
    "\n",
    "sr.plot(kind='pie', figsize=(8,8), title='최다 연령', fontsize=10)"
   ]
  },
  {
   "cell_type": "code",
   "execution_count": null,
   "metadata": {},
   "outputs": [],
   "source": [
    "# [2]\n",
    "\n",
    "# autopct='%1.1f%%'(백분율),  explode=[...](분리 간격)\n",
    "\n",
    "sr.plot(kind='pie', figsize=(8,8), autopct='%.1f%%', title='인구율', \\\n",
    "        explode=[0.1,0.1,0,0,0,0,0,0,0], shadow=True, ylabel=False)"
   ]
  },
  {
   "cell_type": "code",
   "execution_count": null,
   "metadata": {},
   "outputs": [],
   "source": [
    "# [3]\n",
    "\n",
    "# wedgeprops => wedge 속성 설정\n",
    "\n",
    "w = {'width': 0.5, 'edgecolor': 'y', 'linewidth': 1} \n",
    "sr.plot(kind='pie', figsize=(8,8), wedgeprops=w, fontsize=15)"
   ]
  },
  {
   "cell_type": "code",
   "execution_count": null,
   "metadata": {
    "scrolled": true
   },
   "outputs": [],
   "source": [
    "# [4]\n",
    "\n",
    "d = [10,20,35,19,56,72]\n",
    "i = [[1,1,1,2,2,2], list('ABCABC')]\n",
    "sr1 = pd.Series(d, index=i, name='DATA')\n",
    "sr1 \n",
    "\n",
    "sr1.plot(kind='pie', figsize=(7,7))"
   ]
  },
  {
   "cell_type": "markdown",
   "metadata": {},
   "source": [
    "### [예제4] box 차트"
   ]
  },
  {
   "cell_type": "code",
   "execution_count": null,
   "metadata": {
    "scrolled": true
   },
   "outputs": [],
   "source": [
    "# 장안구 전체동의 20대 연령별 인구수\n",
    "\n",
    "df = pd.read_pickle('data/suwon5.pickle')\n",
    "df\n",
    "\n",
    "df.plot(kind='box', figsize=(12,5))"
   ]
  },
  {
   "cell_type": "markdown",
   "metadata": {},
   "source": [
    "### [예제5] scatter 차트"
   ]
  },
  {
   "cell_type": "code",
   "execution_count": null,
   "metadata": {},
   "outputs": [],
   "source": [
    "# 수원시 44개동의 10대, 20대 인구수\n",
    "\n",
    "df = pd.read_pickle('data/suwon6.pickel')\n",
    "df.head()\n",
    "\n",
    "# scatter 산점도 그래프 : s=점크기, c=색상수(44개동), cmap=컬러맵(색상종류지정)\n",
    "# cmap: https://matplotlib.org/stable/gallery/color/colormap_reference.html\n",
    "\n",
    "df.plot(kind='scatter', x='10대', y='20대', figsize=(12,5), fontsize=15, \n",
    "        c=range(44), cmap='brg', s=100)"
   ]
  },
  {
   "cell_type": "markdown",
   "metadata": {},
   "source": [
    "### [예제6] subplot"
   ]
  },
  {
   "cell_type": "code",
   "execution_count": null,
   "metadata": {},
   "outputs": [],
   "source": [
    "# 장안구 동별 95세 이상 인구수\n",
    "\n",
    "import matplotlib.pyplot as plt\n",
    "\n",
    "sr = pd.read_pickle('data/suwon4.pickle')\n",
    "sr\n",
    "\n",
    "fig, axes = plt.subplots(2, 2)\n",
    "\n",
    "sr.plot(kind='line', ax=axes[0, 0], figsize=(10,10), title='1', fontsize=10)\n",
    "sr.plot(kind='pie', ax=axes[0, 1], title='2', fontsize=10)\n",
    "sr.plot(kind='bar', ax=axes[1, 0], title='3', fontsize=10, rot=45)\n",
    "sr.plot(kind='barh', ax=axes[1, 1], title='4', fontsize=10, color='r')"
   ]
  },
  {
   "cell_type": "markdown",
   "metadata": {},
   "source": [
    "### [예제7] jupyter notebook의 heatmap 기능\n",
    "\n",
    "- style : HTML 및 CSS를 사용, 데이터에 따라 DF 또는 SR의스타일을 지정\n",
    "- style.background_gradient(): 그라데이션 스타일로 배경 색상을 지정\n",
    "- heatmap과 유사하도록 jupyter notebook의 스타일을 이용하여 구현\n",
    "- cmap: https://matplotlib.org/stable/tutorials/colors/colormaps.html "
   ]
  },
  {
   "cell_type": "code",
   "execution_count": null,
   "metadata": {},
   "outputs": [],
   "source": [
    "# 장안구 전체동의 20대 연령별 인구수\n",
    "\n",
    "df = pd.read_pickle('data/suwon5.pickle')\n",
    "df\n",
    "\n",
    "df.style.background_gradient(cmap='OrRd')"
   ]
  }
 ],
 "metadata": {
  "kernelspec": {
   "display_name": "Python 3",
   "language": "python",
   "name": "python3"
  },
  "language_info": {
   "codemirror_mode": {
    "name": "ipython",
    "version": 3
   },
   "file_extension": ".py",
   "mimetype": "text/x-python",
   "name": "python",
   "nbconvert_exporter": "python",
   "pygments_lexer": "ipython3",
   "version": "3.7.7"
  }
 },
 "nbformat": 4,
 "nbformat_minor": 2
}
