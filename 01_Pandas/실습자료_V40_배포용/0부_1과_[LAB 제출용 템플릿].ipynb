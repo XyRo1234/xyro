{
 "cells": [
  {
   "cell_type": "code",
   "execution_count": 1,
   "metadata": {},
   "outputs": [],
   "source": [
    "from IPython.core.interactiveshell import InteractiveShell\n",
    "InteractiveShell.ast_node_interactivity = \"all\""
   ]
  },
  {
   "cell_type": "markdown",
   "metadata": {},
   "source": [
    "##### codexpert의 코드를 복사한후 작성하고 제출하시오\n",
    "##### Kernel 메뉴에서 \"Restart & Clear Output\" 수행후 결과 확인 바람"
   ]
  },
  {
   "cell_type": "code",
   "execution_count": 29,
   "metadata": {
    "scrolled": true
   },
   "outputs": [
    {
     "name": "stdout",
     "output_type": "stream",
     "text": [
      "      kor  eng  mat\n",
      "kim    10    0   20\n",
      "lee    10    0   20\n",
      "park   10    0   20\n",
      "      kor   eng  mat\n",
      "kim    10  77.0   20\n",
      "lee    10   NaN   20\n",
      "park   10  99.0   20\n",
      "      kor   eng  mat\n",
      "kim    10  77.0   20\n",
      "lee    10   NaN   20\n",
      "park  100   NaN  115\n"
     ]
    }
   ],
   "source": [
    "import numpy as np\n",
    "import pandas as pd\n",
    "\n",
    "df = pd.DataFrame(0, columns=['kor','eng','mat'], index=['kim','lee','park'])\n",
    "sr = pd.Series([99,88,77], index=['park', 'song', 'kim'])\n",
    "df1 = pd.DataFrame({'kor':[90,80], 'mat':[95,85]}, index=['park','lee'])\n",
    "\n",
    "# [1] df에서 국어 10점, 수학 20점의 기본 점수를 전체 학생에게 부여한다\n",
    "# 코드 작성\n",
    "df['kor']=10\n",
    "df['mat']=20\n",
    "print(df)\n",
    "\n",
    "# [2] 영어시험 응시자 정보(sr)를 df에 반영 시킨다(미응시 학생은 NaN 부여)\n",
    "# 코드 작성\n",
    "df['eng']=sr\n",
    "print(df)\n",
    "\n",
    "# [3] 국어와 수학시험 응시자 정보(df1)를 df에 반영 시킨다\n",
    "# 코드 작성\n",
    "df.loc[df1.index, df1.columns] = df1\n",
    "print(df)"
   ]
  },
  {
   "cell_type": "code",
   "execution_count": null,
   "metadata": {},
   "outputs": [],
   "source": []
  }
 ],
 "metadata": {
  "kernelspec": {
   "display_name": "Python 3 (ipykernel)",
   "language": "python",
   "name": "python3"
  },
  "language_info": {
   "codemirror_mode": {
    "name": "ipython",
    "version": 3
   },
   "file_extension": ".py",
   "mimetype": "text/x-python",
   "name": "python",
   "nbconvert_exporter": "python",
   "pygments_lexer": "ipython3",
   "version": "3.11.0"
  }
 },
 "nbformat": 4,
 "nbformat_minor": 4
}
