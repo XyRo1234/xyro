{
 "cells": [
  {
   "cell_type": "code",
   "execution_count": null,
   "metadata": {
    "scrolled": true
   },
   "outputs": [],
   "source": [
    "from IPython.core.interactiveshell import InteractiveShell\n",
    "InteractiveShell.ast_node_interactivity = \"all\"\n",
    "\n",
    "def prt(*pVPK) :\n",
    "    print(*pVPK, sep = '\\n\\n', end = '\\n\\n')\n",
    "    \n",
    "class disp(object):\n",
    "    template = '<div style=\"float: left;padding:10px;\"> <b>[{0}]</b> {1}</div>'\n",
    "    def __init__(self, *args):\n",
    "        self.args = args\n",
    "        \n",
    "    def _repr_html_(self):\n",
    "        return '\\n'.join( self.template.format(a, eval(a)._repr_html_()) \n",
    "                        for a in self.args)\n",
    "\n",
    "import pandas as pd\n",
    "import numpy as np    "
   ]
  },
  {
   "cell_type": "markdown",
   "metadata": {},
   "source": [
    "### [예제1] NA 데이터 연산"
   ]
  },
  {
   "cell_type": "code",
   "execution_count": null,
   "metadata": {},
   "outputs": [],
   "source": [
    "df = pd.read_csv('data/02_05_01.csv', index_col=0)\n",
    "\n",
    "r1 = df['A'] + df['B'] + df['C'] + df['D']\n",
    "r2 = df.sum(axis=1)\n",
    "r3 = df.sum(axis=1, skipna=False)\n",
    "df; r1; r2; r3"
   ]
  },
  {
   "cell_type": "markdown",
   "metadata": {},
   "source": [
    "### [예제2] 다양한 NA 처리 및 1000단위 구분자 인식"
   ]
  },
  {
   "cell_type": "code",
   "execution_count": null,
   "metadata": {},
   "outputs": [],
   "source": [
    "# [1]\n",
    "\n",
    "df1 = pd.read_csv('data/02_05_02.csv')\n",
    "df2 = pd.read_csv('data/02_05_02.csv', na_values=['?','-'])\n",
    "df2['B'] = df2['B'].str.replace(',','').astype(np.int64)\n",
    "disp('df1', 'df2')\n",
    "print(df1.dtypes); print(df2.dtypes)"
   ]
  },
  {
   "cell_type": "code",
   "execution_count": null,
   "metadata": {},
   "outputs": [],
   "source": [
    "# [2]\n",
    "\n",
    "df3 = pd.read_csv('data/02_05_02.csv', thousands=',', na_values=['?','-'])\n",
    "df3.dtypes\n",
    "df3"
   ]
  },
  {
   "cell_type": "markdown",
   "metadata": {},
   "source": [
    "### [예제3] isna(), notna() 메서드 이해"
   ]
  },
  {
   "cell_type": "code",
   "execution_count": null,
   "metadata": {},
   "outputs": [],
   "source": [
    "# [r1, r2, r3]\n",
    "\n",
    "df = pd.read_csv('data/02_05_02.csv', thousands=',', na_values=['?','-'])\n",
    "\n",
    "r1 = df.isna()\n",
    "r2 = df.isnull()\n",
    "r3 = df['B'].isna()\n",
    "\n",
    "disp('df', 'r1', 'r2'); r3"
   ]
  },
  {
   "cell_type": "code",
   "execution_count": null,
   "metadata": {},
   "outputs": [],
   "source": [
    "# [r4, r5, r6]\n",
    "\n",
    "df = pd.read_csv('data/02_05_02.csv', thousands=',', na_values=['?','-'])\n",
    "\n",
    "r4 = df.notna()\n",
    "r5 = df.notnull()\n",
    "r6 = df['B'].notna()\n",
    "\n",
    "disp('df', 'r4', 'r5'); r6"
   ]
  },
  {
   "cell_type": "markdown",
   "metadata": {},
   "source": [
    "### [예제4] dropna() 메서드 이해"
   ]
  },
  {
   "cell_type": "code",
   "execution_count": null,
   "metadata": {},
   "outputs": [],
   "source": [
    "# [r1]\n",
    "\n",
    "df = pd.read_csv('data/02_05_01.csv', index_col=0)\n",
    "\n",
    "r1 = df.dropna()\n",
    "\n",
    "disp('df', 'r1')"
   ]
  },
  {
   "cell_type": "code",
   "execution_count": null,
   "metadata": {},
   "outputs": [],
   "source": [
    "# [r2, r3]\n",
    "\n",
    "df = pd.read_csv('data/02_05_01.csv', index_col=0)\n",
    "\n",
    "r2 = df.dropna(subset=['B','C'], how='all')\n",
    "r3 = df.dropna(subset=['B','C','D'], thresh=2)\n",
    "\n",
    "disp('df', 'r2', 'r3')"
   ]
  },
  {
   "cell_type": "code",
   "execution_count": null,
   "metadata": {},
   "outputs": [],
   "source": [
    "# [r4, r5]\n",
    "\n",
    "df = pd.read_csv('data/02_05_01.csv', index_col=0)\n",
    "\n",
    "r4 = df.dropna(axis=1, how='all', thresh=3)\n",
    "r5 = df['B'].dropna()\n",
    "\n",
    "disp('df', 'r4'); r5"
   ]
  },
  {
   "cell_type": "markdown",
   "metadata": {},
   "source": [
    "### [예제5] fillna() 메서드 이해"
   ]
  },
  {
   "cell_type": "code",
   "execution_count": null,
   "metadata": {},
   "outputs": [],
   "source": [
    "# [r1]\n",
    "\n",
    "df = pd.read_csv('data/02_05_01.csv', index_col=0)\n",
    "r1 = df.fillna(0)\n",
    "\n",
    "disp('df', 'r1')"
   ]
  },
  {
   "cell_type": "code",
   "execution_count": null,
   "metadata": {},
   "outputs": [],
   "source": [
    "# [r2]\n",
    "\n",
    "df = pd.read_csv('data/02_05_01.csv', index_col=0)\n",
    "r2 = df.fillna(method='ffill')\n",
    "\n",
    "disp('df', 'r2')"
   ]
  },
  {
   "cell_type": "code",
   "execution_count": null,
   "metadata": {},
   "outputs": [],
   "source": [
    "# [r3]\n",
    "\n",
    "df = pd.read_csv('data/02_05_01.csv', index_col=0)\n",
    "r3 = df.fillna(method='bfill', axis=1, limit=1)\n",
    "\n",
    "disp('df', 'r3')"
   ]
  },
  {
   "cell_type": "code",
   "execution_count": null,
   "metadata": {},
   "outputs": [],
   "source": [
    "# [r4]\n",
    "\n",
    "df = pd.read_csv('data/02_05_01.csv', index_col=0)\n",
    "r4 = df.fillna({'B':-1, 'C':-2})\n",
    "\n",
    "disp('df', 'r4')"
   ]
  },
  {
   "cell_type": "code",
   "execution_count": null,
   "metadata": {},
   "outputs": [],
   "source": [
    "# [r5]\n",
    "\n",
    "df = pd.read_csv('data/02_05_01.csv', index_col=0)\n",
    "print(df.min())\n",
    "r5 = df.fillna(df.min())\n",
    "\n",
    "disp('df', 'r5')"
   ]
  },
  {
   "cell_type": "code",
   "execution_count": null,
   "metadata": {},
   "outputs": [],
   "source": [
    "# [r6]\n",
    "\n",
    "df = pd.read_csv('data/02_05_01.csv', index_col=0)\n",
    "df1 = pd.DataFrame(np.arange(10,19).reshape(3,3), columns=list('ABC'))\n",
    "r6 = df.fillna(df1) \n",
    "\n",
    "disp('df', 'df1', 'r6')"
   ]
  },
  {
   "cell_type": "markdown",
   "metadata": {},
   "source": [
    "### [예제6] replace() 메서드 이해"
   ]
  },
  {
   "cell_type": "code",
   "execution_count": null,
   "metadata": {
    "scrolled": true
   },
   "outputs": [],
   "source": [
    "# [r1 ~ r5]\n",
    "\n",
    "df = pd.read_csv('data/02_05_03.csv', index_col=0)\n",
    "r1 = df.replace() \n",
    "r2 = df.replace(np.nan)\n",
    "r3 = df.replace(np.nan, 0)\n",
    "r4 = df.replace(to_replace=3.0)\n",
    "r5 = df.replace(3.0, 300)\n",
    "\n",
    "disp('df', 'r1', 'r2', 'r3', 'r4', 'r5')"
   ]
  },
  {
   "cell_type": "code",
   "execution_count": null,
   "metadata": {},
   "outputs": [],
   "source": [
    "# [r6 ~ r8]\n",
    "\n",
    "df = pd.read_csv('data/02_05_03.csv', index_col=0)\n",
    "r6 = df.replace([1,3])\n",
    "r7 = df.replace([1,3], -1) \n",
    "r8 = df.replace([1,3], [-1, -2])\n",
    "\n",
    "disp('df', 'r6', 'r7', 'r8')"
   ]
  },
  {
   "cell_type": "code",
   "execution_count": null,
   "metadata": {},
   "outputs": [],
   "source": [
    "# [r9, r10]\n",
    "\n",
    "df = pd.read_csv('data/02_05_03.csv', index_col=0)\n",
    "r9 = df.replace({1:-1, 2:-2, 3:-3})\n",
    "r10 = df.replace({'B': {1:-1, 3:-3}})\n",
    "\n",
    "disp('df', 'r9', 'r10')"
   ]
  },
  {
   "cell_type": "code",
   "execution_count": null,
   "metadata": {},
   "outputs": [],
   "source": [
    "# [r11, r12]\n",
    "\n",
    "df = pd.read_csv('data/02_05_03.csv', index_col=0)\n",
    "r11 = df.replace({'B':[1,3], 'C':[2,5]}, -1) \n",
    "r12 = df.replace({'B':3, 'C':1}, {'B':-2, 'C':-3}) \n",
    "\n",
    "disp('df', 'r11', 'r12')"
   ]
  },
  {
   "cell_type": "markdown",
   "metadata": {},
   "source": [
    "### [예제7] replace()의 정규식 이용"
   ]
  },
  {
   "cell_type": "code",
   "execution_count": null,
   "metadata": {},
   "outputs": [],
   "source": [
    "df = pd.DataFrame({'A':['one','th r ee'], 'B':['two','four']})\n",
    "df\n",
    "\n",
    "r1 = df.replace(to_replace='.+', value='***', regex=True)\n",
    "r1"
   ]
  },
  {
   "cell_type": "code",
   "execution_count": null,
   "metadata": {},
   "outputs": [],
   "source": [
    "df = pd.DataFrame({'A':['one','three'], 'B':['two','four']})\n",
    "df\n",
    "\n",
    "r2 = df.replace(regex='^th', value = 'f')\n",
    "r2"
   ]
  }
 ],
 "metadata": {
  "kernelspec": {
   "display_name": "Python 3",
   "language": "python",
   "name": "python3"
  },
  "language_info": {
   "codemirror_mode": {
    "name": "ipython",
    "version": 3
   },
   "file_extension": ".py",
   "mimetype": "text/x-python",
   "name": "python",
   "nbconvert_exporter": "python",
   "pygments_lexer": "ipython3",
   "version": "3.8.5"
  }
 },
 "nbformat": 4,
 "nbformat_minor": 2
}
