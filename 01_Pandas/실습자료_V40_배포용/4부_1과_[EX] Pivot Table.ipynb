{
 "cells": [
  {
   "cell_type": "code",
   "execution_count": null,
   "metadata": {},
   "outputs": [],
   "source": [
    "from IPython.core.interactiveshell import InteractiveShell\n",
    "InteractiveShell.ast_node_interactivity = \"all\"\n",
    "\n",
    "class disp(object):\n",
    "    template = '<div style=\"float: left;padding:10px;\"> <b>[{0}]</b> {1}</div>'\n",
    "    def __init__(self, *args):\n",
    "        self.args = args\n",
    "        \n",
    "    def _repr_html_(self):\n",
    "        return '\\n'.join(self.template.format(a, eval(a)._repr_html_())\n",
    "                         for a in self.args)\n",
    "\n",
    "import pandas as pd\n",
    "import numpy as np    "
   ]
  },
  {
   "cell_type": "markdown",
   "metadata": {},
   "source": [
    "### [예제1] pivot_table()의 이해 1"
   ]
  },
  {
   "cell_type": "code",
   "execution_count": null,
   "metadata": {
    "scrolled": true
   },
   "outputs": [],
   "source": [
    "df = pd.DataFrame({'grade':[1,1,1,1,2,2], 'class':list('AABBAA'), \n",
    "                   'name':['kim', 'lee', 'park', 'song', 'lew','ki'], \n",
    "                   'kor':[60, 90, 60, 40, 30,100], 'eng':[50, 60, 100, 60, 70,80]})\n",
    "\n",
    "r1 = df.pivot_table(index='grade',columns='class',values='eng',aggfunc='mean')\n",
    "r2 = pd.pivot_table(df, index='grade', columns='class', values='eng')\n",
    "r3 = df.pivot_table(index='grade',columns='class',values='eng',aggfunc='sum')\n",
    "\n",
    "disp('df','r1', 'r2', 'r3')"
   ]
  },
  {
   "cell_type": "code",
   "execution_count": null,
   "metadata": {},
   "outputs": [],
   "source": [
    "df = pd.DataFrame({'grade':[1,1,1,1,2,2], 'class':list('AABBAA'), \n",
    "                   'name':['kim', 'lee', 'park', 'song', 'lew','ki'], \n",
    "                   'kor':[60, 90, 60, 40, 30,100], 'eng':[50, 60, 100, 60, 70,80]})\n",
    "\n",
    "r4 = pd.pivot_table(df, index='grade', columns='class')\n",
    "r5 = pd.pivot_table(df, index=['grade', 'class'])\n",
    "\n",
    "df; disp('r4','r5')"
   ]
  },
  {
   "cell_type": "markdown",
   "metadata": {},
   "source": [
    "### [예제2] pivot_table()의 이해 2"
   ]
  },
  {
   "cell_type": "code",
   "execution_count": null,
   "metadata": {},
   "outputs": [],
   "source": [
    "# [1]\n",
    "\n",
    "df = pd.DataFrame({'grade':[1,1,1,2,2], 'class':list('AABAA'), \n",
    "                   'name':['kim', 'lee', 'park', 'song', 'lew'], \n",
    "                   'kor':[60, 90, 60, 40, 30], 'eng':[50, 60, 100, 60, 70]})\n",
    "\n",
    "r1 = df.pivot_table(index='grade', aggfunc='count')\n",
    "r2 = df.pivot_table(index='grade', values='name', aggfunc='count')\n",
    "\n",
    "df; disp('r1', 'r2')"
   ]
  },
  {
   "cell_type": "code",
   "execution_count": null,
   "metadata": {},
   "outputs": [],
   "source": [
    "# [2]\n",
    "\n",
    "df = pd.DataFrame({'grade':[1,1,1,2,2], 'class':list('AABAA'), \n",
    "               'name':['kim', 'lee', 'park', 'song', 'lew'], \n",
    "               'kor':[60, 90, 60, 40, 30], 'eng':[50, 60, 100, 60, 70]})\n",
    "\n",
    "r3 = df.pivot_table(index='grade',columns='class', values='kor', margins=True)\n",
    "r4 = df.pivot_table(index='grade',columns='class', fill_value=0, margins=True)\n",
    "\n",
    "df; disp('r3', 'r4')"
   ]
  },
  {
   "cell_type": "markdown",
   "metadata": {},
   "source": [
    "### [예제3] pivot_table의 aggfunc 옵션"
   ]
  },
  {
   "cell_type": "code",
   "execution_count": null,
   "metadata": {
    "scrolled": true
   },
   "outputs": [],
   "source": [
    "# [1-1]\n",
    "\n",
    "df = pd.DataFrame({'grade':[1,1,1,2,2], 'class':list('ABBAA'), \n",
    "                   'name':['kim', 'lee', 'park', 'song', 'lew'], \n",
    "                   'kor':[60, 90, 60, 40, 30], 'eng':[50, 60, 100, 60, 70]})\n",
    "\n",
    "r1 = pd.pivot_table(df, index='grade', aggfunc=[sum, np.mean])\n",
    "\n",
    "disp('df', 'r1')"
   ]
  },
  {
   "cell_type": "code",
   "execution_count": null,
   "metadata": {},
   "outputs": [],
   "source": [
    "# [1-2]\n",
    "\n",
    "df = pd.DataFrame({'grade':[1,1,1,2,2], 'class':list('ABBAA'), \n",
    "                   'name':['kim', 'lee', 'park', 'song', 'lew'], \n",
    "                   'kor':[60, 90, 60, 40, 30], 'eng':[50, 60, 100, 60, 70]})\n",
    "\n",
    "r2 = pd.pivot_table(df, index='grade', aggfunc={'kor':min,'eng':max})  \n",
    "r3 = pd.pivot_table(df, index='grade', aggfunc= {'kor':['max','min']})  \n",
    "\n",
    "disp('df','r2', 'r3')"
   ]
  },
  {
   "cell_type": "code",
   "execution_count": null,
   "metadata": {
    "scrolled": true
   },
   "outputs": [],
   "source": [
    "# [2]\n",
    "\n",
    "df = pd.DataFrame({'grade':[1,1,1,2,2], 'class':list('ABBAA'), \n",
    "                   'name':['kim', 'lee', 'park', 'song', 'lew'], \n",
    "                   'kor':[60, 90, 60, 40, 30], 'eng':[50, 60, 100, 60, 70]})\n",
    "\n",
    "d = {'kor':[max, min],'eng':[max,min]}\n",
    "r4 = pd.pivot_table(df, index=['grade', 'class'], aggfunc=d)\n",
    "\n",
    "disp('df', 'r4')"
   ]
  },
  {
   "cell_type": "markdown",
   "metadata": {},
   "source": [
    "### [예제4] crosstab() 메서드"
   ]
  },
  {
   "cell_type": "code",
   "execution_count": null,
   "metadata": {},
   "outputs": [],
   "source": [
    "d1 = {'grade':[1,2,1,2,1],'sex':list('MMMWW'), 'name':['kim','lee','park','song','lew']}\n",
    "df1 = pd.DataFrame(d1).set_index('name')\n",
    "\n",
    "d2 = {'class':list('BBAB'),'name':['kim','lee','park','lew']}\n",
    "df2 = pd.DataFrame(d2).set_index('name')\n",
    "\n",
    "r1 = pd.crosstab(index=df1['grade'],columns=df2['class']) \n",
    "r2 = pd.crosstab(df1['grade'], [df2['class'], df1['sex']])  \n",
    "r3 = pd.crosstab(df1['grade'], df2['class'], margins=True)\n",
    "\n",
    "disp('df1','df2','r1','r2','r3')"
   ]
  },
  {
   "cell_type": "markdown",
   "metadata": {},
   "source": [
    "### [예제5] tips 데이터 셋"
   ]
  },
  {
   "cell_type": "code",
   "execution_count": null,
   "metadata": {},
   "outputs": [],
   "source": [
    "df = pd.read_pickle('data/tips.pickle')\n",
    "df.info()\n",
    "df.head()  "
   ]
  },
  {
   "cell_type": "markdown",
   "metadata": {},
   "source": [
    "### [예제6] titanic dataset"
   ]
  },
  {
   "cell_type": "code",
   "execution_count": null,
   "metadata": {},
   "outputs": [],
   "source": [
    "df = pd.read_csv('data/titanic.csv')\n",
    "df.info()\n",
    "df.head()    "
   ]
  }
 ],
 "metadata": {
  "kernelspec": {
   "display_name": "Python 3",
   "language": "python",
   "name": "python3"
  },
  "language_info": {
   "codemirror_mode": {
    "name": "ipython",
    "version": 3
   },
   "file_extension": ".py",
   "mimetype": "text/x-python",
   "name": "python",
   "nbconvert_exporter": "python",
   "pygments_lexer": "ipython3",
   "version": "3.8.5"
  }
 },
 "nbformat": 4,
 "nbformat_minor": 2
}
