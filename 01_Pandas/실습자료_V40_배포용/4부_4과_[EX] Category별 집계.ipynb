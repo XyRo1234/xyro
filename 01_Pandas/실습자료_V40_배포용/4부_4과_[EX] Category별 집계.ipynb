{
 "cells": [
  {
   "cell_type": "code",
   "execution_count": 1,
   "metadata": {
    "scrolled": true
   },
   "outputs": [],
   "source": [
    "from IPython.core.interactiveshell import InteractiveShell\n",
    "InteractiveShell.ast_node_interactivity = \"all\"\n",
    "\n",
    "class disp(object):\n",
    "    template = '<div style=\"float: left;padding:10px;\"> <b>[{0}]</b> {1}</div>'\n",
    "    def __init__(self, *args):\n",
    "        self.args = args\n",
    "        \n",
    "    def _repr_html_(self):\n",
    "        return '\\n'.join(self.template.format(a, eval(a)._repr_html_())\n",
    "                         for a in self.args )\n",
    "\n",
    "import pandas as pd\n",
    "import numpy as np"
   ]
  },
  {
   "cell_type": "markdown",
   "metadata": {},
   "source": [
    "### [예제1] Category화"
   ]
  },
  {
   "cell_type": "code",
   "execution_count": null,
   "metadata": {},
   "outputs": [],
   "source": [
    "# [1]\n",
    "\n",
    "d = {'major':['kor','eng','eng','kor','math'],'exam':[90,40,100,70,60]}\n",
    "df = pd.DataFrame(d, index=['kim','lee','park','song','lew'])\n",
    "df\n",
    "\n",
    "df['major'] = df['major'].astype('category')\n",
    "r1 = df['major']\n",
    "r2 = df['major'].cat.categories\n",
    "r3 = df['major'].cat.codes\n",
    "r1; r2; r3"
   ]
  },
  {
   "cell_type": "code",
   "execution_count": null,
   "metadata": {},
   "outputs": [],
   "source": [
    "# [2]\n",
    "\n",
    "d = {'major':['kor','eng','eng','kor','math'],'exam':[90,40,100,70,60]}\n",
    "df = pd.DataFrame(d, index=['kim','lee','park','song','lew'])\n",
    "df['major'] = df['major'].astype('category')\n",
    "df\n",
    "\n",
    "df['major'].cat.categories = ['EN','KR','MT']\n",
    "r4 = df['major'].cat.categories\n",
    "r5 = df['major'].cat.codes\n",
    "\n",
    "r4; r5; df"
   ]
  },
  {
   "cell_type": "markdown",
   "metadata": {},
   "source": [
    "### [예제2] Category 수정, 선별적 Category화"
   ]
  },
  {
   "cell_type": "code",
   "execution_count": null,
   "metadata": {},
   "outputs": [],
   "source": [
    "d = {'major':['kor','eng','eng','kor','math'],'exam':[90,40,100,70,60]}\n",
    "df = pd.DataFrame(d, index=['kim','lee','park','song','lew'])\n",
    "df['major'] = df['major'].astype('category')\n",
    "\n",
    "ca1 = df['major'].cat.set_categories(['eng','kor'])\n",
    "ca2 = df['major'].cat.set_categories(['eng','kor','art','math'])\n",
    "ca3 = df['major'].cat.set_categories(['math','eng','kor'])\n",
    "r1 = ca1.cat.codes; r2 = ca2.cat.codes; r3 = ca3.cat.codes\n",
    "r4 = ca3.sort_values()\n",
    "\n",
    "ca1; r1; ca2; r2; ca3; r3; r4"
   ]
  },
  {
   "cell_type": "markdown",
   "metadata": {},
   "source": [
    "### [예제3] Category 비교 속성 부여"
   ]
  },
  {
   "cell_type": "code",
   "execution_count": null,
   "metadata": {},
   "outputs": [],
   "source": [
    "# [1] \n",
    "\n",
    "d = {'major':['kor','eng','eng','kor','math'],'exam':[90,40,100,70,60]}\n",
    "df = pd.DataFrame(d, index=['kim','lee','park','song','lew'])\n",
    "df['major'] = df['major'].astype('category')\n",
    "\n",
    "ca1 = df['major'].cat.as_ordered()\n",
    "ca2 = df['major'].cat.as_unordered()\n",
    "r1 = ca1.max()\n",
    "r2 = ca2.max() #Error\n",
    "ca1; ca2; r1"
   ]
  },
  {
   "cell_type": "code",
   "execution_count": null,
   "metadata": {},
   "outputs": [],
   "source": [
    "# [2]\n",
    "\n",
    "d = {'major':['kor','eng','eng','kor','math'],'exam':[90,40,100,70,60]}\n",
    "df = pd.DataFrame(d, index=['kim','lee','park','song','lew'])\n",
    "df['major'] = df['major'].astype('category')\n",
    "\n",
    "li = ['math','eng','kor']\n",
    "ca3 = df['major'].cat.set_categories(li,ordered=True)\n",
    "r3 = ca3.max() \n",
    "r4 = ca3 > 'eng'\n",
    "ca3; r3; r4"
   ]
  },
  {
   "cell_type": "markdown",
   "metadata": {},
   "source": [
    "### [예제4] Categorical 객체 생성"
   ]
  },
  {
   "cell_type": "code",
   "execution_count": null,
   "metadata": {
    "scrolled": true
   },
   "outputs": [],
   "source": [
    "val = ['A','B','C','B']\n",
    "sr1 = pd.Series( pd.Categorical(val) )\n",
    "sr2 = pd.Series(pd.Categorical(val, categories=['C','A','B'], ordered=True))\n",
    "sr3 = pd.Series(pd.Categorical(val, categories=['C','A']))\n",
    "sr1; sr2; sr3"
   ]
  },
  {
   "cell_type": "markdown",
   "metadata": {},
   "source": [
    "### [예제5] cut()메서드"
   ]
  },
  {
   "cell_type": "code",
   "execution_count": null,
   "metadata": {},
   "outputs": [],
   "source": [
    "df = pd.DataFrame({'exam':[95,87,55,77,100]}, index=['kim','lee','park','song','lew'])\n",
    "df\n",
    "\n",
    "r1 = pd.cut(df['exam'],bins=3)\n",
    "r2 = pd.cut(df['exam'],bins=3,labels=['bad','good','best'])\n",
    "r3 = pd.cut(df['exam'],bins=[54,70,85,100],labels=['bad','good','best'])\n",
    "r1; r2; r3"
   ]
  },
  {
   "cell_type": "markdown",
   "metadata": {},
   "source": [
    "### [예제6] qcut() 메서드"
   ]
  },
  {
   "cell_type": "code",
   "execution_count": null,
   "metadata": {},
   "outputs": [],
   "source": [
    "df = pd.DataFrame({'exam':[95,80,55,77,100]},index=['kim','lee','park','song','lew'])\n",
    "\n",
    "r1 = pd.qcut(df['exam'], 3)\n",
    "r2 = pd.qcut(df['exam'], 3, labels=['bad','good','best'])\n",
    "\n",
    "df; r1; r2    "
   ]
  },
  {
   "cell_type": "markdown",
   "metadata": {},
   "source": [
    "### [예제7] cut()메서드 활용 예"
   ]
  },
  {
   "cell_type": "code",
   "execution_count": null,
   "metadata": {},
   "outputs": [],
   "source": [
    "# [1]\n",
    "\n",
    "df = pd.DataFrame({'name':['kim','lee','park','song','lew'],'exam':[95,87,55,77,100]})\n",
    "\n",
    "df['eval'] = pd.cut(df['exam'],bins=[-1,59,69,79,89,100],labels=list('FDCBA'))\n",
    "r1 = df.sort_values('eval')\n",
    "r2 = df.groupby('eval').size().to_frame('count')\n",
    "\n",
    "print(df['eval']); disp('r1', 'r2')"
   ]
  },
  {
   "cell_type": "code",
   "execution_count": null,
   "metadata": {},
   "outputs": [],
   "source": [
    "# [2]\n",
    "\n",
    "df = pd.DataFrame({'name':['kim','lee','park','song','lew'],'exam':[95,87,55,77,100]})\n",
    "df['eval'] = pd.cut(df['exam'],bins=[-1,59,69,79,89,100],labels=list('FDCBA'))\n",
    "\n",
    "cat = pd.qcut(df['exam'], 3, ['A','B','C'])\n",
    "r3 = df.groupby(cat).agg({'name':'count','exam':'mean'})\n",
    "\n",
    "disp('df', 'r3')"
   ]
  }
 ],
 "metadata": {
  "kernelspec": {
   "display_name": "Python 3",
   "language": "python",
   "name": "python3"
  },
  "language_info": {
   "codemirror_mode": {
    "name": "ipython",
    "version": 3
   },
   "file_extension": ".py",
   "mimetype": "text/x-python",
   "name": "python",
   "nbconvert_exporter": "python",
   "pygments_lexer": "ipython3",
   "version": "3.7.6"
  },
  "toc": {
   "base_numbering": 1,
   "nav_menu": {},
   "number_sections": true,
   "sideBar": true,
   "skip_h1_title": true,
   "title_cell": "",
   "title_sidebar": "Contents",
   "toc_cell": false,
   "toc_position": {
    "height": "calc(100% - 180px)",
    "left": "10px",
    "top": "150px",
    "width": "359.275px"
   },
   "toc_section_display": true,
   "toc_window_display": false
  }
 },
 "nbformat": 4,
 "nbformat_minor": 2
}
